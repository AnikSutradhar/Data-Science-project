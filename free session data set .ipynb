{
 "cells": [
  {
   "cell_type": "code",
   "execution_count": 77,
   "metadata": {},
   "outputs": [
    {
     "data": {
      "text/plain": [
       "Index(['Unnamed: 0', 'Time Stamp ', 'Name of the candidate ', 'College name ',\n",
       "       'Brach ', 'People having laptop ', 'Souce of communication ',\n",
       "       'Country '],\n",
       "      dtype='object')"
      ]
     },
     "execution_count": 77,
     "metadata": {},
     "output_type": "execute_result"
    }
   ],
   "source": [
    "import pandas as pd\n",
    "import numpy as np\n",
    "df=pd.read_csv('free_session.csv')\n",
    "df\n",
    "df.columns\n"
   ]
  },
  {
   "cell_type": "code",
   "execution_count": 74,
   "metadata": {},
   "outputs": [
    {
     "data": {
      "text/html": [
       "        <script type=\"text/javascript\">\n",
       "        window.PlotlyConfig = {MathJaxConfig: 'local'};\n",
       "        if (window.MathJax) {MathJax.Hub.Config({SVG: {font: \"STIX-Web\"}});}\n",
       "        if (typeof require !== 'undefined') {\n",
       "        require.undef(\"plotly\");\n",
       "        requirejs.config({\n",
       "            paths: {\n",
       "                'plotly': ['https://cdn.plot.ly/plotly-latest.min']\n",
       "            }\n",
       "        });\n",
       "        require(['plotly'], function(Plotly) {\n",
       "            window._Plotly = Plotly;\n",
       "        });\n",
       "        }\n",
       "        </script>\n",
       "        "
      ]
     },
     "metadata": {},
     "output_type": "display_data"
    }
   ],
   "source": [
    "import matplotlib.pyplot as plt\n",
    "import seaborn as sns \n",
    "import plotly.graph_objs as go\n",
    "import plotly.figure_factory as ff\n",
    "from plotly import tools\n",
    "from plotly.offline import download_plotlyjs, init_notebook_mode, plot, iplot\n",
    "import plotly.express as px\n",
    "init_notebook_mode(connected=True)\n",
    "import warnings\n",
    "warnings.filterwarnings(\"ignore\")\n",
    "dg=df.copy()\n",
    "dg.drop(['Unnamed: 0', 'Time Stamp ', 'Name of the candidate ','People having laptop ', 'Souce of communication ',\n",
    "       'Country '],axis=1,inplace=True)\n",
    "\n"
   ]
  },
  {
   "cell_type": "code",
   "execution_count": null,
   "metadata": {},
   "outputs": [],
   "source": []
  },
  {
   "cell_type": "code",
   "execution_count": 43,
   "metadata": {},
   "outputs": [],
   "source": [
    "def draw_trace_bar(data,var,feature, title, xlab,ylab,color='Blue'):\n",
    "    ''''provides a bar plot of no. of occurence of a categorical variable\n",
    "           data=is the dataset\n",
    "           feature=frequency of the variable\n",
    "           title = title of your plot\n",
    "           xlab= xlabel\n",
    "           ylab=ylabel\n",
    "           color=color of plot\n",
    "    '''\n",
    "    trace = go.Bar(\n",
    "            x = data[var],\n",
    "            y = feature,\n",
    "            marker=dict(color=color),\n",
    "            text=data[var]\n",
    "        )\n",
    "    data = [trace]\n",
    "    layout = dict(title = title,\n",
    "              xaxis = dict(title = xlab, showticklabels=True, tickangle=45, \n",
    "                           zeroline=True, zerolinewidth=1, zerolinecolor='grey',\n",
    "                           showline=True, linewidth=2, linecolor='black', mirror=True,\n",
    "                          tickfont=dict(\n",
    "                            size=10,\n",
    "                            color='red'),), \n",
    "              yaxis = dict(title = ylab, gridcolor='lightgrey', zeroline=True, zerolinewidth=1, zerolinecolor='grey',\n",
    "                          showline=True, linewidth=2, linecolor='black', mirror=True),\n",
    "              plot_bgcolor = 'rgba(0, 0, 0, 0)', paper_bgcolor = 'rgba(0, 0, 0, 0)',\n",
    "              hovermode = 'closest'\n",
    "             )\n",
    "    fig = dict(data = data, layout = layout)\n",
    "    iplot(fig, filename='draw_trace')"
   ]
  },
  {
   "cell_type": "code",
   "execution_count": 44,
   "metadata": {
    "scrolled": true
   },
   "outputs": [
    {
     "data": {
      "application/vnd.plotly.v1+json": {
       "config": {
        "linkText": "Export to plot.ly",
        "plotlyServerURL": "https://plot.ly",
        "showLink": false
       },
       "data": [
        {
         "marker": {
          "color": "purple"
         },
         "text": [
          "United International University ",
          "Shahjalal University of Science and Technology",
          "Asutosh College",
          "DEPARTMENT OF PURE MATHEMATICS, UNIVERSITY OF CALCUTTA",
          "Vivekananda College",
          "Future institute of engineering and management",
          "J.K College",
          "Narasinha dutt college",
          "J.k.clg purulia",
          "NARASINHA DUTT COLLEGE ",
          "Global Nature Care Sangathan Group Of Institutions",
          "AIUB",
          "Maulana Azad College",
          "Purulia zilla school ",
          "Cummins college of Engineering for women ",
          "Daffodil  International  University ",
          "St.Xaviers college",
          "Aiub",
          "Asutosh College ",
          "DIATM",
          "Purulia jk college",
          "Narasinha Dutt college under Calcutta university ",
          "Sister Nibedita Govt General Degree College for Girls ",
          "ND College",
          "Ramakrishna Mission Shilpapitha",
          "Viswass school & college of nursing",
          "Narasinha Dutt college afflicted by Calcutta University",
          "Maulana Azad College ",
          "Durgapur institute of advanced technology and management",
          "Durgapur Institute of Advanced Technology and Management",
          "Insitiution of engineering and managment",
          "St. Xavier's College",
          "Asutosh college",
          "Sister Nibedita Govt. General Degree College For Girls",
          "Manipal hospital",
          "Durgapur Institute Of Advance Technology and Management",
          "West Bengal State University ",
          "St. Xavier's College , Kolkata ",
          "St. Xavier's College, Kolkata",
          "SKS Power Generation Chhattisgarh Ltd.",
          "Lady Brabourne College, University of Calcutta",
          "University of Calcutta",
          "St. Xavier's college",
          "University College Of Science & Technology, University Of Calcutta",
          "Vivekananda college, Calcutta University",
          "Jagannath Kishore college,Purulia",
          "Hooghly Engineering and Technology College",
          "J.K.College ",
          "Islamic University, Kushtia",
          "Narasinha dutt college ",
          "West Bengal University of Health Sciences",
          "Lady Brabourne College",
          "Institute of Engineering and Management (IEM)",
          "Kalyani mahavidyalaya",
          "Acharya institute of management and sciences",
          "Techno International Newtown",
          "Bethune College ",
          "ISRT , University of Dhaka ",
          "Vivekananda college , CU",
          "NSU",
          "st Xavier's College ",
          "St xavier's College, kolkata",
          "Narasinha Dutta College",
          "NARASINHA DUTT COLLEGE",
          "American International University Bangladesh ",
          "Jagannath Kishore College",
          "NARASINHA DUTT COLLEGE, UNIVERSITY OF CALCUTTA",
          "Narasingha Dutt College ",
          "Durgapur Institute of Advanced Technology and Management ",
          "Comilla University",
          "Techno India Saltlake",
          "St. Xavier's College (Autonomous) , Kolkata",
          "Narasinha Dutt College",
          "Academy Of Technology",
          "Thakurpukur Vivekananda College ",
          "J.K college",
          "Calcutta University ( Ballygaunge Science College) ",
          "RKMVERI BELUR MATH",
          "JJ Glastronics",
          "Gauhati University",
          "Maulana azad college",
          "Jadavpur University",
          "Basanti Devi College",
          "The International University of Scholars",
          "London  South  Bank  University ",
          "North South University ",
          "Bangladesh Institute of Governance and Management (BIGM)       ",
          "Guru NANAK INSTITUTE OF PHARMACEUTICAL SCIENCE AND TECHNOLOGY",
          "Bethune college",
          "National Power Training Institute Durgapur",
          "Maulana Azad college",
          "Jk college",
          "Kerala University ",
          "NPTI (ER)",
          "Institute of Engineering and Management",
          "Bethune College,  Kolkata",
          "Professional",
          "University of Dhaka",
          "Bharat University, Chennai",
          "Jadavpur University ",
          "Comilla University  ",
          "North-south university",
          "Future Institute of Engineering and Management",
          "PRESIDENCY UNIVERSITY ",
          "American International University-Bangladesh",
          "Vidyasagar college for women",
          "JADAVPUR UNIVERSITY ",
          "Presidency University",
          "Gl bajaj",
          "American International University-Bangladesh ",
          "National power training institute Nagpur",
          "North South University",
          "Kalyani mahavidyalay",
          "Bethune",
          "Bethune College",
          "Future Institute of Technology",
          "Dr. B. C. Roy Engineering college",
          "Durgapur Institute of advance technology and managment",
          "Government College of Engineering and Leather Technology",
          "N.P.T.I(E.R.)",
          "St. Xavier's College, Kolkata ",
          "Indira Gandhi National University",
          "Vidyasaagar university",
          "Mugberia gangadhar mahavidyalaya ",
          "Dr.b.c.roy engineering college",
          " Uttarpara Amarendra Vidyapith",
          "Techno International New Town",
          "Durgapur institute of advanced and technology management",
          "NPTI, NAGPUR",
          "Jagannath Kishore College, Purulia",
          "Basantidevi College",
          "IIT,University of Dhaka",
          "Makaut(Formely wbut)",
          "American International University- Bangladesh",
          "American International University Bangladesh",
          "Shahjalal University of Science & Technology   ",
          "Bangabandhu Sheikh Mujibur Rahman Science & Technology ",
          "Bangabandhu Sheikh Mujibur Rahman Science & Technology University       ",
          "Jahangirnagar University  ",
          "Jahangirnagar University ",
          "BUET",
          "SBPGC",
          "American international university Bangladesh ",
          "North South University (NSU)",
          "American international university of Bangladesh",
          "North South University   ",
          "Public Administration ",
          "American International University - Bangladesh",
          "University Of Dhaka",
          "LADY BRABOURNE COLLEGE",
          "Netaji Subhas Open University",
          "Maulana Abul Kalam Azad University of Technology",
          "Vidyasagar University",
          "National Institute Of Technology Warangal",
          "Ramakrishna Mission Vidyamandira ",
          "Notre dame UniversityBangladesh  ",
          "JADAVPUR UNIVERSITY",
          "Indian Institute of Engineering Science And Technology Shibpur",
          "Ahsanullah University of Science and Technology ",
          "Chittaranjan College, Kolkata ",
          "Bangalore university",
          "Maulana Abul Kalam Azad University of Technology ",
          "Institution / Organization / College name ",
          "University of Liberal Arts ",
          "University of Liberal Arts Bangladesh",
          "Dyal Singh College (day) ",
          "DIATM DURGAPUR ",
          "Vivekananda  College",
          "Maulana Abul Kalam Azad University of Technology, W.B",
          "Christ  University",
          "Durgapur institute of advanced technology",
          "American International University of Bangladesh (AIUB)",
          "RCC institute of information technology",
          "Belda College",
          "FUTURETECH PRIVATE ITI ",
          "J.k. college",
          "BRABU",
          "Burdwan University",
          "Durgapur institute of advance technology and managment",
          "Global engineering college",
          "Prabhat Kumar College",
          "Calcutta university ",
          "St.Xavier's College,Kolkata",
          "Shibpur Dinobondhoo Institution (College) ",
          "Durgapur institute of advanced technology and management ",
          "Durgapur institute of advanced technology and managemant rajbandh",
          "MAULANA ABUL KALAM AZAD UNIVERSITY OF TECHNOLOGY ",
          "Vivekananda College Thakurpukur",
          "St. Xavier's College Kolkata",
          "University of Dhaka   ",
          "Durgapur Institute of advanced technology and management ",
          "UNIVERSITY OF MUMBAI",
          "Lady Brabourne College ",
          "Durgapur Institute of Advancedpur Technology and Management",
          "ASUTOSH COLLEGE",
          "St. Xavier's College (Autonomous), Kolkata. ",
          "OmDayal Group Of Institutions",
          "St.Xavier's College Kolkata",
          "Vivekananda college",
          "Amta Ramsaday College",
          "DIATM, Durgapur",
          "Basanti devi College",
          "BETHUNE COLLEGE",
          "Ahsanullah University of Science and Technology",
          "Asansol engineering college",
          "MAULANA AZAD COLLEGE",
          "Kalyani Mahavidyalaya",
          "Presidency university ",
          "Vivekananda College,Thakurpukur",
          "Durgapur Institute of Advanced Technology & Management",
          "Future Institute of Technology ",
          "Victoria Institution",
          "Lady brabourne college",
          "Corporate Institute Of Pharmacy",
          "Amity University Kolkata",
          "National power training institute (E.R) Durgapur",
          "St Xavier's College Kolkata",
          "At. Xavier's College",
          "Ramakrishna Mission Vidyamandira",
          "Bethune colege",
          "Hffc",
          "Corporate Institute of Pharmacy ",
          "Maulana Azad College, Kolkata",
          "Lalbaba college ",
          "Aliah University ",
          "NIST",
          "Green University of Bangladesh",
          "1998",
          "Raja Peary Mohan college",
          "National institute of science and technology,berhampur",
          "American International University - Bangladesh ",
          "International University of Scholarsh",
          "BRAC University",
          "Central University of Jharkhand",
          "VIDYASAGAR UNIVERSITY, MEDINIPUR",
          "UITS",
          "Independent University, Bangladesh",
          "The New Horizons Institute of Technology",
          "Jogomaya Devi college ",
          "Raja Peary Mohan College",
          "Sister Nibedita Govt. General Degree College for girls",
          "RGPV",
          "Surendranath College",
          "FUTURE INSTITUTE OF TECHNOLOGY",
          "Future Institute Of Technology",
          "Asutosh College, Kolkata   ",
          "Raja Peary Mohan College, Uttarpara",
          "Future Institute of technology",
          "North south University  ",
          "Seacom engineering college ",
          "Vivekananda College ",
          "Narula Institute of Technology",
          "FUTURE INSTITUTE OF TECHNOLOGY ",
          "St. Xavier's College , Kolkata",
          "Aot",
          "National power training institute",
          "RKMVERI (BELUR CAMPUS)",
          "Vivekananda college ",
          "Academy of Technology",
          "Durgapur Instute Of Advance Technology And Management",
          "Dr.B.C.ROY ENGINEERING COLLEGE",
          "St Xavier's College",
          "Ramakrishna Mission Vivekananda Educational and Research Institute ",
          "St. Xavier's College (Autonomous),Kolkata",
          "Ashutosh College    ",
          "College of engineering Roorkee",
          "Bethune College, Kolkata",
          "National Power Training Institute ( E.R ) ",
          "Lady Brabourne college",
          "Future institute of technology ",
          "Narula institute of technology",
          "RKMVERI, BELUR MATH",
          "Techno India salt lake",
          "Islamic University of Technology (IUT)",
          "Bangladesh Agricultural Research Institute    ",
          "Ramakrishna Mission Vivekananda Educational And Research Institute",
          "BRAC University ",
          "Bidhannagar college",
          "Bidhannagar College",
          "Sir Gurudas Mahavidyalaya",
          "DURGAPUR INSTITUTE OF ADVANCED TECHNOLOGY AND MANEGEMENT",
          "American International University of Bangladesh",
          "JadavpurUniversity  ",
          "Narula Institute of technology",
          "Vidyasagar College",
          "national institute of science and technology",
          "Visvabharati university",
          "International University of Scholars",
          "New Alipore College",
          "American International University-Bangladesh     ",
          "UNIVERSITY OF CHITTAGONG",
          "Bidhannagar college ",
          "Shibpur Dinobundhoo institution",
          "Durgapur Institute Of Advanced Technology and Management",
          "DIATM durgapur",
          "Iub",
          "Uttara University",
          "B. P. Poddar Institute of Management and Technology",
          "B. P. Poddar Institute of Management And Technology",
          "B. P. Poddar Institute of Technology and Management",
          "B.P. PODDAR INSTITUTE OF MANAGEMENT AND TECHNOLOGY",
          "B.P.Poddar Institution of Management & Technology",
          "B.P.PODDAR INSTITUTE OF MANAGEMENT AND TECHNOLOGY",
          "B P Poddar Institute Of Management And Technology",
          "B.P. Poddar Institute Of Management And Technology",
          "B.P. Poddar Institute of Management and Technology",
          "B. P. Poddar Institute of Management and technology",
          "B.P.Podder Institute of Management and Technology",
          "B. P. Poddar Institute Of Management & Technology",
          "Home",
          "BPPIMT",
          "B.P.Poddar Institute Of Management And Technology ",
          "Dr. B.C.Roy engineering college",
          "B.P Poddar institute of management and technology",
          "B P poddar institute of Management & Technology ",
          "B.P Poddar Institute of Management and Technology",
          "B.P PODDAR INSTITUTE OF MANAGEMENT AND TECHNOLOGY",
          "B.P poddar Institute of Management & Technology",
          "B.p.Poddar Institute of Management and Technology",
          "BP poddar institute of management and technology",
          "B.p.poddar institute of management and technology",
          "B.P.Poddar Institute of Management & Technology",
          "B.p.podder institute",
          "Bppimt",
          "B P Poddar Institute of Management and Technology ",
          " B.P. Poddar Institute Of Management And Technology",
          "Bp Poddar Institute of management and technology",
          "B P Podder Institute of Management and Technology",
          "B P PODDAR INSTITUTE OF MANAGEMENT AND TECHNOLOGY",
          "B.P.P.I.M.T",
          "Durgapur Women's College",
          "Duragpur Women's college",
          "Aasansol Girls' College",
          "Durgapur women's college",
          "Durgapur Womens College ",
          "Durgapur government college",
          "Durgapur women's collage ",
          "Durgapur Women's College   Kazi Nazrul University",
          "Burdwan university ",
          "DURGAPUR WOMEN'S COLLEGE",
          "Durgapur women's college ",
          "Durgapur government college ",
          "College name - Durgapur Womens college",
          "Raniganj Girls' College ",
          "DURGAPUR WOMEN'S COLLEGE ",
          "KAJI najrul invercity",
          "Durgapur woman's college ",
          "Durgapur women's College",
          "Durgapur Women's College ",
          "AKPC MAHAVIDYALAYA",
          "Durgapur Women's college",
          "UNIVERSITY OF BURDWAN",
          "DURGAPUR GOVERNMENT COLLEGE",
          "Durgapur women college",
          "Women's collage",
          "Durgapur WOMEN'S college ",
          "DR BC ROY ENGINEERING & MANAGEMENT COLLEGE , DURGAPUR",
          "Regent Education and Research Foundation",
          "Regent education and research foundation",
          "REGENT education&research foundation ",
          "Regent Education & Research Foundation",
          "Regent Education And Research Foundation",
          "Regent education & research foundation barrackpore",
          "Regent Education and Research Foundation ",
          "RERF",
          "Rerf",
          "Regent Education & Research Foundation ",
          "Regent Education and Reseach Foundation",
          "Regent Education and Research Foundation    ",
          "REGENT EDUCATION AND RESEARCH FOUNDATION ",
          "Regent Education & Research Foundation Group of Institutions",
          "Regent Education and Research foundation ",
          "Regent Education and Research Foundation Group of Institutions",
          "Regent Education Research and Foundation",
          "Regent Education And Research Foundation Institution",
          "Regent education and research Foundation",
          "REGENT EDUCATION AND RESEARCH FOUNDATION",
          "Regent Education and Research Foundation(group of institution)",
          "Regent Education &Research Foundation",
          "Regent Education and Research foundation",
          "Regent Education &Research Foundation group of Institutions ",
          "regent education and research foundarion group of institute ",
          "REGENT EDUCATION & RESEARCH FOUNDATION",
          "Regent education and research foundation group of institution",
          "Regent education and research foundation ",
          "regent education and research foundation ",
          "RRERF",
          "Presidency University ",
          "Presidency University, Kolkata",
          "PRESIDENCY UNIVERSITY",
          "Presidency university",
          "Lady Braborne college",
          "Hyderabad Central University",
          "Indian Institute of Foreign Trade,Kolkata",
          "Lady Brabourne College, Kolkata",
          "Calcutta University ",
          "LADY BRABOURNE COLLEGE, CALCUTTA UNIVERSITY",
          "Lady braboune college",
          "Lady brabourne college ",
          "LADY BRABOURNE COLLEGE, C.U.",
          "Lady brabourne college, kolkata",
          "Lady Brabourne college ",
          "St.Xavier's College (Autonomous), Kolkata ",
          "St. Xavier's University ",
          "Indira gandhi institute of development research ",
          "IGIDR",
          "Gokhale Institute of Politics and Economics",
          "Lady Brabourne ",
          "Ladybrabourne college",
          "Lady Brabourne College, University of Calcutta ",
          "Lady Braboune Collage",
          "Moulana azad college",
          "Moulana Azad College",
          "MAULANA AZAD COLLEGE ",
          "Maulana Azad College Kolkata",
          "maulana azad college",
          "Moulana Azad Collage",
          "Maulana Azad College, University Of Calcutta",
          "MAC",
          "Maulana Azad college ",
          "Maulana Azad Collehe",
          "Maulana azad college ",
          "Seth Anandram Jaipuria College",
          "Maulona Azad College"
         ],
         "type": "bar",
         "x": [
          "United International University ",
          "Shahjalal University of Science and Technology",
          "Asutosh College",
          "DEPARTMENT OF PURE MATHEMATICS, UNIVERSITY OF CALCUTTA",
          "Vivekananda College",
          "Future institute of engineering and management",
          "J.K College",
          "Narasinha dutt college",
          "J.k.clg purulia",
          "NARASINHA DUTT COLLEGE ",
          "Global Nature Care Sangathan Group Of Institutions",
          "AIUB",
          "Maulana Azad College",
          "Purulia zilla school ",
          "Cummins college of Engineering for women ",
          "Daffodil  International  University ",
          "St.Xaviers college",
          "Aiub",
          "Asutosh College ",
          "DIATM",
          "Purulia jk college",
          "Narasinha Dutt college under Calcutta university ",
          "Sister Nibedita Govt General Degree College for Girls ",
          "ND College",
          "Ramakrishna Mission Shilpapitha",
          "Viswass school & college of nursing",
          "Narasinha Dutt college afflicted by Calcutta University",
          "Maulana Azad College ",
          "Durgapur institute of advanced technology and management",
          "Durgapur Institute of Advanced Technology and Management",
          "Insitiution of engineering and managment",
          "St. Xavier's College",
          "Asutosh college",
          "Sister Nibedita Govt. General Degree College For Girls",
          "Manipal hospital",
          "Durgapur Institute Of Advance Technology and Management",
          "West Bengal State University ",
          "St. Xavier's College , Kolkata ",
          "St. Xavier's College, Kolkata",
          "SKS Power Generation Chhattisgarh Ltd.",
          "Lady Brabourne College, University of Calcutta",
          "University of Calcutta",
          "St. Xavier's college",
          "University College Of Science & Technology, University Of Calcutta",
          "Vivekananda college, Calcutta University",
          "Jagannath Kishore college,Purulia",
          "Hooghly Engineering and Technology College",
          "J.K.College ",
          "Islamic University, Kushtia",
          "Narasinha dutt college ",
          "West Bengal University of Health Sciences",
          "Lady Brabourne College",
          "Institute of Engineering and Management (IEM)",
          "Kalyani mahavidyalaya",
          "Acharya institute of management and sciences",
          "Techno International Newtown",
          "Bethune College ",
          "ISRT , University of Dhaka ",
          "Vivekananda college , CU",
          "NSU",
          "st Xavier's College ",
          "St xavier's College, kolkata",
          "Narasinha Dutta College",
          "NARASINHA DUTT COLLEGE",
          "American International University Bangladesh ",
          "Jagannath Kishore College",
          "NARASINHA DUTT COLLEGE, UNIVERSITY OF CALCUTTA",
          "Narasingha Dutt College ",
          "Durgapur Institute of Advanced Technology and Management ",
          "Comilla University",
          "Techno India Saltlake",
          "St. Xavier's College (Autonomous) , Kolkata",
          "Narasinha Dutt College",
          "Academy Of Technology",
          "Thakurpukur Vivekananda College ",
          "J.K college",
          "Calcutta University ( Ballygaunge Science College) ",
          "RKMVERI BELUR MATH",
          "JJ Glastronics",
          "Gauhati University",
          "Maulana azad college",
          "Jadavpur University",
          "Basanti Devi College",
          "The International University of Scholars",
          "London  South  Bank  University ",
          "North South University ",
          "Bangladesh Institute of Governance and Management (BIGM)       ",
          "Guru NANAK INSTITUTE OF PHARMACEUTICAL SCIENCE AND TECHNOLOGY",
          "Bethune college",
          "National Power Training Institute Durgapur",
          "Maulana Azad college",
          "Jk college",
          "Kerala University ",
          "NPTI (ER)",
          "Institute of Engineering and Management",
          "Bethune College,  Kolkata",
          "Professional",
          "University of Dhaka",
          "Bharat University, Chennai",
          "Jadavpur University ",
          "Comilla University  ",
          "North-south university",
          "Future Institute of Engineering and Management",
          "PRESIDENCY UNIVERSITY ",
          "American International University-Bangladesh",
          "Vidyasagar college for women",
          "JADAVPUR UNIVERSITY ",
          "Presidency University",
          "Gl bajaj",
          "American International University-Bangladesh ",
          "National power training institute Nagpur",
          "North South University",
          "Kalyani mahavidyalay",
          "Bethune",
          "Bethune College",
          "Future Institute of Technology",
          "Dr. B. C. Roy Engineering college",
          "Durgapur Institute of advance technology and managment",
          "Government College of Engineering and Leather Technology",
          "N.P.T.I(E.R.)",
          "St. Xavier's College, Kolkata ",
          "Indira Gandhi National University",
          "Vidyasaagar university",
          "Mugberia gangadhar mahavidyalaya ",
          "Dr.b.c.roy engineering college",
          " Uttarpara Amarendra Vidyapith",
          "Techno International New Town",
          "Durgapur institute of advanced and technology management",
          "NPTI, NAGPUR",
          "Jagannath Kishore College, Purulia",
          "Basantidevi College",
          "IIT,University of Dhaka",
          "Makaut(Formely wbut)",
          "American International University- Bangladesh",
          "American International University Bangladesh",
          "Shahjalal University of Science & Technology   ",
          "Bangabandhu Sheikh Mujibur Rahman Science & Technology ",
          "Bangabandhu Sheikh Mujibur Rahman Science & Technology University       ",
          "Jahangirnagar University  ",
          "Jahangirnagar University ",
          "BUET",
          "SBPGC",
          "American international university Bangladesh ",
          "North South University (NSU)",
          "American international university of Bangladesh",
          "North South University   ",
          "Public Administration ",
          "American International University - Bangladesh",
          "University Of Dhaka",
          "LADY BRABOURNE COLLEGE",
          "Netaji Subhas Open University",
          "Maulana Abul Kalam Azad University of Technology",
          "Vidyasagar University",
          "National Institute Of Technology Warangal",
          "Ramakrishna Mission Vidyamandira ",
          "Notre dame UniversityBangladesh  ",
          "JADAVPUR UNIVERSITY",
          "Indian Institute of Engineering Science And Technology Shibpur",
          "Ahsanullah University of Science and Technology ",
          "Chittaranjan College, Kolkata ",
          "Bangalore university",
          "Maulana Abul Kalam Azad University of Technology ",
          "Institution / Organization / College name ",
          "University of Liberal Arts ",
          "University of Liberal Arts Bangladesh",
          "Dyal Singh College (day) ",
          "DIATM DURGAPUR ",
          "Vivekananda  College",
          "Maulana Abul Kalam Azad University of Technology, W.B",
          "Christ  University",
          "Durgapur institute of advanced technology",
          "American International University of Bangladesh (AIUB)",
          "RCC institute of information technology",
          "Belda College",
          "FUTURETECH PRIVATE ITI ",
          "J.k. college",
          "BRABU",
          "Burdwan University",
          "Durgapur institute of advance technology and managment",
          "Global engineering college",
          "Prabhat Kumar College",
          "Calcutta university ",
          "St.Xavier's College,Kolkata",
          "Shibpur Dinobondhoo Institution (College) ",
          "Durgapur institute of advanced technology and management ",
          "Durgapur institute of advanced technology and managemant rajbandh",
          "MAULANA ABUL KALAM AZAD UNIVERSITY OF TECHNOLOGY ",
          "Vivekananda College Thakurpukur",
          "St. Xavier's College Kolkata",
          "University of Dhaka   ",
          "Durgapur Institute of advanced technology and management ",
          "UNIVERSITY OF MUMBAI",
          "Lady Brabourne College ",
          "Durgapur Institute of Advancedpur Technology and Management",
          "ASUTOSH COLLEGE",
          "St. Xavier's College (Autonomous), Kolkata. ",
          "OmDayal Group Of Institutions",
          "St.Xavier's College Kolkata",
          "Vivekananda college",
          "Amta Ramsaday College",
          "DIATM, Durgapur",
          "Basanti devi College",
          "BETHUNE COLLEGE",
          "Ahsanullah University of Science and Technology",
          "Asansol engineering college",
          "MAULANA AZAD COLLEGE",
          "Kalyani Mahavidyalaya",
          "Presidency university ",
          "Vivekananda College,Thakurpukur",
          "Durgapur Institute of Advanced Technology & Management",
          "Future Institute of Technology ",
          "Victoria Institution",
          "Lady brabourne college",
          "Corporate Institute Of Pharmacy",
          "Amity University Kolkata",
          "National power training institute (E.R) Durgapur",
          "St Xavier's College Kolkata",
          "At. Xavier's College",
          "Ramakrishna Mission Vidyamandira",
          "Bethune colege",
          "Hffc",
          "Corporate Institute of Pharmacy ",
          "Maulana Azad College, Kolkata",
          "Lalbaba college ",
          "Aliah University ",
          "NIST",
          "Green University of Bangladesh",
          "1998",
          "Raja Peary Mohan college",
          "National institute of science and technology,berhampur",
          "American International University - Bangladesh ",
          "International University of Scholarsh",
          "BRAC University",
          "Central University of Jharkhand",
          "VIDYASAGAR UNIVERSITY, MEDINIPUR",
          "UITS",
          "Independent University, Bangladesh",
          "The New Horizons Institute of Technology",
          "Jogomaya Devi college ",
          "Raja Peary Mohan College",
          "Sister Nibedita Govt. General Degree College for girls",
          "RGPV",
          "Surendranath College",
          "FUTURE INSTITUTE OF TECHNOLOGY",
          "Future Institute Of Technology",
          "Asutosh College, Kolkata   ",
          "Raja Peary Mohan College, Uttarpara",
          "Future Institute of technology",
          "North south University  ",
          "Seacom engineering college ",
          "Vivekananda College ",
          "Narula Institute of Technology",
          "FUTURE INSTITUTE OF TECHNOLOGY ",
          "St. Xavier's College , Kolkata",
          "Aot",
          "National power training institute",
          "RKMVERI (BELUR CAMPUS)",
          "Vivekananda college ",
          "Academy of Technology",
          "Durgapur Instute Of Advance Technology And Management",
          "Dr.B.C.ROY ENGINEERING COLLEGE",
          "St Xavier's College",
          "Ramakrishna Mission Vivekananda Educational and Research Institute ",
          "St. Xavier's College (Autonomous),Kolkata",
          "Ashutosh College    ",
          "College of engineering Roorkee",
          "Bethune College, Kolkata",
          "National Power Training Institute ( E.R ) ",
          "Lady Brabourne college",
          "Future institute of technology ",
          "Narula institute of technology",
          "RKMVERI, BELUR MATH",
          "Techno India salt lake",
          "Islamic University of Technology (IUT)",
          "Bangladesh Agricultural Research Institute    ",
          "Ramakrishna Mission Vivekananda Educational And Research Institute",
          "BRAC University ",
          "Bidhannagar college",
          "Bidhannagar College",
          "Sir Gurudas Mahavidyalaya",
          "DURGAPUR INSTITUTE OF ADVANCED TECHNOLOGY AND MANEGEMENT",
          "American International University of Bangladesh",
          "JadavpurUniversity  ",
          "Narula Institute of technology",
          "Vidyasagar College",
          "national institute of science and technology",
          "Visvabharati university",
          "International University of Scholars",
          "New Alipore College",
          "American International University-Bangladesh     ",
          "UNIVERSITY OF CHITTAGONG",
          "Bidhannagar college ",
          "Shibpur Dinobundhoo institution",
          "Durgapur Institute Of Advanced Technology and Management",
          "DIATM durgapur",
          "Iub",
          "Uttara University",
          "B. P. Poddar Institute of Management and Technology",
          "B. P. Poddar Institute of Management And Technology",
          "B. P. Poddar Institute of Technology and Management",
          "B.P. PODDAR INSTITUTE OF MANAGEMENT AND TECHNOLOGY",
          "B.P.Poddar Institution of Management & Technology",
          "B.P.PODDAR INSTITUTE OF MANAGEMENT AND TECHNOLOGY",
          "B P Poddar Institute Of Management And Technology",
          "B.P. Poddar Institute Of Management And Technology",
          "B.P. Poddar Institute of Management and Technology",
          "B. P. Poddar Institute of Management and technology",
          "B.P.Podder Institute of Management and Technology",
          "B. P. Poddar Institute Of Management & Technology",
          "Home",
          "BPPIMT",
          "B.P.Poddar Institute Of Management And Technology ",
          "Dr. B.C.Roy engineering college",
          "B.P Poddar institute of management and technology",
          "B P poddar institute of Management & Technology ",
          "B.P Poddar Institute of Management and Technology",
          "B.P PODDAR INSTITUTE OF MANAGEMENT AND TECHNOLOGY",
          "B.P poddar Institute of Management & Technology",
          "B.p.Poddar Institute of Management and Technology",
          "BP poddar institute of management and technology",
          "B.p.poddar institute of management and technology",
          "B.P.Poddar Institute of Management & Technology",
          "B.p.podder institute",
          "Bppimt",
          "B P Poddar Institute of Management and Technology ",
          " B.P. Poddar Institute Of Management And Technology",
          "Bp Poddar Institute of management and technology",
          "B P Podder Institute of Management and Technology",
          "B P PODDAR INSTITUTE OF MANAGEMENT AND TECHNOLOGY",
          "B.P.P.I.M.T",
          "Durgapur Women's College",
          "Duragpur Women's college",
          "Aasansol Girls' College",
          "Durgapur women's college",
          "Durgapur Womens College ",
          "Durgapur government college",
          "Durgapur women's collage ",
          "Durgapur Women's College   Kazi Nazrul University",
          "Burdwan university ",
          "DURGAPUR WOMEN'S COLLEGE",
          "Durgapur women's college ",
          "Durgapur government college ",
          "College name - Durgapur Womens college",
          "Raniganj Girls' College ",
          "DURGAPUR WOMEN'S COLLEGE ",
          "KAJI najrul invercity",
          "Durgapur woman's college ",
          "Durgapur women's College",
          "Durgapur Women's College ",
          "AKPC MAHAVIDYALAYA",
          "Durgapur Women's college",
          "UNIVERSITY OF BURDWAN",
          "DURGAPUR GOVERNMENT COLLEGE",
          "Durgapur women college",
          "Women's collage",
          "Durgapur WOMEN'S college ",
          "DR BC ROY ENGINEERING & MANAGEMENT COLLEGE , DURGAPUR",
          "Regent Education and Research Foundation",
          "Regent education and research foundation",
          "REGENT education&research foundation ",
          "Regent Education & Research Foundation",
          "Regent Education And Research Foundation",
          "Regent education & research foundation barrackpore",
          "Regent Education and Research Foundation ",
          "RERF",
          "Rerf",
          "Regent Education & Research Foundation ",
          "Regent Education and Reseach Foundation",
          "Regent Education and Research Foundation    ",
          "REGENT EDUCATION AND RESEARCH FOUNDATION ",
          "Regent Education & Research Foundation Group of Institutions",
          "Regent Education and Research foundation ",
          "Regent Education and Research Foundation Group of Institutions",
          "Regent Education Research and Foundation",
          "Regent Education And Research Foundation Institution",
          "Regent education and research Foundation",
          "REGENT EDUCATION AND RESEARCH FOUNDATION",
          "Regent Education and Research Foundation(group of institution)",
          "Regent Education &Research Foundation",
          "Regent Education and Research foundation",
          "Regent Education &Research Foundation group of Institutions ",
          "regent education and research foundarion group of institute ",
          "REGENT EDUCATION & RESEARCH FOUNDATION",
          "Regent education and research foundation group of institution",
          "Regent education and research foundation ",
          "regent education and research foundation ",
          "RRERF",
          "Presidency University ",
          "Presidency University, Kolkata",
          "PRESIDENCY UNIVERSITY",
          "Presidency university",
          "Lady Braborne college",
          "Hyderabad Central University",
          "Indian Institute of Foreign Trade,Kolkata",
          "Lady Brabourne College, Kolkata",
          "Calcutta University ",
          "LADY BRABOURNE COLLEGE, CALCUTTA UNIVERSITY",
          "Lady braboune college",
          "Lady brabourne college ",
          "LADY BRABOURNE COLLEGE, C.U.",
          "Lady brabourne college, kolkata",
          "Lady Brabourne college ",
          "St.Xavier's College (Autonomous), Kolkata ",
          "St. Xavier's University ",
          "Indira gandhi institute of development research ",
          "IGIDR",
          "Gokhale Institute of Politics and Economics",
          "Lady Brabourne ",
          "Ladybrabourne college",
          "Lady Brabourne College, University of Calcutta ",
          "Lady Braboune Collage",
          "Moulana azad college",
          "Moulana Azad College",
          "MAULANA AZAD COLLEGE ",
          "Maulana Azad College Kolkata",
          "maulana azad college",
          "Moulana Azad Collage",
          "Maulana Azad College, University Of Calcutta",
          "MAC",
          "Maulana Azad college ",
          "Maulana Azad Collehe",
          "Maulana azad college ",
          "Seth Anandram Jaipuria College",
          "Maulona Azad College"
         ],
         "y": [
          68,
          59,
          31,
          31,
          19,
          14,
          14,
          12,
          12,
          12,
          11,
          11,
          11,
          10,
          9,
          8,
          8,
          8,
          7,
          7,
          7,
          6,
          6,
          6,
          5,
          5,
          5,
          5,
          5,
          5,
          5,
          4,
          4,
          4,
          4,
          4,
          4,
          4,
          4,
          3,
          3,
          3,
          3,
          3,
          3,
          3,
          3,
          3,
          3,
          3,
          3,
          3,
          3,
          3,
          3,
          3,
          3,
          3,
          2,
          2,
          2,
          2,
          2,
          2,
          2,
          2,
          2,
          2,
          2,
          2,
          2,
          2,
          2,
          2,
          2,
          2,
          2,
          2,
          2,
          2,
          2,
          2,
          2,
          2,
          2,
          2,
          2,
          2,
          2,
          2,
          2,
          2,
          2,
          2,
          2,
          2,
          2,
          2,
          2,
          2,
          2,
          2,
          2,
          1,
          1,
          1,
          1,
          1,
          1,
          1,
          1,
          1,
          1,
          1,
          1,
          1,
          1,
          1,
          1,
          1,
          1,
          1,
          1,
          1,
          1,
          1,
          1,
          1,
          1,
          1,
          1,
          1,
          1,
          1,
          1,
          1,
          1,
          1,
          1,
          1,
          1,
          1,
          1,
          1,
          1,
          1,
          1,
          1,
          1,
          1,
          1,
          1,
          1,
          1,
          1,
          1,
          1,
          1,
          1,
          1,
          1,
          1,
          1,
          1,
          1,
          1,
          1,
          1,
          1,
          1,
          1,
          1,
          1,
          1,
          1,
          1,
          1,
          1,
          1,
          1,
          1,
          1,
          1,
          1,
          1,
          1,
          1,
          1,
          1,
          1,
          1,
          1,
          1,
          1,
          1,
          1,
          1,
          1,
          1,
          1,
          1,
          1,
          1,
          1,
          1,
          1,
          1,
          1,
          1,
          1,
          1,
          1,
          1,
          1,
          1,
          1,
          1,
          1,
          1,
          1,
          1,
          1,
          1,
          1,
          1,
          1,
          1,
          1,
          1,
          1,
          1,
          1,
          1,
          1,
          1,
          1,
          1,
          1,
          1,
          1,
          1,
          1,
          1,
          1,
          1,
          1,
          1,
          1,
          1,
          1,
          1,
          1,
          1,
          1,
          1,
          1,
          1,
          1,
          1,
          1,
          1,
          1,
          1,
          1,
          1,
          1,
          1,
          1,
          1,
          1,
          1,
          1,
          1,
          1,
          1,
          1,
          1,
          1,
          1,
          1,
          1,
          1,
          1,
          1,
          1,
          1,
          1,
          1,
          1,
          1,
          1,
          1,
          1,
          1,
          1,
          1,
          1,
          1,
          1,
          1,
          1,
          1,
          1,
          1,
          1,
          1,
          1,
          1,
          1,
          1,
          1,
          1,
          1,
          1,
          1,
          1,
          1,
          1,
          1,
          1,
          1,
          1,
          1,
          1,
          1,
          1,
          1,
          1,
          1,
          1,
          1,
          1,
          1,
          1,
          1,
          1,
          1,
          1,
          1,
          1,
          1,
          1,
          1,
          1,
          1,
          1,
          1,
          1,
          1,
          1,
          1,
          1,
          1,
          1,
          1,
          1,
          1,
          1,
          1,
          1,
          1,
          1,
          1,
          1,
          1,
          1,
          1,
          1,
          1,
          1,
          1,
          1,
          1,
          1,
          1,
          1,
          1,
          1,
          1,
          1,
          1,
          1,
          1,
          1,
          1,
          1,
          1,
          1,
          1,
          1,
          1,
          1,
          1,
          1,
          1,
          1,
          1,
          1,
          1,
          1,
          1,
          1,
          1,
          1,
          1,
          1,
          1,
          1,
          1,
          1,
          1,
          1,
          1,
          1,
          1,
          1,
          1,
          1,
          1,
          1,
          1,
          1,
          1,
          1
         ]
        }
       ],
       "layout": {
        "hovermode": "closest",
        "paper_bgcolor": "rgba(0, 0, 0, 0)",
        "plot_bgcolor": "rgba(0, 0, 0, 0)",
        "template": {
         "data": {
          "bar": [
           {
            "error_x": {
             "color": "#2a3f5f"
            },
            "error_y": {
             "color": "#2a3f5f"
            },
            "marker": {
             "line": {
              "color": "#E5ECF6",
              "width": 0.5
             }
            },
            "type": "bar"
           }
          ],
          "barpolar": [
           {
            "marker": {
             "line": {
              "color": "#E5ECF6",
              "width": 0.5
             }
            },
            "type": "barpolar"
           }
          ],
          "carpet": [
           {
            "aaxis": {
             "endlinecolor": "#2a3f5f",
             "gridcolor": "white",
             "linecolor": "white",
             "minorgridcolor": "white",
             "startlinecolor": "#2a3f5f"
            },
            "baxis": {
             "endlinecolor": "#2a3f5f",
             "gridcolor": "white",
             "linecolor": "white",
             "minorgridcolor": "white",
             "startlinecolor": "#2a3f5f"
            },
            "type": "carpet"
           }
          ],
          "choropleth": [
           {
            "colorbar": {
             "outlinewidth": 0,
             "ticks": ""
            },
            "type": "choropleth"
           }
          ],
          "contour": [
           {
            "colorbar": {
             "outlinewidth": 0,
             "ticks": ""
            },
            "colorscale": [
             [
              0,
              "#0d0887"
             ],
             [
              0.1111111111111111,
              "#46039f"
             ],
             [
              0.2222222222222222,
              "#7201a8"
             ],
             [
              0.3333333333333333,
              "#9c179e"
             ],
             [
              0.4444444444444444,
              "#bd3786"
             ],
             [
              0.5555555555555556,
              "#d8576b"
             ],
             [
              0.6666666666666666,
              "#ed7953"
             ],
             [
              0.7777777777777778,
              "#fb9f3a"
             ],
             [
              0.8888888888888888,
              "#fdca26"
             ],
             [
              1,
              "#f0f921"
             ]
            ],
            "type": "contour"
           }
          ],
          "contourcarpet": [
           {
            "colorbar": {
             "outlinewidth": 0,
             "ticks": ""
            },
            "type": "contourcarpet"
           }
          ],
          "heatmap": [
           {
            "colorbar": {
             "outlinewidth": 0,
             "ticks": ""
            },
            "colorscale": [
             [
              0,
              "#0d0887"
             ],
             [
              0.1111111111111111,
              "#46039f"
             ],
             [
              0.2222222222222222,
              "#7201a8"
             ],
             [
              0.3333333333333333,
              "#9c179e"
             ],
             [
              0.4444444444444444,
              "#bd3786"
             ],
             [
              0.5555555555555556,
              "#d8576b"
             ],
             [
              0.6666666666666666,
              "#ed7953"
             ],
             [
              0.7777777777777778,
              "#fb9f3a"
             ],
             [
              0.8888888888888888,
              "#fdca26"
             ],
             [
              1,
              "#f0f921"
             ]
            ],
            "type": "heatmap"
           }
          ],
          "heatmapgl": [
           {
            "colorbar": {
             "outlinewidth": 0,
             "ticks": ""
            },
            "colorscale": [
             [
              0,
              "#0d0887"
             ],
             [
              0.1111111111111111,
              "#46039f"
             ],
             [
              0.2222222222222222,
              "#7201a8"
             ],
             [
              0.3333333333333333,
              "#9c179e"
             ],
             [
              0.4444444444444444,
              "#bd3786"
             ],
             [
              0.5555555555555556,
              "#d8576b"
             ],
             [
              0.6666666666666666,
              "#ed7953"
             ],
             [
              0.7777777777777778,
              "#fb9f3a"
             ],
             [
              0.8888888888888888,
              "#fdca26"
             ],
             [
              1,
              "#f0f921"
             ]
            ],
            "type": "heatmapgl"
           }
          ],
          "histogram": [
           {
            "marker": {
             "colorbar": {
              "outlinewidth": 0,
              "ticks": ""
             }
            },
            "type": "histogram"
           }
          ],
          "histogram2d": [
           {
            "colorbar": {
             "outlinewidth": 0,
             "ticks": ""
            },
            "colorscale": [
             [
              0,
              "#0d0887"
             ],
             [
              0.1111111111111111,
              "#46039f"
             ],
             [
              0.2222222222222222,
              "#7201a8"
             ],
             [
              0.3333333333333333,
              "#9c179e"
             ],
             [
              0.4444444444444444,
              "#bd3786"
             ],
             [
              0.5555555555555556,
              "#d8576b"
             ],
             [
              0.6666666666666666,
              "#ed7953"
             ],
             [
              0.7777777777777778,
              "#fb9f3a"
             ],
             [
              0.8888888888888888,
              "#fdca26"
             ],
             [
              1,
              "#f0f921"
             ]
            ],
            "type": "histogram2d"
           }
          ],
          "histogram2dcontour": [
           {
            "colorbar": {
             "outlinewidth": 0,
             "ticks": ""
            },
            "colorscale": [
             [
              0,
              "#0d0887"
             ],
             [
              0.1111111111111111,
              "#46039f"
             ],
             [
              0.2222222222222222,
              "#7201a8"
             ],
             [
              0.3333333333333333,
              "#9c179e"
             ],
             [
              0.4444444444444444,
              "#bd3786"
             ],
             [
              0.5555555555555556,
              "#d8576b"
             ],
             [
              0.6666666666666666,
              "#ed7953"
             ],
             [
              0.7777777777777778,
              "#fb9f3a"
             ],
             [
              0.8888888888888888,
              "#fdca26"
             ],
             [
              1,
              "#f0f921"
             ]
            ],
            "type": "histogram2dcontour"
           }
          ],
          "mesh3d": [
           {
            "colorbar": {
             "outlinewidth": 0,
             "ticks": ""
            },
            "type": "mesh3d"
           }
          ],
          "parcoords": [
           {
            "line": {
             "colorbar": {
              "outlinewidth": 0,
              "ticks": ""
             }
            },
            "type": "parcoords"
           }
          ],
          "scatter": [
           {
            "marker": {
             "colorbar": {
              "outlinewidth": 0,
              "ticks": ""
             }
            },
            "type": "scatter"
           }
          ],
          "scatter3d": [
           {
            "line": {
             "colorbar": {
              "outlinewidth": 0,
              "ticks": ""
             }
            },
            "marker": {
             "colorbar": {
              "outlinewidth": 0,
              "ticks": ""
             }
            },
            "type": "scatter3d"
           }
          ],
          "scattercarpet": [
           {
            "marker": {
             "colorbar": {
              "outlinewidth": 0,
              "ticks": ""
             }
            },
            "type": "scattercarpet"
           }
          ],
          "scattergeo": [
           {
            "marker": {
             "colorbar": {
              "outlinewidth": 0,
              "ticks": ""
             }
            },
            "type": "scattergeo"
           }
          ],
          "scattergl": [
           {
            "marker": {
             "colorbar": {
              "outlinewidth": 0,
              "ticks": ""
             }
            },
            "type": "scattergl"
           }
          ],
          "scattermapbox": [
           {
            "marker": {
             "colorbar": {
              "outlinewidth": 0,
              "ticks": ""
             }
            },
            "type": "scattermapbox"
           }
          ],
          "scatterpolar": [
           {
            "marker": {
             "colorbar": {
              "outlinewidth": 0,
              "ticks": ""
             }
            },
            "type": "scatterpolar"
           }
          ],
          "scatterpolargl": [
           {
            "marker": {
             "colorbar": {
              "outlinewidth": 0,
              "ticks": ""
             }
            },
            "type": "scatterpolargl"
           }
          ],
          "scatterternary": [
           {
            "marker": {
             "colorbar": {
              "outlinewidth": 0,
              "ticks": ""
             }
            },
            "type": "scatterternary"
           }
          ],
          "surface": [
           {
            "colorbar": {
             "outlinewidth": 0,
             "ticks": ""
            },
            "colorscale": [
             [
              0,
              "#0d0887"
             ],
             [
              0.1111111111111111,
              "#46039f"
             ],
             [
              0.2222222222222222,
              "#7201a8"
             ],
             [
              0.3333333333333333,
              "#9c179e"
             ],
             [
              0.4444444444444444,
              "#bd3786"
             ],
             [
              0.5555555555555556,
              "#d8576b"
             ],
             [
              0.6666666666666666,
              "#ed7953"
             ],
             [
              0.7777777777777778,
              "#fb9f3a"
             ],
             [
              0.8888888888888888,
              "#fdca26"
             ],
             [
              1,
              "#f0f921"
             ]
            ],
            "type": "surface"
           }
          ],
          "table": [
           {
            "cells": {
             "fill": {
              "color": "#EBF0F8"
             },
             "line": {
              "color": "white"
             }
            },
            "header": {
             "fill": {
              "color": "#C8D4E3"
             },
             "line": {
              "color": "white"
             }
            },
            "type": "table"
           }
          ]
         },
         "layout": {
          "annotationdefaults": {
           "arrowcolor": "#2a3f5f",
           "arrowhead": 0,
           "arrowwidth": 1
          },
          "colorscale": {
           "diverging": [
            [
             0,
             "#8e0152"
            ],
            [
             0.1,
             "#c51b7d"
            ],
            [
             0.2,
             "#de77ae"
            ],
            [
             0.3,
             "#f1b6da"
            ],
            [
             0.4,
             "#fde0ef"
            ],
            [
             0.5,
             "#f7f7f7"
            ],
            [
             0.6,
             "#e6f5d0"
            ],
            [
             0.7,
             "#b8e186"
            ],
            [
             0.8,
             "#7fbc41"
            ],
            [
             0.9,
             "#4d9221"
            ],
            [
             1,
             "#276419"
            ]
           ],
           "sequential": [
            [
             0,
             "#0d0887"
            ],
            [
             0.1111111111111111,
             "#46039f"
            ],
            [
             0.2222222222222222,
             "#7201a8"
            ],
            [
             0.3333333333333333,
             "#9c179e"
            ],
            [
             0.4444444444444444,
             "#bd3786"
            ],
            [
             0.5555555555555556,
             "#d8576b"
            ],
            [
             0.6666666666666666,
             "#ed7953"
            ],
            [
             0.7777777777777778,
             "#fb9f3a"
            ],
            [
             0.8888888888888888,
             "#fdca26"
            ],
            [
             1,
             "#f0f921"
            ]
           ],
           "sequentialminus": [
            [
             0,
             "#0d0887"
            ],
            [
             0.1111111111111111,
             "#46039f"
            ],
            [
             0.2222222222222222,
             "#7201a8"
            ],
            [
             0.3333333333333333,
             "#9c179e"
            ],
            [
             0.4444444444444444,
             "#bd3786"
            ],
            [
             0.5555555555555556,
             "#d8576b"
            ],
            [
             0.6666666666666666,
             "#ed7953"
            ],
            [
             0.7777777777777778,
             "#fb9f3a"
            ],
            [
             0.8888888888888888,
             "#fdca26"
            ],
            [
             1,
             "#f0f921"
            ]
           ]
          },
          "colorway": [
           "#636efa",
           "#EF553B",
           "#00cc96",
           "#ab63fa",
           "#FFA15A",
           "#19d3f3",
           "#FF6692",
           "#B6E880",
           "#FF97FF",
           "#FECB52"
          ],
          "font": {
           "color": "#2a3f5f"
          },
          "geo": {
           "bgcolor": "white",
           "lakecolor": "white",
           "landcolor": "#E5ECF6",
           "showlakes": true,
           "showland": true,
           "subunitcolor": "white"
          },
          "hoverlabel": {
           "align": "left"
          },
          "hovermode": "closest",
          "mapbox": {
           "style": "light"
          },
          "paper_bgcolor": "white",
          "plot_bgcolor": "#E5ECF6",
          "polar": {
           "angularaxis": {
            "gridcolor": "white",
            "linecolor": "white",
            "ticks": ""
           },
           "bgcolor": "#E5ECF6",
           "radialaxis": {
            "gridcolor": "white",
            "linecolor": "white",
            "ticks": ""
           }
          },
          "scene": {
           "xaxis": {
            "backgroundcolor": "#E5ECF6",
            "gridcolor": "white",
            "gridwidth": 2,
            "linecolor": "white",
            "showbackground": true,
            "ticks": "",
            "zerolinecolor": "white"
           },
           "yaxis": {
            "backgroundcolor": "#E5ECF6",
            "gridcolor": "white",
            "gridwidth": 2,
            "linecolor": "white",
            "showbackground": true,
            "ticks": "",
            "zerolinecolor": "white"
           },
           "zaxis": {
            "backgroundcolor": "#E5ECF6",
            "gridcolor": "white",
            "gridwidth": 2,
            "linecolor": "white",
            "showbackground": true,
            "ticks": "",
            "zerolinecolor": "white"
           }
          },
          "shapedefaults": {
           "line": {
            "color": "#2a3f5f"
           }
          },
          "ternary": {
           "aaxis": {
            "gridcolor": "white",
            "linecolor": "white",
            "ticks": ""
           },
           "baxis": {
            "gridcolor": "white",
            "linecolor": "white",
            "ticks": ""
           },
           "bgcolor": "#E5ECF6",
           "caxis": {
            "gridcolor": "white",
            "linecolor": "white",
            "ticks": ""
           }
          },
          "title": {
           "x": 0.05
          },
          "xaxis": {
           "automargin": true,
           "gridcolor": "white",
           "linecolor": "white",
           "ticks": "",
           "zerolinecolor": "white",
           "zerolinewidth": 2
          },
          "yaxis": {
           "automargin": true,
           "gridcolor": "white",
           "linecolor": "white",
           "ticks": "",
           "zerolinecolor": "white",
           "zerolinewidth": 2
          }
         }
        },
        "title": {
         "text": "College Distribution"
        },
        "xaxis": {
         "linecolor": "black",
         "linewidth": 2,
         "mirror": true,
         "showline": true,
         "showticklabels": true,
         "tickangle": 45,
         "tickfont": {
          "color": "red",
          "size": 10
         },
         "title": {
          "text": "College name "
         },
         "zeroline": true,
         "zerolinecolor": "grey",
         "zerolinewidth": 1
        },
        "yaxis": {
         "gridcolor": "lightgrey",
         "linecolor": "black",
         "linewidth": 2,
         "mirror": true,
         "showline": true,
         "title": {
          "text": "No. of Occurence"
         },
         "zeroline": true,
         "zerolinecolor": "grey",
         "zerolinewidth": 1
        }
       }
      },
      "text/html": [
       "<div>\n",
       "        \n",
       "        \n",
       "            <div id=\"aa118ed3-de95-49f7-bada-2eee28826472\" class=\"plotly-graph-div\" style=\"height:525px; width:100%;\"></div>\n",
       "            <script type=\"text/javascript\">\n",
       "                require([\"plotly\"], function(Plotly) {\n",
       "                    window.PLOTLYENV=window.PLOTLYENV || {};\n",
       "                    \n",
       "                if (document.getElementById(\"aa118ed3-de95-49f7-bada-2eee28826472\")) {\n",
       "                    Plotly.newPlot(\n",
       "                        'aa118ed3-de95-49f7-bada-2eee28826472',\n",
       "                        [{\"marker\": {\"color\": \"purple\"}, \"text\": [\"United International University \", \"Shahjalal University of Science and Technology\", \"Asutosh College\", \"DEPARTMENT OF PURE MATHEMATICS, UNIVERSITY OF CALCUTTA\", \"Vivekananda College\", \"Future institute of engineering and management\", \"J.K College\", \"Narasinha dutt college\", \"J.k.clg purulia\", \"NARASINHA DUTT COLLEGE \", \"Global Nature Care Sangathan Group Of Institutions\", \"AIUB\", \"Maulana Azad College\", \"Purulia zilla school \", \"Cummins college of Engineering for women \", \"Daffodil  International  University \", \"St.Xaviers college\", \"Aiub\", \"Asutosh College \", \"DIATM\", \"Purulia jk college\", \"Narasinha Dutt college under Calcutta university \", \"Sister Nibedita Govt General Degree College for Girls \", \"ND College\", \"Ramakrishna Mission Shilpapitha\", \"Viswass school & college of nursing\", \"Narasinha Dutt college afflicted by Calcutta University\", \"Maulana Azad College \", \"Durgapur institute of advanced technology and management\", \"Durgapur Institute of Advanced Technology and Management\", \"Insitiution of engineering and managment\", \"St. Xavier's College\", \"Asutosh college\", \"Sister Nibedita Govt. General Degree College For Girls\", \"Manipal hospital\", \"Durgapur Institute Of Advance Technology and Management\", \"West Bengal State University \", \"St. Xavier's College , Kolkata \", \"St. Xavier's College, Kolkata\", \"SKS Power Generation Chhattisgarh Ltd.\", \"Lady Brabourne College, University of Calcutta\", \"University of Calcutta\", \"St. Xavier's college\", \"University College Of Science & Technology, University Of Calcutta\", \"Vivekananda college, Calcutta University\", \"Jagannath Kishore college,Purulia\", \"Hooghly Engineering and Technology College\", \"J.K.College \", \"Islamic University, Kushtia\", \"Narasinha dutt college \", \"West Bengal University of Health Sciences\", \"Lady Brabourne College\", \"Institute of Engineering and Management (IEM)\", \"Kalyani mahavidyalaya\", \"Acharya institute of management and sciences\", \"Techno International Newtown\", \"Bethune College \", \"ISRT , University of Dhaka \", \"Vivekananda college , CU\", \"NSU\", \"st Xavier's College \", \"St xavier's College, kolkata\", \"Narasinha Dutta College\", \"NARASINHA DUTT COLLEGE\", \"American International University Bangladesh \", \"Jagannath Kishore College\", \"NARASINHA DUTT COLLEGE, UNIVERSITY OF CALCUTTA\", \"Narasingha Dutt College \", \"Durgapur Institute of Advanced Technology and Management \", \"Comilla University\", \"Techno India Saltlake\", \"St. Xavier's College (Autonomous) , Kolkata\", \"Narasinha Dutt College\", \"Academy Of Technology\", \"Thakurpukur Vivekananda College \", \"J.K college\", \"Calcutta University ( Ballygaunge Science College) \", \"RKMVERI BELUR MATH\", \"JJ Glastronics\", \"Gauhati University\", \"Maulana azad college\", \"Jadavpur University\", \"Basanti Devi College\", \"The International University of Scholars\", \"London  South  Bank  University \", \"North South University \", \"Bangladesh Institute of Governance and Management (BIGM)       \", \"Guru NANAK INSTITUTE OF PHARMACEUTICAL SCIENCE AND TECHNOLOGY\", \"Bethune college\", \"National Power Training Institute Durgapur\", \"Maulana Azad college\", \"Jk college\", \"Kerala University \", \"NPTI (ER)\", \"Institute of Engineering and Management\", \"Bethune College,  Kolkata\", \"Professional\", \"University of Dhaka\", \"Bharat University, Chennai\", \"Jadavpur University \", \"Comilla University  \", \"North-south university\", \"Future Institute of Engineering and Management\", \"PRESIDENCY UNIVERSITY \", \"American International University-Bangladesh\", \"Vidyasagar college for women\", \"JADAVPUR UNIVERSITY \", \"Presidency University\", \"Gl bajaj\", \"American International University-Bangladesh \", \"National power training institute Nagpur\", \"North South University\", \"Kalyani mahavidyalay\", \"Bethune\", \"Bethune College\", \"Future Institute of Technology\", \"Dr. B. C. Roy Engineering college\", \"Durgapur Institute of advance technology and managment\", \"Government College of Engineering and Leather Technology\", \"N.P.T.I(E.R.)\", \"St. Xavier's College, Kolkata \", \"Indira Gandhi National University\", \"Vidyasaagar university\", \"Mugberia gangadhar mahavidyalaya \", \"Dr.b.c.roy engineering college\", \" Uttarpara Amarendra Vidyapith\", \"Techno International New Town\", \"Durgapur institute of advanced and technology management\", \"NPTI, NAGPUR\", \"Jagannath Kishore College, Purulia\", \"Basantidevi College\", \"IIT,University of Dhaka\", \"Makaut(Formely wbut)\", \"American International University- Bangladesh\", \"American International University Bangladesh\", \"Shahjalal University of Science & Technology   \", \"Bangabandhu Sheikh Mujibur Rahman Science & Technology \", \"Bangabandhu Sheikh Mujibur Rahman Science & Technology University       \", \"Jahangirnagar University  \", \"Jahangirnagar University \", \"BUET\", \"SBPGC\", \"American international university Bangladesh \", \"North South University (NSU)\", \"American international university of Bangladesh\", \"North South University   \", \"Public Administration \", \"American International University - Bangladesh\", \"University Of Dhaka\", \"LADY BRABOURNE COLLEGE\", \"Netaji Subhas Open University\", \"Maulana Abul Kalam Azad University of Technology\", \"Vidyasagar University\", \"National Institute Of Technology Warangal\", \"Ramakrishna Mission Vidyamandira \", \"Notre dame UniversityBangladesh  \", \"JADAVPUR UNIVERSITY\", \"Indian Institute of Engineering Science And Technology Shibpur\", \"Ahsanullah University of Science and Technology \", \"Chittaranjan College, Kolkata \", \"Bangalore university\", \"Maulana Abul Kalam Azad University of Technology \", \"Institution / Organization / College name \", \"University of Liberal Arts \", \"University of Liberal Arts Bangladesh\", \"Dyal Singh College (day) \", \"DIATM DURGAPUR \", \"Vivekananda  College\", \"Maulana Abul Kalam Azad University of Technology, W.B\", \"Christ  University\", \"Durgapur institute of advanced technology\", \"American International University of Bangladesh (AIUB)\", \"RCC institute of information technology\", \"Belda College\", \"FUTURETECH PRIVATE ITI \", \"J.k. college\", \"BRABU\", \"Burdwan University\", \"Durgapur institute of advance technology and managment\", \"Global engineering college\", \"Prabhat Kumar College\", \"Calcutta university \", \"St.Xavier's College,Kolkata\", \"Shibpur Dinobondhoo Institution (College) \", \"Durgapur institute of advanced technology and management \", \"Durgapur institute of advanced technology and managemant rajbandh\", \"MAULANA ABUL KALAM AZAD UNIVERSITY OF TECHNOLOGY \", \"Vivekananda College Thakurpukur\", \"St. Xavier's College Kolkata\", \"University of Dhaka   \", \"Durgapur Institute of advanced technology and management \", \"UNIVERSITY OF MUMBAI\", \"Lady Brabourne College \", \"Durgapur Institute of Advancedpur Technology and Management\", \"ASUTOSH COLLEGE\", \"St. Xavier's College (Autonomous), Kolkata. \", \"OmDayal Group Of Institutions\", \"St.Xavier's College Kolkata\", \"Vivekananda college\", \"Amta Ramsaday College\", \"DIATM, Durgapur\", \"Basanti devi College\", \"BETHUNE COLLEGE\", \"Ahsanullah University of Science and Technology\", \"Asansol engineering college\", \"MAULANA AZAD COLLEGE\", \"Kalyani Mahavidyalaya\", \"Presidency university \", \"Vivekananda College,Thakurpukur\", \"Durgapur Institute of Advanced Technology & Management\", \"Future Institute of Technology \", \"Victoria Institution\", \"Lady brabourne college\", \"Corporate Institute Of Pharmacy\", \"Amity University Kolkata\", \"National power training institute (E.R) Durgapur\", \"St Xavier's College Kolkata\", \"At. Xavier's College\", \"Ramakrishna Mission Vidyamandira\", \"Bethune colege\", \"Hffc\", \"Corporate Institute of Pharmacy \", \"Maulana Azad College, Kolkata\", \"Lalbaba college \", \"Aliah University \", \"NIST\", \"Green University of Bangladesh\", \"1998\", \"Raja Peary Mohan college\", \"National institute of science and technology,berhampur\", \"American International University - Bangladesh \", \"International University of Scholarsh\", \"BRAC University\", \"Central University of Jharkhand\", \"VIDYASAGAR UNIVERSITY, MEDINIPUR\", \"UITS\", \"Independent University, Bangladesh\", \"The New Horizons Institute of Technology\", \"Jogomaya Devi college \", \"Raja Peary Mohan College\", \"Sister Nibedita Govt. General Degree College for girls\", \"RGPV\", \"Surendranath College\", \"FUTURE INSTITUTE OF TECHNOLOGY\", \"Future Institute Of Technology\", \"Asutosh College, Kolkata   \", \"Raja Peary Mohan College, Uttarpara\", \"Future Institute of technology\", \"North south University  \", \"Seacom engineering college \", \"Vivekananda College \", \"Narula Institute of Technology\", \"FUTURE INSTITUTE OF TECHNOLOGY \", \"St. Xavier's College , Kolkata\", \"Aot\", \"National power training institute\", \"RKMVERI (BELUR CAMPUS)\", \"Vivekananda college \", \"Academy of Technology\", \"Durgapur Instute Of Advance Technology And Management\", \"Dr.B.C.ROY ENGINEERING COLLEGE\", \"St Xavier's College\", \"Ramakrishna Mission Vivekananda Educational and Research Institute \", \"St. Xavier's College (Autonomous),Kolkata\", \"Ashutosh College    \", \"College of engineering Roorkee\", \"Bethune College, Kolkata\", \"National Power Training Institute ( E.R ) \", \"Lady Brabourne college\", \"Future institute of technology \", \"Narula institute of technology\", \"RKMVERI, BELUR MATH\", \"Techno India salt lake\", \"Islamic University of Technology (IUT)\", \"Bangladesh Agricultural Research Institute    \", \"Ramakrishna Mission Vivekananda Educational And Research Institute\", \"BRAC University \", \"Bidhannagar college\", \"Bidhannagar College\", \"Sir Gurudas Mahavidyalaya\", \"DURGAPUR INSTITUTE OF ADVANCED TECHNOLOGY AND MANEGEMENT\", \"American International University of Bangladesh\", \"JadavpurUniversity  \", \"Narula Institute of technology\", \"Vidyasagar College\", \"national institute of science and technology\", \"Visvabharati university\", \"International University of Scholars\", \"New Alipore College\", \"American International University-Bangladesh     \", \"UNIVERSITY OF CHITTAGONG\", \"Bidhannagar college \", \"Shibpur Dinobundhoo institution\", \"Durgapur Institute Of Advanced Technology and Management\", \"DIATM durgapur\", \"Iub\", \"Uttara University\", \"B. P. Poddar Institute of Management and Technology\", \"B. P. Poddar Institute of Management And Technology\", \"B. P. Poddar Institute of Technology and Management\", \"B.P. PODDAR INSTITUTE OF MANAGEMENT AND TECHNOLOGY\", \"B.P.Poddar Institution of Management & Technology\", \"B.P.PODDAR INSTITUTE OF MANAGEMENT AND TECHNOLOGY\", \"B P Poddar Institute Of Management And Technology\", \"B.P. Poddar Institute Of Management And Technology\", \"B.P. Poddar Institute of Management and Technology\", \"B. P. Poddar Institute of Management and technology\", \"B.P.Podder Institute of Management and Technology\", \"B. P. Poddar Institute Of Management & Technology\", \"Home\", \"BPPIMT\", \"B.P.Poddar Institute Of Management And Technology \", \"Dr. B.C.Roy engineering college\", \"B.P Poddar institute of management and technology\", \"B P poddar institute of Management & Technology \", \"B.P Poddar Institute of Management and Technology\", \"B.P PODDAR INSTITUTE OF MANAGEMENT AND TECHNOLOGY\", \"B.P poddar Institute of Management & Technology\", \"B.p.Poddar Institute of Management and Technology\", \"BP poddar institute of management and technology\", \"B.p.poddar institute of management and technology\", \"B.P.Poddar Institute of Management & Technology\", \"B.p.podder institute\", \"Bppimt\", \"B P Poddar Institute of Management and Technology \", \" B.P. Poddar Institute Of Management And Technology\", \"Bp Poddar Institute of management and technology\", \"B P Podder Institute of Management and Technology\", \"B P PODDAR INSTITUTE OF MANAGEMENT AND TECHNOLOGY\", \"B.P.P.I.M.T\", \"Durgapur Women's College\", \"Duragpur Women's college\", \"Aasansol Girls' College\", \"Durgapur women's college\", \"Durgapur Womens College \", \"Durgapur government college\", \"Durgapur women's collage \", \"Durgapur Women's College   Kazi Nazrul University\", \"Burdwan university \", \"DURGAPUR WOMEN'S COLLEGE\", \"Durgapur women's college \", \"Durgapur government college \", \"College name - Durgapur Womens college\", \"Raniganj Girls' College \", \"DURGAPUR WOMEN'S COLLEGE \", \"KAJI najrul invercity\", \"Durgapur woman's college \", \"Durgapur women's College\", \"Durgapur Women's College \", \"AKPC MAHAVIDYALAYA\", \"Durgapur Women's college\", \"UNIVERSITY OF BURDWAN\", \"DURGAPUR GOVERNMENT COLLEGE\", \"Durgapur women college\", \"Women's collage\", \"Durgapur WOMEN'S college \", \"DR BC ROY ENGINEERING & MANAGEMENT COLLEGE , DURGAPUR\", \"Regent Education and Research Foundation\", \"Regent education and research foundation\", \"REGENT education&research foundation \", \"Regent Education & Research Foundation\", \"Regent Education And Research Foundation\", \"Regent education & research foundation barrackpore\", \"Regent Education and Research Foundation \", \"RERF\", \"Rerf\", \"Regent Education & Research Foundation \", \"Regent Education and Reseach Foundation\", \"Regent Education and Research Foundation    \", \"REGENT EDUCATION AND RESEARCH FOUNDATION \", \"Regent Education & Research Foundation Group of Institutions\", \"Regent Education and Research foundation \", \"Regent Education and Research Foundation Group of Institutions\", \"Regent Education Research and Foundation\", \"Regent Education And Research Foundation Institution\", \"Regent education and research Foundation\", \"REGENT EDUCATION AND RESEARCH FOUNDATION\", \"Regent Education and Research Foundation(group of institution)\", \"Regent Education &Research Foundation\", \"Regent Education and Research foundation\", \"Regent Education &Research Foundation group of Institutions \", \"regent education and research foundarion group of institute \", \"REGENT EDUCATION & RESEARCH FOUNDATION\", \"Regent education and research foundation group of institution\", \"Regent education and research foundation \", \"regent education and research foundation \", \"RRERF\", \"Presidency University \", \"Presidency University, Kolkata\", \"PRESIDENCY UNIVERSITY\", \"Presidency university\", \"Lady Braborne college\", \"Hyderabad Central University\", \"Indian Institute of Foreign Trade,Kolkata\", \"Lady Brabourne College, Kolkata\", \"Calcutta University \", \"LADY BRABOURNE COLLEGE, CALCUTTA UNIVERSITY\", \"Lady braboune college\", \"Lady brabourne college \", \"LADY BRABOURNE COLLEGE, C.U.\", \"Lady brabourne college, kolkata\", \"Lady Brabourne college \", \"St.Xavier's College (Autonomous), Kolkata \", \"St. Xavier's University \", \"Indira gandhi institute of development research \", \"IGIDR\", \"Gokhale Institute of Politics and Economics\", \"Lady Brabourne \", \"Ladybrabourne college\", \"Lady Brabourne College, University of Calcutta \", \"Lady Braboune Collage\", \"Moulana azad college\", \"Moulana Azad College\", \"MAULANA AZAD COLLEGE \", \"Maulana Azad College Kolkata\", \"maulana azad college\", \"Moulana Azad Collage\", \"Maulana Azad College, University Of Calcutta\", \"MAC\", \"Maulana Azad college \", \"Maulana Azad Collehe\", \"Maulana azad college \", \"Seth Anandram Jaipuria College\", \"Maulona Azad College\"], \"type\": \"bar\", \"x\": [\"United International University \", \"Shahjalal University of Science and Technology\", \"Asutosh College\", \"DEPARTMENT OF PURE MATHEMATICS, UNIVERSITY OF CALCUTTA\", \"Vivekananda College\", \"Future institute of engineering and management\", \"J.K College\", \"Narasinha dutt college\", \"J.k.clg purulia\", \"NARASINHA DUTT COLLEGE \", \"Global Nature Care Sangathan Group Of Institutions\", \"AIUB\", \"Maulana Azad College\", \"Purulia zilla school \", \"Cummins college of Engineering for women \", \"Daffodil  International  University \", \"St.Xaviers college\", \"Aiub\", \"Asutosh College \", \"DIATM\", \"Purulia jk college\", \"Narasinha Dutt college under Calcutta university \", \"Sister Nibedita Govt General Degree College for Girls \", \"ND College\", \"Ramakrishna Mission Shilpapitha\", \"Viswass school & college of nursing\", \"Narasinha Dutt college afflicted by Calcutta University\", \"Maulana Azad College \", \"Durgapur institute of advanced technology and management\", \"Durgapur Institute of Advanced Technology and Management\", \"Insitiution of engineering and managment\", \"St. Xavier's College\", \"Asutosh college\", \"Sister Nibedita Govt. General Degree College For Girls\", \"Manipal hospital\", \"Durgapur Institute Of Advance Technology and Management\", \"West Bengal State University \", \"St. Xavier's College , Kolkata \", \"St. Xavier's College, Kolkata\", \"SKS Power Generation Chhattisgarh Ltd.\", \"Lady Brabourne College, University of Calcutta\", \"University of Calcutta\", \"St. Xavier's college\", \"University College Of Science & Technology, University Of Calcutta\", \"Vivekananda college, Calcutta University\", \"Jagannath Kishore college,Purulia\", \"Hooghly Engineering and Technology College\", \"J.K.College \", \"Islamic University, Kushtia\", \"Narasinha dutt college \", \"West Bengal University of Health Sciences\", \"Lady Brabourne College\", \"Institute of Engineering and Management (IEM)\", \"Kalyani mahavidyalaya\", \"Acharya institute of management and sciences\", \"Techno International Newtown\", \"Bethune College \", \"ISRT , University of Dhaka \", \"Vivekananda college , CU\", \"NSU\", \"st Xavier's College \", \"St xavier's College, kolkata\", \"Narasinha Dutta College\", \"NARASINHA DUTT COLLEGE\", \"American International University Bangladesh \", \"Jagannath Kishore College\", \"NARASINHA DUTT COLLEGE, UNIVERSITY OF CALCUTTA\", \"Narasingha Dutt College \", \"Durgapur Institute of Advanced Technology and Management \", \"Comilla University\", \"Techno India Saltlake\", \"St. Xavier's College (Autonomous) , Kolkata\", \"Narasinha Dutt College\", \"Academy Of Technology\", \"Thakurpukur Vivekananda College \", \"J.K college\", \"Calcutta University ( Ballygaunge Science College) \", \"RKMVERI BELUR MATH\", \"JJ Glastronics\", \"Gauhati University\", \"Maulana azad college\", \"Jadavpur University\", \"Basanti Devi College\", \"The International University of Scholars\", \"London  South  Bank  University \", \"North South University \", \"Bangladesh Institute of Governance and Management (BIGM)       \", \"Guru NANAK INSTITUTE OF PHARMACEUTICAL SCIENCE AND TECHNOLOGY\", \"Bethune college\", \"National Power Training Institute Durgapur\", \"Maulana Azad college\", \"Jk college\", \"Kerala University \", \"NPTI (ER)\", \"Institute of Engineering and Management\", \"Bethune College,  Kolkata\", \"Professional\", \"University of Dhaka\", \"Bharat University, Chennai\", \"Jadavpur University \", \"Comilla University  \", \"North-south university\", \"Future Institute of Engineering and Management\", \"PRESIDENCY UNIVERSITY \", \"American International University-Bangladesh\", \"Vidyasagar college for women\", \"JADAVPUR UNIVERSITY \", \"Presidency University\", \"Gl bajaj\", \"American International University-Bangladesh \", \"National power training institute Nagpur\", \"North South University\", \"Kalyani mahavidyalay\", \"Bethune\", \"Bethune College\", \"Future Institute of Technology\", \"Dr. B. C. Roy Engineering college\", \"Durgapur Institute of advance technology and managment\", \"Government College of Engineering and Leather Technology\", \"N.P.T.I(E.R.)\", \"St. Xavier's College, Kolkata \", \"Indira Gandhi National University\", \"Vidyasaagar university\", \"Mugberia gangadhar mahavidyalaya \", \"Dr.b.c.roy engineering college\", \" Uttarpara Amarendra Vidyapith\", \"Techno International New Town\", \"Durgapur institute of advanced and technology management\", \"NPTI, NAGPUR\", \"Jagannath Kishore College, Purulia\", \"Basantidevi College\", \"IIT,University of Dhaka\", \"Makaut(Formely wbut)\", \"American International University- Bangladesh\", \"American International University Bangladesh\", \"Shahjalal University of Science & Technology   \", \"Bangabandhu Sheikh Mujibur Rahman Science & Technology \", \"Bangabandhu Sheikh Mujibur Rahman Science & Technology University       \", \"Jahangirnagar University  \", \"Jahangirnagar University \", \"BUET\", \"SBPGC\", \"American international university Bangladesh \", \"North South University (NSU)\", \"American international university of Bangladesh\", \"North South University   \", \"Public Administration \", \"American International University - Bangladesh\", \"University Of Dhaka\", \"LADY BRABOURNE COLLEGE\", \"Netaji Subhas Open University\", \"Maulana Abul Kalam Azad University of Technology\", \"Vidyasagar University\", \"National Institute Of Technology Warangal\", \"Ramakrishna Mission Vidyamandira \", \"Notre dame UniversityBangladesh  \", \"JADAVPUR UNIVERSITY\", \"Indian Institute of Engineering Science And Technology Shibpur\", \"Ahsanullah University of Science and Technology \", \"Chittaranjan College, Kolkata \", \"Bangalore university\", \"Maulana Abul Kalam Azad University of Technology \", \"Institution / Organization / College name \", \"University of Liberal Arts \", \"University of Liberal Arts Bangladesh\", \"Dyal Singh College (day) \", \"DIATM DURGAPUR \", \"Vivekananda  College\", \"Maulana Abul Kalam Azad University of Technology, W.B\", \"Christ  University\", \"Durgapur institute of advanced technology\", \"American International University of Bangladesh (AIUB)\", \"RCC institute of information technology\", \"Belda College\", \"FUTURETECH PRIVATE ITI \", \"J.k. college\", \"BRABU\", \"Burdwan University\", \"Durgapur institute of advance technology and managment\", \"Global engineering college\", \"Prabhat Kumar College\", \"Calcutta university \", \"St.Xavier's College,Kolkata\", \"Shibpur Dinobondhoo Institution (College) \", \"Durgapur institute of advanced technology and management \", \"Durgapur institute of advanced technology and managemant rajbandh\", \"MAULANA ABUL KALAM AZAD UNIVERSITY OF TECHNOLOGY \", \"Vivekananda College Thakurpukur\", \"St. Xavier's College Kolkata\", \"University of Dhaka   \", \"Durgapur Institute of advanced technology and management \", \"UNIVERSITY OF MUMBAI\", \"Lady Brabourne College \", \"Durgapur Institute of Advancedpur Technology and Management\", \"ASUTOSH COLLEGE\", \"St. Xavier's College (Autonomous), Kolkata. \", \"OmDayal Group Of Institutions\", \"St.Xavier's College Kolkata\", \"Vivekananda college\", \"Amta Ramsaday College\", \"DIATM, Durgapur\", \"Basanti devi College\", \"BETHUNE COLLEGE\", \"Ahsanullah University of Science and Technology\", \"Asansol engineering college\", \"MAULANA AZAD COLLEGE\", \"Kalyani Mahavidyalaya\", \"Presidency university \", \"Vivekananda College,Thakurpukur\", \"Durgapur Institute of Advanced Technology & Management\", \"Future Institute of Technology \", \"Victoria Institution\", \"Lady brabourne college\", \"Corporate Institute Of Pharmacy\", \"Amity University Kolkata\", \"National power training institute (E.R) Durgapur\", \"St Xavier's College Kolkata\", \"At. Xavier's College\", \"Ramakrishna Mission Vidyamandira\", \"Bethune colege\", \"Hffc\", \"Corporate Institute of Pharmacy \", \"Maulana Azad College, Kolkata\", \"Lalbaba college \", \"Aliah University \", \"NIST\", \"Green University of Bangladesh\", \"1998\", \"Raja Peary Mohan college\", \"National institute of science and technology,berhampur\", \"American International University - Bangladesh \", \"International University of Scholarsh\", \"BRAC University\", \"Central University of Jharkhand\", \"VIDYASAGAR UNIVERSITY, MEDINIPUR\", \"UITS\", \"Independent University, Bangladesh\", \"The New Horizons Institute of Technology\", \"Jogomaya Devi college \", \"Raja Peary Mohan College\", \"Sister Nibedita Govt. General Degree College for girls\", \"RGPV\", \"Surendranath College\", \"FUTURE INSTITUTE OF TECHNOLOGY\", \"Future Institute Of Technology\", \"Asutosh College, Kolkata   \", \"Raja Peary Mohan College, Uttarpara\", \"Future Institute of technology\", \"North south University  \", \"Seacom engineering college \", \"Vivekananda College \", \"Narula Institute of Technology\", \"FUTURE INSTITUTE OF TECHNOLOGY \", \"St. Xavier's College , Kolkata\", \"Aot\", \"National power training institute\", \"RKMVERI (BELUR CAMPUS)\", \"Vivekananda college \", \"Academy of Technology\", \"Durgapur Instute Of Advance Technology And Management\", \"Dr.B.C.ROY ENGINEERING COLLEGE\", \"St Xavier's College\", \"Ramakrishna Mission Vivekananda Educational and Research Institute \", \"St. Xavier's College (Autonomous),Kolkata\", \"Ashutosh College    \", \"College of engineering Roorkee\", \"Bethune College, Kolkata\", \"National Power Training Institute ( E.R ) \", \"Lady Brabourne college\", \"Future institute of technology \", \"Narula institute of technology\", \"RKMVERI, BELUR MATH\", \"Techno India salt lake\", \"Islamic University of Technology (IUT)\", \"Bangladesh Agricultural Research Institute    \", \"Ramakrishna Mission Vivekananda Educational And Research Institute\", \"BRAC University \", \"Bidhannagar college\", \"Bidhannagar College\", \"Sir Gurudas Mahavidyalaya\", \"DURGAPUR INSTITUTE OF ADVANCED TECHNOLOGY AND MANEGEMENT\", \"American International University of Bangladesh\", \"JadavpurUniversity  \", \"Narula Institute of technology\", \"Vidyasagar College\", \"national institute of science and technology\", \"Visvabharati university\", \"International University of Scholars\", \"New Alipore College\", \"American International University-Bangladesh     \", \"UNIVERSITY OF CHITTAGONG\", \"Bidhannagar college \", \"Shibpur Dinobundhoo institution\", \"Durgapur Institute Of Advanced Technology and Management\", \"DIATM durgapur\", \"Iub\", \"Uttara University\", \"B. P. Poddar Institute of Management and Technology\", \"B. P. Poddar Institute of Management And Technology\", \"B. P. Poddar Institute of Technology and Management\", \"B.P. PODDAR INSTITUTE OF MANAGEMENT AND TECHNOLOGY\", \"B.P.Poddar Institution of Management & Technology\", \"B.P.PODDAR INSTITUTE OF MANAGEMENT AND TECHNOLOGY\", \"B P Poddar Institute Of Management And Technology\", \"B.P. Poddar Institute Of Management And Technology\", \"B.P. Poddar Institute of Management and Technology\", \"B. P. Poddar Institute of Management and technology\", \"B.P.Podder Institute of Management and Technology\", \"B. P. Poddar Institute Of Management & Technology\", \"Home\", \"BPPIMT\", \"B.P.Poddar Institute Of Management And Technology \", \"Dr. B.C.Roy engineering college\", \"B.P Poddar institute of management and technology\", \"B P poddar institute of Management & Technology \", \"B.P Poddar Institute of Management and Technology\", \"B.P PODDAR INSTITUTE OF MANAGEMENT AND TECHNOLOGY\", \"B.P poddar Institute of Management & Technology\", \"B.p.Poddar Institute of Management and Technology\", \"BP poddar institute of management and technology\", \"B.p.poddar institute of management and technology\", \"B.P.Poddar Institute of Management & Technology\", \"B.p.podder institute\", \"Bppimt\", \"B P Poddar Institute of Management and Technology \", \" B.P. Poddar Institute Of Management And Technology\", \"Bp Poddar Institute of management and technology\", \"B P Podder Institute of Management and Technology\", \"B P PODDAR INSTITUTE OF MANAGEMENT AND TECHNOLOGY\", \"B.P.P.I.M.T\", \"Durgapur Women's College\", \"Duragpur Women's college\", \"Aasansol Girls' College\", \"Durgapur women's college\", \"Durgapur Womens College \", \"Durgapur government college\", \"Durgapur women's collage \", \"Durgapur Women's College   Kazi Nazrul University\", \"Burdwan university \", \"DURGAPUR WOMEN'S COLLEGE\", \"Durgapur women's college \", \"Durgapur government college \", \"College name - Durgapur Womens college\", \"Raniganj Girls' College \", \"DURGAPUR WOMEN'S COLLEGE \", \"KAJI najrul invercity\", \"Durgapur woman's college \", \"Durgapur women's College\", \"Durgapur Women's College \", \"AKPC MAHAVIDYALAYA\", \"Durgapur Women's college\", \"UNIVERSITY OF BURDWAN\", \"DURGAPUR GOVERNMENT COLLEGE\", \"Durgapur women college\", \"Women's collage\", \"Durgapur WOMEN'S college \", \"DR BC ROY ENGINEERING & MANAGEMENT COLLEGE , DURGAPUR\", \"Regent Education and Research Foundation\", \"Regent education and research foundation\", \"REGENT education&research foundation \", \"Regent Education & Research Foundation\", \"Regent Education And Research Foundation\", \"Regent education & research foundation barrackpore\", \"Regent Education and Research Foundation \", \"RERF\", \"Rerf\", \"Regent Education & Research Foundation \", \"Regent Education and Reseach Foundation\", \"Regent Education and Research Foundation    \", \"REGENT EDUCATION AND RESEARCH FOUNDATION \", \"Regent Education & Research Foundation Group of Institutions\", \"Regent Education and Research foundation \", \"Regent Education and Research Foundation Group of Institutions\", \"Regent Education Research and Foundation\", \"Regent Education And Research Foundation Institution\", \"Regent education and research Foundation\", \"REGENT EDUCATION AND RESEARCH FOUNDATION\", \"Regent Education and Research Foundation(group of institution)\", \"Regent Education &Research Foundation\", \"Regent Education and Research foundation\", \"Regent Education &Research Foundation group of Institutions \", \"regent education and research foundarion group of institute \", \"REGENT EDUCATION & RESEARCH FOUNDATION\", \"Regent education and research foundation group of institution\", \"Regent education and research foundation \", \"regent education and research foundation \", \"RRERF\", \"Presidency University \", \"Presidency University, Kolkata\", \"PRESIDENCY UNIVERSITY\", \"Presidency university\", \"Lady Braborne college\", \"Hyderabad Central University\", \"Indian Institute of Foreign Trade,Kolkata\", \"Lady Brabourne College, Kolkata\", \"Calcutta University \", \"LADY BRABOURNE COLLEGE, CALCUTTA UNIVERSITY\", \"Lady braboune college\", \"Lady brabourne college \", \"LADY BRABOURNE COLLEGE, C.U.\", \"Lady brabourne college, kolkata\", \"Lady Brabourne college \", \"St.Xavier's College (Autonomous), Kolkata \", \"St. Xavier's University \", \"Indira gandhi institute of development research \", \"IGIDR\", \"Gokhale Institute of Politics and Economics\", \"Lady Brabourne \", \"Ladybrabourne college\", \"Lady Brabourne College, University of Calcutta \", \"Lady Braboune Collage\", \"Moulana azad college\", \"Moulana Azad College\", \"MAULANA AZAD COLLEGE \", \"Maulana Azad College Kolkata\", \"maulana azad college\", \"Moulana Azad Collage\", \"Maulana Azad College, University Of Calcutta\", \"MAC\", \"Maulana Azad college \", \"Maulana Azad Collehe\", \"Maulana azad college \", \"Seth Anandram Jaipuria College\", \"Maulona Azad College\"], \"y\": [68, 59, 31, 31, 19, 14, 14, 12, 12, 12, 11, 11, 11, 10, 9, 8, 8, 8, 7, 7, 7, 6, 6, 6, 5, 5, 5, 5, 5, 5, 5, 4, 4, 4, 4, 4, 4, 4, 4, 3, 3, 3, 3, 3, 3, 3, 3, 3, 3, 3, 3, 3, 3, 3, 3, 3, 3, 3, 2, 2, 2, 2, 2, 2, 2, 2, 2, 2, 2, 2, 2, 2, 2, 2, 2, 2, 2, 2, 2, 2, 2, 2, 2, 2, 2, 2, 2, 2, 2, 2, 2, 2, 2, 2, 2, 2, 2, 2, 2, 2, 2, 2, 2, 1, 1, 1, 1, 1, 1, 1, 1, 1, 1, 1, 1, 1, 1, 1, 1, 1, 1, 1, 1, 1, 1, 1, 1, 1, 1, 1, 1, 1, 1, 1, 1, 1, 1, 1, 1, 1, 1, 1, 1, 1, 1, 1, 1, 1, 1, 1, 1, 1, 1, 1, 1, 1, 1, 1, 1, 1, 1, 1, 1, 1, 1, 1, 1, 1, 1, 1, 1, 1, 1, 1, 1, 1, 1, 1, 1, 1, 1, 1, 1, 1, 1, 1, 1, 1, 1, 1, 1, 1, 1, 1, 1, 1, 1, 1, 1, 1, 1, 1, 1, 1, 1, 1, 1, 1, 1, 1, 1, 1, 1, 1, 1, 1, 1, 1, 1, 1, 1, 1, 1, 1, 1, 1, 1, 1, 1, 1, 1, 1, 1, 1, 1, 1, 1, 1, 1, 1, 1, 1, 1, 1, 1, 1, 1, 1, 1, 1, 1, 1, 1, 1, 1, 1, 1, 1, 1, 1, 1, 1, 1, 1, 1, 1, 1, 1, 1, 1, 1, 1, 1, 1, 1, 1, 1, 1, 1, 1, 1, 1, 1, 1, 1, 1, 1, 1, 1, 1, 1, 1, 1, 1, 1, 1, 1, 1, 1, 1, 1, 1, 1, 1, 1, 1, 1, 1, 1, 1, 1, 1, 1, 1, 1, 1, 1, 1, 1, 1, 1, 1, 1, 1, 1, 1, 1, 1, 1, 1, 1, 1, 1, 1, 1, 1, 1, 1, 1, 1, 1, 1, 1, 1, 1, 1, 1, 1, 1, 1, 1, 1, 1, 1, 1, 1, 1, 1, 1, 1, 1, 1, 1, 1, 1, 1, 1, 1, 1, 1, 1, 1, 1, 1, 1, 1, 1, 1, 1, 1, 1, 1, 1, 1, 1, 1, 1, 1, 1, 1, 1, 1, 1, 1, 1, 1, 1, 1, 1, 1, 1, 1, 1, 1, 1, 1, 1, 1, 1, 1, 1, 1, 1, 1, 1, 1, 1, 1, 1, 1, 1, 1, 1, 1]}],\n",
       "                        {\"hovermode\": \"closest\", \"paper_bgcolor\": \"rgba(0, 0, 0, 0)\", \"plot_bgcolor\": \"rgba(0, 0, 0, 0)\", \"template\": {\"data\": {\"bar\": [{\"error_x\": {\"color\": \"#2a3f5f\"}, \"error_y\": {\"color\": \"#2a3f5f\"}, \"marker\": {\"line\": {\"color\": \"#E5ECF6\", \"width\": 0.5}}, \"type\": \"bar\"}], \"barpolar\": [{\"marker\": {\"line\": {\"color\": \"#E5ECF6\", \"width\": 0.5}}, \"type\": \"barpolar\"}], \"carpet\": [{\"aaxis\": {\"endlinecolor\": \"#2a3f5f\", \"gridcolor\": \"white\", \"linecolor\": \"white\", \"minorgridcolor\": \"white\", \"startlinecolor\": \"#2a3f5f\"}, \"baxis\": {\"endlinecolor\": \"#2a3f5f\", \"gridcolor\": \"white\", \"linecolor\": \"white\", \"minorgridcolor\": \"white\", \"startlinecolor\": \"#2a3f5f\"}, \"type\": \"carpet\"}], \"choropleth\": [{\"colorbar\": {\"outlinewidth\": 0, \"ticks\": \"\"}, \"type\": \"choropleth\"}], \"contour\": [{\"colorbar\": {\"outlinewidth\": 0, \"ticks\": \"\"}, \"colorscale\": [[0.0, \"#0d0887\"], [0.1111111111111111, \"#46039f\"], [0.2222222222222222, \"#7201a8\"], [0.3333333333333333, \"#9c179e\"], [0.4444444444444444, \"#bd3786\"], [0.5555555555555556, \"#d8576b\"], [0.6666666666666666, \"#ed7953\"], [0.7777777777777778, \"#fb9f3a\"], [0.8888888888888888, \"#fdca26\"], [1.0, \"#f0f921\"]], \"type\": \"contour\"}], \"contourcarpet\": [{\"colorbar\": {\"outlinewidth\": 0, \"ticks\": \"\"}, \"type\": \"contourcarpet\"}], \"heatmap\": [{\"colorbar\": {\"outlinewidth\": 0, \"ticks\": \"\"}, \"colorscale\": [[0.0, \"#0d0887\"], [0.1111111111111111, \"#46039f\"], [0.2222222222222222, \"#7201a8\"], [0.3333333333333333, \"#9c179e\"], [0.4444444444444444, \"#bd3786\"], [0.5555555555555556, \"#d8576b\"], [0.6666666666666666, \"#ed7953\"], [0.7777777777777778, \"#fb9f3a\"], [0.8888888888888888, \"#fdca26\"], [1.0, \"#f0f921\"]], \"type\": \"heatmap\"}], \"heatmapgl\": [{\"colorbar\": {\"outlinewidth\": 0, \"ticks\": \"\"}, \"colorscale\": [[0.0, \"#0d0887\"], [0.1111111111111111, \"#46039f\"], [0.2222222222222222, \"#7201a8\"], [0.3333333333333333, \"#9c179e\"], [0.4444444444444444, \"#bd3786\"], [0.5555555555555556, \"#d8576b\"], [0.6666666666666666, \"#ed7953\"], [0.7777777777777778, \"#fb9f3a\"], [0.8888888888888888, \"#fdca26\"], [1.0, \"#f0f921\"]], \"type\": \"heatmapgl\"}], \"histogram\": [{\"marker\": {\"colorbar\": {\"outlinewidth\": 0, \"ticks\": \"\"}}, \"type\": \"histogram\"}], \"histogram2d\": [{\"colorbar\": {\"outlinewidth\": 0, \"ticks\": \"\"}, \"colorscale\": [[0.0, \"#0d0887\"], [0.1111111111111111, \"#46039f\"], [0.2222222222222222, \"#7201a8\"], [0.3333333333333333, \"#9c179e\"], [0.4444444444444444, \"#bd3786\"], [0.5555555555555556, \"#d8576b\"], [0.6666666666666666, \"#ed7953\"], [0.7777777777777778, \"#fb9f3a\"], [0.8888888888888888, \"#fdca26\"], [1.0, \"#f0f921\"]], \"type\": \"histogram2d\"}], \"histogram2dcontour\": [{\"colorbar\": {\"outlinewidth\": 0, \"ticks\": \"\"}, \"colorscale\": [[0.0, \"#0d0887\"], [0.1111111111111111, \"#46039f\"], [0.2222222222222222, \"#7201a8\"], [0.3333333333333333, \"#9c179e\"], [0.4444444444444444, \"#bd3786\"], [0.5555555555555556, \"#d8576b\"], [0.6666666666666666, \"#ed7953\"], [0.7777777777777778, \"#fb9f3a\"], [0.8888888888888888, \"#fdca26\"], [1.0, \"#f0f921\"]], \"type\": \"histogram2dcontour\"}], \"mesh3d\": [{\"colorbar\": {\"outlinewidth\": 0, \"ticks\": \"\"}, \"type\": \"mesh3d\"}], \"parcoords\": [{\"line\": {\"colorbar\": {\"outlinewidth\": 0, \"ticks\": \"\"}}, \"type\": \"parcoords\"}], \"scatter\": [{\"marker\": {\"colorbar\": {\"outlinewidth\": 0, \"ticks\": \"\"}}, \"type\": \"scatter\"}], \"scatter3d\": [{\"line\": {\"colorbar\": {\"outlinewidth\": 0, \"ticks\": \"\"}}, \"marker\": {\"colorbar\": {\"outlinewidth\": 0, \"ticks\": \"\"}}, \"type\": \"scatter3d\"}], \"scattercarpet\": [{\"marker\": {\"colorbar\": {\"outlinewidth\": 0, \"ticks\": \"\"}}, \"type\": \"scattercarpet\"}], \"scattergeo\": [{\"marker\": {\"colorbar\": {\"outlinewidth\": 0, \"ticks\": \"\"}}, \"type\": \"scattergeo\"}], \"scattergl\": [{\"marker\": {\"colorbar\": {\"outlinewidth\": 0, \"ticks\": \"\"}}, \"type\": \"scattergl\"}], \"scattermapbox\": [{\"marker\": {\"colorbar\": {\"outlinewidth\": 0, \"ticks\": \"\"}}, \"type\": \"scattermapbox\"}], \"scatterpolar\": [{\"marker\": {\"colorbar\": {\"outlinewidth\": 0, \"ticks\": \"\"}}, \"type\": \"scatterpolar\"}], \"scatterpolargl\": [{\"marker\": {\"colorbar\": {\"outlinewidth\": 0, \"ticks\": \"\"}}, \"type\": \"scatterpolargl\"}], \"scatterternary\": [{\"marker\": {\"colorbar\": {\"outlinewidth\": 0, \"ticks\": \"\"}}, \"type\": \"scatterternary\"}], \"surface\": [{\"colorbar\": {\"outlinewidth\": 0, \"ticks\": \"\"}, \"colorscale\": [[0.0, \"#0d0887\"], [0.1111111111111111, \"#46039f\"], [0.2222222222222222, \"#7201a8\"], [0.3333333333333333, \"#9c179e\"], [0.4444444444444444, \"#bd3786\"], [0.5555555555555556, \"#d8576b\"], [0.6666666666666666, \"#ed7953\"], [0.7777777777777778, \"#fb9f3a\"], [0.8888888888888888, \"#fdca26\"], [1.0, \"#f0f921\"]], \"type\": \"surface\"}], \"table\": [{\"cells\": {\"fill\": {\"color\": \"#EBF0F8\"}, \"line\": {\"color\": \"white\"}}, \"header\": {\"fill\": {\"color\": \"#C8D4E3\"}, \"line\": {\"color\": \"white\"}}, \"type\": \"table\"}]}, \"layout\": {\"annotationdefaults\": {\"arrowcolor\": \"#2a3f5f\", \"arrowhead\": 0, \"arrowwidth\": 1}, \"colorscale\": {\"diverging\": [[0, \"#8e0152\"], [0.1, \"#c51b7d\"], [0.2, \"#de77ae\"], [0.3, \"#f1b6da\"], [0.4, \"#fde0ef\"], [0.5, \"#f7f7f7\"], [0.6, \"#e6f5d0\"], [0.7, \"#b8e186\"], [0.8, \"#7fbc41\"], [0.9, \"#4d9221\"], [1, \"#276419\"]], \"sequential\": [[0.0, \"#0d0887\"], [0.1111111111111111, \"#46039f\"], [0.2222222222222222, \"#7201a8\"], [0.3333333333333333, \"#9c179e\"], [0.4444444444444444, \"#bd3786\"], [0.5555555555555556, \"#d8576b\"], [0.6666666666666666, \"#ed7953\"], [0.7777777777777778, \"#fb9f3a\"], [0.8888888888888888, \"#fdca26\"], [1.0, \"#f0f921\"]], \"sequentialminus\": [[0.0, \"#0d0887\"], [0.1111111111111111, \"#46039f\"], [0.2222222222222222, \"#7201a8\"], [0.3333333333333333, \"#9c179e\"], [0.4444444444444444, \"#bd3786\"], [0.5555555555555556, \"#d8576b\"], [0.6666666666666666, \"#ed7953\"], [0.7777777777777778, \"#fb9f3a\"], [0.8888888888888888, \"#fdca26\"], [1.0, \"#f0f921\"]]}, \"colorway\": [\"#636efa\", \"#EF553B\", \"#00cc96\", \"#ab63fa\", \"#FFA15A\", \"#19d3f3\", \"#FF6692\", \"#B6E880\", \"#FF97FF\", \"#FECB52\"], \"font\": {\"color\": \"#2a3f5f\"}, \"geo\": {\"bgcolor\": \"white\", \"lakecolor\": \"white\", \"landcolor\": \"#E5ECF6\", \"showlakes\": true, \"showland\": true, \"subunitcolor\": \"white\"}, \"hoverlabel\": {\"align\": \"left\"}, \"hovermode\": \"closest\", \"mapbox\": {\"style\": \"light\"}, \"paper_bgcolor\": \"white\", \"plot_bgcolor\": \"#E5ECF6\", \"polar\": {\"angularaxis\": {\"gridcolor\": \"white\", \"linecolor\": \"white\", \"ticks\": \"\"}, \"bgcolor\": \"#E5ECF6\", \"radialaxis\": {\"gridcolor\": \"white\", \"linecolor\": \"white\", \"ticks\": \"\"}}, \"scene\": {\"xaxis\": {\"backgroundcolor\": \"#E5ECF6\", \"gridcolor\": \"white\", \"gridwidth\": 2, \"linecolor\": \"white\", \"showbackground\": true, \"ticks\": \"\", \"zerolinecolor\": \"white\"}, \"yaxis\": {\"backgroundcolor\": \"#E5ECF6\", \"gridcolor\": \"white\", \"gridwidth\": 2, \"linecolor\": \"white\", \"showbackground\": true, \"ticks\": \"\", \"zerolinecolor\": \"white\"}, \"zaxis\": {\"backgroundcolor\": \"#E5ECF6\", \"gridcolor\": \"white\", \"gridwidth\": 2, \"linecolor\": \"white\", \"showbackground\": true, \"ticks\": \"\", \"zerolinecolor\": \"white\"}}, \"shapedefaults\": {\"line\": {\"color\": \"#2a3f5f\"}}, \"ternary\": {\"aaxis\": {\"gridcolor\": \"white\", \"linecolor\": \"white\", \"ticks\": \"\"}, \"baxis\": {\"gridcolor\": \"white\", \"linecolor\": \"white\", \"ticks\": \"\"}, \"bgcolor\": \"#E5ECF6\", \"caxis\": {\"gridcolor\": \"white\", \"linecolor\": \"white\", \"ticks\": \"\"}}, \"title\": {\"x\": 0.05}, \"xaxis\": {\"automargin\": true, \"gridcolor\": \"white\", \"linecolor\": \"white\", \"ticks\": \"\", \"zerolinecolor\": \"white\", \"zerolinewidth\": 2}, \"yaxis\": {\"automargin\": true, \"gridcolor\": \"white\", \"linecolor\": \"white\", \"ticks\": \"\", \"zerolinecolor\": \"white\", \"zerolinewidth\": 2}}}, \"title\": {\"text\": \"College Distribution\"}, \"xaxis\": {\"linecolor\": \"black\", \"linewidth\": 2, \"mirror\": true, \"showline\": true, \"showticklabels\": true, \"tickangle\": 45, \"tickfont\": {\"color\": \"red\", \"size\": 10}, \"title\": {\"text\": \"College name \"}, \"zeroline\": true, \"zerolinecolor\": \"grey\", \"zerolinewidth\": 1}, \"yaxis\": {\"gridcolor\": \"lightgrey\", \"linecolor\": \"black\", \"linewidth\": 2, \"mirror\": true, \"showline\": true, \"title\": {\"text\": \"No. of Occurence\"}, \"zeroline\": true, \"zerolinecolor\": \"grey\", \"zerolinewidth\": 1}},\n",
       "                        {\"responsive\": true}\n",
       "                    ).then(function(){\n",
       "                            \n",
       "var gd = document.getElementById('aa118ed3-de95-49f7-bada-2eee28826472');\n",
       "var x = new MutationObserver(function (mutations, observer) {{\n",
       "        var display = window.getComputedStyle(gd).display;\n",
       "        if (!display || display === 'none') {{\n",
       "            console.log([gd, 'removed!']);\n",
       "            Plotly.purge(gd);\n",
       "            observer.disconnect();\n",
       "        }}\n",
       "}});\n",
       "\n",
       "// Listen for the removal of the full notebook cells\n",
       "var notebookContainer = gd.closest('#notebook-container');\n",
       "if (notebookContainer) {{\n",
       "    x.observe(notebookContainer, {childList: true});\n",
       "}}\n",
       "\n",
       "// Listen for the clearing of the current output cell\n",
       "var outputEl = gd.closest('.output');\n",
       "if (outputEl) {{\n",
       "    x.observe(outputEl, {childList: true});\n",
       "}}\n",
       "\n",
       "                        })\n",
       "                };\n",
       "                });\n",
       "            </script>\n",
       "        </div>"
      ]
     },
     "metadata": {},
     "output_type": "display_data"
    }
   ],
   "source": [
    "college_count = dg['College name '].value_counts()\n",
    "\n",
    "dd=college_count\n",
    "dg.drop_duplicates(subset=['College name '],keep='first',inplace=True)\n",
    "\n",
    "draw_trace_bar(dg,'College name ',dd,\"College Distribution\",\"College name \",\"No. of Occurence\",\"purple\")"
   ]
  },
  {
   "cell_type": "markdown",
   "metadata": {},
   "source": [
    "From the above plot you can say most of the students were from United International University"
   ]
  },
  {
   "cell_type": "code",
   "execution_count": 45,
   "metadata": {},
   "outputs": [
    {
     "data": {
      "application/vnd.plotly.v1+json": {
       "config": {
        "linkText": "Export to plot.ly",
        "plotlyServerURL": "https://plot.ly",
        "showLink": false
       },
       "data": [
        {
         "marker": {
          "color": "purple"
         },
         "text": [
          "others",
          "Engineering",
          "Statistics",
          "PURE MATHEMATICS",
          "B.Sc statistics",
          "B.Com (H)",
          "M.sc ",
          "Commerce",
          "M.Sc. in Applied Mathematics ",
          "Civil Engineering",
          "Statistics Honours",
          "Atrs",
          "Honors (BSC/MSC)",
          "Statistics honours ",
          "CSE",
          "Msc Mathematics ",
          "Statistics Hons",
          "M. Sc (applied math) ",
          "Electronics and telecommunication",
          "B.sc nursing",
          "MSc in applied mathematics",
          "Statistics (H)",
          "B.Tech",
          "B. Tech (Cse) ",
          "Bsc statistics",
          "Statistics Honours ",
          "Electrical engineering",
          "Btech 4th year on ECE department",
          "Mathematics ",
          "BSc Statistics ",
          "B. Sc. Statistics Hons.",
          "Thermal Power Plant Engineering",
          "M.sc",
          "M.Sc in Applied Mathematics",
          "Computer Science",
          "B.tech in Electronics and communication engineering",
          "M.sc in applied mathematics. ",
          "Dental Surgery",
          "Statistics ",
          "BCA",
          "Msc in applied mathematics",
          "Master of science in applied Mathematics",
          "Computer science",
          "M.SC. IN APPLIED MATHEMATICS",
          "MSc Mathematics",
          "Computer Science and Engineering ",
          "BBA",
          "B.Sc Statistics Hons. ",
          "Msc mathematics",
          "Mechanical Engineer",
          "B.Com Honours",
          "M.SC in pure mathematics",
          "MSC IN MATHEMATICS",
          "Mechanical Engineering",
          "Library and Information Science",
          "Post Graduate (Mathematics) ",
          "Microbiology",
          "Bsc statistics hons",
          "Electrical Engineering",
          "Btech",
          "Mathematics Honours (MSc)",
          "Mathematics",
          " LINEAR ALGEBRA IN MATHEMATICS",
          "Mca",
          "Power",
          "B.Sc.(honours) in Statistics",
          "B.tech",
          "Leather Technology",
          "Applied mathematics in  Oceanology &computer application",
          "H.S passed",
          "Byech",
          "Power engineering",
          "Bsc Computer science",
          "EE",
          "M.Sc Mathematics",
          "B.Tech(CSE)",
          "MSc in Applied Mathematics",
          "Applied Mathematics",
          "Diploma on Travel and Tourism Management",
          "MATHEMATICS",
          "B. Tech CSE",
          "Filed of study ",
          "ECE",
          "B.Tech in CSE",
          "Msc Data science",
          "Btech electronics and communication",
          "M.sc in Applied Mathematics (2nd Sem)",
          "ELECTRICIAN ",
          "Comp sc.",
          "M.SC(Electronics)",
          "Economics",
          "B-tech in ece",
          "B tech",
          "B.Sc honours (Computer Science)",
          "Bsc(state )",
          "B.Sc , honours in Maths",
          "B-tech (ECE 2'nd year)",
          "YES",
          "Bsc statistics honours",
          "Mechanical engineering ",
          "Bsc. Statistics Hons.",
          "Computer Science and Engineering",
          "Statistics ( Hons.)",
          "Bsc. Hons",
          "Mechanical",
          "Statistics Hons.",
          "MATHEMATICS ",
          "STATISTICS",
          "B.Sc Statistics honours",
          "B.tech (ECE)",
          "Bsc physics honours ",
          "B. Pharmacy",
          "Computer Science Engineering",
          "MSc - Mathematics",
          "engineering",
          "B.Sc",
          "IT",
          "Did my graduation on mathematics",
          "Electrical and electronics engineering ",
          "Energy Engineering",
          "Mathematics honours ",
          "Bsc math honours",
          "R",
          "Computer science engineering",
          "B. Tech",
          "Computer science engineering ",
          "ELECTRONICS AND COMMUNICATION ENGINEERING (B.TECH))",
          "Power plant engineering",
          "Statistics hons.",
          "ME",
          "M.Sc in Mathematics ",
          "Bachelor's of Computer applications",
          "Power Engineering ",
          "Graduate",
          "Electronics and communication Engineering (B.Tech)",
          "Msc. Mathematics",
          "BCA ",
          "Mathematics MSc.",
          "B.Sc.",
          "3rd year mathematics honours",
          "electrical engineering",
          "Msc statistics",
          "Independent Cyber Security Researcher",
          "Physics",
          "B.tech in ECE",
          "Computer science and engineering"
         ],
         "type": "bar",
         "x": [
          "others",
          "Engineering",
          "Statistics",
          "PURE MATHEMATICS",
          "B.Sc statistics",
          "B.Com (H)",
          "M.sc ",
          "Commerce",
          "M.Sc. in Applied Mathematics ",
          "Civil Engineering",
          "Statistics Honours",
          "Atrs",
          "Honors (BSC/MSC)",
          "Statistics honours ",
          "CSE",
          "Msc Mathematics ",
          "Statistics Hons",
          "M. Sc (applied math) ",
          "Electronics and telecommunication",
          "B.sc nursing",
          "MSc in applied mathematics",
          "Statistics (H)",
          "B.Tech",
          "B. Tech (Cse) ",
          "Bsc statistics",
          "Statistics Honours ",
          "Electrical engineering",
          "Btech 4th year on ECE department",
          "Mathematics ",
          "BSc Statistics ",
          "B. Sc. Statistics Hons.",
          "Thermal Power Plant Engineering",
          "M.sc",
          "M.Sc in Applied Mathematics",
          "Computer Science",
          "B.tech in Electronics and communication engineering",
          "M.sc in applied mathematics. ",
          "Dental Surgery",
          "Statistics ",
          "BCA",
          "Msc in applied mathematics",
          "Master of science in applied Mathematics",
          "Computer science",
          "M.SC. IN APPLIED MATHEMATICS",
          "MSc Mathematics",
          "Computer Science and Engineering ",
          "BBA",
          "B.Sc Statistics Hons. ",
          "Msc mathematics",
          "Mechanical Engineer",
          "B.Com Honours",
          "M.SC in pure mathematics",
          "MSC IN MATHEMATICS",
          "Mechanical Engineering",
          "Library and Information Science",
          "Post Graduate (Mathematics) ",
          "Microbiology",
          "Bsc statistics hons",
          "Electrical Engineering",
          "Btech",
          "Mathematics Honours (MSc)",
          "Mathematics",
          " LINEAR ALGEBRA IN MATHEMATICS",
          "Mca",
          "Power",
          "B.Sc.(honours) in Statistics",
          "B.tech",
          "Leather Technology",
          "Applied mathematics in  Oceanology &computer application",
          "H.S passed",
          "Byech",
          "Power engineering",
          "Bsc Computer science",
          "EE",
          "M.Sc Mathematics",
          "B.Tech(CSE)",
          "MSc in Applied Mathematics",
          "Applied Mathematics",
          "Diploma on Travel and Tourism Management",
          "MATHEMATICS",
          "B. Tech CSE",
          "Filed of study ",
          "ECE",
          "B.Tech in CSE",
          "Msc Data science",
          "Btech electronics and communication",
          "M.sc in Applied Mathematics (2nd Sem)",
          "ELECTRICIAN ",
          "Comp sc.",
          "M.SC(Electronics)",
          "Economics",
          "B-tech in ece",
          "B tech",
          "B.Sc honours (Computer Science)",
          "Bsc(state )",
          "B.Sc , honours in Maths",
          "B-tech (ECE 2'nd year)",
          "YES",
          "Bsc statistics honours",
          "Mechanical engineering ",
          "Bsc. Statistics Hons.",
          "Computer Science and Engineering",
          "Statistics ( Hons.)",
          "Bsc. Hons",
          "Mechanical",
          "Statistics Hons.",
          "MATHEMATICS ",
          "STATISTICS",
          "B.Sc Statistics honours",
          "B.tech (ECE)",
          "Bsc physics honours ",
          "B. Pharmacy",
          "Computer Science Engineering",
          "MSc - Mathematics",
          "engineering",
          "B.Sc",
          "IT",
          "Did my graduation on mathematics",
          "Electrical and electronics engineering ",
          "Energy Engineering",
          "Mathematics honours ",
          "Bsc math honours",
          "R",
          "Computer science engineering",
          "B. Tech",
          "Computer science engineering ",
          "ELECTRONICS AND COMMUNICATION ENGINEERING (B.TECH))",
          "Power plant engineering",
          "Statistics hons.",
          "ME",
          "M.Sc in Mathematics ",
          "Bachelor's of Computer applications",
          "Power Engineering ",
          "Graduate",
          "Electronics and communication Engineering (B.Tech)",
          "Msc. Mathematics",
          "BCA ",
          "Mathematics MSc.",
          "B.Sc.",
          "3rd year mathematics honours",
          "electrical engineering",
          "Msc statistics",
          "Independent Cyber Security Researcher",
          "Physics",
          "B.tech in ECE",
          "Computer science and engineering"
         ],
         "y": [
          86,
          81,
          55,
          15,
          8,
          6,
          5,
          5,
          3,
          3,
          3,
          3,
          3,
          2,
          2,
          2,
          2,
          2,
          2,
          2,
          2,
          2,
          2,
          2,
          2,
          2,
          2,
          2,
          1,
          1,
          1,
          1,
          1,
          1,
          1,
          1,
          1,
          1,
          1,
          1,
          1,
          1,
          1,
          1,
          1,
          1,
          1,
          1,
          1,
          1,
          1,
          1,
          1,
          1,
          1,
          1,
          1,
          1,
          1,
          1,
          1,
          1,
          1,
          1,
          1,
          1,
          1,
          1,
          1,
          1,
          1,
          1,
          1,
          1,
          1,
          1,
          1,
          1,
          1,
          1,
          1,
          1,
          1,
          1,
          1,
          1,
          1,
          1,
          1,
          1,
          1,
          1,
          1,
          1,
          1,
          1,
          1,
          1,
          1,
          1,
          1,
          1,
          1,
          1,
          1,
          1,
          1,
          1,
          1,
          1,
          1,
          1,
          1,
          1,
          1,
          1,
          1,
          1,
          1,
          1,
          1,
          1,
          1,
          1,
          1,
          1,
          1,
          1,
          1,
          1,
          1,
          1,
          1,
          1,
          1,
          1,
          1,
          1,
          1,
          1,
          1,
          1,
          1,
          1,
          1,
          1
         ]
        }
       ],
       "layout": {
        "hovermode": "closest",
        "paper_bgcolor": "rgba(0, 0, 0, 0)",
        "plot_bgcolor": "rgba(0, 0, 0, 0)",
        "template": {
         "data": {
          "bar": [
           {
            "error_x": {
             "color": "#2a3f5f"
            },
            "error_y": {
             "color": "#2a3f5f"
            },
            "marker": {
             "line": {
              "color": "#E5ECF6",
              "width": 0.5
             }
            },
            "type": "bar"
           }
          ],
          "barpolar": [
           {
            "marker": {
             "line": {
              "color": "#E5ECF6",
              "width": 0.5
             }
            },
            "type": "barpolar"
           }
          ],
          "carpet": [
           {
            "aaxis": {
             "endlinecolor": "#2a3f5f",
             "gridcolor": "white",
             "linecolor": "white",
             "minorgridcolor": "white",
             "startlinecolor": "#2a3f5f"
            },
            "baxis": {
             "endlinecolor": "#2a3f5f",
             "gridcolor": "white",
             "linecolor": "white",
             "minorgridcolor": "white",
             "startlinecolor": "#2a3f5f"
            },
            "type": "carpet"
           }
          ],
          "choropleth": [
           {
            "colorbar": {
             "outlinewidth": 0,
             "ticks": ""
            },
            "type": "choropleth"
           }
          ],
          "contour": [
           {
            "colorbar": {
             "outlinewidth": 0,
             "ticks": ""
            },
            "colorscale": [
             [
              0,
              "#0d0887"
             ],
             [
              0.1111111111111111,
              "#46039f"
             ],
             [
              0.2222222222222222,
              "#7201a8"
             ],
             [
              0.3333333333333333,
              "#9c179e"
             ],
             [
              0.4444444444444444,
              "#bd3786"
             ],
             [
              0.5555555555555556,
              "#d8576b"
             ],
             [
              0.6666666666666666,
              "#ed7953"
             ],
             [
              0.7777777777777778,
              "#fb9f3a"
             ],
             [
              0.8888888888888888,
              "#fdca26"
             ],
             [
              1,
              "#f0f921"
             ]
            ],
            "type": "contour"
           }
          ],
          "contourcarpet": [
           {
            "colorbar": {
             "outlinewidth": 0,
             "ticks": ""
            },
            "type": "contourcarpet"
           }
          ],
          "heatmap": [
           {
            "colorbar": {
             "outlinewidth": 0,
             "ticks": ""
            },
            "colorscale": [
             [
              0,
              "#0d0887"
             ],
             [
              0.1111111111111111,
              "#46039f"
             ],
             [
              0.2222222222222222,
              "#7201a8"
             ],
             [
              0.3333333333333333,
              "#9c179e"
             ],
             [
              0.4444444444444444,
              "#bd3786"
             ],
             [
              0.5555555555555556,
              "#d8576b"
             ],
             [
              0.6666666666666666,
              "#ed7953"
             ],
             [
              0.7777777777777778,
              "#fb9f3a"
             ],
             [
              0.8888888888888888,
              "#fdca26"
             ],
             [
              1,
              "#f0f921"
             ]
            ],
            "type": "heatmap"
           }
          ],
          "heatmapgl": [
           {
            "colorbar": {
             "outlinewidth": 0,
             "ticks": ""
            },
            "colorscale": [
             [
              0,
              "#0d0887"
             ],
             [
              0.1111111111111111,
              "#46039f"
             ],
             [
              0.2222222222222222,
              "#7201a8"
             ],
             [
              0.3333333333333333,
              "#9c179e"
             ],
             [
              0.4444444444444444,
              "#bd3786"
             ],
             [
              0.5555555555555556,
              "#d8576b"
             ],
             [
              0.6666666666666666,
              "#ed7953"
             ],
             [
              0.7777777777777778,
              "#fb9f3a"
             ],
             [
              0.8888888888888888,
              "#fdca26"
             ],
             [
              1,
              "#f0f921"
             ]
            ],
            "type": "heatmapgl"
           }
          ],
          "histogram": [
           {
            "marker": {
             "colorbar": {
              "outlinewidth": 0,
              "ticks": ""
             }
            },
            "type": "histogram"
           }
          ],
          "histogram2d": [
           {
            "colorbar": {
             "outlinewidth": 0,
             "ticks": ""
            },
            "colorscale": [
             [
              0,
              "#0d0887"
             ],
             [
              0.1111111111111111,
              "#46039f"
             ],
             [
              0.2222222222222222,
              "#7201a8"
             ],
             [
              0.3333333333333333,
              "#9c179e"
             ],
             [
              0.4444444444444444,
              "#bd3786"
             ],
             [
              0.5555555555555556,
              "#d8576b"
             ],
             [
              0.6666666666666666,
              "#ed7953"
             ],
             [
              0.7777777777777778,
              "#fb9f3a"
             ],
             [
              0.8888888888888888,
              "#fdca26"
             ],
             [
              1,
              "#f0f921"
             ]
            ],
            "type": "histogram2d"
           }
          ],
          "histogram2dcontour": [
           {
            "colorbar": {
             "outlinewidth": 0,
             "ticks": ""
            },
            "colorscale": [
             [
              0,
              "#0d0887"
             ],
             [
              0.1111111111111111,
              "#46039f"
             ],
             [
              0.2222222222222222,
              "#7201a8"
             ],
             [
              0.3333333333333333,
              "#9c179e"
             ],
             [
              0.4444444444444444,
              "#bd3786"
             ],
             [
              0.5555555555555556,
              "#d8576b"
             ],
             [
              0.6666666666666666,
              "#ed7953"
             ],
             [
              0.7777777777777778,
              "#fb9f3a"
             ],
             [
              0.8888888888888888,
              "#fdca26"
             ],
             [
              1,
              "#f0f921"
             ]
            ],
            "type": "histogram2dcontour"
           }
          ],
          "mesh3d": [
           {
            "colorbar": {
             "outlinewidth": 0,
             "ticks": ""
            },
            "type": "mesh3d"
           }
          ],
          "parcoords": [
           {
            "line": {
             "colorbar": {
              "outlinewidth": 0,
              "ticks": ""
             }
            },
            "type": "parcoords"
           }
          ],
          "scatter": [
           {
            "marker": {
             "colorbar": {
              "outlinewidth": 0,
              "ticks": ""
             }
            },
            "type": "scatter"
           }
          ],
          "scatter3d": [
           {
            "line": {
             "colorbar": {
              "outlinewidth": 0,
              "ticks": ""
             }
            },
            "marker": {
             "colorbar": {
              "outlinewidth": 0,
              "ticks": ""
             }
            },
            "type": "scatter3d"
           }
          ],
          "scattercarpet": [
           {
            "marker": {
             "colorbar": {
              "outlinewidth": 0,
              "ticks": ""
             }
            },
            "type": "scattercarpet"
           }
          ],
          "scattergeo": [
           {
            "marker": {
             "colorbar": {
              "outlinewidth": 0,
              "ticks": ""
             }
            },
            "type": "scattergeo"
           }
          ],
          "scattergl": [
           {
            "marker": {
             "colorbar": {
              "outlinewidth": 0,
              "ticks": ""
             }
            },
            "type": "scattergl"
           }
          ],
          "scattermapbox": [
           {
            "marker": {
             "colorbar": {
              "outlinewidth": 0,
              "ticks": ""
             }
            },
            "type": "scattermapbox"
           }
          ],
          "scatterpolar": [
           {
            "marker": {
             "colorbar": {
              "outlinewidth": 0,
              "ticks": ""
             }
            },
            "type": "scatterpolar"
           }
          ],
          "scatterpolargl": [
           {
            "marker": {
             "colorbar": {
              "outlinewidth": 0,
              "ticks": ""
             }
            },
            "type": "scatterpolargl"
           }
          ],
          "scatterternary": [
           {
            "marker": {
             "colorbar": {
              "outlinewidth": 0,
              "ticks": ""
             }
            },
            "type": "scatterternary"
           }
          ],
          "surface": [
           {
            "colorbar": {
             "outlinewidth": 0,
             "ticks": ""
            },
            "colorscale": [
             [
              0,
              "#0d0887"
             ],
             [
              0.1111111111111111,
              "#46039f"
             ],
             [
              0.2222222222222222,
              "#7201a8"
             ],
             [
              0.3333333333333333,
              "#9c179e"
             ],
             [
              0.4444444444444444,
              "#bd3786"
             ],
             [
              0.5555555555555556,
              "#d8576b"
             ],
             [
              0.6666666666666666,
              "#ed7953"
             ],
             [
              0.7777777777777778,
              "#fb9f3a"
             ],
             [
              0.8888888888888888,
              "#fdca26"
             ],
             [
              1,
              "#f0f921"
             ]
            ],
            "type": "surface"
           }
          ],
          "table": [
           {
            "cells": {
             "fill": {
              "color": "#EBF0F8"
             },
             "line": {
              "color": "white"
             }
            },
            "header": {
             "fill": {
              "color": "#C8D4E3"
             },
             "line": {
              "color": "white"
             }
            },
            "type": "table"
           }
          ]
         },
         "layout": {
          "annotationdefaults": {
           "arrowcolor": "#2a3f5f",
           "arrowhead": 0,
           "arrowwidth": 1
          },
          "colorscale": {
           "diverging": [
            [
             0,
             "#8e0152"
            ],
            [
             0.1,
             "#c51b7d"
            ],
            [
             0.2,
             "#de77ae"
            ],
            [
             0.3,
             "#f1b6da"
            ],
            [
             0.4,
             "#fde0ef"
            ],
            [
             0.5,
             "#f7f7f7"
            ],
            [
             0.6,
             "#e6f5d0"
            ],
            [
             0.7,
             "#b8e186"
            ],
            [
             0.8,
             "#7fbc41"
            ],
            [
             0.9,
             "#4d9221"
            ],
            [
             1,
             "#276419"
            ]
           ],
           "sequential": [
            [
             0,
             "#0d0887"
            ],
            [
             0.1111111111111111,
             "#46039f"
            ],
            [
             0.2222222222222222,
             "#7201a8"
            ],
            [
             0.3333333333333333,
             "#9c179e"
            ],
            [
             0.4444444444444444,
             "#bd3786"
            ],
            [
             0.5555555555555556,
             "#d8576b"
            ],
            [
             0.6666666666666666,
             "#ed7953"
            ],
            [
             0.7777777777777778,
             "#fb9f3a"
            ],
            [
             0.8888888888888888,
             "#fdca26"
            ],
            [
             1,
             "#f0f921"
            ]
           ],
           "sequentialminus": [
            [
             0,
             "#0d0887"
            ],
            [
             0.1111111111111111,
             "#46039f"
            ],
            [
             0.2222222222222222,
             "#7201a8"
            ],
            [
             0.3333333333333333,
             "#9c179e"
            ],
            [
             0.4444444444444444,
             "#bd3786"
            ],
            [
             0.5555555555555556,
             "#d8576b"
            ],
            [
             0.6666666666666666,
             "#ed7953"
            ],
            [
             0.7777777777777778,
             "#fb9f3a"
            ],
            [
             0.8888888888888888,
             "#fdca26"
            ],
            [
             1,
             "#f0f921"
            ]
           ]
          },
          "colorway": [
           "#636efa",
           "#EF553B",
           "#00cc96",
           "#ab63fa",
           "#FFA15A",
           "#19d3f3",
           "#FF6692",
           "#B6E880",
           "#FF97FF",
           "#FECB52"
          ],
          "font": {
           "color": "#2a3f5f"
          },
          "geo": {
           "bgcolor": "white",
           "lakecolor": "white",
           "landcolor": "#E5ECF6",
           "showlakes": true,
           "showland": true,
           "subunitcolor": "white"
          },
          "hoverlabel": {
           "align": "left"
          },
          "hovermode": "closest",
          "mapbox": {
           "style": "light"
          },
          "paper_bgcolor": "white",
          "plot_bgcolor": "#E5ECF6",
          "polar": {
           "angularaxis": {
            "gridcolor": "white",
            "linecolor": "white",
            "ticks": ""
           },
           "bgcolor": "#E5ECF6",
           "radialaxis": {
            "gridcolor": "white",
            "linecolor": "white",
            "ticks": ""
           }
          },
          "scene": {
           "xaxis": {
            "backgroundcolor": "#E5ECF6",
            "gridcolor": "white",
            "gridwidth": 2,
            "linecolor": "white",
            "showbackground": true,
            "ticks": "",
            "zerolinecolor": "white"
           },
           "yaxis": {
            "backgroundcolor": "#E5ECF6",
            "gridcolor": "white",
            "gridwidth": 2,
            "linecolor": "white",
            "showbackground": true,
            "ticks": "",
            "zerolinecolor": "white"
           },
           "zaxis": {
            "backgroundcolor": "#E5ECF6",
            "gridcolor": "white",
            "gridwidth": 2,
            "linecolor": "white",
            "showbackground": true,
            "ticks": "",
            "zerolinecolor": "white"
           }
          },
          "shapedefaults": {
           "line": {
            "color": "#2a3f5f"
           }
          },
          "ternary": {
           "aaxis": {
            "gridcolor": "white",
            "linecolor": "white",
            "ticks": ""
           },
           "baxis": {
            "gridcolor": "white",
            "linecolor": "white",
            "ticks": ""
           },
           "bgcolor": "#E5ECF6",
           "caxis": {
            "gridcolor": "white",
            "linecolor": "white",
            "ticks": ""
           }
          },
          "title": {
           "x": 0.05
          },
          "xaxis": {
           "automargin": true,
           "gridcolor": "white",
           "linecolor": "white",
           "ticks": "",
           "zerolinecolor": "white",
           "zerolinewidth": 2
          },
          "yaxis": {
           "automargin": true,
           "gridcolor": "white",
           "linecolor": "white",
           "ticks": "",
           "zerolinecolor": "white",
           "zerolinewidth": 2
          }
         }
        },
        "title": {
         "text": "Branch Distribution"
        },
        "xaxis": {
         "linecolor": "black",
         "linewidth": 2,
         "mirror": true,
         "showline": true,
         "showticklabels": true,
         "tickangle": 45,
         "tickfont": {
          "color": "red",
          "size": 10
         },
         "title": {
          "text": "Branch"
         },
         "zeroline": true,
         "zerolinecolor": "grey",
         "zerolinewidth": 1
        },
        "yaxis": {
         "gridcolor": "lightgrey",
         "linecolor": "black",
         "linewidth": 2,
         "mirror": true,
         "showline": true,
         "title": {
          "text": "No. of Occurence"
         },
         "zeroline": true,
         "zerolinecolor": "grey",
         "zerolinewidth": 1
        }
       }
      },
      "text/html": [
       "<div>\n",
       "        \n",
       "        \n",
       "            <div id=\"e314fce4-d22a-4113-b611-98a6fe7278bd\" class=\"plotly-graph-div\" style=\"height:525px; width:100%;\"></div>\n",
       "            <script type=\"text/javascript\">\n",
       "                require([\"plotly\"], function(Plotly) {\n",
       "                    window.PLOTLYENV=window.PLOTLYENV || {};\n",
       "                    \n",
       "                if (document.getElementById(\"e314fce4-d22a-4113-b611-98a6fe7278bd\")) {\n",
       "                    Plotly.newPlot(\n",
       "                        'e314fce4-d22a-4113-b611-98a6fe7278bd',\n",
       "                        [{\"marker\": {\"color\": \"purple\"}, \"text\": [\"others\", \"Engineering\", \"Statistics\", \"PURE MATHEMATICS\", \"B.Sc statistics\", \"B.Com (H)\", \"M.sc \", \"Commerce\", \"M.Sc. in Applied Mathematics \", \"Civil Engineering\", \"Statistics Honours\", \"Atrs\", \"Honors (BSC/MSC)\", \"Statistics honours \", \"CSE\", \"Msc Mathematics \", \"Statistics Hons\", \"M. Sc (applied math) \", \"Electronics and telecommunication\", \"B.sc nursing\", \"MSc in applied mathematics\", \"Statistics (H)\", \"B.Tech\", \"B. Tech (Cse) \", \"Bsc statistics\", \"Statistics Honours \", \"Electrical engineering\", \"Btech 4th year on ECE department\", \"Mathematics \", \"BSc Statistics \", \"B. Sc. Statistics Hons.\", \"Thermal Power Plant Engineering\", \"M.sc\", \"M.Sc in Applied Mathematics\", \"Computer Science\", \"B.tech in Electronics and communication engineering\", \"M.sc in applied mathematics. \", \"Dental Surgery\", \"Statistics \", \"BCA\", \"Msc in applied mathematics\", \"Master of science in applied Mathematics\", \"Computer science\", \"M.SC. IN APPLIED MATHEMATICS\", \"MSc Mathematics\", \"Computer Science and Engineering \", \"BBA\", \"B.Sc Statistics Hons. \", \"Msc mathematics\", \"Mechanical Engineer\", \"B.Com Honours\", \"M.SC in pure mathematics\", \"MSC IN MATHEMATICS\", \"Mechanical Engineering\", \"Library and Information Science\", \"Post Graduate (Mathematics) \", \"Microbiology\", \"Bsc statistics hons\", \"Electrical Engineering\", \"Btech\", \"Mathematics Honours (MSc)\", \"Mathematics\", \" LINEAR ALGEBRA IN MATHEMATICS\", \"Mca\", \"Power\", \"B.Sc.(honours) in Statistics\", \"B.tech\", \"Leather Technology\", \"Applied mathematics in  Oceanology &computer application\", \"H.S passed\", \"Byech\", \"Power engineering\", \"Bsc Computer science\", \"EE\", \"M.Sc Mathematics\", \"B.Tech(CSE)\", \"MSc in Applied Mathematics\", \"Applied Mathematics\", \"Diploma on Travel and Tourism Management\", \"MATHEMATICS\", \"B. Tech CSE\", \"Filed of study \", \"ECE\", \"B.Tech in CSE\", \"Msc Data science\", \"Btech electronics and communication\", \"M.sc in Applied Mathematics (2nd Sem)\", \"ELECTRICIAN \", \"Comp sc.\", \"M.SC(Electronics)\", \"Economics\", \"B-tech in ece\", \"B tech\", \"B.Sc honours (Computer Science)\", \"Bsc(state )\", \"B.Sc , honours in Maths\", \"B-tech (ECE 2'nd year)\", \"YES\", \"Bsc statistics honours\", \"Mechanical engineering \", \"Bsc. Statistics Hons.\", \"Computer Science and Engineering\", \"Statistics ( Hons.)\", \"Bsc. Hons\", \"Mechanical\", \"Statistics Hons.\", \"MATHEMATICS \", \"STATISTICS\", \"B.Sc Statistics honours\", \"B.tech (ECE)\", \"Bsc physics honours \", \"B. Pharmacy\", \"Computer Science Engineering\", \"MSc - Mathematics\", \"engineering\", \"B.Sc\", \"IT\", \"Did my graduation on mathematics\", \"Electrical and electronics engineering \", \"Energy Engineering\", \"Mathematics honours \", \"Bsc math honours\", \"R\", \"Computer science engineering\", \"B. Tech\", \"Computer science engineering \", \"ELECTRONICS AND COMMUNICATION ENGINEERING (B.TECH))\", \"Power plant engineering\", \"Statistics hons.\", \"ME\", \"M.Sc in Mathematics \", \"Bachelor's of Computer applications\", \"Power Engineering \", \"Graduate\", \"Electronics and communication Engineering (B.Tech)\", \"Msc. Mathematics\", \"BCA \", \"Mathematics MSc.\", \"B.Sc.\", \"3rd year mathematics honours\", \"electrical engineering\", \"Msc statistics\", \"Independent Cyber Security Researcher\", \"Physics\", \"B.tech in ECE\", \"Computer science and engineering\"], \"type\": \"bar\", \"x\": [\"others\", \"Engineering\", \"Statistics\", \"PURE MATHEMATICS\", \"B.Sc statistics\", \"B.Com (H)\", \"M.sc \", \"Commerce\", \"M.Sc. in Applied Mathematics \", \"Civil Engineering\", \"Statistics Honours\", \"Atrs\", \"Honors (BSC/MSC)\", \"Statistics honours \", \"CSE\", \"Msc Mathematics \", \"Statistics Hons\", \"M. Sc (applied math) \", \"Electronics and telecommunication\", \"B.sc nursing\", \"MSc in applied mathematics\", \"Statistics (H)\", \"B.Tech\", \"B. Tech (Cse) \", \"Bsc statistics\", \"Statistics Honours \", \"Electrical engineering\", \"Btech 4th year on ECE department\", \"Mathematics \", \"BSc Statistics \", \"B. Sc. Statistics Hons.\", \"Thermal Power Plant Engineering\", \"M.sc\", \"M.Sc in Applied Mathematics\", \"Computer Science\", \"B.tech in Electronics and communication engineering\", \"M.sc in applied mathematics. \", \"Dental Surgery\", \"Statistics \", \"BCA\", \"Msc in applied mathematics\", \"Master of science in applied Mathematics\", \"Computer science\", \"M.SC. IN APPLIED MATHEMATICS\", \"MSc Mathematics\", \"Computer Science and Engineering \", \"BBA\", \"B.Sc Statistics Hons. \", \"Msc mathematics\", \"Mechanical Engineer\", \"B.Com Honours\", \"M.SC in pure mathematics\", \"MSC IN MATHEMATICS\", \"Mechanical Engineering\", \"Library and Information Science\", \"Post Graduate (Mathematics) \", \"Microbiology\", \"Bsc statistics hons\", \"Electrical Engineering\", \"Btech\", \"Mathematics Honours (MSc)\", \"Mathematics\", \" LINEAR ALGEBRA IN MATHEMATICS\", \"Mca\", \"Power\", \"B.Sc.(honours) in Statistics\", \"B.tech\", \"Leather Technology\", \"Applied mathematics in  Oceanology &computer application\", \"H.S passed\", \"Byech\", \"Power engineering\", \"Bsc Computer science\", \"EE\", \"M.Sc Mathematics\", \"B.Tech(CSE)\", \"MSc in Applied Mathematics\", \"Applied Mathematics\", \"Diploma on Travel and Tourism Management\", \"MATHEMATICS\", \"B. Tech CSE\", \"Filed of study \", \"ECE\", \"B.Tech in CSE\", \"Msc Data science\", \"Btech electronics and communication\", \"M.sc in Applied Mathematics (2nd Sem)\", \"ELECTRICIAN \", \"Comp sc.\", \"M.SC(Electronics)\", \"Economics\", \"B-tech in ece\", \"B tech\", \"B.Sc honours (Computer Science)\", \"Bsc(state )\", \"B.Sc , honours in Maths\", \"B-tech (ECE 2'nd year)\", \"YES\", \"Bsc statistics honours\", \"Mechanical engineering \", \"Bsc. Statistics Hons.\", \"Computer Science and Engineering\", \"Statistics ( Hons.)\", \"Bsc. Hons\", \"Mechanical\", \"Statistics Hons.\", \"MATHEMATICS \", \"STATISTICS\", \"B.Sc Statistics honours\", \"B.tech (ECE)\", \"Bsc physics honours \", \"B. Pharmacy\", \"Computer Science Engineering\", \"MSc - Mathematics\", \"engineering\", \"B.Sc\", \"IT\", \"Did my graduation on mathematics\", \"Electrical and electronics engineering \", \"Energy Engineering\", \"Mathematics honours \", \"Bsc math honours\", \"R\", \"Computer science engineering\", \"B. Tech\", \"Computer science engineering \", \"ELECTRONICS AND COMMUNICATION ENGINEERING (B.TECH))\", \"Power plant engineering\", \"Statistics hons.\", \"ME\", \"M.Sc in Mathematics \", \"Bachelor's of Computer applications\", \"Power Engineering \", \"Graduate\", \"Electronics and communication Engineering (B.Tech)\", \"Msc. Mathematics\", \"BCA \", \"Mathematics MSc.\", \"B.Sc.\", \"3rd year mathematics honours\", \"electrical engineering\", \"Msc statistics\", \"Independent Cyber Security Researcher\", \"Physics\", \"B.tech in ECE\", \"Computer science and engineering\"], \"y\": [86, 81, 55, 15, 8, 6, 5, 5, 3, 3, 3, 3, 3, 2, 2, 2, 2, 2, 2, 2, 2, 2, 2, 2, 2, 2, 2, 2, 1, 1, 1, 1, 1, 1, 1, 1, 1, 1, 1, 1, 1, 1, 1, 1, 1, 1, 1, 1, 1, 1, 1, 1, 1, 1, 1, 1, 1, 1, 1, 1, 1, 1, 1, 1, 1, 1, 1, 1, 1, 1, 1, 1, 1, 1, 1, 1, 1, 1, 1, 1, 1, 1, 1, 1, 1, 1, 1, 1, 1, 1, 1, 1, 1, 1, 1, 1, 1, 1, 1, 1, 1, 1, 1, 1, 1, 1, 1, 1, 1, 1, 1, 1, 1, 1, 1, 1, 1, 1, 1, 1, 1, 1, 1, 1, 1, 1, 1, 1, 1, 1, 1, 1, 1, 1, 1, 1, 1, 1, 1, 1, 1, 1, 1, 1, 1, 1]}],\n",
       "                        {\"hovermode\": \"closest\", \"paper_bgcolor\": \"rgba(0, 0, 0, 0)\", \"plot_bgcolor\": \"rgba(0, 0, 0, 0)\", \"template\": {\"data\": {\"bar\": [{\"error_x\": {\"color\": \"#2a3f5f\"}, \"error_y\": {\"color\": \"#2a3f5f\"}, \"marker\": {\"line\": {\"color\": \"#E5ECF6\", \"width\": 0.5}}, \"type\": \"bar\"}], \"barpolar\": [{\"marker\": {\"line\": {\"color\": \"#E5ECF6\", \"width\": 0.5}}, \"type\": \"barpolar\"}], \"carpet\": [{\"aaxis\": {\"endlinecolor\": \"#2a3f5f\", \"gridcolor\": \"white\", \"linecolor\": \"white\", \"minorgridcolor\": \"white\", \"startlinecolor\": \"#2a3f5f\"}, \"baxis\": {\"endlinecolor\": \"#2a3f5f\", \"gridcolor\": \"white\", \"linecolor\": \"white\", \"minorgridcolor\": \"white\", \"startlinecolor\": \"#2a3f5f\"}, \"type\": \"carpet\"}], \"choropleth\": [{\"colorbar\": {\"outlinewidth\": 0, \"ticks\": \"\"}, \"type\": \"choropleth\"}], \"contour\": [{\"colorbar\": {\"outlinewidth\": 0, \"ticks\": \"\"}, \"colorscale\": [[0.0, \"#0d0887\"], [0.1111111111111111, \"#46039f\"], [0.2222222222222222, \"#7201a8\"], [0.3333333333333333, \"#9c179e\"], [0.4444444444444444, \"#bd3786\"], [0.5555555555555556, \"#d8576b\"], [0.6666666666666666, \"#ed7953\"], [0.7777777777777778, \"#fb9f3a\"], [0.8888888888888888, \"#fdca26\"], [1.0, \"#f0f921\"]], \"type\": \"contour\"}], \"contourcarpet\": [{\"colorbar\": {\"outlinewidth\": 0, \"ticks\": \"\"}, \"type\": \"contourcarpet\"}], \"heatmap\": [{\"colorbar\": {\"outlinewidth\": 0, \"ticks\": \"\"}, \"colorscale\": [[0.0, \"#0d0887\"], [0.1111111111111111, \"#46039f\"], [0.2222222222222222, \"#7201a8\"], [0.3333333333333333, \"#9c179e\"], [0.4444444444444444, \"#bd3786\"], [0.5555555555555556, \"#d8576b\"], [0.6666666666666666, \"#ed7953\"], [0.7777777777777778, \"#fb9f3a\"], [0.8888888888888888, \"#fdca26\"], [1.0, \"#f0f921\"]], \"type\": \"heatmap\"}], \"heatmapgl\": [{\"colorbar\": {\"outlinewidth\": 0, \"ticks\": \"\"}, \"colorscale\": [[0.0, \"#0d0887\"], [0.1111111111111111, \"#46039f\"], [0.2222222222222222, \"#7201a8\"], [0.3333333333333333, \"#9c179e\"], [0.4444444444444444, \"#bd3786\"], [0.5555555555555556, \"#d8576b\"], [0.6666666666666666, \"#ed7953\"], [0.7777777777777778, \"#fb9f3a\"], [0.8888888888888888, \"#fdca26\"], [1.0, \"#f0f921\"]], \"type\": \"heatmapgl\"}], \"histogram\": [{\"marker\": {\"colorbar\": {\"outlinewidth\": 0, \"ticks\": \"\"}}, \"type\": \"histogram\"}], \"histogram2d\": [{\"colorbar\": {\"outlinewidth\": 0, \"ticks\": \"\"}, \"colorscale\": [[0.0, \"#0d0887\"], [0.1111111111111111, \"#46039f\"], [0.2222222222222222, \"#7201a8\"], [0.3333333333333333, \"#9c179e\"], [0.4444444444444444, \"#bd3786\"], [0.5555555555555556, \"#d8576b\"], [0.6666666666666666, \"#ed7953\"], [0.7777777777777778, \"#fb9f3a\"], [0.8888888888888888, \"#fdca26\"], [1.0, \"#f0f921\"]], \"type\": \"histogram2d\"}], \"histogram2dcontour\": [{\"colorbar\": {\"outlinewidth\": 0, \"ticks\": \"\"}, \"colorscale\": [[0.0, \"#0d0887\"], [0.1111111111111111, \"#46039f\"], [0.2222222222222222, \"#7201a8\"], [0.3333333333333333, \"#9c179e\"], [0.4444444444444444, \"#bd3786\"], [0.5555555555555556, \"#d8576b\"], [0.6666666666666666, \"#ed7953\"], [0.7777777777777778, \"#fb9f3a\"], [0.8888888888888888, \"#fdca26\"], [1.0, \"#f0f921\"]], \"type\": \"histogram2dcontour\"}], \"mesh3d\": [{\"colorbar\": {\"outlinewidth\": 0, \"ticks\": \"\"}, \"type\": \"mesh3d\"}], \"parcoords\": [{\"line\": {\"colorbar\": {\"outlinewidth\": 0, \"ticks\": \"\"}}, \"type\": \"parcoords\"}], \"scatter\": [{\"marker\": {\"colorbar\": {\"outlinewidth\": 0, \"ticks\": \"\"}}, \"type\": \"scatter\"}], \"scatter3d\": [{\"line\": {\"colorbar\": {\"outlinewidth\": 0, \"ticks\": \"\"}}, \"marker\": {\"colorbar\": {\"outlinewidth\": 0, \"ticks\": \"\"}}, \"type\": \"scatter3d\"}], \"scattercarpet\": [{\"marker\": {\"colorbar\": {\"outlinewidth\": 0, \"ticks\": \"\"}}, \"type\": \"scattercarpet\"}], \"scattergeo\": [{\"marker\": {\"colorbar\": {\"outlinewidth\": 0, \"ticks\": \"\"}}, \"type\": \"scattergeo\"}], \"scattergl\": [{\"marker\": {\"colorbar\": {\"outlinewidth\": 0, \"ticks\": \"\"}}, \"type\": \"scattergl\"}], \"scattermapbox\": [{\"marker\": {\"colorbar\": {\"outlinewidth\": 0, \"ticks\": \"\"}}, \"type\": \"scattermapbox\"}], \"scatterpolar\": [{\"marker\": {\"colorbar\": {\"outlinewidth\": 0, \"ticks\": \"\"}}, \"type\": \"scatterpolar\"}], \"scatterpolargl\": [{\"marker\": {\"colorbar\": {\"outlinewidth\": 0, \"ticks\": \"\"}}, \"type\": \"scatterpolargl\"}], \"scatterternary\": [{\"marker\": {\"colorbar\": {\"outlinewidth\": 0, \"ticks\": \"\"}}, \"type\": \"scatterternary\"}], \"surface\": [{\"colorbar\": {\"outlinewidth\": 0, \"ticks\": \"\"}, \"colorscale\": [[0.0, \"#0d0887\"], [0.1111111111111111, \"#46039f\"], [0.2222222222222222, \"#7201a8\"], [0.3333333333333333, \"#9c179e\"], [0.4444444444444444, \"#bd3786\"], [0.5555555555555556, \"#d8576b\"], [0.6666666666666666, \"#ed7953\"], [0.7777777777777778, \"#fb9f3a\"], [0.8888888888888888, \"#fdca26\"], [1.0, \"#f0f921\"]], \"type\": \"surface\"}], \"table\": [{\"cells\": {\"fill\": {\"color\": \"#EBF0F8\"}, \"line\": {\"color\": \"white\"}}, \"header\": {\"fill\": {\"color\": \"#C8D4E3\"}, \"line\": {\"color\": \"white\"}}, \"type\": \"table\"}]}, \"layout\": {\"annotationdefaults\": {\"arrowcolor\": \"#2a3f5f\", \"arrowhead\": 0, \"arrowwidth\": 1}, \"colorscale\": {\"diverging\": [[0, \"#8e0152\"], [0.1, \"#c51b7d\"], [0.2, \"#de77ae\"], [0.3, \"#f1b6da\"], [0.4, \"#fde0ef\"], [0.5, \"#f7f7f7\"], [0.6, \"#e6f5d0\"], [0.7, \"#b8e186\"], [0.8, \"#7fbc41\"], [0.9, \"#4d9221\"], [1, \"#276419\"]], \"sequential\": [[0.0, \"#0d0887\"], [0.1111111111111111, \"#46039f\"], [0.2222222222222222, \"#7201a8\"], [0.3333333333333333, \"#9c179e\"], [0.4444444444444444, \"#bd3786\"], [0.5555555555555556, \"#d8576b\"], [0.6666666666666666, \"#ed7953\"], [0.7777777777777778, \"#fb9f3a\"], [0.8888888888888888, \"#fdca26\"], [1.0, \"#f0f921\"]], \"sequentialminus\": [[0.0, \"#0d0887\"], [0.1111111111111111, \"#46039f\"], [0.2222222222222222, \"#7201a8\"], [0.3333333333333333, \"#9c179e\"], [0.4444444444444444, \"#bd3786\"], [0.5555555555555556, \"#d8576b\"], [0.6666666666666666, \"#ed7953\"], [0.7777777777777778, \"#fb9f3a\"], [0.8888888888888888, \"#fdca26\"], [1.0, \"#f0f921\"]]}, \"colorway\": [\"#636efa\", \"#EF553B\", \"#00cc96\", \"#ab63fa\", \"#FFA15A\", \"#19d3f3\", \"#FF6692\", \"#B6E880\", \"#FF97FF\", \"#FECB52\"], \"font\": {\"color\": \"#2a3f5f\"}, \"geo\": {\"bgcolor\": \"white\", \"lakecolor\": \"white\", \"landcolor\": \"#E5ECF6\", \"showlakes\": true, \"showland\": true, \"subunitcolor\": \"white\"}, \"hoverlabel\": {\"align\": \"left\"}, \"hovermode\": \"closest\", \"mapbox\": {\"style\": \"light\"}, \"paper_bgcolor\": \"white\", \"plot_bgcolor\": \"#E5ECF6\", \"polar\": {\"angularaxis\": {\"gridcolor\": \"white\", \"linecolor\": \"white\", \"ticks\": \"\"}, \"bgcolor\": \"#E5ECF6\", \"radialaxis\": {\"gridcolor\": \"white\", \"linecolor\": \"white\", \"ticks\": \"\"}}, \"scene\": {\"xaxis\": {\"backgroundcolor\": \"#E5ECF6\", \"gridcolor\": \"white\", \"gridwidth\": 2, \"linecolor\": \"white\", \"showbackground\": true, \"ticks\": \"\", \"zerolinecolor\": \"white\"}, \"yaxis\": {\"backgroundcolor\": \"#E5ECF6\", \"gridcolor\": \"white\", \"gridwidth\": 2, \"linecolor\": \"white\", \"showbackground\": true, \"ticks\": \"\", \"zerolinecolor\": \"white\"}, \"zaxis\": {\"backgroundcolor\": \"#E5ECF6\", \"gridcolor\": \"white\", \"gridwidth\": 2, \"linecolor\": \"white\", \"showbackground\": true, \"ticks\": \"\", \"zerolinecolor\": \"white\"}}, \"shapedefaults\": {\"line\": {\"color\": \"#2a3f5f\"}}, \"ternary\": {\"aaxis\": {\"gridcolor\": \"white\", \"linecolor\": \"white\", \"ticks\": \"\"}, \"baxis\": {\"gridcolor\": \"white\", \"linecolor\": \"white\", \"ticks\": \"\"}, \"bgcolor\": \"#E5ECF6\", \"caxis\": {\"gridcolor\": \"white\", \"linecolor\": \"white\", \"ticks\": \"\"}}, \"title\": {\"x\": 0.05}, \"xaxis\": {\"automargin\": true, \"gridcolor\": \"white\", \"linecolor\": \"white\", \"ticks\": \"\", \"zerolinecolor\": \"white\", \"zerolinewidth\": 2}, \"yaxis\": {\"automargin\": true, \"gridcolor\": \"white\", \"linecolor\": \"white\", \"ticks\": \"\", \"zerolinecolor\": \"white\", \"zerolinewidth\": 2}}}, \"title\": {\"text\": \"Branch Distribution\"}, \"xaxis\": {\"linecolor\": \"black\", \"linewidth\": 2, \"mirror\": true, \"showline\": true, \"showticklabels\": true, \"tickangle\": 45, \"tickfont\": {\"color\": \"red\", \"size\": 10}, \"title\": {\"text\": \"Branch\"}, \"zeroline\": true, \"zerolinecolor\": \"grey\", \"zerolinewidth\": 1}, \"yaxis\": {\"gridcolor\": \"lightgrey\", \"linecolor\": \"black\", \"linewidth\": 2, \"mirror\": true, \"showline\": true, \"title\": {\"text\": \"No. of Occurence\"}, \"zeroline\": true, \"zerolinecolor\": \"grey\", \"zerolinewidth\": 1}},\n",
       "                        {\"responsive\": true}\n",
       "                    ).then(function(){\n",
       "                            \n",
       "var gd = document.getElementById('e314fce4-d22a-4113-b611-98a6fe7278bd');\n",
       "var x = new MutationObserver(function (mutations, observer) {{\n",
       "        var display = window.getComputedStyle(gd).display;\n",
       "        if (!display || display === 'none') {{\n",
       "            console.log([gd, 'removed!']);\n",
       "            Plotly.purge(gd);\n",
       "            observer.disconnect();\n",
       "        }}\n",
       "}});\n",
       "\n",
       "// Listen for the removal of the full notebook cells\n",
       "var notebookContainer = gd.closest('#notebook-container');\n",
       "if (notebookContainer) {{\n",
       "    x.observe(notebookContainer, {childList: true});\n",
       "}}\n",
       "\n",
       "// Listen for the clearing of the current output cell\n",
       "var outputEl = gd.closest('.output');\n",
       "if (outputEl) {{\n",
       "    x.observe(outputEl, {childList: true});\n",
       "}}\n",
       "\n",
       "                        })\n",
       "                };\n",
       "                });\n",
       "            </script>\n",
       "        </div>"
      ]
     },
     "metadata": {},
     "output_type": "display_data"
    }
   ],
   "source": [
    "branch_count = dg['Brach '].value_counts()\n",
    "\n",
    "ds=branch_count\n",
    "dg.drop_duplicates(subset=['Brach '],keep='first',inplace=True)\n",
    "draw_trace_bar(dg,'Brach ',ds,\"Branch Distribution\",\"Branch\",\"No. of Occurence\",\"purple\")"
   ]
  },
  {
   "cell_type": "markdown",
   "metadata": {},
   "source": [
    "Most students taken the free session are from the 'Others' department category,but the second most category of students belong from the 'Engineering ' background considering the 'Btech' categories also."
   ]
  },
  {
   "cell_type": "code",
   "execution_count": 46,
   "metadata": {},
   "outputs": [
    {
     "data": {
      "application/vnd.plotly.v1+json": {
       "config": {
        "linkText": "Export to plot.ly",
        "plotlyServerURL": "https://plot.ly",
        "showLink": false
       },
       "data": [
        {
         "marker": {
          "color": "purple"
         },
         "text": [
          "Yes",
          "No",
          "Having own laptop/system "
         ],
         "type": "bar",
         "x": [
          "Yes",
          "No",
          "Having own laptop/system "
         ],
         "y": [
          727,
          194,
          1
         ]
        }
       ],
       "layout": {
        "hovermode": "closest",
        "paper_bgcolor": "rgba(0, 0, 0, 0)",
        "plot_bgcolor": "rgba(0, 0, 0, 0)",
        "template": {
         "data": {
          "bar": [
           {
            "error_x": {
             "color": "#2a3f5f"
            },
            "error_y": {
             "color": "#2a3f5f"
            },
            "marker": {
             "line": {
              "color": "#E5ECF6",
              "width": 0.5
             }
            },
            "type": "bar"
           }
          ],
          "barpolar": [
           {
            "marker": {
             "line": {
              "color": "#E5ECF6",
              "width": 0.5
             }
            },
            "type": "barpolar"
           }
          ],
          "carpet": [
           {
            "aaxis": {
             "endlinecolor": "#2a3f5f",
             "gridcolor": "white",
             "linecolor": "white",
             "minorgridcolor": "white",
             "startlinecolor": "#2a3f5f"
            },
            "baxis": {
             "endlinecolor": "#2a3f5f",
             "gridcolor": "white",
             "linecolor": "white",
             "minorgridcolor": "white",
             "startlinecolor": "#2a3f5f"
            },
            "type": "carpet"
           }
          ],
          "choropleth": [
           {
            "colorbar": {
             "outlinewidth": 0,
             "ticks": ""
            },
            "type": "choropleth"
           }
          ],
          "contour": [
           {
            "colorbar": {
             "outlinewidth": 0,
             "ticks": ""
            },
            "colorscale": [
             [
              0,
              "#0d0887"
             ],
             [
              0.1111111111111111,
              "#46039f"
             ],
             [
              0.2222222222222222,
              "#7201a8"
             ],
             [
              0.3333333333333333,
              "#9c179e"
             ],
             [
              0.4444444444444444,
              "#bd3786"
             ],
             [
              0.5555555555555556,
              "#d8576b"
             ],
             [
              0.6666666666666666,
              "#ed7953"
             ],
             [
              0.7777777777777778,
              "#fb9f3a"
             ],
             [
              0.8888888888888888,
              "#fdca26"
             ],
             [
              1,
              "#f0f921"
             ]
            ],
            "type": "contour"
           }
          ],
          "contourcarpet": [
           {
            "colorbar": {
             "outlinewidth": 0,
             "ticks": ""
            },
            "type": "contourcarpet"
           }
          ],
          "heatmap": [
           {
            "colorbar": {
             "outlinewidth": 0,
             "ticks": ""
            },
            "colorscale": [
             [
              0,
              "#0d0887"
             ],
             [
              0.1111111111111111,
              "#46039f"
             ],
             [
              0.2222222222222222,
              "#7201a8"
             ],
             [
              0.3333333333333333,
              "#9c179e"
             ],
             [
              0.4444444444444444,
              "#bd3786"
             ],
             [
              0.5555555555555556,
              "#d8576b"
             ],
             [
              0.6666666666666666,
              "#ed7953"
             ],
             [
              0.7777777777777778,
              "#fb9f3a"
             ],
             [
              0.8888888888888888,
              "#fdca26"
             ],
             [
              1,
              "#f0f921"
             ]
            ],
            "type": "heatmap"
           }
          ],
          "heatmapgl": [
           {
            "colorbar": {
             "outlinewidth": 0,
             "ticks": ""
            },
            "colorscale": [
             [
              0,
              "#0d0887"
             ],
             [
              0.1111111111111111,
              "#46039f"
             ],
             [
              0.2222222222222222,
              "#7201a8"
             ],
             [
              0.3333333333333333,
              "#9c179e"
             ],
             [
              0.4444444444444444,
              "#bd3786"
             ],
             [
              0.5555555555555556,
              "#d8576b"
             ],
             [
              0.6666666666666666,
              "#ed7953"
             ],
             [
              0.7777777777777778,
              "#fb9f3a"
             ],
             [
              0.8888888888888888,
              "#fdca26"
             ],
             [
              1,
              "#f0f921"
             ]
            ],
            "type": "heatmapgl"
           }
          ],
          "histogram": [
           {
            "marker": {
             "colorbar": {
              "outlinewidth": 0,
              "ticks": ""
             }
            },
            "type": "histogram"
           }
          ],
          "histogram2d": [
           {
            "colorbar": {
             "outlinewidth": 0,
             "ticks": ""
            },
            "colorscale": [
             [
              0,
              "#0d0887"
             ],
             [
              0.1111111111111111,
              "#46039f"
             ],
             [
              0.2222222222222222,
              "#7201a8"
             ],
             [
              0.3333333333333333,
              "#9c179e"
             ],
             [
              0.4444444444444444,
              "#bd3786"
             ],
             [
              0.5555555555555556,
              "#d8576b"
             ],
             [
              0.6666666666666666,
              "#ed7953"
             ],
             [
              0.7777777777777778,
              "#fb9f3a"
             ],
             [
              0.8888888888888888,
              "#fdca26"
             ],
             [
              1,
              "#f0f921"
             ]
            ],
            "type": "histogram2d"
           }
          ],
          "histogram2dcontour": [
           {
            "colorbar": {
             "outlinewidth": 0,
             "ticks": ""
            },
            "colorscale": [
             [
              0,
              "#0d0887"
             ],
             [
              0.1111111111111111,
              "#46039f"
             ],
             [
              0.2222222222222222,
              "#7201a8"
             ],
             [
              0.3333333333333333,
              "#9c179e"
             ],
             [
              0.4444444444444444,
              "#bd3786"
             ],
             [
              0.5555555555555556,
              "#d8576b"
             ],
             [
              0.6666666666666666,
              "#ed7953"
             ],
             [
              0.7777777777777778,
              "#fb9f3a"
             ],
             [
              0.8888888888888888,
              "#fdca26"
             ],
             [
              1,
              "#f0f921"
             ]
            ],
            "type": "histogram2dcontour"
           }
          ],
          "mesh3d": [
           {
            "colorbar": {
             "outlinewidth": 0,
             "ticks": ""
            },
            "type": "mesh3d"
           }
          ],
          "parcoords": [
           {
            "line": {
             "colorbar": {
              "outlinewidth": 0,
              "ticks": ""
             }
            },
            "type": "parcoords"
           }
          ],
          "scatter": [
           {
            "marker": {
             "colorbar": {
              "outlinewidth": 0,
              "ticks": ""
             }
            },
            "type": "scatter"
           }
          ],
          "scatter3d": [
           {
            "line": {
             "colorbar": {
              "outlinewidth": 0,
              "ticks": ""
             }
            },
            "marker": {
             "colorbar": {
              "outlinewidth": 0,
              "ticks": ""
             }
            },
            "type": "scatter3d"
           }
          ],
          "scattercarpet": [
           {
            "marker": {
             "colorbar": {
              "outlinewidth": 0,
              "ticks": ""
             }
            },
            "type": "scattercarpet"
           }
          ],
          "scattergeo": [
           {
            "marker": {
             "colorbar": {
              "outlinewidth": 0,
              "ticks": ""
             }
            },
            "type": "scattergeo"
           }
          ],
          "scattergl": [
           {
            "marker": {
             "colorbar": {
              "outlinewidth": 0,
              "ticks": ""
             }
            },
            "type": "scattergl"
           }
          ],
          "scattermapbox": [
           {
            "marker": {
             "colorbar": {
              "outlinewidth": 0,
              "ticks": ""
             }
            },
            "type": "scattermapbox"
           }
          ],
          "scatterpolar": [
           {
            "marker": {
             "colorbar": {
              "outlinewidth": 0,
              "ticks": ""
             }
            },
            "type": "scatterpolar"
           }
          ],
          "scatterpolargl": [
           {
            "marker": {
             "colorbar": {
              "outlinewidth": 0,
              "ticks": ""
             }
            },
            "type": "scatterpolargl"
           }
          ],
          "scatterternary": [
           {
            "marker": {
             "colorbar": {
              "outlinewidth": 0,
              "ticks": ""
             }
            },
            "type": "scatterternary"
           }
          ],
          "surface": [
           {
            "colorbar": {
             "outlinewidth": 0,
             "ticks": ""
            },
            "colorscale": [
             [
              0,
              "#0d0887"
             ],
             [
              0.1111111111111111,
              "#46039f"
             ],
             [
              0.2222222222222222,
              "#7201a8"
             ],
             [
              0.3333333333333333,
              "#9c179e"
             ],
             [
              0.4444444444444444,
              "#bd3786"
             ],
             [
              0.5555555555555556,
              "#d8576b"
             ],
             [
              0.6666666666666666,
              "#ed7953"
             ],
             [
              0.7777777777777778,
              "#fb9f3a"
             ],
             [
              0.8888888888888888,
              "#fdca26"
             ],
             [
              1,
              "#f0f921"
             ]
            ],
            "type": "surface"
           }
          ],
          "table": [
           {
            "cells": {
             "fill": {
              "color": "#EBF0F8"
             },
             "line": {
              "color": "white"
             }
            },
            "header": {
             "fill": {
              "color": "#C8D4E3"
             },
             "line": {
              "color": "white"
             }
            },
            "type": "table"
           }
          ]
         },
         "layout": {
          "annotationdefaults": {
           "arrowcolor": "#2a3f5f",
           "arrowhead": 0,
           "arrowwidth": 1
          },
          "colorscale": {
           "diverging": [
            [
             0,
             "#8e0152"
            ],
            [
             0.1,
             "#c51b7d"
            ],
            [
             0.2,
             "#de77ae"
            ],
            [
             0.3,
             "#f1b6da"
            ],
            [
             0.4,
             "#fde0ef"
            ],
            [
             0.5,
             "#f7f7f7"
            ],
            [
             0.6,
             "#e6f5d0"
            ],
            [
             0.7,
             "#b8e186"
            ],
            [
             0.8,
             "#7fbc41"
            ],
            [
             0.9,
             "#4d9221"
            ],
            [
             1,
             "#276419"
            ]
           ],
           "sequential": [
            [
             0,
             "#0d0887"
            ],
            [
             0.1111111111111111,
             "#46039f"
            ],
            [
             0.2222222222222222,
             "#7201a8"
            ],
            [
             0.3333333333333333,
             "#9c179e"
            ],
            [
             0.4444444444444444,
             "#bd3786"
            ],
            [
             0.5555555555555556,
             "#d8576b"
            ],
            [
             0.6666666666666666,
             "#ed7953"
            ],
            [
             0.7777777777777778,
             "#fb9f3a"
            ],
            [
             0.8888888888888888,
             "#fdca26"
            ],
            [
             1,
             "#f0f921"
            ]
           ],
           "sequentialminus": [
            [
             0,
             "#0d0887"
            ],
            [
             0.1111111111111111,
             "#46039f"
            ],
            [
             0.2222222222222222,
             "#7201a8"
            ],
            [
             0.3333333333333333,
             "#9c179e"
            ],
            [
             0.4444444444444444,
             "#bd3786"
            ],
            [
             0.5555555555555556,
             "#d8576b"
            ],
            [
             0.6666666666666666,
             "#ed7953"
            ],
            [
             0.7777777777777778,
             "#fb9f3a"
            ],
            [
             0.8888888888888888,
             "#fdca26"
            ],
            [
             1,
             "#f0f921"
            ]
           ]
          },
          "colorway": [
           "#636efa",
           "#EF553B",
           "#00cc96",
           "#ab63fa",
           "#FFA15A",
           "#19d3f3",
           "#FF6692",
           "#B6E880",
           "#FF97FF",
           "#FECB52"
          ],
          "font": {
           "color": "#2a3f5f"
          },
          "geo": {
           "bgcolor": "white",
           "lakecolor": "white",
           "landcolor": "#E5ECF6",
           "showlakes": true,
           "showland": true,
           "subunitcolor": "white"
          },
          "hoverlabel": {
           "align": "left"
          },
          "hovermode": "closest",
          "mapbox": {
           "style": "light"
          },
          "paper_bgcolor": "white",
          "plot_bgcolor": "#E5ECF6",
          "polar": {
           "angularaxis": {
            "gridcolor": "white",
            "linecolor": "white",
            "ticks": ""
           },
           "bgcolor": "#E5ECF6",
           "radialaxis": {
            "gridcolor": "white",
            "linecolor": "white",
            "ticks": ""
           }
          },
          "scene": {
           "xaxis": {
            "backgroundcolor": "#E5ECF6",
            "gridcolor": "white",
            "gridwidth": 2,
            "linecolor": "white",
            "showbackground": true,
            "ticks": "",
            "zerolinecolor": "white"
           },
           "yaxis": {
            "backgroundcolor": "#E5ECF6",
            "gridcolor": "white",
            "gridwidth": 2,
            "linecolor": "white",
            "showbackground": true,
            "ticks": "",
            "zerolinecolor": "white"
           },
           "zaxis": {
            "backgroundcolor": "#E5ECF6",
            "gridcolor": "white",
            "gridwidth": 2,
            "linecolor": "white",
            "showbackground": true,
            "ticks": "",
            "zerolinecolor": "white"
           }
          },
          "shapedefaults": {
           "line": {
            "color": "#2a3f5f"
           }
          },
          "ternary": {
           "aaxis": {
            "gridcolor": "white",
            "linecolor": "white",
            "ticks": ""
           },
           "baxis": {
            "gridcolor": "white",
            "linecolor": "white",
            "ticks": ""
           },
           "bgcolor": "#E5ECF6",
           "caxis": {
            "gridcolor": "white",
            "linecolor": "white",
            "ticks": ""
           }
          },
          "title": {
           "x": 0.05
          },
          "xaxis": {
           "automargin": true,
           "gridcolor": "white",
           "linecolor": "white",
           "ticks": "",
           "zerolinecolor": "white",
           "zerolinewidth": 2
          },
          "yaxis": {
           "automargin": true,
           "gridcolor": "white",
           "linecolor": "white",
           "ticks": "",
           "zerolinecolor": "white",
           "zerolinewidth": 2
          }
         }
        },
        "title": {
         "text": "People Having laptop or/not"
        },
        "xaxis": {
         "linecolor": "black",
         "linewidth": 2,
         "mirror": true,
         "showline": true,
         "showticklabels": true,
         "tickangle": 45,
         "tickfont": {
          "color": "red",
          "size": 10
         },
         "title": {
          "text": "Laptop"
         },
         "zeroline": true,
         "zerolinecolor": "grey",
         "zerolinewidth": 1
        },
        "yaxis": {
         "gridcolor": "lightgrey",
         "linecolor": "black",
         "linewidth": 2,
         "mirror": true,
         "showline": true,
         "title": {
          "text": "No. of laptops"
         },
         "zeroline": true,
         "zerolinecolor": "grey",
         "zerolinewidth": 1
        }
       }
      },
      "text/html": [
       "<div>\n",
       "        \n",
       "        \n",
       "            <div id=\"c190b8e7-201e-411c-8c90-9bddd11c440a\" class=\"plotly-graph-div\" style=\"height:525px; width:100%;\"></div>\n",
       "            <script type=\"text/javascript\">\n",
       "                require([\"plotly\"], function(Plotly) {\n",
       "                    window.PLOTLYENV=window.PLOTLYENV || {};\n",
       "                    \n",
       "                if (document.getElementById(\"c190b8e7-201e-411c-8c90-9bddd11c440a\")) {\n",
       "                    Plotly.newPlot(\n",
       "                        'c190b8e7-201e-411c-8c90-9bddd11c440a',\n",
       "                        [{\"marker\": {\"color\": \"purple\"}, \"text\": [\"Yes\", \"No\", \"Having own laptop/system \"], \"type\": \"bar\", \"x\": [\"Yes\", \"No\", \"Having own laptop/system \"], \"y\": [727, 194, 1]}],\n",
       "                        {\"hovermode\": \"closest\", \"paper_bgcolor\": \"rgba(0, 0, 0, 0)\", \"plot_bgcolor\": \"rgba(0, 0, 0, 0)\", \"template\": {\"data\": {\"bar\": [{\"error_x\": {\"color\": \"#2a3f5f\"}, \"error_y\": {\"color\": \"#2a3f5f\"}, \"marker\": {\"line\": {\"color\": \"#E5ECF6\", \"width\": 0.5}}, \"type\": \"bar\"}], \"barpolar\": [{\"marker\": {\"line\": {\"color\": \"#E5ECF6\", \"width\": 0.5}}, \"type\": \"barpolar\"}], \"carpet\": [{\"aaxis\": {\"endlinecolor\": \"#2a3f5f\", \"gridcolor\": \"white\", \"linecolor\": \"white\", \"minorgridcolor\": \"white\", \"startlinecolor\": \"#2a3f5f\"}, \"baxis\": {\"endlinecolor\": \"#2a3f5f\", \"gridcolor\": \"white\", \"linecolor\": \"white\", \"minorgridcolor\": \"white\", \"startlinecolor\": \"#2a3f5f\"}, \"type\": \"carpet\"}], \"choropleth\": [{\"colorbar\": {\"outlinewidth\": 0, \"ticks\": \"\"}, \"type\": \"choropleth\"}], \"contour\": [{\"colorbar\": {\"outlinewidth\": 0, \"ticks\": \"\"}, \"colorscale\": [[0.0, \"#0d0887\"], [0.1111111111111111, \"#46039f\"], [0.2222222222222222, \"#7201a8\"], [0.3333333333333333, \"#9c179e\"], [0.4444444444444444, \"#bd3786\"], [0.5555555555555556, \"#d8576b\"], [0.6666666666666666, \"#ed7953\"], [0.7777777777777778, \"#fb9f3a\"], [0.8888888888888888, \"#fdca26\"], [1.0, \"#f0f921\"]], \"type\": \"contour\"}], \"contourcarpet\": [{\"colorbar\": {\"outlinewidth\": 0, \"ticks\": \"\"}, \"type\": \"contourcarpet\"}], \"heatmap\": [{\"colorbar\": {\"outlinewidth\": 0, \"ticks\": \"\"}, \"colorscale\": [[0.0, \"#0d0887\"], [0.1111111111111111, \"#46039f\"], [0.2222222222222222, \"#7201a8\"], [0.3333333333333333, \"#9c179e\"], [0.4444444444444444, \"#bd3786\"], [0.5555555555555556, \"#d8576b\"], [0.6666666666666666, \"#ed7953\"], [0.7777777777777778, \"#fb9f3a\"], [0.8888888888888888, \"#fdca26\"], [1.0, \"#f0f921\"]], \"type\": \"heatmap\"}], \"heatmapgl\": [{\"colorbar\": {\"outlinewidth\": 0, \"ticks\": \"\"}, \"colorscale\": [[0.0, \"#0d0887\"], [0.1111111111111111, \"#46039f\"], [0.2222222222222222, \"#7201a8\"], [0.3333333333333333, \"#9c179e\"], [0.4444444444444444, \"#bd3786\"], [0.5555555555555556, \"#d8576b\"], [0.6666666666666666, \"#ed7953\"], [0.7777777777777778, \"#fb9f3a\"], [0.8888888888888888, \"#fdca26\"], [1.0, \"#f0f921\"]], \"type\": \"heatmapgl\"}], \"histogram\": [{\"marker\": {\"colorbar\": {\"outlinewidth\": 0, \"ticks\": \"\"}}, \"type\": \"histogram\"}], \"histogram2d\": [{\"colorbar\": {\"outlinewidth\": 0, \"ticks\": \"\"}, \"colorscale\": [[0.0, \"#0d0887\"], [0.1111111111111111, \"#46039f\"], [0.2222222222222222, \"#7201a8\"], [0.3333333333333333, \"#9c179e\"], [0.4444444444444444, \"#bd3786\"], [0.5555555555555556, \"#d8576b\"], [0.6666666666666666, \"#ed7953\"], [0.7777777777777778, \"#fb9f3a\"], [0.8888888888888888, \"#fdca26\"], [1.0, \"#f0f921\"]], \"type\": \"histogram2d\"}], \"histogram2dcontour\": [{\"colorbar\": {\"outlinewidth\": 0, \"ticks\": \"\"}, \"colorscale\": [[0.0, \"#0d0887\"], [0.1111111111111111, \"#46039f\"], [0.2222222222222222, \"#7201a8\"], [0.3333333333333333, \"#9c179e\"], [0.4444444444444444, \"#bd3786\"], [0.5555555555555556, \"#d8576b\"], [0.6666666666666666, \"#ed7953\"], [0.7777777777777778, \"#fb9f3a\"], [0.8888888888888888, \"#fdca26\"], [1.0, \"#f0f921\"]], \"type\": \"histogram2dcontour\"}], \"mesh3d\": [{\"colorbar\": {\"outlinewidth\": 0, \"ticks\": \"\"}, \"type\": \"mesh3d\"}], \"parcoords\": [{\"line\": {\"colorbar\": {\"outlinewidth\": 0, \"ticks\": \"\"}}, \"type\": \"parcoords\"}], \"scatter\": [{\"marker\": {\"colorbar\": {\"outlinewidth\": 0, \"ticks\": \"\"}}, \"type\": \"scatter\"}], \"scatter3d\": [{\"line\": {\"colorbar\": {\"outlinewidth\": 0, \"ticks\": \"\"}}, \"marker\": {\"colorbar\": {\"outlinewidth\": 0, \"ticks\": \"\"}}, \"type\": \"scatter3d\"}], \"scattercarpet\": [{\"marker\": {\"colorbar\": {\"outlinewidth\": 0, \"ticks\": \"\"}}, \"type\": \"scattercarpet\"}], \"scattergeo\": [{\"marker\": {\"colorbar\": {\"outlinewidth\": 0, \"ticks\": \"\"}}, \"type\": \"scattergeo\"}], \"scattergl\": [{\"marker\": {\"colorbar\": {\"outlinewidth\": 0, \"ticks\": \"\"}}, \"type\": \"scattergl\"}], \"scattermapbox\": [{\"marker\": {\"colorbar\": {\"outlinewidth\": 0, \"ticks\": \"\"}}, \"type\": \"scattermapbox\"}], \"scatterpolar\": [{\"marker\": {\"colorbar\": {\"outlinewidth\": 0, \"ticks\": \"\"}}, \"type\": \"scatterpolar\"}], \"scatterpolargl\": [{\"marker\": {\"colorbar\": {\"outlinewidth\": 0, \"ticks\": \"\"}}, \"type\": \"scatterpolargl\"}], \"scatterternary\": [{\"marker\": {\"colorbar\": {\"outlinewidth\": 0, \"ticks\": \"\"}}, \"type\": \"scatterternary\"}], \"surface\": [{\"colorbar\": {\"outlinewidth\": 0, \"ticks\": \"\"}, \"colorscale\": [[0.0, \"#0d0887\"], [0.1111111111111111, \"#46039f\"], [0.2222222222222222, \"#7201a8\"], [0.3333333333333333, \"#9c179e\"], [0.4444444444444444, \"#bd3786\"], [0.5555555555555556, \"#d8576b\"], [0.6666666666666666, \"#ed7953\"], [0.7777777777777778, \"#fb9f3a\"], [0.8888888888888888, \"#fdca26\"], [1.0, \"#f0f921\"]], \"type\": \"surface\"}], \"table\": [{\"cells\": {\"fill\": {\"color\": \"#EBF0F8\"}, \"line\": {\"color\": \"white\"}}, \"header\": {\"fill\": {\"color\": \"#C8D4E3\"}, \"line\": {\"color\": \"white\"}}, \"type\": \"table\"}]}, \"layout\": {\"annotationdefaults\": {\"arrowcolor\": \"#2a3f5f\", \"arrowhead\": 0, \"arrowwidth\": 1}, \"colorscale\": {\"diverging\": [[0, \"#8e0152\"], [0.1, \"#c51b7d\"], [0.2, \"#de77ae\"], [0.3, \"#f1b6da\"], [0.4, \"#fde0ef\"], [0.5, \"#f7f7f7\"], [0.6, \"#e6f5d0\"], [0.7, \"#b8e186\"], [0.8, \"#7fbc41\"], [0.9, \"#4d9221\"], [1, \"#276419\"]], \"sequential\": [[0.0, \"#0d0887\"], [0.1111111111111111, \"#46039f\"], [0.2222222222222222, \"#7201a8\"], [0.3333333333333333, \"#9c179e\"], [0.4444444444444444, \"#bd3786\"], [0.5555555555555556, \"#d8576b\"], [0.6666666666666666, \"#ed7953\"], [0.7777777777777778, \"#fb9f3a\"], [0.8888888888888888, \"#fdca26\"], [1.0, \"#f0f921\"]], \"sequentialminus\": [[0.0, \"#0d0887\"], [0.1111111111111111, \"#46039f\"], [0.2222222222222222, \"#7201a8\"], [0.3333333333333333, \"#9c179e\"], [0.4444444444444444, \"#bd3786\"], [0.5555555555555556, \"#d8576b\"], [0.6666666666666666, \"#ed7953\"], [0.7777777777777778, \"#fb9f3a\"], [0.8888888888888888, \"#fdca26\"], [1.0, \"#f0f921\"]]}, \"colorway\": [\"#636efa\", \"#EF553B\", \"#00cc96\", \"#ab63fa\", \"#FFA15A\", \"#19d3f3\", \"#FF6692\", \"#B6E880\", \"#FF97FF\", \"#FECB52\"], \"font\": {\"color\": \"#2a3f5f\"}, \"geo\": {\"bgcolor\": \"white\", \"lakecolor\": \"white\", \"landcolor\": \"#E5ECF6\", \"showlakes\": true, \"showland\": true, \"subunitcolor\": \"white\"}, \"hoverlabel\": {\"align\": \"left\"}, \"hovermode\": \"closest\", \"mapbox\": {\"style\": \"light\"}, \"paper_bgcolor\": \"white\", \"plot_bgcolor\": \"#E5ECF6\", \"polar\": {\"angularaxis\": {\"gridcolor\": \"white\", \"linecolor\": \"white\", \"ticks\": \"\"}, \"bgcolor\": \"#E5ECF6\", \"radialaxis\": {\"gridcolor\": \"white\", \"linecolor\": \"white\", \"ticks\": \"\"}}, \"scene\": {\"xaxis\": {\"backgroundcolor\": \"#E5ECF6\", \"gridcolor\": \"white\", \"gridwidth\": 2, \"linecolor\": \"white\", \"showbackground\": true, \"ticks\": \"\", \"zerolinecolor\": \"white\"}, \"yaxis\": {\"backgroundcolor\": \"#E5ECF6\", \"gridcolor\": \"white\", \"gridwidth\": 2, \"linecolor\": \"white\", \"showbackground\": true, \"ticks\": \"\", \"zerolinecolor\": \"white\"}, \"zaxis\": {\"backgroundcolor\": \"#E5ECF6\", \"gridcolor\": \"white\", \"gridwidth\": 2, \"linecolor\": \"white\", \"showbackground\": true, \"ticks\": \"\", \"zerolinecolor\": \"white\"}}, \"shapedefaults\": {\"line\": {\"color\": \"#2a3f5f\"}}, \"ternary\": {\"aaxis\": {\"gridcolor\": \"white\", \"linecolor\": \"white\", \"ticks\": \"\"}, \"baxis\": {\"gridcolor\": \"white\", \"linecolor\": \"white\", \"ticks\": \"\"}, \"bgcolor\": \"#E5ECF6\", \"caxis\": {\"gridcolor\": \"white\", \"linecolor\": \"white\", \"ticks\": \"\"}}, \"title\": {\"x\": 0.05}, \"xaxis\": {\"automargin\": true, \"gridcolor\": \"white\", \"linecolor\": \"white\", \"ticks\": \"\", \"zerolinecolor\": \"white\", \"zerolinewidth\": 2}, \"yaxis\": {\"automargin\": true, \"gridcolor\": \"white\", \"linecolor\": \"white\", \"ticks\": \"\", \"zerolinecolor\": \"white\", \"zerolinewidth\": 2}}}, \"title\": {\"text\": \"People Having laptop or/not\"}, \"xaxis\": {\"linecolor\": \"black\", \"linewidth\": 2, \"mirror\": true, \"showline\": true, \"showticklabels\": true, \"tickangle\": 45, \"tickfont\": {\"color\": \"red\", \"size\": 10}, \"title\": {\"text\": \"Laptop\"}, \"zeroline\": true, \"zerolinecolor\": \"grey\", \"zerolinewidth\": 1}, \"yaxis\": {\"gridcolor\": \"lightgrey\", \"linecolor\": \"black\", \"linewidth\": 2, \"mirror\": true, \"showline\": true, \"title\": {\"text\": \"No. of laptops\"}, \"zeroline\": true, \"zerolinecolor\": \"grey\", \"zerolinewidth\": 1}},\n",
       "                        {\"responsive\": true}\n",
       "                    ).then(function(){\n",
       "                            \n",
       "var gd = document.getElementById('c190b8e7-201e-411c-8c90-9bddd11c440a');\n",
       "var x = new MutationObserver(function (mutations, observer) {{\n",
       "        var display = window.getComputedStyle(gd).display;\n",
       "        if (!display || display === 'none') {{\n",
       "            console.log([gd, 'removed!']);\n",
       "            Plotly.purge(gd);\n",
       "            observer.disconnect();\n",
       "        }}\n",
       "}});\n",
       "\n",
       "// Listen for the removal of the full notebook cells\n",
       "var notebookContainer = gd.closest('#notebook-container');\n",
       "if (notebookContainer) {{\n",
       "    x.observe(notebookContainer, {childList: true});\n",
       "}}\n",
       "\n",
       "// Listen for the clearing of the current output cell\n",
       "var outputEl = gd.closest('.output');\n",
       "if (outputEl) {{\n",
       "    x.observe(outputEl, {childList: true});\n",
       "}}\n",
       "\n",
       "                        })\n",
       "                };\n",
       "                });\n",
       "            </script>\n",
       "        </div>"
      ]
     },
     "metadata": {},
     "output_type": "display_data"
    }
   ],
   "source": [
    "laptop_counts=df['People having laptop '].value_counts()\n",
    "dj=laptop_counts\n",
    "hh=df.drop_duplicates(subset=['People having laptop '],keep='first')\n",
    "draw_trace_bar(hh,'People having laptop ',dj,\"People Having laptop or/not\",\"Laptop\",\"No. of laptops\",\"purple\")\n"
   ]
  },
  {
   "cell_type": "markdown",
   "metadata": {},
   "source": [
    "727 people had laptops and 194 people did not have laptops and 1 people owned a system"
   ]
  },
  {
   "cell_type": "code",
   "execution_count": 47,
   "metadata": {},
   "outputs": [
    {
     "data": {
      "text/plain": [
       "Index(['Unnamed: 0', 'Time Stamp ', 'Name of the candidate ', 'College name ',\n",
       "       'Brach ', 'People having laptop ', 'Souce of communication ',\n",
       "       'Country '],\n",
       "      dtype='object')"
      ]
     },
     "execution_count": 47,
     "metadata": {},
     "output_type": "execute_result"
    }
   ],
   "source": [
    "df.columns"
   ]
  },
  {
   "cell_type": "code",
   "execution_count": 53,
   "metadata": {},
   "outputs": [
    {
     "data": {
      "text/html": [
       "<div>\n",
       "<style scoped>\n",
       "    .dataframe tbody tr th:only-of-type {\n",
       "        vertical-align: middle;\n",
       "    }\n",
       "\n",
       "    .dataframe tbody tr th {\n",
       "        vertical-align: top;\n",
       "    }\n",
       "\n",
       "    .dataframe thead th {\n",
       "        text-align: right;\n",
       "    }\n",
       "</style>\n",
       "<table border=\"1\" class=\"dataframe\">\n",
       "  <thead>\n",
       "    <tr style=\"text-align: right;\">\n",
       "      <th></th>\n",
       "      <th>College name</th>\n",
       "      <th>Brach</th>\n",
       "      <th>Country</th>\n",
       "    </tr>\n",
       "    <tr>\n",
       "      <th>People having laptop</th>\n",
       "      <th></th>\n",
       "      <th></th>\n",
       "      <th></th>\n",
       "    </tr>\n",
       "  </thead>\n",
       "  <tbody>\n",
       "    <tr>\n",
       "      <th>No</th>\n",
       "      <td>J.K College</td>\n",
       "      <td>B.Com (H)</td>\n",
       "      <td>India</td>\n",
       "    </tr>\n",
       "    <tr>\n",
       "      <th>No</th>\n",
       "      <td>Global Nature Care Sangathan Group Of Institut...</td>\n",
       "      <td>Civil Engineering</td>\n",
       "      <td>India</td>\n",
       "    </tr>\n",
       "    <tr>\n",
       "      <th>No</th>\n",
       "      <td>Purulia zilla school</td>\n",
       "      <td>Atrs</td>\n",
       "      <td>India</td>\n",
       "    </tr>\n",
       "    <tr>\n",
       "      <th>No</th>\n",
       "      <td>Ramakrishna Mission Shilpapitha</td>\n",
       "      <td>Electronics and telecommunication</td>\n",
       "      <td>India</td>\n",
       "    </tr>\n",
       "    <tr>\n",
       "      <th>No</th>\n",
       "      <td>Viswass school &amp; college of nursing</td>\n",
       "      <td>B.sc nursing</td>\n",
       "      <td>India</td>\n",
       "    </tr>\n",
       "    <tr>\n",
       "      <th>...</th>\n",
       "      <td>...</td>\n",
       "      <td>...</td>\n",
       "      <td>...</td>\n",
       "    </tr>\n",
       "    <tr>\n",
       "      <th>No</th>\n",
       "      <td>Maulana azad college</td>\n",
       "      <td>Honors (BSC/MSC)</td>\n",
       "      <td>0</td>\n",
       "    </tr>\n",
       "    <tr>\n",
       "      <th>No</th>\n",
       "      <td>Maulana Azad College</td>\n",
       "      <td>Honors (BSC/MSC)</td>\n",
       "      <td>0</td>\n",
       "    </tr>\n",
       "    <tr>\n",
       "      <th>No</th>\n",
       "      <td>Maulana Azad College</td>\n",
       "      <td>Honors (BSC/MSC)</td>\n",
       "      <td>0</td>\n",
       "    </tr>\n",
       "    <tr>\n",
       "      <th>No</th>\n",
       "      <td>Maulana Azad College</td>\n",
       "      <td>Honors (BSC/MSC)</td>\n",
       "      <td>0</td>\n",
       "    </tr>\n",
       "    <tr>\n",
       "      <th>No</th>\n",
       "      <td>Maulona Azad College</td>\n",
       "      <td>Honors (BSC/MSC)</td>\n",
       "      <td>0</td>\n",
       "    </tr>\n",
       "  </tbody>\n",
       "</table>\n",
       "<p>194 rows × 3 columns</p>\n",
       "</div>"
      ],
      "text/plain": [
       "                                                           College name   \\\n",
       "People having laptop                                                       \n",
       "No                                                           J.K College   \n",
       "No                     Global Nature Care Sangathan Group Of Institut...   \n",
       "No                                                 Purulia zilla school    \n",
       "No                                       Ramakrishna Mission Shilpapitha   \n",
       "No                                   Viswass school & college of nursing   \n",
       "...                                                                  ...   \n",
       "No                                                 Maulana azad college    \n",
       "No                                                 Maulana Azad College    \n",
       "No                                                  Maulana Azad College   \n",
       "No                                                  Maulana Azad College   \n",
       "No                                                  Maulona Azad College   \n",
       "\n",
       "                                                  Brach  Country   \n",
       "People having laptop                                               \n",
       "No                                             B.Com (H)    India  \n",
       "No                                     Civil Engineering    India  \n",
       "No                                                  Atrs    India  \n",
       "No                     Electronics and telecommunication    India  \n",
       "No                                          B.sc nursing    India  \n",
       "...                                                  ...      ...  \n",
       "No                                      Honors (BSC/MSC)        0  \n",
       "No                                      Honors (BSC/MSC)        0  \n",
       "No                                      Honors (BSC/MSC)        0  \n",
       "No                                      Honors (BSC/MSC)        0  \n",
       "No                                      Honors (BSC/MSC)        0  \n",
       "\n",
       "[194 rows x 3 columns]"
      ]
     },
     "execution_count": 53,
     "metadata": {},
     "output_type": "execute_result"
    }
   ],
   "source": [
    "ff=df.loc[df['People having laptop ']=='No']\n",
    "ff.drop(['Unnamed: 0', 'Time Stamp ', 'Name of the candidate ','Souce of communication '],axis=1,inplace=True)\n",
    "ff.set_index('People having laptop ')"
   ]
  },
  {
   "cell_type": "markdown",
   "metadata": {},
   "source": [
    "The above data set shows the college name,branch,country of students having no laptops."
   ]
  },
  {
   "cell_type": "code",
   "execution_count": 93,
   "metadata": {},
   "outputs": [
    {
     "data": {
      "application/vnd.plotly.v1+json": {
       "config": {
        "linkText": "Export to plot.ly",
        "plotlyServerURL": "https://plot.ly",
        "showLink": false
       },
       "data": [
        {
         "marker": {
          "color": "purple"
         },
         "text": [
          "Facebook ",
          "Friend",
          "Rohan Rakshit",
          "Rajeswari pal",
          "Freind",
          "Via WhatsApp message of one of my friend",
          "Social media",
          "Facebook",
          "Friends",
          "Rohan",
          "A Friend",
          "Friend ",
          "WhatsApp group",
          "Rajeswari  pal",
          "TM sir Group ",
          "Sanghamitra Majumdar",
          "From my friend Rupsa",
          "Online",
          "College, HOD ",
          "Whatsapp",
          "email",
          "Tuition batch",
          "From friends circle",
          "Tulshi Sir",
          "Subhra roy",
          "College",
          "Whatsapp ",
          "From my statistics teacher.",
          "Professor",
          "LinkedIn",
          "Tuition teacher ",
          "A whatsapp group",
          "Whatsapp group",
          "From a friend",
          "A friend",
          "Nairanjana Sarkar",
          "Facebook event",
          "From a friend ",
          "Sister",
          "Sudip Nandi",
          "Social Media",
          "My friend told me",
          "Tuition group ",
          "Naser Abdullah Alam ",
          "Ankita Ghosh",
          "newspaper ",
          "Teacher",
          "Rajeshwari Pal",
          "Via friend ",
          "COLLEGE FRIEND",
          "Sanghamitra Majumder",
          "SANGHAMITRA MAJUMDER",
          "EDC, Diatm",
          "A status was posted by a senior of my dept.Seeing this I would like to ",
          "Through a friend",
          "Tulsidas Mukherjee ",
          "My friend ",
          "From tuition",
          "My College Friend",
          "From classmate ",
          "HOD of our college's statistics department, PP sir",
          "facebook",
          "Jobs for nsuers",
          "Jobs  for nsuers",
          "Facebook post ",
          " college Senior",
          "Nairanjana sarkar",
          "fb",
          "Facebook group",
          "Debarchan Mukherjee",
          "Friend circle",
          "My niece",
          "University friend ",
          "Comilla University   ",
          "Fried",
          "TEACHERS",
          "Softanbees free boot camp program",
          "By a friend",
          "Subham sah/Manish Kumar",
          "Facebook Groups",
          "My friend",
          "College whatsapp group",
          "Krisnomita Banerjee",
          "From my friend",
          "WhatsApp Group",
          "friend",
          "Professor ",
          "Whatsapp group ",
          "Cse/eee group Bangladesh ",
          "Friends ",
          "Krishnamita Banerjee",
          "By college",
          "Get notified through friends",
          "My Friend",
          "Fb",
          "I find this program via facebook event. ",
          "Facebook post from a classmate",
          "Facebook Event",
          "Fb ",
          "MD. Rezwan Hosaain Naeem",
          "Facebook job group page ",
          "Pritama Roy",
          "Dont know",
          "One of my teacher told me about this",
          "WhatsApp ",
          "Snehashis Debnath",
          "Whatsapp Group ",
          "Source of reference ",
          "From friends",
          "Facebook Ads",
          "From a Friend",
          "Through a friend ",
          "DIATM collage",
          "Tulsidas Sir",
          "WhatsApp link",
          "College Friends",
          "Through college",
          "friends",
          "I came to know about this from my friend",
          "Mail id",
          "College Friends ",
          "Instagram",
          "Friend's suggestions",
          "Surjo ghosh",
          "Nil",
          "Yes ",
          "No",
          "Email ",
          "Tution teacher prof Tulsidas Mukherjee",
          "From one of my friends who have joined this program ",
          "Group invite link",
          "Soumya Dutta",
          "Tutor",
          "Mail",
          "FRIEND",
          "Mr. Tulshi Das Mukherjee",
          "Frined",
          "Whatsapp chat",
          "Softanbees free boot camp program .",
          "Entrepreneurship Development Cell, DIATM",
          "Rittick Npti",
          "Whatsapp Group",
          "College Group",
          "Freinds",
          "FRIEND ",
          "One of my friends",
          "Via friend",
          "Lisha Ghosh ",
          "Watsapp",
          "Manish",
          "Tulshidas Mukhopadhyay,Kolkata",
          "Tulshidas Mukhopadhyay, Kolkata",
          "whatsapp group ",
          "Student of our Institution",
          "College WhatsApp group ",
          "Friend.",
          "Tution sir",
          "Soumya brata Mahapatra",
          "Facebook event ad",
          "whatapp group",
          "College group",
          "One of my friend ",
          "Link from a friend",
          "TDM sir",
          "From the college",
          "Monojit Saha",
          "Friends' suggestion   ",
          "Friend(Ankita Ghosh)",
          "Internet",
          "WhatsApp",
          "Ftiend",
          "Other students",
          "College teacher informed us",
          "From the whatsapp group",
          "From whatsapp group",
          "Statistics tuition sir",
          "Statistics tuition sir (Tulsidas Mukherjee)",
          "One of my friends ",
          "Ritick Sarkar ",
          "Tuition sir",
          "E-Leader",
          "Tuition teacher",
          "From teachers",
          "Whats app group",
          "Tulsi Das Mukherjee",
          "What's app reference",
          "AIUB course solution",
          "Whatsapp group  ",
          "One of my friend informed me about this",
          "University faculty",
          "From varsity group ",
          "My friend...",
          "Deepa Mondal",
          "Facebook  ",
          "Ijaz Mahamud Fuad",
          "Frnd",
          "College faculties",
          "Tution Sir",
          "Link from friend",
          "Webminar",
          "College Campus",
          "college",
          "From teachers of our MCA department.",
          "COLLEGE",
          "Facebook page",
          "College facility",
          "College Faculty",
          "College teacher",
          "College ",
          "Department",
          "I got to know about this from my college's ma'am."
         ],
         "type": "bar",
         "x": [
          "Facebook ",
          "Friend",
          "Rohan Rakshit",
          "Rajeswari pal",
          "Freind",
          "Via WhatsApp message of one of my friend",
          "Social media",
          "Facebook",
          "Friends",
          "Rohan",
          "A Friend",
          "Friend ",
          "WhatsApp group",
          "Rajeswari  pal",
          "TM sir Group ",
          "Sanghamitra Majumdar",
          "From my friend Rupsa",
          "Online",
          "College, HOD ",
          "Whatsapp",
          "email",
          "Tuition batch",
          "From friends circle",
          "Tulshi Sir",
          "Subhra roy",
          "College",
          "Whatsapp ",
          "From my statistics teacher.",
          "Professor",
          "LinkedIn",
          "Tuition teacher ",
          "A whatsapp group",
          "Whatsapp group",
          "From a friend",
          "A friend",
          "Nairanjana Sarkar",
          "Facebook event",
          "From a friend ",
          "Sister",
          "Sudip Nandi",
          "Social Media",
          "My friend told me",
          "Tuition group ",
          "Naser Abdullah Alam ",
          "Ankita Ghosh",
          "newspaper ",
          "Teacher",
          "Rajeshwari Pal",
          "Via friend ",
          "COLLEGE FRIEND",
          "Sanghamitra Majumder",
          "SANGHAMITRA MAJUMDER",
          "EDC, Diatm",
          "A status was posted by a senior of my dept.Seeing this I would like to ",
          "Through a friend",
          "Tulsidas Mukherjee ",
          "My friend ",
          "From tuition",
          "My College Friend",
          "From classmate ",
          "HOD of our college's statistics department, PP sir",
          "facebook",
          "Jobs for nsuers",
          "Jobs  for nsuers",
          "Facebook post ",
          " college Senior",
          "Nairanjana sarkar",
          "fb",
          "Facebook group",
          "Debarchan Mukherjee",
          "Friend circle",
          "My niece",
          "University friend ",
          "Comilla University   ",
          "Fried",
          "TEACHERS",
          "Softanbees free boot camp program",
          "By a friend",
          "Subham sah/Manish Kumar",
          "Facebook Groups",
          "My friend",
          "College whatsapp group",
          "Krisnomita Banerjee",
          "From my friend",
          "WhatsApp Group",
          "friend",
          "Professor ",
          "Whatsapp group ",
          "Cse/eee group Bangladesh ",
          "Friends ",
          "Krishnamita Banerjee",
          "By college",
          "Get notified through friends",
          "My Friend",
          "Fb",
          "I find this program via facebook event. ",
          "Facebook post from a classmate",
          "Facebook Event",
          "Fb ",
          "MD. Rezwan Hosaain Naeem",
          "Facebook job group page ",
          "Pritama Roy",
          "Dont know",
          "One of my teacher told me about this",
          "WhatsApp ",
          "Snehashis Debnath",
          "Whatsapp Group ",
          "Source of reference ",
          "From friends",
          "Facebook Ads",
          "From a Friend",
          "Through a friend ",
          "DIATM collage",
          "Tulsidas Sir",
          "WhatsApp link",
          "College Friends",
          "Through college",
          "friends",
          "I came to know about this from my friend",
          "Mail id",
          "College Friends ",
          "Instagram",
          "Friend's suggestions",
          "Surjo ghosh",
          "Nil",
          "Yes ",
          "No",
          "Email ",
          "Tution teacher prof Tulsidas Mukherjee",
          "From one of my friends who have joined this program ",
          "Group invite link",
          "Soumya Dutta",
          "Tutor",
          "Mail",
          "FRIEND",
          "Mr. Tulshi Das Mukherjee",
          "Frined",
          "Whatsapp chat",
          "Softanbees free boot camp program .",
          "Entrepreneurship Development Cell, DIATM",
          "Rittick Npti",
          "Whatsapp Group",
          "College Group",
          "Freinds",
          "FRIEND ",
          "One of my friends",
          "Via friend",
          "Lisha Ghosh ",
          "Watsapp",
          "Manish",
          "Tulshidas Mukhopadhyay,Kolkata",
          "Tulshidas Mukhopadhyay, Kolkata",
          "whatsapp group ",
          "Student of our Institution",
          "College WhatsApp group ",
          "Friend.",
          "Tution sir",
          "Soumya brata Mahapatra",
          "Facebook event ad",
          "whatapp group",
          "College group",
          "One of my friend ",
          "Link from a friend",
          "TDM sir",
          "From the college",
          "Monojit Saha",
          "Friends' suggestion   ",
          "Friend(Ankita Ghosh)",
          "Internet",
          "WhatsApp",
          "Ftiend",
          "Other students",
          "College teacher informed us",
          "From the whatsapp group",
          "From whatsapp group",
          "Statistics tuition sir",
          "Statistics tuition sir (Tulsidas Mukherjee)",
          "One of my friends ",
          "Ritick Sarkar ",
          "Tuition sir",
          "E-Leader",
          "Tuition teacher",
          "From teachers",
          "Whats app group",
          "Tulsi Das Mukherjee",
          "What's app reference",
          "AIUB course solution",
          "Whatsapp group  ",
          "One of my friend informed me about this",
          "University faculty",
          "From varsity group ",
          "My friend...",
          "Deepa Mondal",
          "Facebook  ",
          "Ijaz Mahamud Fuad",
          "Frnd",
          "College faculties",
          "Tution Sir",
          "Link from friend",
          "Webminar",
          "College Campus",
          "college",
          "From teachers of our MCA department.",
          "COLLEGE",
          "Facebook page",
          "College facility",
          "College Faculty",
          "College teacher",
          "College ",
          "Department",
          "I got to know about this from my college's ma'am."
         ],
         "y": [
          66,
          27,
          26,
          18,
          11,
          10,
          9,
          6,
          6,
          5,
          4,
          4,
          4,
          4,
          3,
          3,
          3,
          3,
          3,
          3,
          3,
          3,
          2,
          2,
          2,
          2,
          2,
          2,
          2,
          2,
          2,
          2,
          2,
          2,
          2,
          2,
          2,
          2,
          2,
          2,
          2,
          1,
          1,
          1,
          1,
          1,
          1,
          1,
          1,
          1,
          1,
          1,
          1,
          1,
          1,
          1,
          1,
          1,
          1,
          1,
          1,
          1,
          1,
          1,
          1,
          1,
          1,
          1,
          1,
          1,
          1,
          1,
          1,
          1,
          1,
          1,
          1,
          1,
          1,
          1,
          1,
          1,
          1,
          1,
          1,
          1,
          1,
          1,
          1,
          1,
          1,
          1,
          1,
          1,
          1,
          1,
          1,
          1,
          1,
          1,
          1,
          1,
          1,
          1,
          1,
          1,
          1,
          1,
          1,
          1,
          1,
          1,
          1,
          1,
          1,
          1,
          1,
          1,
          1,
          1,
          1,
          1,
          1,
          1,
          1,
          1,
          1,
          1,
          1,
          1,
          1,
          1,
          1,
          1,
          1,
          1,
          1,
          1,
          1,
          1,
          1,
          1,
          1,
          1,
          1,
          1,
          1,
          1,
          1,
          1,
          1,
          1,
          1,
          1,
          1,
          1,
          1,
          1,
          1,
          1,
          1,
          1,
          1,
          1,
          1,
          1,
          1,
          1,
          1,
          1,
          1,
          1,
          1,
          1,
          1,
          1,
          1,
          1,
          1,
          1,
          1,
          1,
          1,
          1,
          1,
          1,
          1,
          1,
          1,
          1,
          1,
          1,
          1,
          1,
          1,
          1,
          1,
          1,
          1,
          1,
          1,
          1,
          1,
          1,
          1,
          1,
          1,
          1,
          1,
          1,
          1
         ]
        }
       ],
       "layout": {
        "hovermode": "closest",
        "paper_bgcolor": "rgba(0, 0, 0, 0)",
        "plot_bgcolor": "rgba(0, 0, 0, 0)",
        "template": {
         "data": {
          "bar": [
           {
            "error_x": {
             "color": "#2a3f5f"
            },
            "error_y": {
             "color": "#2a3f5f"
            },
            "marker": {
             "line": {
              "color": "#E5ECF6",
              "width": 0.5
             }
            },
            "type": "bar"
           }
          ],
          "barpolar": [
           {
            "marker": {
             "line": {
              "color": "#E5ECF6",
              "width": 0.5
             }
            },
            "type": "barpolar"
           }
          ],
          "carpet": [
           {
            "aaxis": {
             "endlinecolor": "#2a3f5f",
             "gridcolor": "white",
             "linecolor": "white",
             "minorgridcolor": "white",
             "startlinecolor": "#2a3f5f"
            },
            "baxis": {
             "endlinecolor": "#2a3f5f",
             "gridcolor": "white",
             "linecolor": "white",
             "minorgridcolor": "white",
             "startlinecolor": "#2a3f5f"
            },
            "type": "carpet"
           }
          ],
          "choropleth": [
           {
            "colorbar": {
             "outlinewidth": 0,
             "ticks": ""
            },
            "type": "choropleth"
           }
          ],
          "contour": [
           {
            "colorbar": {
             "outlinewidth": 0,
             "ticks": ""
            },
            "colorscale": [
             [
              0,
              "#0d0887"
             ],
             [
              0.1111111111111111,
              "#46039f"
             ],
             [
              0.2222222222222222,
              "#7201a8"
             ],
             [
              0.3333333333333333,
              "#9c179e"
             ],
             [
              0.4444444444444444,
              "#bd3786"
             ],
             [
              0.5555555555555556,
              "#d8576b"
             ],
             [
              0.6666666666666666,
              "#ed7953"
             ],
             [
              0.7777777777777778,
              "#fb9f3a"
             ],
             [
              0.8888888888888888,
              "#fdca26"
             ],
             [
              1,
              "#f0f921"
             ]
            ],
            "type": "contour"
           }
          ],
          "contourcarpet": [
           {
            "colorbar": {
             "outlinewidth": 0,
             "ticks": ""
            },
            "type": "contourcarpet"
           }
          ],
          "heatmap": [
           {
            "colorbar": {
             "outlinewidth": 0,
             "ticks": ""
            },
            "colorscale": [
             [
              0,
              "#0d0887"
             ],
             [
              0.1111111111111111,
              "#46039f"
             ],
             [
              0.2222222222222222,
              "#7201a8"
             ],
             [
              0.3333333333333333,
              "#9c179e"
             ],
             [
              0.4444444444444444,
              "#bd3786"
             ],
             [
              0.5555555555555556,
              "#d8576b"
             ],
             [
              0.6666666666666666,
              "#ed7953"
             ],
             [
              0.7777777777777778,
              "#fb9f3a"
             ],
             [
              0.8888888888888888,
              "#fdca26"
             ],
             [
              1,
              "#f0f921"
             ]
            ],
            "type": "heatmap"
           }
          ],
          "heatmapgl": [
           {
            "colorbar": {
             "outlinewidth": 0,
             "ticks": ""
            },
            "colorscale": [
             [
              0,
              "#0d0887"
             ],
             [
              0.1111111111111111,
              "#46039f"
             ],
             [
              0.2222222222222222,
              "#7201a8"
             ],
             [
              0.3333333333333333,
              "#9c179e"
             ],
             [
              0.4444444444444444,
              "#bd3786"
             ],
             [
              0.5555555555555556,
              "#d8576b"
             ],
             [
              0.6666666666666666,
              "#ed7953"
             ],
             [
              0.7777777777777778,
              "#fb9f3a"
             ],
             [
              0.8888888888888888,
              "#fdca26"
             ],
             [
              1,
              "#f0f921"
             ]
            ],
            "type": "heatmapgl"
           }
          ],
          "histogram": [
           {
            "marker": {
             "colorbar": {
              "outlinewidth": 0,
              "ticks": ""
             }
            },
            "type": "histogram"
           }
          ],
          "histogram2d": [
           {
            "colorbar": {
             "outlinewidth": 0,
             "ticks": ""
            },
            "colorscale": [
             [
              0,
              "#0d0887"
             ],
             [
              0.1111111111111111,
              "#46039f"
             ],
             [
              0.2222222222222222,
              "#7201a8"
             ],
             [
              0.3333333333333333,
              "#9c179e"
             ],
             [
              0.4444444444444444,
              "#bd3786"
             ],
             [
              0.5555555555555556,
              "#d8576b"
             ],
             [
              0.6666666666666666,
              "#ed7953"
             ],
             [
              0.7777777777777778,
              "#fb9f3a"
             ],
             [
              0.8888888888888888,
              "#fdca26"
             ],
             [
              1,
              "#f0f921"
             ]
            ],
            "type": "histogram2d"
           }
          ],
          "histogram2dcontour": [
           {
            "colorbar": {
             "outlinewidth": 0,
             "ticks": ""
            },
            "colorscale": [
             [
              0,
              "#0d0887"
             ],
             [
              0.1111111111111111,
              "#46039f"
             ],
             [
              0.2222222222222222,
              "#7201a8"
             ],
             [
              0.3333333333333333,
              "#9c179e"
             ],
             [
              0.4444444444444444,
              "#bd3786"
             ],
             [
              0.5555555555555556,
              "#d8576b"
             ],
             [
              0.6666666666666666,
              "#ed7953"
             ],
             [
              0.7777777777777778,
              "#fb9f3a"
             ],
             [
              0.8888888888888888,
              "#fdca26"
             ],
             [
              1,
              "#f0f921"
             ]
            ],
            "type": "histogram2dcontour"
           }
          ],
          "mesh3d": [
           {
            "colorbar": {
             "outlinewidth": 0,
             "ticks": ""
            },
            "type": "mesh3d"
           }
          ],
          "parcoords": [
           {
            "line": {
             "colorbar": {
              "outlinewidth": 0,
              "ticks": ""
             }
            },
            "type": "parcoords"
           }
          ],
          "scatter": [
           {
            "marker": {
             "colorbar": {
              "outlinewidth": 0,
              "ticks": ""
             }
            },
            "type": "scatter"
           }
          ],
          "scatter3d": [
           {
            "line": {
             "colorbar": {
              "outlinewidth": 0,
              "ticks": ""
             }
            },
            "marker": {
             "colorbar": {
              "outlinewidth": 0,
              "ticks": ""
             }
            },
            "type": "scatter3d"
           }
          ],
          "scattercarpet": [
           {
            "marker": {
             "colorbar": {
              "outlinewidth": 0,
              "ticks": ""
             }
            },
            "type": "scattercarpet"
           }
          ],
          "scattergeo": [
           {
            "marker": {
             "colorbar": {
              "outlinewidth": 0,
              "ticks": ""
             }
            },
            "type": "scattergeo"
           }
          ],
          "scattergl": [
           {
            "marker": {
             "colorbar": {
              "outlinewidth": 0,
              "ticks": ""
             }
            },
            "type": "scattergl"
           }
          ],
          "scattermapbox": [
           {
            "marker": {
             "colorbar": {
              "outlinewidth": 0,
              "ticks": ""
             }
            },
            "type": "scattermapbox"
           }
          ],
          "scatterpolar": [
           {
            "marker": {
             "colorbar": {
              "outlinewidth": 0,
              "ticks": ""
             }
            },
            "type": "scatterpolar"
           }
          ],
          "scatterpolargl": [
           {
            "marker": {
             "colorbar": {
              "outlinewidth": 0,
              "ticks": ""
             }
            },
            "type": "scatterpolargl"
           }
          ],
          "scatterternary": [
           {
            "marker": {
             "colorbar": {
              "outlinewidth": 0,
              "ticks": ""
             }
            },
            "type": "scatterternary"
           }
          ],
          "surface": [
           {
            "colorbar": {
             "outlinewidth": 0,
             "ticks": ""
            },
            "colorscale": [
             [
              0,
              "#0d0887"
             ],
             [
              0.1111111111111111,
              "#46039f"
             ],
             [
              0.2222222222222222,
              "#7201a8"
             ],
             [
              0.3333333333333333,
              "#9c179e"
             ],
             [
              0.4444444444444444,
              "#bd3786"
             ],
             [
              0.5555555555555556,
              "#d8576b"
             ],
             [
              0.6666666666666666,
              "#ed7953"
             ],
             [
              0.7777777777777778,
              "#fb9f3a"
             ],
             [
              0.8888888888888888,
              "#fdca26"
             ],
             [
              1,
              "#f0f921"
             ]
            ],
            "type": "surface"
           }
          ],
          "table": [
           {
            "cells": {
             "fill": {
              "color": "#EBF0F8"
             },
             "line": {
              "color": "white"
             }
            },
            "header": {
             "fill": {
              "color": "#C8D4E3"
             },
             "line": {
              "color": "white"
             }
            },
            "type": "table"
           }
          ]
         },
         "layout": {
          "annotationdefaults": {
           "arrowcolor": "#2a3f5f",
           "arrowhead": 0,
           "arrowwidth": 1
          },
          "colorscale": {
           "diverging": [
            [
             0,
             "#8e0152"
            ],
            [
             0.1,
             "#c51b7d"
            ],
            [
             0.2,
             "#de77ae"
            ],
            [
             0.3,
             "#f1b6da"
            ],
            [
             0.4,
             "#fde0ef"
            ],
            [
             0.5,
             "#f7f7f7"
            ],
            [
             0.6,
             "#e6f5d0"
            ],
            [
             0.7,
             "#b8e186"
            ],
            [
             0.8,
             "#7fbc41"
            ],
            [
             0.9,
             "#4d9221"
            ],
            [
             1,
             "#276419"
            ]
           ],
           "sequential": [
            [
             0,
             "#0d0887"
            ],
            [
             0.1111111111111111,
             "#46039f"
            ],
            [
             0.2222222222222222,
             "#7201a8"
            ],
            [
             0.3333333333333333,
             "#9c179e"
            ],
            [
             0.4444444444444444,
             "#bd3786"
            ],
            [
             0.5555555555555556,
             "#d8576b"
            ],
            [
             0.6666666666666666,
             "#ed7953"
            ],
            [
             0.7777777777777778,
             "#fb9f3a"
            ],
            [
             0.8888888888888888,
             "#fdca26"
            ],
            [
             1,
             "#f0f921"
            ]
           ],
           "sequentialminus": [
            [
             0,
             "#0d0887"
            ],
            [
             0.1111111111111111,
             "#46039f"
            ],
            [
             0.2222222222222222,
             "#7201a8"
            ],
            [
             0.3333333333333333,
             "#9c179e"
            ],
            [
             0.4444444444444444,
             "#bd3786"
            ],
            [
             0.5555555555555556,
             "#d8576b"
            ],
            [
             0.6666666666666666,
             "#ed7953"
            ],
            [
             0.7777777777777778,
             "#fb9f3a"
            ],
            [
             0.8888888888888888,
             "#fdca26"
            ],
            [
             1,
             "#f0f921"
            ]
           ]
          },
          "colorway": [
           "#636efa",
           "#EF553B",
           "#00cc96",
           "#ab63fa",
           "#FFA15A",
           "#19d3f3",
           "#FF6692",
           "#B6E880",
           "#FF97FF",
           "#FECB52"
          ],
          "font": {
           "color": "#2a3f5f"
          },
          "geo": {
           "bgcolor": "white",
           "lakecolor": "white",
           "landcolor": "#E5ECF6",
           "showlakes": true,
           "showland": true,
           "subunitcolor": "white"
          },
          "hoverlabel": {
           "align": "left"
          },
          "hovermode": "closest",
          "mapbox": {
           "style": "light"
          },
          "paper_bgcolor": "white",
          "plot_bgcolor": "#E5ECF6",
          "polar": {
           "angularaxis": {
            "gridcolor": "white",
            "linecolor": "white",
            "ticks": ""
           },
           "bgcolor": "#E5ECF6",
           "radialaxis": {
            "gridcolor": "white",
            "linecolor": "white",
            "ticks": ""
           }
          },
          "scene": {
           "xaxis": {
            "backgroundcolor": "#E5ECF6",
            "gridcolor": "white",
            "gridwidth": 2,
            "linecolor": "white",
            "showbackground": true,
            "ticks": "",
            "zerolinecolor": "white"
           },
           "yaxis": {
            "backgroundcolor": "#E5ECF6",
            "gridcolor": "white",
            "gridwidth": 2,
            "linecolor": "white",
            "showbackground": true,
            "ticks": "",
            "zerolinecolor": "white"
           },
           "zaxis": {
            "backgroundcolor": "#E5ECF6",
            "gridcolor": "white",
            "gridwidth": 2,
            "linecolor": "white",
            "showbackground": true,
            "ticks": "",
            "zerolinecolor": "white"
           }
          },
          "shapedefaults": {
           "line": {
            "color": "#2a3f5f"
           }
          },
          "ternary": {
           "aaxis": {
            "gridcolor": "white",
            "linecolor": "white",
            "ticks": ""
           },
           "baxis": {
            "gridcolor": "white",
            "linecolor": "white",
            "ticks": ""
           },
           "bgcolor": "#E5ECF6",
           "caxis": {
            "gridcolor": "white",
            "linecolor": "white",
            "ticks": ""
           }
          },
          "title": {
           "x": 0.05
          },
          "xaxis": {
           "automargin": true,
           "gridcolor": "white",
           "linecolor": "white",
           "ticks": "",
           "zerolinecolor": "white",
           "zerolinewidth": 2
          },
          "yaxis": {
           "automargin": true,
           "gridcolor": "white",
           "linecolor": "white",
           "ticks": "",
           "zerolinecolor": "white",
           "zerolinewidth": 2
          }
         }
        },
        "title": {
         "text": "Communication Distribution"
        },
        "xaxis": {
         "linecolor": "black",
         "linewidth": 2,
         "mirror": true,
         "showline": true,
         "showticklabels": true,
         "tickangle": 45,
         "tickfont": {
          "color": "red",
          "size": 10
         },
         "title": {
          "text": "Source of communication "
         },
         "zeroline": true,
         "zerolinecolor": "grey",
         "zerolinewidth": 1
        },
        "yaxis": {
         "gridcolor": "lightgrey",
         "linecolor": "black",
         "linewidth": 2,
         "mirror": true,
         "showline": true,
         "title": {
          "text": "Frquency"
         },
         "zeroline": true,
         "zerolinecolor": "grey",
         "zerolinewidth": 1
        }
       }
      },
      "text/html": [
       "<div>\n",
       "        \n",
       "        \n",
       "            <div id=\"05b2d1cc-2224-4173-85d5-7e77eefa127e\" class=\"plotly-graph-div\" style=\"height:525px; width:100%;\"></div>\n",
       "            <script type=\"text/javascript\">\n",
       "                require([\"plotly\"], function(Plotly) {\n",
       "                    window.PLOTLYENV=window.PLOTLYENV || {};\n",
       "                    \n",
       "                if (document.getElementById(\"05b2d1cc-2224-4173-85d5-7e77eefa127e\")) {\n",
       "                    Plotly.newPlot(\n",
       "                        '05b2d1cc-2224-4173-85d5-7e77eefa127e',\n",
       "                        [{\"marker\": {\"color\": \"purple\"}, \"text\": [\"Facebook \", \"Friend\", \"Rohan Rakshit\", \"Rajeswari pal\", \"Freind\", \"Via WhatsApp message of one of my friend\", \"Social media\", \"Facebook\", \"Friends\", \"Rohan\", \"A Friend\", \"Friend \", \"WhatsApp group\", \"Rajeswari  pal\", \"TM sir Group \", \"Sanghamitra Majumdar\", \"From my friend Rupsa\", \"Online\", \"College, HOD \", \"Whatsapp\", \"email\", \"Tuition batch\", \"From friends circle\", \"Tulshi Sir\", \"Subhra roy\", \"College\", \"Whatsapp \", \"From my statistics teacher.\", \"Professor\", \"LinkedIn\", \"Tuition teacher \", \"A whatsapp group\", \"Whatsapp group\", \"From a friend\", \"A friend\", \"Nairanjana Sarkar\", \"Facebook event\", \"From a friend \", \"Sister\", \"Sudip Nandi\", \"Social Media\", \"My friend told me\", \"Tuition group \", \"Naser Abdullah Alam \", \"Ankita Ghosh\", \"newspaper \", \"Teacher\", \"Rajeshwari Pal\", \"Via friend \", \"COLLEGE FRIEND\", \"Sanghamitra Majumder\", \"SANGHAMITRA MAJUMDER\", \"EDC, Diatm\", \"A status was posted by a senior of my dept.Seeing this I would like to \", \"Through a friend\", \"Tulsidas Mukherjee \", \"My friend \", \"From tuition\", \"My College Friend\", \"From classmate \", \"HOD of our college's statistics department, PP sir\", \"facebook\", \"Jobs for nsuers\", \"Jobs  for nsuers\", \"Facebook post \", \" college Senior\", \"Nairanjana sarkar\", \"fb\", \"Facebook group\", \"Debarchan Mukherjee\", \"Friend circle\", \"My niece\", \"University friend \", \"Comilla University   \", \"Fried\", \"TEACHERS\", \"Softanbees free boot camp program\", \"By a friend\", \"Subham sah/Manish Kumar\", \"Facebook Groups\", \"My friend\", \"College whatsapp group\", \"Krisnomita Banerjee\", \"From my friend\", \"WhatsApp Group\", \"friend\", \"Professor \", \"Whatsapp group \", \"Cse/eee group Bangladesh \", \"Friends \", \"Krishnamita Banerjee\", \"By college\", \"Get notified through friends\", \"My Friend\", \"Fb\", \"I find this program via facebook event. \", \"Facebook post from a classmate\", \"Facebook Event\", \"Fb \", \"MD. Rezwan Hosaain Naeem\", \"Facebook job group page \", \"Pritama Roy\", \"Dont know\", \"One of my teacher told me about this\", \"WhatsApp \", \"Snehashis Debnath\", \"Whatsapp Group \", \"Source of reference \", \"From friends\", \"Facebook Ads\", \"From a Friend\", \"Through a friend \", \"DIATM collage\", \"Tulsidas Sir\", \"WhatsApp link\", \"College Friends\", \"Through college\", \"friends\", \"I came to know about this from my friend\", \"Mail id\", \"College Friends \", \"Instagram\", \"Friend's suggestions\", \"Surjo ghosh\", \"Nil\", \"Yes \", \"No\", \"Email \", \"Tution teacher prof Tulsidas Mukherjee\", \"From one of my friends who have joined this program \", \"Group invite link\", \"Soumya Dutta\", \"Tutor\", \"Mail\", \"FRIEND\", \"Mr. Tulshi Das Mukherjee\", \"Frined\", \"Whatsapp chat\", \"Softanbees free boot camp program .\", \"Entrepreneurship Development Cell, DIATM\", \"Rittick Npti\", \"Whatsapp Group\", \"College Group\", \"Freinds\", \"FRIEND \", \"One of my friends\", \"Via friend\", \"Lisha Ghosh \", \"Watsapp\", \"Manish\", \"Tulshidas Mukhopadhyay,Kolkata\", \"Tulshidas Mukhopadhyay, Kolkata\", \"whatsapp group \", \"Student of our Institution\", \"College WhatsApp group \", \"Friend.\", \"Tution sir\", \"Soumya brata Mahapatra\", \"Facebook event ad\", \"whatapp group\", \"College group\", \"One of my friend \", \"Link from a friend\", \"TDM sir\", \"From the college\", \"Monojit Saha\", \"Friends' suggestion   \", \"Friend(Ankita Ghosh)\", \"Internet\", \"WhatsApp\", \"Ftiend\", \"Other students\", \"College teacher informed us\", \"From the whatsapp group\", \"From whatsapp group\", \"Statistics tuition sir\", \"Statistics tuition sir (Tulsidas Mukherjee)\", \"One of my friends \", \"Ritick Sarkar \", \"Tuition sir\", \"E-Leader\", \"Tuition teacher\", \"From teachers\", \"Whats app group\", \"Tulsi Das Mukherjee\", \"What's app reference\", \"AIUB course solution\", \"Whatsapp group  \", \"One of my friend informed me about this\", \"University faculty\", \"From varsity group \", \"My friend...\", \"Deepa Mondal\", \"Facebook  \", \"Ijaz Mahamud Fuad\", \"Frnd\", \"College faculties\", \"Tution Sir\", \"Link from friend\", \"Webminar\", \"College Campus\", \"college\", \"From teachers of our MCA department.\", \"COLLEGE\", \"Facebook page\", \"College facility\", \"College Faculty\", \"College teacher\", \"College \", \"Department\", \"I got to know about this from my college's ma'am.\"], \"type\": \"bar\", \"x\": [\"Facebook \", \"Friend\", \"Rohan Rakshit\", \"Rajeswari pal\", \"Freind\", \"Via WhatsApp message of one of my friend\", \"Social media\", \"Facebook\", \"Friends\", \"Rohan\", \"A Friend\", \"Friend \", \"WhatsApp group\", \"Rajeswari  pal\", \"TM sir Group \", \"Sanghamitra Majumdar\", \"From my friend Rupsa\", \"Online\", \"College, HOD \", \"Whatsapp\", \"email\", \"Tuition batch\", \"From friends circle\", \"Tulshi Sir\", \"Subhra roy\", \"College\", \"Whatsapp \", \"From my statistics teacher.\", \"Professor\", \"LinkedIn\", \"Tuition teacher \", \"A whatsapp group\", \"Whatsapp group\", \"From a friend\", \"A friend\", \"Nairanjana Sarkar\", \"Facebook event\", \"From a friend \", \"Sister\", \"Sudip Nandi\", \"Social Media\", \"My friend told me\", \"Tuition group \", \"Naser Abdullah Alam \", \"Ankita Ghosh\", \"newspaper \", \"Teacher\", \"Rajeshwari Pal\", \"Via friend \", \"COLLEGE FRIEND\", \"Sanghamitra Majumder\", \"SANGHAMITRA MAJUMDER\", \"EDC, Diatm\", \"A status was posted by a senior of my dept.Seeing this I would like to \", \"Through a friend\", \"Tulsidas Mukherjee \", \"My friend \", \"From tuition\", \"My College Friend\", \"From classmate \", \"HOD of our college's statistics department, PP sir\", \"facebook\", \"Jobs for nsuers\", \"Jobs  for nsuers\", \"Facebook post \", \" college Senior\", \"Nairanjana sarkar\", \"fb\", \"Facebook group\", \"Debarchan Mukherjee\", \"Friend circle\", \"My niece\", \"University friend \", \"Comilla University   \", \"Fried\", \"TEACHERS\", \"Softanbees free boot camp program\", \"By a friend\", \"Subham sah/Manish Kumar\", \"Facebook Groups\", \"My friend\", \"College whatsapp group\", \"Krisnomita Banerjee\", \"From my friend\", \"WhatsApp Group\", \"friend\", \"Professor \", \"Whatsapp group \", \"Cse/eee group Bangladesh \", \"Friends \", \"Krishnamita Banerjee\", \"By college\", \"Get notified through friends\", \"My Friend\", \"Fb\", \"I find this program via facebook event. \", \"Facebook post from a classmate\", \"Facebook Event\", \"Fb \", \"MD. Rezwan Hosaain Naeem\", \"Facebook job group page \", \"Pritama Roy\", \"Dont know\", \"One of my teacher told me about this\", \"WhatsApp \", \"Snehashis Debnath\", \"Whatsapp Group \", \"Source of reference \", \"From friends\", \"Facebook Ads\", \"From a Friend\", \"Through a friend \", \"DIATM collage\", \"Tulsidas Sir\", \"WhatsApp link\", \"College Friends\", \"Through college\", \"friends\", \"I came to know about this from my friend\", \"Mail id\", \"College Friends \", \"Instagram\", \"Friend's suggestions\", \"Surjo ghosh\", \"Nil\", \"Yes \", \"No\", \"Email \", \"Tution teacher prof Tulsidas Mukherjee\", \"From one of my friends who have joined this program \", \"Group invite link\", \"Soumya Dutta\", \"Tutor\", \"Mail\", \"FRIEND\", \"Mr. Tulshi Das Mukherjee\", \"Frined\", \"Whatsapp chat\", \"Softanbees free boot camp program .\", \"Entrepreneurship Development Cell, DIATM\", \"Rittick Npti\", \"Whatsapp Group\", \"College Group\", \"Freinds\", \"FRIEND \", \"One of my friends\", \"Via friend\", \"Lisha Ghosh \", \"Watsapp\", \"Manish\", \"Tulshidas Mukhopadhyay,Kolkata\", \"Tulshidas Mukhopadhyay, Kolkata\", \"whatsapp group \", \"Student of our Institution\", \"College WhatsApp group \", \"Friend.\", \"Tution sir\", \"Soumya brata Mahapatra\", \"Facebook event ad\", \"whatapp group\", \"College group\", \"One of my friend \", \"Link from a friend\", \"TDM sir\", \"From the college\", \"Monojit Saha\", \"Friends' suggestion   \", \"Friend(Ankita Ghosh)\", \"Internet\", \"WhatsApp\", \"Ftiend\", \"Other students\", \"College teacher informed us\", \"From the whatsapp group\", \"From whatsapp group\", \"Statistics tuition sir\", \"Statistics tuition sir (Tulsidas Mukherjee)\", \"One of my friends \", \"Ritick Sarkar \", \"Tuition sir\", \"E-Leader\", \"Tuition teacher\", \"From teachers\", \"Whats app group\", \"Tulsi Das Mukherjee\", \"What's app reference\", \"AIUB course solution\", \"Whatsapp group  \", \"One of my friend informed me about this\", \"University faculty\", \"From varsity group \", \"My friend...\", \"Deepa Mondal\", \"Facebook  \", \"Ijaz Mahamud Fuad\", \"Frnd\", \"College faculties\", \"Tution Sir\", \"Link from friend\", \"Webminar\", \"College Campus\", \"college\", \"From teachers of our MCA department.\", \"COLLEGE\", \"Facebook page\", \"College facility\", \"College Faculty\", \"College teacher\", \"College \", \"Department\", \"I got to know about this from my college's ma'am.\"], \"y\": [66, 27, 26, 18, 11, 10, 9, 6, 6, 5, 4, 4, 4, 4, 3, 3, 3, 3, 3, 3, 3, 3, 2, 2, 2, 2, 2, 2, 2, 2, 2, 2, 2, 2, 2, 2, 2, 2, 2, 2, 2, 1, 1, 1, 1, 1, 1, 1, 1, 1, 1, 1, 1, 1, 1, 1, 1, 1, 1, 1, 1, 1, 1, 1, 1, 1, 1, 1, 1, 1, 1, 1, 1, 1, 1, 1, 1, 1, 1, 1, 1, 1, 1, 1, 1, 1, 1, 1, 1, 1, 1, 1, 1, 1, 1, 1, 1, 1, 1, 1, 1, 1, 1, 1, 1, 1, 1, 1, 1, 1, 1, 1, 1, 1, 1, 1, 1, 1, 1, 1, 1, 1, 1, 1, 1, 1, 1, 1, 1, 1, 1, 1, 1, 1, 1, 1, 1, 1, 1, 1, 1, 1, 1, 1, 1, 1, 1, 1, 1, 1, 1, 1, 1, 1, 1, 1, 1, 1, 1, 1, 1, 1, 1, 1, 1, 1, 1, 1, 1, 1, 1, 1, 1, 1, 1, 1, 1, 1, 1, 1, 1, 1, 1, 1, 1, 1, 1, 1, 1, 1, 1, 1, 1, 1, 1, 1, 1, 1, 1, 1, 1, 1, 1, 1, 1, 1, 1, 1, 1, 1, 1]}],\n",
       "                        {\"hovermode\": \"closest\", \"paper_bgcolor\": \"rgba(0, 0, 0, 0)\", \"plot_bgcolor\": \"rgba(0, 0, 0, 0)\", \"template\": {\"data\": {\"bar\": [{\"error_x\": {\"color\": \"#2a3f5f\"}, \"error_y\": {\"color\": \"#2a3f5f\"}, \"marker\": {\"line\": {\"color\": \"#E5ECF6\", \"width\": 0.5}}, \"type\": \"bar\"}], \"barpolar\": [{\"marker\": {\"line\": {\"color\": \"#E5ECF6\", \"width\": 0.5}}, \"type\": \"barpolar\"}], \"carpet\": [{\"aaxis\": {\"endlinecolor\": \"#2a3f5f\", \"gridcolor\": \"white\", \"linecolor\": \"white\", \"minorgridcolor\": \"white\", \"startlinecolor\": \"#2a3f5f\"}, \"baxis\": {\"endlinecolor\": \"#2a3f5f\", \"gridcolor\": \"white\", \"linecolor\": \"white\", \"minorgridcolor\": \"white\", \"startlinecolor\": \"#2a3f5f\"}, \"type\": \"carpet\"}], \"choropleth\": [{\"colorbar\": {\"outlinewidth\": 0, \"ticks\": \"\"}, \"type\": \"choropleth\"}], \"contour\": [{\"colorbar\": {\"outlinewidth\": 0, \"ticks\": \"\"}, \"colorscale\": [[0.0, \"#0d0887\"], [0.1111111111111111, \"#46039f\"], [0.2222222222222222, \"#7201a8\"], [0.3333333333333333, \"#9c179e\"], [0.4444444444444444, \"#bd3786\"], [0.5555555555555556, \"#d8576b\"], [0.6666666666666666, \"#ed7953\"], [0.7777777777777778, \"#fb9f3a\"], [0.8888888888888888, \"#fdca26\"], [1.0, \"#f0f921\"]], \"type\": \"contour\"}], \"contourcarpet\": [{\"colorbar\": {\"outlinewidth\": 0, \"ticks\": \"\"}, \"type\": \"contourcarpet\"}], \"heatmap\": [{\"colorbar\": {\"outlinewidth\": 0, \"ticks\": \"\"}, \"colorscale\": [[0.0, \"#0d0887\"], [0.1111111111111111, \"#46039f\"], [0.2222222222222222, \"#7201a8\"], [0.3333333333333333, \"#9c179e\"], [0.4444444444444444, \"#bd3786\"], [0.5555555555555556, \"#d8576b\"], [0.6666666666666666, \"#ed7953\"], [0.7777777777777778, \"#fb9f3a\"], [0.8888888888888888, \"#fdca26\"], [1.0, \"#f0f921\"]], \"type\": \"heatmap\"}], \"heatmapgl\": [{\"colorbar\": {\"outlinewidth\": 0, \"ticks\": \"\"}, \"colorscale\": [[0.0, \"#0d0887\"], [0.1111111111111111, \"#46039f\"], [0.2222222222222222, \"#7201a8\"], [0.3333333333333333, \"#9c179e\"], [0.4444444444444444, \"#bd3786\"], [0.5555555555555556, \"#d8576b\"], [0.6666666666666666, \"#ed7953\"], [0.7777777777777778, \"#fb9f3a\"], [0.8888888888888888, \"#fdca26\"], [1.0, \"#f0f921\"]], \"type\": \"heatmapgl\"}], \"histogram\": [{\"marker\": {\"colorbar\": {\"outlinewidth\": 0, \"ticks\": \"\"}}, \"type\": \"histogram\"}], \"histogram2d\": [{\"colorbar\": {\"outlinewidth\": 0, \"ticks\": \"\"}, \"colorscale\": [[0.0, \"#0d0887\"], [0.1111111111111111, \"#46039f\"], [0.2222222222222222, \"#7201a8\"], [0.3333333333333333, \"#9c179e\"], [0.4444444444444444, \"#bd3786\"], [0.5555555555555556, \"#d8576b\"], [0.6666666666666666, \"#ed7953\"], [0.7777777777777778, \"#fb9f3a\"], [0.8888888888888888, \"#fdca26\"], [1.0, \"#f0f921\"]], \"type\": \"histogram2d\"}], \"histogram2dcontour\": [{\"colorbar\": {\"outlinewidth\": 0, \"ticks\": \"\"}, \"colorscale\": [[0.0, \"#0d0887\"], [0.1111111111111111, \"#46039f\"], [0.2222222222222222, \"#7201a8\"], [0.3333333333333333, \"#9c179e\"], [0.4444444444444444, \"#bd3786\"], [0.5555555555555556, \"#d8576b\"], [0.6666666666666666, \"#ed7953\"], [0.7777777777777778, \"#fb9f3a\"], [0.8888888888888888, \"#fdca26\"], [1.0, \"#f0f921\"]], \"type\": \"histogram2dcontour\"}], \"mesh3d\": [{\"colorbar\": {\"outlinewidth\": 0, \"ticks\": \"\"}, \"type\": \"mesh3d\"}], \"parcoords\": [{\"line\": {\"colorbar\": {\"outlinewidth\": 0, \"ticks\": \"\"}}, \"type\": \"parcoords\"}], \"scatter\": [{\"marker\": {\"colorbar\": {\"outlinewidth\": 0, \"ticks\": \"\"}}, \"type\": \"scatter\"}], \"scatter3d\": [{\"line\": {\"colorbar\": {\"outlinewidth\": 0, \"ticks\": \"\"}}, \"marker\": {\"colorbar\": {\"outlinewidth\": 0, \"ticks\": \"\"}}, \"type\": \"scatter3d\"}], \"scattercarpet\": [{\"marker\": {\"colorbar\": {\"outlinewidth\": 0, \"ticks\": \"\"}}, \"type\": \"scattercarpet\"}], \"scattergeo\": [{\"marker\": {\"colorbar\": {\"outlinewidth\": 0, \"ticks\": \"\"}}, \"type\": \"scattergeo\"}], \"scattergl\": [{\"marker\": {\"colorbar\": {\"outlinewidth\": 0, \"ticks\": \"\"}}, \"type\": \"scattergl\"}], \"scattermapbox\": [{\"marker\": {\"colorbar\": {\"outlinewidth\": 0, \"ticks\": \"\"}}, \"type\": \"scattermapbox\"}], \"scatterpolar\": [{\"marker\": {\"colorbar\": {\"outlinewidth\": 0, \"ticks\": \"\"}}, \"type\": \"scatterpolar\"}], \"scatterpolargl\": [{\"marker\": {\"colorbar\": {\"outlinewidth\": 0, \"ticks\": \"\"}}, \"type\": \"scatterpolargl\"}], \"scatterternary\": [{\"marker\": {\"colorbar\": {\"outlinewidth\": 0, \"ticks\": \"\"}}, \"type\": \"scatterternary\"}], \"surface\": [{\"colorbar\": {\"outlinewidth\": 0, \"ticks\": \"\"}, \"colorscale\": [[0.0, \"#0d0887\"], [0.1111111111111111, \"#46039f\"], [0.2222222222222222, \"#7201a8\"], [0.3333333333333333, \"#9c179e\"], [0.4444444444444444, \"#bd3786\"], [0.5555555555555556, \"#d8576b\"], [0.6666666666666666, \"#ed7953\"], [0.7777777777777778, \"#fb9f3a\"], [0.8888888888888888, \"#fdca26\"], [1.0, \"#f0f921\"]], \"type\": \"surface\"}], \"table\": [{\"cells\": {\"fill\": {\"color\": \"#EBF0F8\"}, \"line\": {\"color\": \"white\"}}, \"header\": {\"fill\": {\"color\": \"#C8D4E3\"}, \"line\": {\"color\": \"white\"}}, \"type\": \"table\"}]}, \"layout\": {\"annotationdefaults\": {\"arrowcolor\": \"#2a3f5f\", \"arrowhead\": 0, \"arrowwidth\": 1}, \"colorscale\": {\"diverging\": [[0, \"#8e0152\"], [0.1, \"#c51b7d\"], [0.2, \"#de77ae\"], [0.3, \"#f1b6da\"], [0.4, \"#fde0ef\"], [0.5, \"#f7f7f7\"], [0.6, \"#e6f5d0\"], [0.7, \"#b8e186\"], [0.8, \"#7fbc41\"], [0.9, \"#4d9221\"], [1, \"#276419\"]], \"sequential\": [[0.0, \"#0d0887\"], [0.1111111111111111, \"#46039f\"], [0.2222222222222222, \"#7201a8\"], [0.3333333333333333, \"#9c179e\"], [0.4444444444444444, \"#bd3786\"], [0.5555555555555556, \"#d8576b\"], [0.6666666666666666, \"#ed7953\"], [0.7777777777777778, \"#fb9f3a\"], [0.8888888888888888, \"#fdca26\"], [1.0, \"#f0f921\"]], \"sequentialminus\": [[0.0, \"#0d0887\"], [0.1111111111111111, \"#46039f\"], [0.2222222222222222, \"#7201a8\"], [0.3333333333333333, \"#9c179e\"], [0.4444444444444444, \"#bd3786\"], [0.5555555555555556, \"#d8576b\"], [0.6666666666666666, \"#ed7953\"], [0.7777777777777778, \"#fb9f3a\"], [0.8888888888888888, \"#fdca26\"], [1.0, \"#f0f921\"]]}, \"colorway\": [\"#636efa\", \"#EF553B\", \"#00cc96\", \"#ab63fa\", \"#FFA15A\", \"#19d3f3\", \"#FF6692\", \"#B6E880\", \"#FF97FF\", \"#FECB52\"], \"font\": {\"color\": \"#2a3f5f\"}, \"geo\": {\"bgcolor\": \"white\", \"lakecolor\": \"white\", \"landcolor\": \"#E5ECF6\", \"showlakes\": true, \"showland\": true, \"subunitcolor\": \"white\"}, \"hoverlabel\": {\"align\": \"left\"}, \"hovermode\": \"closest\", \"mapbox\": {\"style\": \"light\"}, \"paper_bgcolor\": \"white\", \"plot_bgcolor\": \"#E5ECF6\", \"polar\": {\"angularaxis\": {\"gridcolor\": \"white\", \"linecolor\": \"white\", \"ticks\": \"\"}, \"bgcolor\": \"#E5ECF6\", \"radialaxis\": {\"gridcolor\": \"white\", \"linecolor\": \"white\", \"ticks\": \"\"}}, \"scene\": {\"xaxis\": {\"backgroundcolor\": \"#E5ECF6\", \"gridcolor\": \"white\", \"gridwidth\": 2, \"linecolor\": \"white\", \"showbackground\": true, \"ticks\": \"\", \"zerolinecolor\": \"white\"}, \"yaxis\": {\"backgroundcolor\": \"#E5ECF6\", \"gridcolor\": \"white\", \"gridwidth\": 2, \"linecolor\": \"white\", \"showbackground\": true, \"ticks\": \"\", \"zerolinecolor\": \"white\"}, \"zaxis\": {\"backgroundcolor\": \"#E5ECF6\", \"gridcolor\": \"white\", \"gridwidth\": 2, \"linecolor\": \"white\", \"showbackground\": true, \"ticks\": \"\", \"zerolinecolor\": \"white\"}}, \"shapedefaults\": {\"line\": {\"color\": \"#2a3f5f\"}}, \"ternary\": {\"aaxis\": {\"gridcolor\": \"white\", \"linecolor\": \"white\", \"ticks\": \"\"}, \"baxis\": {\"gridcolor\": \"white\", \"linecolor\": \"white\", \"ticks\": \"\"}, \"bgcolor\": \"#E5ECF6\", \"caxis\": {\"gridcolor\": \"white\", \"linecolor\": \"white\", \"ticks\": \"\"}}, \"title\": {\"x\": 0.05}, \"xaxis\": {\"automargin\": true, \"gridcolor\": \"white\", \"linecolor\": \"white\", \"ticks\": \"\", \"zerolinecolor\": \"white\", \"zerolinewidth\": 2}, \"yaxis\": {\"automargin\": true, \"gridcolor\": \"white\", \"linecolor\": \"white\", \"ticks\": \"\", \"zerolinecolor\": \"white\", \"zerolinewidth\": 2}}}, \"title\": {\"text\": \"Communication Distribution\"}, \"xaxis\": {\"linecolor\": \"black\", \"linewidth\": 2, \"mirror\": true, \"showline\": true, \"showticklabels\": true, \"tickangle\": 45, \"tickfont\": {\"color\": \"red\", \"size\": 10}, \"title\": {\"text\": \"Source of communication \"}, \"zeroline\": true, \"zerolinecolor\": \"grey\", \"zerolinewidth\": 1}, \"yaxis\": {\"gridcolor\": \"lightgrey\", \"linecolor\": \"black\", \"linewidth\": 2, \"mirror\": true, \"showline\": true, \"title\": {\"text\": \"Frquency\"}, \"zeroline\": true, \"zerolinecolor\": \"grey\", \"zerolinewidth\": 1}},\n",
       "                        {\"responsive\": true}\n",
       "                    ).then(function(){\n",
       "                            \n",
       "var gd = document.getElementById('05b2d1cc-2224-4173-85d5-7e77eefa127e');\n",
       "var x = new MutationObserver(function (mutations, observer) {{\n",
       "        var display = window.getComputedStyle(gd).display;\n",
       "        if (!display || display === 'none') {{\n",
       "            console.log([gd, 'removed!']);\n",
       "            Plotly.purge(gd);\n",
       "            observer.disconnect();\n",
       "        }}\n",
       "}});\n",
       "\n",
       "// Listen for the removal of the full notebook cells\n",
       "var notebookContainer = gd.closest('#notebook-container');\n",
       "if (notebookContainer) {{\n",
       "    x.observe(notebookContainer, {childList: true});\n",
       "}}\n",
       "\n",
       "// Listen for the clearing of the current output cell\n",
       "var outputEl = gd.closest('.output');\n",
       "if (outputEl) {{\n",
       "    x.observe(outputEl, {childList: true});\n",
       "}}\n",
       "\n",
       "                        })\n",
       "                };\n",
       "                });\n",
       "            </script>\n",
       "        </div>"
      ]
     },
     "metadata": {},
     "output_type": "display_data"
    }
   ],
   "source": [
    "data=pd.read_csv('D:\\study\\DATA SCIENENCE PROGRAMME\\Anik Sutradhar - free_session_information.csv')\n",
    "data.dropna(inplace=True,subset=['Souce of communication '])\n",
    "communication_counts=data['Souce of communication '].value_counts()\n",
    "dg=communication_counts\n",
    "gg=data.drop_duplicates(subset=['Souce of communication '],keep='first')\n",
    "draw_trace_bar(gg,'Souce of communication ',dg,'Communication Distribution','Source of communication ',\"Frquency\",\"purple\")"
   ]
  },
  {
   "cell_type": "markdown",
   "metadata": {},
   "source": [
    "Facebook is the winner of the all type of source of communication"
   ]
  },
  {
   "cell_type": "code",
   "execution_count": 107,
   "metadata": {},
   "outputs": [
    {
     "data": {
      "application/vnd.plotly.v1+json": {
       "config": {
        "plotlyServerURL": "https://plot.ly"
       },
       "data": [
        {
         "hoverinfo": "label+percent",
         "labels": [
          "Facebook ",
          "Friend",
          "Rohan Rakshit",
          "Rajeswari pal",
          "Freind",
          "Via WhatsApp message of one of my friend",
          "Social media",
          "Facebook",
          "Friends",
          "Rohan",
          "A Friend",
          "Friend ",
          "WhatsApp group",
          "Rajeswari  pal",
          "TM sir Group ",
          "Sanghamitra Majumdar",
          "From my friend Rupsa",
          "Online",
          "College, HOD ",
          "Whatsapp",
          "email",
          "Tuition batch",
          "From friends circle",
          "Tulshi Sir",
          "Subhra roy",
          "College",
          "Whatsapp ",
          "From my statistics teacher.",
          "Professor",
          "LinkedIn",
          "Tuition teacher ",
          "A whatsapp group",
          "Whatsapp group",
          "From a friend",
          "A friend",
          "Nairanjana Sarkar",
          "Facebook event",
          "From a friend ",
          "Sister",
          "Sudip Nandi",
          "Social Media",
          "My friend told me",
          "Tuition group ",
          "Naser Abdullah Alam ",
          "Ankita Ghosh",
          "newspaper ",
          "Teacher",
          "Rajeshwari Pal",
          "Via friend ",
          "COLLEGE FRIEND",
          "Sanghamitra Majumder",
          "SANGHAMITRA MAJUMDER",
          "EDC, Diatm",
          "A status was posted by a senior of my dept.Seeing this I would like to ",
          "Through a friend",
          "Tulsidas Mukherjee ",
          "My friend ",
          "From tuition",
          "My College Friend",
          "From classmate ",
          "HOD of our college's statistics department, PP sir",
          "facebook",
          "Jobs for nsuers",
          "Jobs  for nsuers",
          "Facebook post ",
          " college Senior",
          "Nairanjana sarkar",
          "fb",
          "Facebook group",
          "Debarchan Mukherjee",
          "Friend circle",
          "My niece",
          "University friend ",
          "Comilla University   ",
          "Fried",
          "TEACHERS",
          "Softanbees free boot camp program",
          "By a friend",
          "Subham sah/Manish Kumar",
          "Facebook Groups",
          "My friend",
          "College whatsapp group",
          "Krisnomita Banerjee",
          "From my friend",
          "WhatsApp Group",
          "friend",
          "Professor ",
          "Whatsapp group ",
          "Cse/eee group Bangladesh ",
          "Friends ",
          "Krishnamita Banerjee",
          "By college",
          "Get notified through friends",
          "My Friend",
          "Fb",
          "I find this program via facebook event. ",
          "Facebook post from a classmate",
          "Facebook Event",
          "Fb ",
          "MD. Rezwan Hosaain Naeem",
          "Facebook job group page ",
          "Pritama Roy",
          "Dont know",
          "One of my teacher told me about this",
          "WhatsApp ",
          "Snehashis Debnath",
          "Whatsapp Group ",
          "Source of reference ",
          "From friends",
          "Facebook Ads",
          "From a Friend",
          "Through a friend ",
          "DIATM collage",
          "Tulsidas Sir",
          "WhatsApp link",
          "College Friends",
          "Through college",
          "friends",
          "I came to know about this from my friend",
          "Mail id",
          "College Friends ",
          "Instagram",
          "Friend's suggestions",
          "Surjo ghosh",
          "Nil",
          "Yes ",
          "No",
          "Email ",
          "Tution teacher prof Tulsidas Mukherjee",
          "From one of my friends who have joined this program ",
          "Group invite link",
          "Soumya Dutta",
          "Tutor",
          "Mail",
          "FRIEND",
          "Mr. Tulshi Das Mukherjee",
          "Frined",
          "Whatsapp chat",
          "Softanbees free boot camp program .",
          "Entrepreneurship Development Cell, DIATM",
          "Rittick Npti",
          "Whatsapp Group",
          "College Group",
          "Freinds",
          "FRIEND ",
          "One of my friends",
          "Via friend",
          "Lisha Ghosh ",
          "Watsapp",
          "Manish",
          "Tulshidas Mukhopadhyay,Kolkata",
          "Tulshidas Mukhopadhyay, Kolkata",
          "whatsapp group ",
          "Student of our Institution",
          "College WhatsApp group ",
          "Friend.",
          "Tution sir",
          "Soumya brata Mahapatra",
          "Facebook event ad",
          "whatapp group",
          "College group",
          "One of my friend ",
          "Link from a friend",
          "TDM sir",
          "From the college",
          "Monojit Saha",
          "Friends' suggestion   ",
          "Friend(Ankita Ghosh)",
          "Internet",
          "WhatsApp",
          "Ftiend",
          "Other students",
          "College teacher informed us",
          "From the whatsapp group",
          "From whatsapp group",
          "Statistics tuition sir",
          "Statistics tuition sir (Tulsidas Mukherjee)",
          "One of my friends ",
          "Ritick Sarkar ",
          "Tuition sir",
          "E-Leader",
          "Tuition teacher",
          "From teachers",
          "Whats app group",
          "Tulsi Das Mukherjee",
          "What's app reference",
          "AIUB course solution",
          "Whatsapp group  ",
          "One of my friend informed me about this",
          "University faculty",
          "From varsity group ",
          "My friend...",
          "Deepa Mondal",
          "Facebook  ",
          "Ijaz Mahamud Fuad",
          "Frnd",
          "College faculties",
          "Tution Sir",
          "Link from friend",
          "Webminar",
          "College Campus",
          "college",
          "From teachers of our MCA department.",
          "COLLEGE",
          "Facebook page",
          "College facility",
          "College Faculty",
          "College teacher",
          "College ",
          "Department",
          "I got to know about this from my college's ma'am."
         ],
         "textfont": {
          "size": 10
         },
         "textinfo": "none",
         "type": "pie",
         "values": [
          66,
          27,
          26,
          18,
          11,
          10,
          9,
          6,
          6,
          5,
          4,
          4,
          4,
          4,
          3,
          3,
          3,
          3,
          3,
          3,
          3,
          3,
          2,
          2,
          2,
          2,
          2,
          2,
          2,
          2,
          2,
          2,
          2,
          2,
          2,
          2,
          2,
          2,
          2,
          2,
          2,
          1,
          1,
          1,
          1,
          1,
          1,
          1,
          1,
          1,
          1,
          1,
          1,
          1,
          1,
          1,
          1,
          1,
          1,
          1,
          1,
          1,
          1,
          1,
          1,
          1,
          1,
          1,
          1,
          1,
          1,
          1,
          1,
          1,
          1,
          1,
          1,
          1,
          1,
          1,
          1,
          1,
          1,
          1,
          1,
          1,
          1,
          1,
          1,
          1,
          1,
          1,
          1,
          1,
          1,
          1,
          1,
          1,
          1,
          1,
          1,
          1,
          1,
          1,
          1,
          1,
          1,
          1,
          1,
          1,
          1,
          1,
          1,
          1,
          1,
          1,
          1,
          1,
          1,
          1,
          1,
          1,
          1,
          1,
          1,
          1,
          1,
          1,
          1,
          1,
          1,
          1,
          1,
          1,
          1,
          1,
          1,
          1,
          1,
          1,
          1,
          1,
          1,
          1,
          1,
          1,
          1,
          1,
          1,
          1,
          1,
          1,
          1,
          1,
          1,
          1,
          1,
          1,
          1,
          1,
          1,
          1,
          1,
          1,
          1,
          1,
          1,
          1,
          1,
          1,
          1,
          1,
          1,
          1,
          1,
          1,
          1,
          1,
          1,
          1,
          1,
          1,
          1,
          1,
          1,
          1,
          1,
          1,
          1,
          1,
          1,
          1,
          1,
          1,
          1,
          1,
          1,
          1,
          1,
          1,
          1,
          1,
          1,
          1,
          1,
          1,
          1,
          1,
          1,
          1,
          1
         ]
        }
       ],
       "layout": {
        "template": {
         "data": {
          "bar": [
           {
            "error_x": {
             "color": "#2a3f5f"
            },
            "error_y": {
             "color": "#2a3f5f"
            },
            "marker": {
             "line": {
              "color": "#E5ECF6",
              "width": 0.5
             }
            },
            "type": "bar"
           }
          ],
          "barpolar": [
           {
            "marker": {
             "line": {
              "color": "#E5ECF6",
              "width": 0.5
             }
            },
            "type": "barpolar"
           }
          ],
          "carpet": [
           {
            "aaxis": {
             "endlinecolor": "#2a3f5f",
             "gridcolor": "white",
             "linecolor": "white",
             "minorgridcolor": "white",
             "startlinecolor": "#2a3f5f"
            },
            "baxis": {
             "endlinecolor": "#2a3f5f",
             "gridcolor": "white",
             "linecolor": "white",
             "minorgridcolor": "white",
             "startlinecolor": "#2a3f5f"
            },
            "type": "carpet"
           }
          ],
          "choropleth": [
           {
            "colorbar": {
             "outlinewidth": 0,
             "ticks": ""
            },
            "type": "choropleth"
           }
          ],
          "contour": [
           {
            "colorbar": {
             "outlinewidth": 0,
             "ticks": ""
            },
            "colorscale": [
             [
              0,
              "#0d0887"
             ],
             [
              0.1111111111111111,
              "#46039f"
             ],
             [
              0.2222222222222222,
              "#7201a8"
             ],
             [
              0.3333333333333333,
              "#9c179e"
             ],
             [
              0.4444444444444444,
              "#bd3786"
             ],
             [
              0.5555555555555556,
              "#d8576b"
             ],
             [
              0.6666666666666666,
              "#ed7953"
             ],
             [
              0.7777777777777778,
              "#fb9f3a"
             ],
             [
              0.8888888888888888,
              "#fdca26"
             ],
             [
              1,
              "#f0f921"
             ]
            ],
            "type": "contour"
           }
          ],
          "contourcarpet": [
           {
            "colorbar": {
             "outlinewidth": 0,
             "ticks": ""
            },
            "type": "contourcarpet"
           }
          ],
          "heatmap": [
           {
            "colorbar": {
             "outlinewidth": 0,
             "ticks": ""
            },
            "colorscale": [
             [
              0,
              "#0d0887"
             ],
             [
              0.1111111111111111,
              "#46039f"
             ],
             [
              0.2222222222222222,
              "#7201a8"
             ],
             [
              0.3333333333333333,
              "#9c179e"
             ],
             [
              0.4444444444444444,
              "#bd3786"
             ],
             [
              0.5555555555555556,
              "#d8576b"
             ],
             [
              0.6666666666666666,
              "#ed7953"
             ],
             [
              0.7777777777777778,
              "#fb9f3a"
             ],
             [
              0.8888888888888888,
              "#fdca26"
             ],
             [
              1,
              "#f0f921"
             ]
            ],
            "type": "heatmap"
           }
          ],
          "heatmapgl": [
           {
            "colorbar": {
             "outlinewidth": 0,
             "ticks": ""
            },
            "colorscale": [
             [
              0,
              "#0d0887"
             ],
             [
              0.1111111111111111,
              "#46039f"
             ],
             [
              0.2222222222222222,
              "#7201a8"
             ],
             [
              0.3333333333333333,
              "#9c179e"
             ],
             [
              0.4444444444444444,
              "#bd3786"
             ],
             [
              0.5555555555555556,
              "#d8576b"
             ],
             [
              0.6666666666666666,
              "#ed7953"
             ],
             [
              0.7777777777777778,
              "#fb9f3a"
             ],
             [
              0.8888888888888888,
              "#fdca26"
             ],
             [
              1,
              "#f0f921"
             ]
            ],
            "type": "heatmapgl"
           }
          ],
          "histogram": [
           {
            "marker": {
             "colorbar": {
              "outlinewidth": 0,
              "ticks": ""
             }
            },
            "type": "histogram"
           }
          ],
          "histogram2d": [
           {
            "colorbar": {
             "outlinewidth": 0,
             "ticks": ""
            },
            "colorscale": [
             [
              0,
              "#0d0887"
             ],
             [
              0.1111111111111111,
              "#46039f"
             ],
             [
              0.2222222222222222,
              "#7201a8"
             ],
             [
              0.3333333333333333,
              "#9c179e"
             ],
             [
              0.4444444444444444,
              "#bd3786"
             ],
             [
              0.5555555555555556,
              "#d8576b"
             ],
             [
              0.6666666666666666,
              "#ed7953"
             ],
             [
              0.7777777777777778,
              "#fb9f3a"
             ],
             [
              0.8888888888888888,
              "#fdca26"
             ],
             [
              1,
              "#f0f921"
             ]
            ],
            "type": "histogram2d"
           }
          ],
          "histogram2dcontour": [
           {
            "colorbar": {
             "outlinewidth": 0,
             "ticks": ""
            },
            "colorscale": [
             [
              0,
              "#0d0887"
             ],
             [
              0.1111111111111111,
              "#46039f"
             ],
             [
              0.2222222222222222,
              "#7201a8"
             ],
             [
              0.3333333333333333,
              "#9c179e"
             ],
             [
              0.4444444444444444,
              "#bd3786"
             ],
             [
              0.5555555555555556,
              "#d8576b"
             ],
             [
              0.6666666666666666,
              "#ed7953"
             ],
             [
              0.7777777777777778,
              "#fb9f3a"
             ],
             [
              0.8888888888888888,
              "#fdca26"
             ],
             [
              1,
              "#f0f921"
             ]
            ],
            "type": "histogram2dcontour"
           }
          ],
          "mesh3d": [
           {
            "colorbar": {
             "outlinewidth": 0,
             "ticks": ""
            },
            "type": "mesh3d"
           }
          ],
          "parcoords": [
           {
            "line": {
             "colorbar": {
              "outlinewidth": 0,
              "ticks": ""
             }
            },
            "type": "parcoords"
           }
          ],
          "scatter": [
           {
            "marker": {
             "colorbar": {
              "outlinewidth": 0,
              "ticks": ""
             }
            },
            "type": "scatter"
           }
          ],
          "scatter3d": [
           {
            "line": {
             "colorbar": {
              "outlinewidth": 0,
              "ticks": ""
             }
            },
            "marker": {
             "colorbar": {
              "outlinewidth": 0,
              "ticks": ""
             }
            },
            "type": "scatter3d"
           }
          ],
          "scattercarpet": [
           {
            "marker": {
             "colorbar": {
              "outlinewidth": 0,
              "ticks": ""
             }
            },
            "type": "scattercarpet"
           }
          ],
          "scattergeo": [
           {
            "marker": {
             "colorbar": {
              "outlinewidth": 0,
              "ticks": ""
             }
            },
            "type": "scattergeo"
           }
          ],
          "scattergl": [
           {
            "marker": {
             "colorbar": {
              "outlinewidth": 0,
              "ticks": ""
             }
            },
            "type": "scattergl"
           }
          ],
          "scattermapbox": [
           {
            "marker": {
             "colorbar": {
              "outlinewidth": 0,
              "ticks": ""
             }
            },
            "type": "scattermapbox"
           }
          ],
          "scatterpolar": [
           {
            "marker": {
             "colorbar": {
              "outlinewidth": 0,
              "ticks": ""
             }
            },
            "type": "scatterpolar"
           }
          ],
          "scatterpolargl": [
           {
            "marker": {
             "colorbar": {
              "outlinewidth": 0,
              "ticks": ""
             }
            },
            "type": "scatterpolargl"
           }
          ],
          "scatterternary": [
           {
            "marker": {
             "colorbar": {
              "outlinewidth": 0,
              "ticks": ""
             }
            },
            "type": "scatterternary"
           }
          ],
          "surface": [
           {
            "colorbar": {
             "outlinewidth": 0,
             "ticks": ""
            },
            "colorscale": [
             [
              0,
              "#0d0887"
             ],
             [
              0.1111111111111111,
              "#46039f"
             ],
             [
              0.2222222222222222,
              "#7201a8"
             ],
             [
              0.3333333333333333,
              "#9c179e"
             ],
             [
              0.4444444444444444,
              "#bd3786"
             ],
             [
              0.5555555555555556,
              "#d8576b"
             ],
             [
              0.6666666666666666,
              "#ed7953"
             ],
             [
              0.7777777777777778,
              "#fb9f3a"
             ],
             [
              0.8888888888888888,
              "#fdca26"
             ],
             [
              1,
              "#f0f921"
             ]
            ],
            "type": "surface"
           }
          ],
          "table": [
           {
            "cells": {
             "fill": {
              "color": "#EBF0F8"
             },
             "line": {
              "color": "white"
             }
            },
            "header": {
             "fill": {
              "color": "#C8D4E3"
             },
             "line": {
              "color": "white"
             }
            },
            "type": "table"
           }
          ]
         },
         "layout": {
          "annotationdefaults": {
           "arrowcolor": "#2a3f5f",
           "arrowhead": 0,
           "arrowwidth": 1
          },
          "colorscale": {
           "diverging": [
            [
             0,
             "#8e0152"
            ],
            [
             0.1,
             "#c51b7d"
            ],
            [
             0.2,
             "#de77ae"
            ],
            [
             0.3,
             "#f1b6da"
            ],
            [
             0.4,
             "#fde0ef"
            ],
            [
             0.5,
             "#f7f7f7"
            ],
            [
             0.6,
             "#e6f5d0"
            ],
            [
             0.7,
             "#b8e186"
            ],
            [
             0.8,
             "#7fbc41"
            ],
            [
             0.9,
             "#4d9221"
            ],
            [
             1,
             "#276419"
            ]
           ],
           "sequential": [
            [
             0,
             "#0d0887"
            ],
            [
             0.1111111111111111,
             "#46039f"
            ],
            [
             0.2222222222222222,
             "#7201a8"
            ],
            [
             0.3333333333333333,
             "#9c179e"
            ],
            [
             0.4444444444444444,
             "#bd3786"
            ],
            [
             0.5555555555555556,
             "#d8576b"
            ],
            [
             0.6666666666666666,
             "#ed7953"
            ],
            [
             0.7777777777777778,
             "#fb9f3a"
            ],
            [
             0.8888888888888888,
             "#fdca26"
            ],
            [
             1,
             "#f0f921"
            ]
           ],
           "sequentialminus": [
            [
             0,
             "#0d0887"
            ],
            [
             0.1111111111111111,
             "#46039f"
            ],
            [
             0.2222222222222222,
             "#7201a8"
            ],
            [
             0.3333333333333333,
             "#9c179e"
            ],
            [
             0.4444444444444444,
             "#bd3786"
            ],
            [
             0.5555555555555556,
             "#d8576b"
            ],
            [
             0.6666666666666666,
             "#ed7953"
            ],
            [
             0.7777777777777778,
             "#fb9f3a"
            ],
            [
             0.8888888888888888,
             "#fdca26"
            ],
            [
             1,
             "#f0f921"
            ]
           ]
          },
          "colorway": [
           "#636efa",
           "#EF553B",
           "#00cc96",
           "#ab63fa",
           "#FFA15A",
           "#19d3f3",
           "#FF6692",
           "#B6E880",
           "#FF97FF",
           "#FECB52"
          ],
          "font": {
           "color": "#2a3f5f"
          },
          "geo": {
           "bgcolor": "white",
           "lakecolor": "white",
           "landcolor": "#E5ECF6",
           "showlakes": true,
           "showland": true,
           "subunitcolor": "white"
          },
          "hoverlabel": {
           "align": "left"
          },
          "hovermode": "closest",
          "mapbox": {
           "style": "light"
          },
          "paper_bgcolor": "white",
          "plot_bgcolor": "#E5ECF6",
          "polar": {
           "angularaxis": {
            "gridcolor": "white",
            "linecolor": "white",
            "ticks": ""
           },
           "bgcolor": "#E5ECF6",
           "radialaxis": {
            "gridcolor": "white",
            "linecolor": "white",
            "ticks": ""
           }
          },
          "scene": {
           "xaxis": {
            "backgroundcolor": "#E5ECF6",
            "gridcolor": "white",
            "gridwidth": 2,
            "linecolor": "white",
            "showbackground": true,
            "ticks": "",
            "zerolinecolor": "white"
           },
           "yaxis": {
            "backgroundcolor": "#E5ECF6",
            "gridcolor": "white",
            "gridwidth": 2,
            "linecolor": "white",
            "showbackground": true,
            "ticks": "",
            "zerolinecolor": "white"
           },
           "zaxis": {
            "backgroundcolor": "#E5ECF6",
            "gridcolor": "white",
            "gridwidth": 2,
            "linecolor": "white",
            "showbackground": true,
            "ticks": "",
            "zerolinecolor": "white"
           }
          },
          "shapedefaults": {
           "line": {
            "color": "#2a3f5f"
           }
          },
          "ternary": {
           "aaxis": {
            "gridcolor": "white",
            "linecolor": "white",
            "ticks": ""
           },
           "baxis": {
            "gridcolor": "white",
            "linecolor": "white",
            "ticks": ""
           },
           "bgcolor": "#E5ECF6",
           "caxis": {
            "gridcolor": "white",
            "linecolor": "white",
            "ticks": ""
           }
          },
          "title": {
           "x": 0.05
          },
          "xaxis": {
           "automargin": true,
           "gridcolor": "white",
           "linecolor": "white",
           "ticks": "",
           "zerolinecolor": "white",
           "zerolinewidth": 2
          },
          "yaxis": {
           "automargin": true,
           "gridcolor": "white",
           "linecolor": "white",
           "ticks": "",
           "zerolinecolor": "white",
           "zerolinewidth": 2
          }
         }
        }
       }
      },
      "text/html": [
       "<div>\n",
       "        \n",
       "        \n",
       "            <div id=\"8ab982e3-1fda-4d25-b92b-a38825b479e3\" class=\"plotly-graph-div\" style=\"height:525px; width:100%;\"></div>\n",
       "            <script type=\"text/javascript\">\n",
       "                require([\"plotly\"], function(Plotly) {\n",
       "                    window.PLOTLYENV=window.PLOTLYENV || {};\n",
       "                    \n",
       "                if (document.getElementById(\"8ab982e3-1fda-4d25-b92b-a38825b479e3\")) {\n",
       "                    Plotly.newPlot(\n",
       "                        '8ab982e3-1fda-4d25-b92b-a38825b479e3',\n",
       "                        [{\"hoverinfo\": \"label+percent\", \"labels\": [\"Facebook \", \"Friend\", \"Rohan Rakshit\", \"Rajeswari pal\", \"Freind\", \"Via WhatsApp message of one of my friend\", \"Social media\", \"Facebook\", \"Friends\", \"Rohan\", \"A Friend\", \"Friend \", \"WhatsApp group\", \"Rajeswari  pal\", \"TM sir Group \", \"Sanghamitra Majumdar\", \"From my friend Rupsa\", \"Online\", \"College, HOD \", \"Whatsapp\", \"email\", \"Tuition batch\", \"From friends circle\", \"Tulshi Sir\", \"Subhra roy\", \"College\", \"Whatsapp \", \"From my statistics teacher.\", \"Professor\", \"LinkedIn\", \"Tuition teacher \", \"A whatsapp group\", \"Whatsapp group\", \"From a friend\", \"A friend\", \"Nairanjana Sarkar\", \"Facebook event\", \"From a friend \", \"Sister\", \"Sudip Nandi\", \"Social Media\", \"My friend told me\", \"Tuition group \", \"Naser Abdullah Alam \", \"Ankita Ghosh\", \"newspaper \", \"Teacher\", \"Rajeshwari Pal\", \"Via friend \", \"COLLEGE FRIEND\", \"Sanghamitra Majumder\", \"SANGHAMITRA MAJUMDER\", \"EDC, Diatm\", \"A status was posted by a senior of my dept.Seeing this I would like to \", \"Through a friend\", \"Tulsidas Mukherjee \", \"My friend \", \"From tuition\", \"My College Friend\", \"From classmate \", \"HOD of our college's statistics department, PP sir\", \"facebook\", \"Jobs for nsuers\", \"Jobs  for nsuers\", \"Facebook post \", \" college Senior\", \"Nairanjana sarkar\", \"fb\", \"Facebook group\", \"Debarchan Mukherjee\", \"Friend circle\", \"My niece\", \"University friend \", \"Comilla University   \", \"Fried\", \"TEACHERS\", \"Softanbees free boot camp program\", \"By a friend\", \"Subham sah/Manish Kumar\", \"Facebook Groups\", \"My friend\", \"College whatsapp group\", \"Krisnomita Banerjee\", \"From my friend\", \"WhatsApp Group\", \"friend\", \"Professor \", \"Whatsapp group \", \"Cse/eee group Bangladesh \", \"Friends \", \"Krishnamita Banerjee\", \"By college\", \"Get notified through friends\", \"My Friend\", \"Fb\", \"I find this program via facebook event. \", \"Facebook post from a classmate\", \"Facebook Event\", \"Fb \", \"MD. Rezwan Hosaain Naeem\", \"Facebook job group page \", \"Pritama Roy\", \"Dont know\", \"One of my teacher told me about this\", \"WhatsApp \", \"Snehashis Debnath\", \"Whatsapp Group \", \"Source of reference \", \"From friends\", \"Facebook Ads\", \"From a Friend\", \"Through a friend \", \"DIATM collage\", \"Tulsidas Sir\", \"WhatsApp link\", \"College Friends\", \"Through college\", \"friends\", \"I came to know about this from my friend\", \"Mail id\", \"College Friends \", \"Instagram\", \"Friend's suggestions\", \"Surjo ghosh\", \"Nil\", \"Yes \", \"No\", \"Email \", \"Tution teacher prof Tulsidas Mukherjee\", \"From one of my friends who have joined this program \", \"Group invite link\", \"Soumya Dutta\", \"Tutor\", \"Mail\", \"FRIEND\", \"Mr. Tulshi Das Mukherjee\", \"Frined\", \"Whatsapp chat\", \"Softanbees free boot camp program .\", \"Entrepreneurship Development Cell, DIATM\", \"Rittick Npti\", \"Whatsapp Group\", \"College Group\", \"Freinds\", \"FRIEND \", \"One of my friends\", \"Via friend\", \"Lisha Ghosh \", \"Watsapp\", \"Manish\", \"Tulshidas Mukhopadhyay,Kolkata\", \"Tulshidas Mukhopadhyay, Kolkata\", \"whatsapp group \", \"Student of our Institution\", \"College WhatsApp group \", \"Friend.\", \"Tution sir\", \"Soumya brata Mahapatra\", \"Facebook event ad\", \"whatapp group\", \"College group\", \"One of my friend \", \"Link from a friend\", \"TDM sir\", \"From the college\", \"Monojit Saha\", \"Friends' suggestion   \", \"Friend(Ankita Ghosh)\", \"Internet\", \"WhatsApp\", \"Ftiend\", \"Other students\", \"College teacher informed us\", \"From the whatsapp group\", \"From whatsapp group\", \"Statistics tuition sir\", \"Statistics tuition sir (Tulsidas Mukherjee)\", \"One of my friends \", \"Ritick Sarkar \", \"Tuition sir\", \"E-Leader\", \"Tuition teacher\", \"From teachers\", \"Whats app group\", \"Tulsi Das Mukherjee\", \"What's app reference\", \"AIUB course solution\", \"Whatsapp group  \", \"One of my friend informed me about this\", \"University faculty\", \"From varsity group \", \"My friend...\", \"Deepa Mondal\", \"Facebook  \", \"Ijaz Mahamud Fuad\", \"Frnd\", \"College faculties\", \"Tution Sir\", \"Link from friend\", \"Webminar\", \"College Campus\", \"college\", \"From teachers of our MCA department.\", \"COLLEGE\", \"Facebook page\", \"College facility\", \"College Faculty\", \"College teacher\", \"College \", \"Department\", \"I got to know about this from my college's ma'am.\"], \"textfont\": {\"size\": 10}, \"textinfo\": \"none\", \"type\": \"pie\", \"values\": [66, 27, 26, 18, 11, 10, 9, 6, 6, 5, 4, 4, 4, 4, 3, 3, 3, 3, 3, 3, 3, 3, 2, 2, 2, 2, 2, 2, 2, 2, 2, 2, 2, 2, 2, 2, 2, 2, 2, 2, 2, 1, 1, 1, 1, 1, 1, 1, 1, 1, 1, 1, 1, 1, 1, 1, 1, 1, 1, 1, 1, 1, 1, 1, 1, 1, 1, 1, 1, 1, 1, 1, 1, 1, 1, 1, 1, 1, 1, 1, 1, 1, 1, 1, 1, 1, 1, 1, 1, 1, 1, 1, 1, 1, 1, 1, 1, 1, 1, 1, 1, 1, 1, 1, 1, 1, 1, 1, 1, 1, 1, 1, 1, 1, 1, 1, 1, 1, 1, 1, 1, 1, 1, 1, 1, 1, 1, 1, 1, 1, 1, 1, 1, 1, 1, 1, 1, 1, 1, 1, 1, 1, 1, 1, 1, 1, 1, 1, 1, 1, 1, 1, 1, 1, 1, 1, 1, 1, 1, 1, 1, 1, 1, 1, 1, 1, 1, 1, 1, 1, 1, 1, 1, 1, 1, 1, 1, 1, 1, 1, 1, 1, 1, 1, 1, 1, 1, 1, 1, 1, 1, 1, 1, 1, 1, 1, 1, 1, 1, 1, 1, 1, 1, 1, 1, 1, 1, 1, 1, 1, 1]}],\n",
       "                        {\"template\": {\"data\": {\"bar\": [{\"error_x\": {\"color\": \"#2a3f5f\"}, \"error_y\": {\"color\": \"#2a3f5f\"}, \"marker\": {\"line\": {\"color\": \"#E5ECF6\", \"width\": 0.5}}, \"type\": \"bar\"}], \"barpolar\": [{\"marker\": {\"line\": {\"color\": \"#E5ECF6\", \"width\": 0.5}}, \"type\": \"barpolar\"}], \"carpet\": [{\"aaxis\": {\"endlinecolor\": \"#2a3f5f\", \"gridcolor\": \"white\", \"linecolor\": \"white\", \"minorgridcolor\": \"white\", \"startlinecolor\": \"#2a3f5f\"}, \"baxis\": {\"endlinecolor\": \"#2a3f5f\", \"gridcolor\": \"white\", \"linecolor\": \"white\", \"minorgridcolor\": \"white\", \"startlinecolor\": \"#2a3f5f\"}, \"type\": \"carpet\"}], \"choropleth\": [{\"colorbar\": {\"outlinewidth\": 0, \"ticks\": \"\"}, \"type\": \"choropleth\"}], \"contour\": [{\"colorbar\": {\"outlinewidth\": 0, \"ticks\": \"\"}, \"colorscale\": [[0.0, \"#0d0887\"], [0.1111111111111111, \"#46039f\"], [0.2222222222222222, \"#7201a8\"], [0.3333333333333333, \"#9c179e\"], [0.4444444444444444, \"#bd3786\"], [0.5555555555555556, \"#d8576b\"], [0.6666666666666666, \"#ed7953\"], [0.7777777777777778, \"#fb9f3a\"], [0.8888888888888888, \"#fdca26\"], [1.0, \"#f0f921\"]], \"type\": \"contour\"}], \"contourcarpet\": [{\"colorbar\": {\"outlinewidth\": 0, \"ticks\": \"\"}, \"type\": \"contourcarpet\"}], \"heatmap\": [{\"colorbar\": {\"outlinewidth\": 0, \"ticks\": \"\"}, \"colorscale\": [[0.0, \"#0d0887\"], [0.1111111111111111, \"#46039f\"], [0.2222222222222222, \"#7201a8\"], [0.3333333333333333, \"#9c179e\"], [0.4444444444444444, \"#bd3786\"], [0.5555555555555556, \"#d8576b\"], [0.6666666666666666, \"#ed7953\"], [0.7777777777777778, \"#fb9f3a\"], [0.8888888888888888, \"#fdca26\"], [1.0, \"#f0f921\"]], \"type\": \"heatmap\"}], \"heatmapgl\": [{\"colorbar\": {\"outlinewidth\": 0, \"ticks\": \"\"}, \"colorscale\": [[0.0, \"#0d0887\"], [0.1111111111111111, \"#46039f\"], [0.2222222222222222, \"#7201a8\"], [0.3333333333333333, \"#9c179e\"], [0.4444444444444444, \"#bd3786\"], [0.5555555555555556, \"#d8576b\"], [0.6666666666666666, \"#ed7953\"], [0.7777777777777778, \"#fb9f3a\"], [0.8888888888888888, \"#fdca26\"], [1.0, \"#f0f921\"]], \"type\": \"heatmapgl\"}], \"histogram\": [{\"marker\": {\"colorbar\": {\"outlinewidth\": 0, \"ticks\": \"\"}}, \"type\": \"histogram\"}], \"histogram2d\": [{\"colorbar\": {\"outlinewidth\": 0, \"ticks\": \"\"}, \"colorscale\": [[0.0, \"#0d0887\"], [0.1111111111111111, \"#46039f\"], [0.2222222222222222, \"#7201a8\"], [0.3333333333333333, \"#9c179e\"], [0.4444444444444444, \"#bd3786\"], [0.5555555555555556, \"#d8576b\"], [0.6666666666666666, \"#ed7953\"], [0.7777777777777778, \"#fb9f3a\"], [0.8888888888888888, \"#fdca26\"], [1.0, \"#f0f921\"]], \"type\": \"histogram2d\"}], \"histogram2dcontour\": [{\"colorbar\": {\"outlinewidth\": 0, \"ticks\": \"\"}, \"colorscale\": [[0.0, \"#0d0887\"], [0.1111111111111111, \"#46039f\"], [0.2222222222222222, \"#7201a8\"], [0.3333333333333333, \"#9c179e\"], [0.4444444444444444, \"#bd3786\"], [0.5555555555555556, \"#d8576b\"], [0.6666666666666666, \"#ed7953\"], [0.7777777777777778, \"#fb9f3a\"], [0.8888888888888888, \"#fdca26\"], [1.0, \"#f0f921\"]], \"type\": \"histogram2dcontour\"}], \"mesh3d\": [{\"colorbar\": {\"outlinewidth\": 0, \"ticks\": \"\"}, \"type\": \"mesh3d\"}], \"parcoords\": [{\"line\": {\"colorbar\": {\"outlinewidth\": 0, \"ticks\": \"\"}}, \"type\": \"parcoords\"}], \"scatter\": [{\"marker\": {\"colorbar\": {\"outlinewidth\": 0, \"ticks\": \"\"}}, \"type\": \"scatter\"}], \"scatter3d\": [{\"line\": {\"colorbar\": {\"outlinewidth\": 0, \"ticks\": \"\"}}, \"marker\": {\"colorbar\": {\"outlinewidth\": 0, \"ticks\": \"\"}}, \"type\": \"scatter3d\"}], \"scattercarpet\": [{\"marker\": {\"colorbar\": {\"outlinewidth\": 0, \"ticks\": \"\"}}, \"type\": \"scattercarpet\"}], \"scattergeo\": [{\"marker\": {\"colorbar\": {\"outlinewidth\": 0, \"ticks\": \"\"}}, \"type\": \"scattergeo\"}], \"scattergl\": [{\"marker\": {\"colorbar\": {\"outlinewidth\": 0, \"ticks\": \"\"}}, \"type\": \"scattergl\"}], \"scattermapbox\": [{\"marker\": {\"colorbar\": {\"outlinewidth\": 0, \"ticks\": \"\"}}, \"type\": \"scattermapbox\"}], \"scatterpolar\": [{\"marker\": {\"colorbar\": {\"outlinewidth\": 0, \"ticks\": \"\"}}, \"type\": \"scatterpolar\"}], \"scatterpolargl\": [{\"marker\": {\"colorbar\": {\"outlinewidth\": 0, \"ticks\": \"\"}}, \"type\": \"scatterpolargl\"}], \"scatterternary\": [{\"marker\": {\"colorbar\": {\"outlinewidth\": 0, \"ticks\": \"\"}}, \"type\": \"scatterternary\"}], \"surface\": [{\"colorbar\": {\"outlinewidth\": 0, \"ticks\": \"\"}, \"colorscale\": [[0.0, \"#0d0887\"], [0.1111111111111111, \"#46039f\"], [0.2222222222222222, \"#7201a8\"], [0.3333333333333333, \"#9c179e\"], [0.4444444444444444, \"#bd3786\"], [0.5555555555555556, \"#d8576b\"], [0.6666666666666666, \"#ed7953\"], [0.7777777777777778, \"#fb9f3a\"], [0.8888888888888888, \"#fdca26\"], [1.0, \"#f0f921\"]], \"type\": \"surface\"}], \"table\": [{\"cells\": {\"fill\": {\"color\": \"#EBF0F8\"}, \"line\": {\"color\": \"white\"}}, \"header\": {\"fill\": {\"color\": \"#C8D4E3\"}, \"line\": {\"color\": \"white\"}}, \"type\": \"table\"}]}, \"layout\": {\"annotationdefaults\": {\"arrowcolor\": \"#2a3f5f\", \"arrowhead\": 0, \"arrowwidth\": 1}, \"colorscale\": {\"diverging\": [[0, \"#8e0152\"], [0.1, \"#c51b7d\"], [0.2, \"#de77ae\"], [0.3, \"#f1b6da\"], [0.4, \"#fde0ef\"], [0.5, \"#f7f7f7\"], [0.6, \"#e6f5d0\"], [0.7, \"#b8e186\"], [0.8, \"#7fbc41\"], [0.9, \"#4d9221\"], [1, \"#276419\"]], \"sequential\": [[0.0, \"#0d0887\"], [0.1111111111111111, \"#46039f\"], [0.2222222222222222, \"#7201a8\"], [0.3333333333333333, \"#9c179e\"], [0.4444444444444444, \"#bd3786\"], [0.5555555555555556, \"#d8576b\"], [0.6666666666666666, \"#ed7953\"], [0.7777777777777778, \"#fb9f3a\"], [0.8888888888888888, \"#fdca26\"], [1.0, \"#f0f921\"]], \"sequentialminus\": [[0.0, \"#0d0887\"], [0.1111111111111111, \"#46039f\"], [0.2222222222222222, \"#7201a8\"], [0.3333333333333333, \"#9c179e\"], [0.4444444444444444, \"#bd3786\"], [0.5555555555555556, \"#d8576b\"], [0.6666666666666666, \"#ed7953\"], [0.7777777777777778, \"#fb9f3a\"], [0.8888888888888888, \"#fdca26\"], [1.0, \"#f0f921\"]]}, \"colorway\": [\"#636efa\", \"#EF553B\", \"#00cc96\", \"#ab63fa\", \"#FFA15A\", \"#19d3f3\", \"#FF6692\", \"#B6E880\", \"#FF97FF\", \"#FECB52\"], \"font\": {\"color\": \"#2a3f5f\"}, \"geo\": {\"bgcolor\": \"white\", \"lakecolor\": \"white\", \"landcolor\": \"#E5ECF6\", \"showlakes\": true, \"showland\": true, \"subunitcolor\": \"white\"}, \"hoverlabel\": {\"align\": \"left\"}, \"hovermode\": \"closest\", \"mapbox\": {\"style\": \"light\"}, \"paper_bgcolor\": \"white\", \"plot_bgcolor\": \"#E5ECF6\", \"polar\": {\"angularaxis\": {\"gridcolor\": \"white\", \"linecolor\": \"white\", \"ticks\": \"\"}, \"bgcolor\": \"#E5ECF6\", \"radialaxis\": {\"gridcolor\": \"white\", \"linecolor\": \"white\", \"ticks\": \"\"}}, \"scene\": {\"xaxis\": {\"backgroundcolor\": \"#E5ECF6\", \"gridcolor\": \"white\", \"gridwidth\": 2, \"linecolor\": \"white\", \"showbackground\": true, \"ticks\": \"\", \"zerolinecolor\": \"white\"}, \"yaxis\": {\"backgroundcolor\": \"#E5ECF6\", \"gridcolor\": \"white\", \"gridwidth\": 2, \"linecolor\": \"white\", \"showbackground\": true, \"ticks\": \"\", \"zerolinecolor\": \"white\"}, \"zaxis\": {\"backgroundcolor\": \"#E5ECF6\", \"gridcolor\": \"white\", \"gridwidth\": 2, \"linecolor\": \"white\", \"showbackground\": true, \"ticks\": \"\", \"zerolinecolor\": \"white\"}}, \"shapedefaults\": {\"line\": {\"color\": \"#2a3f5f\"}}, \"ternary\": {\"aaxis\": {\"gridcolor\": \"white\", \"linecolor\": \"white\", \"ticks\": \"\"}, \"baxis\": {\"gridcolor\": \"white\", \"linecolor\": \"white\", \"ticks\": \"\"}, \"bgcolor\": \"#E5ECF6\", \"caxis\": {\"gridcolor\": \"white\", \"linecolor\": \"white\", \"ticks\": \"\"}}, \"title\": {\"x\": 0.05}, \"xaxis\": {\"automargin\": true, \"gridcolor\": \"white\", \"linecolor\": \"white\", \"ticks\": \"\", \"zerolinecolor\": \"white\", \"zerolinewidth\": 2}, \"yaxis\": {\"automargin\": true, \"gridcolor\": \"white\", \"linecolor\": \"white\", \"ticks\": \"\", \"zerolinecolor\": \"white\", \"zerolinewidth\": 2}}}},\n",
       "                        {\"responsive\": true}\n",
       "                    ).then(function(){\n",
       "                            \n",
       "var gd = document.getElementById('8ab982e3-1fda-4d25-b92b-a38825b479e3');\n",
       "var x = new MutationObserver(function (mutations, observer) {{\n",
       "        var display = window.getComputedStyle(gd).display;\n",
       "        if (!display || display === 'none') {{\n",
       "            console.log([gd, 'removed!']);\n",
       "            Plotly.purge(gd);\n",
       "            observer.disconnect();\n",
       "        }}\n",
       "}});\n",
       "\n",
       "// Listen for the removal of the full notebook cells\n",
       "var notebookContainer = gd.closest('#notebook-container');\n",
       "if (notebookContainer) {{\n",
       "    x.observe(notebookContainer, {childList: true});\n",
       "}}\n",
       "\n",
       "// Listen for the clearing of the current output cell\n",
       "var outputEl = gd.closest('.output');\n",
       "if (outputEl) {{\n",
       "    x.observe(outputEl, {childList: true});\n",
       "}}\n",
       "\n",
       "                        })\n",
       "                };\n",
       "                });\n",
       "            </script>\n",
       "        </div>"
      ]
     },
     "metadata": {},
     "output_type": "display_data"
    }
   ],
   "source": [
    "fig = go.Figure(data=[go.Pie(labels=gg['Souce of communication '], values=dg)])\n",
    "fig.update_traces(hoverinfo='label+percent',textinfo='none',textfont_size=10)\n",
    "                \n",
    "fig.show()"
   ]
  },
  {
   "cell_type": "code",
   "execution_count": null,
   "metadata": {},
   "outputs": [],
   "source": []
  }
 ],
 "metadata": {
  "kernelspec": {
   "display_name": "Python 3",
   "language": "python",
   "name": "python3"
  },
  "language_info": {
   "codemirror_mode": {
    "name": "ipython",
    "version": 3
   },
   "file_extension": ".py",
   "mimetype": "text/x-python",
   "name": "python",
   "nbconvert_exporter": "python",
   "pygments_lexer": "ipython3",
   "version": "3.7.6"
  }
 },
 "nbformat": 4,
 "nbformat_minor": 4
}
