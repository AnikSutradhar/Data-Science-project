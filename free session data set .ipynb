{
 "cells": [
  {
   "cell_type": "code",
   "execution_count": 108,
   "metadata": {},
   "outputs": [
    {
     "data": {
      "text/plain": [
       "Index(['Unnamed: 0', 'Time Stamp ', 'Name of the candidate ', 'College name ',\n",
       "       'Brach ', 'People having laptop ', 'Souce of communication ',\n",
       "       'Country '],\n",
       "      dtype='object')"
      ]
     },
     "execution_count": 108,
     "metadata": {},
     "output_type": "execute_result"
    }
   ],
   "source": [
    "import pandas as pd\n",
    "import numpy as np\n",
    "df=pd.read_csv('free_session.csv')\n",
    "df\n",
    "df.columns\n"
   ]
  },
  {
   "cell_type": "code",
   "execution_count": 109,
   "metadata": {},
   "outputs": [
    {
     "data": {
      "text/html": [
       "        <script type=\"text/javascript\">\n",
       "        window.PlotlyConfig = {MathJaxConfig: 'local'};\n",
       "        if (window.MathJax) {MathJax.Hub.Config({SVG: {font: \"STIX-Web\"}});}\n",
       "        if (typeof require !== 'undefined') {\n",
       "        require.undef(\"plotly\");\n",
       "        requirejs.config({\n",
       "            paths: {\n",
       "                'plotly': ['https://cdn.plot.ly/plotly-latest.min']\n",
       "            }\n",
       "        });\n",
       "        require(['plotly'], function(Plotly) {\n",
       "            window._Plotly = Plotly;\n",
       "        });\n",
       "        }\n",
       "        </script>\n",
       "        "
      ]
     },
     "metadata": {},
     "output_type": "display_data"
    }
   ],
   "source": [
    "import matplotlib.pyplot as plt\n",
    "import seaborn as sns \n",
    "import plotly.graph_objs as go\n",
    "import plotly.figure_factory as ff\n",
    "from plotly import tools\n",
    "from plotly.offline import download_plotlyjs, init_notebook_mode, plot, iplot\n",
    "import plotly.express as px\n",
    "init_notebook_mode(connected=True)\n",
    "import warnings\n",
    "warnings.filterwarnings(\"ignore\")\n",
    "dg=df.copy()\n",
    "dg.drop(['Unnamed: 0', 'Time Stamp ', 'Name of the candidate ','People having laptop ', 'Souce of communication ',\n",
    "       'Country '],axis=1,inplace=True)\n",
    "\n"
   ]
  },
  {
   "cell_type": "code",
   "execution_count": null,
   "metadata": {},
   "outputs": [],
   "source": []
  },
  {
   "cell_type": "code",
   "execution_count": 110,
   "metadata": {},
   "outputs": [],
   "source": [
    "def draw_trace_bar(data,var,feature, title, xlab,ylab,color='Blue'):\n",
    "    ''''provides a bar plot of no. of occurence of a categorical variable\n",
    "           data=is the dataset\n",
    "           feature=frequency of the variable\n",
    "           title = title of your plot\n",
    "           xlab= xlabel\n",
    "           ylab=ylabel\n",
    "           color=color of plot\n",
    "    '''\n",
    "    trace = go.Bar(\n",
    "            x = data[var],\n",
    "            y = feature,\n",
    "            marker=dict(color=color),\n",
    "            text=data[var]\n",
    "        )\n",
    "    data = [trace]\n",
    "    layout = dict(title = title,\n",
    "              xaxis = dict(title = xlab, showticklabels=True, tickangle=45, \n",
    "                           zeroline=True, zerolinewidth=1, zerolinecolor='grey',\n",
    "                           showline=True, linewidth=2, linecolor='black', mirror=True,\n",
    "                          tickfont=dict(\n",
    "                            size=10,\n",
    "                            color='red'),), \n",
    "              yaxis = dict(title = ylab, gridcolor='lightgrey', zeroline=True, zerolinewidth=1, zerolinecolor='grey',\n",
    "                          showline=True, linewidth=2, linecolor='black', mirror=True),\n",
    "              plot_bgcolor = 'rgba(0, 0, 0, 0)', paper_bgcolor = 'rgba(0, 0, 0, 0)',\n",
    "              hovermode = 'closest'\n",
    "             )\n",
    "    fig = dict(data = data, layout = layout)\n",
    "    iplot(fig, filename='draw_trace')"
   ]
  },
  {
   "cell_type": "code",
   "execution_count": 112,
   "metadata": {
    "scrolled": true
   },
   "outputs": [
    {
     "data": {
      "application/vnd.plotly.v1+json": {
       "config": {
        "linkText": "Export to plot.ly",
        "plotlyServerURL": "https://plot.ly",
        "showLink": false
       },
       "data": [
        {
         "marker": {
          "color": "purple"
         },
         "text": [
          "United International University ",
          "Shahjalal University of Science and Technology",
          "Asutosh College",
          "DEPARTMENT OF PURE MATHEMATICS, UNIVERSITY OF CALCUTTA",
          "Vivekananda College",
          "J.K College",
          "Narasinha dutt college",
          "J.k.clg purulia",
          "NARASINHA DUTT COLLEGE ",
          "Global Nature Care Sangathan Group Of Institutions",
          "Maulana Azad College",
          "Purulia zilla school ",
          "Daffodil  International  University ",
          "Asutosh College ",
          "DIATM",
          "Narasinha Dutt college under Calcutta university ",
          "Sister Nibedita Govt General Degree College for Girls ",
          "ND College",
          "Ramakrishna Mission Shilpapitha",
          "Viswass school & college of nursing",
          "Narasinha Dutt college afflicted by Calcutta University",
          "Maulana Azad College ",
          "Durgapur Institute of Advanced Technology and Management",
          "Insitiution of engineering and managment",
          "Asutosh college",
          "Sister Nibedita Govt. General Degree College For Girls",
          "Manipal hospital",
          "Durgapur Institute Of Advance Technology and Management",
          "West Bengal State University ",
          "St. Xavier's College , Kolkata ",
          "St. Xavier's College, Kolkata",
          "SKS Power Generation Chhattisgarh Ltd.",
          "University of Calcutta",
          "University College Of Science & Technology, University Of Calcutta",
          "Jagannath Kishore college,Purulia",
          "Hooghly Engineering and Technology College",
          "Narasinha dutt college ",
          "West Bengal University of Health Sciences",
          "Kalyani mahavidyalaya",
          "Acharya institute of management and sciences",
          "Narasinha Dutta College",
          "NARASINHA DUTT COLLEGE",
          "Jagannath Kishore College",
          "NARASINHA DUTT COLLEGE, UNIVERSITY OF CALCUTTA",
          "Narasingha Dutt College ",
          "Durgapur Institute of Advanced Technology and Management ",
          "Comilla University",
          "Lady Brabourne College",
          "St. Xavier's College (Autonomous) , Kolkata",
          "Narasinha Dutt College",
          "Academy Of Technology",
          "J.K college",
          "Calcutta University ( Ballygaunge Science College) ",
          "RKMVERI BELUR MATH",
          "JJ Glastronics",
          "Gauhati University",
          "Jadavpur University",
          "Guru NANAK INSTITUTE OF PHARMACEUTICAL SCIENCE AND TECHNOLOGY",
          "Maulana Azad college",
          "Institute of Engineering and Management",
          "Bharat University, Chennai",
          "Jadavpur University ",
          "JADAVPUR UNIVERSITY ",
          "Gl bajaj",
          "National power training institute Nagpur",
          "Bethune College",
          "Future Institute of Technology",
          "Government College of Engineering and Leather Technology",
          "Vidyasaagar university",
          " Uttarpara Amarendra Vidyapith",
          "Durgapur institute of advanced and technology management",
          "NPTI, NAGPUR",
          "Jagannath Kishore College, Purulia",
          "Makaut(Formely wbut)",
          "Netaji Subhas Open University",
          "Maulana Abul Kalam Azad University of Technology",
          "Vidyasagar University",
          "National Institute Of Technology Warangal",
          "Ramakrishna Mission Vidyamandira ",
          "JADAVPUR UNIVERSITY",
          "Maulana Abul Kalam Azad University of Technology ",
          "Institution / Organization / College name ",
          "Durgapur institute of advanced technology and management",
          "Maulana Abul Kalam Azad University of Technology, W.B",
          "Christ  University",
          "Durgapur institute of advanced technology",
          "Belda College",
          "FUTURETECH PRIVATE ITI ",
          "J.k. college",
          "BRABU",
          "Burdwan University",
          "Durgapur institute of advance technology and managment",
          "Global engineering college",
          "Prabhat Kumar College",
          "Calcutta university ",
          "Shibpur Dinobondhoo Institution (College) ",
          "Durgapur institute of advanced technology and managemant rajbandh",
          "MAULANA ABUL KALAM AZAD UNIVERSITY OF TECHNOLOGY ",
          "Vivekananda College Thakurpukur",
          "Durgapur Institute of advanced technology and management ",
          "St. Xavier's College (Autonomous), Kolkata. ",
          "OmDayal Group Of Institutions",
          "Vivekananda college",
          "Amta Ramsaday College",
          "DIATM, Durgapur",
          "Basanti devi College",
          "MAULANA AZAD COLLEGE",
          "Kalyani Mahavidyalaya",
          "Durgapur Institute of Advanced Technology & Management",
          "Lady Brabourne College ",
          "Victoria Institution",
          "Corporate Institute Of Pharmacy",
          "Amity University Kolkata",
          "Ramakrishna Mission Vidyamandira",
          "Hffc",
          "Lalbaba college ",
          "NIST",
          "Raja Peary Mohan college",
          "Purulia jk college",
          "National institute of science and technology,berhampur",
          "Lady brabourne college",
          "Central University of Jharkhand",
          "Jogomaya Devi college ",
          "Raja Peary Mohan College",
          "FUTURE INSTITUTE OF TECHNOLOGY",
          "Future Institute of technology",
          "Seacom engineering college ",
          "Future Institute of Technology ",
          "FUTURE INSTITUTE OF TECHNOLOGY ",
          "National power training institute",
          "Vivekananda college ",
          "Academy of Technology",
          "St Xavier's College",
          "Ramakrishna Mission Vivekananda Educational and Research Institute ",
          "College of engineering Roorkee",
          "National Power Training Institute ( E.R ) ",
          "Lady Brabourne college",
          "Future institute of technology ",
          "RKMVERI, BELUR MATH",
          "Techno India salt lake",
          "Ramakrishna Mission Vivekananda Educational And Research Institute",
          "Sir Gurudas Mahavidyalaya",
          "Vidyasagar College",
          "national institute of science and technology",
          "Visvabharati university",
          "New Alipore College",
          "Bethune college",
          "Bidhannagar college ",
          "Durgapur Institute Of Advanced Technology and Management",
          "DIATM durgapur"
         ],
         "type": "bar",
         "x": [
          "United International University ",
          "Shahjalal University of Science and Technology",
          "Asutosh College",
          "DEPARTMENT OF PURE MATHEMATICS, UNIVERSITY OF CALCUTTA",
          "Vivekananda College",
          "J.K College",
          "Narasinha dutt college",
          "J.k.clg purulia",
          "NARASINHA DUTT COLLEGE ",
          "Global Nature Care Sangathan Group Of Institutions",
          "Maulana Azad College",
          "Purulia zilla school ",
          "Daffodil  International  University ",
          "Asutosh College ",
          "DIATM",
          "Narasinha Dutt college under Calcutta university ",
          "Sister Nibedita Govt General Degree College for Girls ",
          "ND College",
          "Ramakrishna Mission Shilpapitha",
          "Viswass school & college of nursing",
          "Narasinha Dutt college afflicted by Calcutta University",
          "Maulana Azad College ",
          "Durgapur Institute of Advanced Technology and Management",
          "Insitiution of engineering and managment",
          "Asutosh college",
          "Sister Nibedita Govt. General Degree College For Girls",
          "Manipal hospital",
          "Durgapur Institute Of Advance Technology and Management",
          "West Bengal State University ",
          "St. Xavier's College , Kolkata ",
          "St. Xavier's College, Kolkata",
          "SKS Power Generation Chhattisgarh Ltd.",
          "University of Calcutta",
          "University College Of Science & Technology, University Of Calcutta",
          "Jagannath Kishore college,Purulia",
          "Hooghly Engineering and Technology College",
          "Narasinha dutt college ",
          "West Bengal University of Health Sciences",
          "Kalyani mahavidyalaya",
          "Acharya institute of management and sciences",
          "Narasinha Dutta College",
          "NARASINHA DUTT COLLEGE",
          "Jagannath Kishore College",
          "NARASINHA DUTT COLLEGE, UNIVERSITY OF CALCUTTA",
          "Narasingha Dutt College ",
          "Durgapur Institute of Advanced Technology and Management ",
          "Comilla University",
          "Lady Brabourne College",
          "St. Xavier's College (Autonomous) , Kolkata",
          "Narasinha Dutt College",
          "Academy Of Technology",
          "J.K college",
          "Calcutta University ( Ballygaunge Science College) ",
          "RKMVERI BELUR MATH",
          "JJ Glastronics",
          "Gauhati University",
          "Jadavpur University",
          "Guru NANAK INSTITUTE OF PHARMACEUTICAL SCIENCE AND TECHNOLOGY",
          "Maulana Azad college",
          "Institute of Engineering and Management",
          "Bharat University, Chennai",
          "Jadavpur University ",
          "JADAVPUR UNIVERSITY ",
          "Gl bajaj",
          "National power training institute Nagpur",
          "Bethune College",
          "Future Institute of Technology",
          "Government College of Engineering and Leather Technology",
          "Vidyasaagar university",
          " Uttarpara Amarendra Vidyapith",
          "Durgapur institute of advanced and technology management",
          "NPTI, NAGPUR",
          "Jagannath Kishore College, Purulia",
          "Makaut(Formely wbut)",
          "Netaji Subhas Open University",
          "Maulana Abul Kalam Azad University of Technology",
          "Vidyasagar University",
          "National Institute Of Technology Warangal",
          "Ramakrishna Mission Vidyamandira ",
          "JADAVPUR UNIVERSITY",
          "Maulana Abul Kalam Azad University of Technology ",
          "Institution / Organization / College name ",
          "Durgapur institute of advanced technology and management",
          "Maulana Abul Kalam Azad University of Technology, W.B",
          "Christ  University",
          "Durgapur institute of advanced technology",
          "Belda College",
          "FUTURETECH PRIVATE ITI ",
          "J.k. college",
          "BRABU",
          "Burdwan University",
          "Durgapur institute of advance technology and managment",
          "Global engineering college",
          "Prabhat Kumar College",
          "Calcutta university ",
          "Shibpur Dinobondhoo Institution (College) ",
          "Durgapur institute of advanced technology and managemant rajbandh",
          "MAULANA ABUL KALAM AZAD UNIVERSITY OF TECHNOLOGY ",
          "Vivekananda College Thakurpukur",
          "Durgapur Institute of advanced technology and management ",
          "St. Xavier's College (Autonomous), Kolkata. ",
          "OmDayal Group Of Institutions",
          "Vivekananda college",
          "Amta Ramsaday College",
          "DIATM, Durgapur",
          "Basanti devi College",
          "MAULANA AZAD COLLEGE",
          "Kalyani Mahavidyalaya",
          "Durgapur Institute of Advanced Technology & Management",
          "Lady Brabourne College ",
          "Victoria Institution",
          "Corporate Institute Of Pharmacy",
          "Amity University Kolkata",
          "Ramakrishna Mission Vidyamandira",
          "Hffc",
          "Lalbaba college ",
          "NIST",
          "Raja Peary Mohan college",
          "Purulia jk college",
          "National institute of science and technology,berhampur",
          "Lady brabourne college",
          "Central University of Jharkhand",
          "Jogomaya Devi college ",
          "Raja Peary Mohan College",
          "FUTURE INSTITUTE OF TECHNOLOGY",
          "Future Institute of technology",
          "Seacom engineering college ",
          "Future Institute of Technology ",
          "FUTURE INSTITUTE OF TECHNOLOGY ",
          "National power training institute",
          "Vivekananda college ",
          "Academy of Technology",
          "St Xavier's College",
          "Ramakrishna Mission Vivekananda Educational and Research Institute ",
          "College of engineering Roorkee",
          "National Power Training Institute ( E.R ) ",
          "Lady Brabourne college",
          "Future institute of technology ",
          "RKMVERI, BELUR MATH",
          "Techno India salt lake",
          "Ramakrishna Mission Vivekananda Educational And Research Institute",
          "Sir Gurudas Mahavidyalaya",
          "Vidyasagar College",
          "national institute of science and technology",
          "Visvabharati university",
          "New Alipore College",
          "Bethune college",
          "Bidhannagar college ",
          "Durgapur Institute Of Advanced Technology and Management",
          "DIATM durgapur"
         ],
         "y": [
          6,
          5,
          4,
          4,
          4,
          4,
          3,
          3,
          3,
          3,
          3,
          3,
          2,
          2,
          2,
          2,
          2,
          2,
          2,
          2,
          2,
          2,
          2,
          2,
          2,
          2,
          2,
          2,
          1,
          1,
          1,
          1,
          1,
          1,
          1,
          1,
          1,
          1,
          1,
          1,
          1,
          1,
          1,
          1,
          1,
          1,
          1,
          1,
          1,
          1,
          1,
          1,
          1,
          1,
          1,
          1,
          1,
          1,
          1,
          1,
          1,
          1,
          1,
          1,
          1,
          1,
          1,
          1,
          1,
          1,
          1,
          1,
          1,
          1,
          1,
          1,
          1,
          1,
          1,
          1,
          1,
          1,
          1,
          1,
          1,
          1,
          1,
          1,
          1,
          1,
          1,
          1,
          1,
          1,
          1,
          1,
          1,
          1,
          1,
          1,
          1,
          1,
          1,
          1,
          1,
          1,
          1,
          1,
          1,
          1,
          1,
          1,
          1,
          1,
          1,
          1,
          1,
          1,
          1,
          1,
          1,
          1,
          1,
          1,
          1,
          1,
          1,
          1,
          1,
          1,
          1,
          1,
          1,
          1,
          1,
          1,
          1,
          1,
          1,
          1,
          1,
          1,
          1,
          1,
          1,
          1,
          1,
          1,
          1,
          1
         ]
        }
       ],
       "layout": {
        "hovermode": "closest",
        "paper_bgcolor": "rgba(0, 0, 0, 0)",
        "plot_bgcolor": "rgba(0, 0, 0, 0)",
        "template": {
         "data": {
          "bar": [
           {
            "error_x": {
             "color": "#2a3f5f"
            },
            "error_y": {
             "color": "#2a3f5f"
            },
            "marker": {
             "line": {
              "color": "#E5ECF6",
              "width": 0.5
             }
            },
            "type": "bar"
           }
          ],
          "barpolar": [
           {
            "marker": {
             "line": {
              "color": "#E5ECF6",
              "width": 0.5
             }
            },
            "type": "barpolar"
           }
          ],
          "carpet": [
           {
            "aaxis": {
             "endlinecolor": "#2a3f5f",
             "gridcolor": "white",
             "linecolor": "white",
             "minorgridcolor": "white",
             "startlinecolor": "#2a3f5f"
            },
            "baxis": {
             "endlinecolor": "#2a3f5f",
             "gridcolor": "white",
             "linecolor": "white",
             "minorgridcolor": "white",
             "startlinecolor": "#2a3f5f"
            },
            "type": "carpet"
           }
          ],
          "choropleth": [
           {
            "colorbar": {
             "outlinewidth": 0,
             "ticks": ""
            },
            "type": "choropleth"
           }
          ],
          "contour": [
           {
            "colorbar": {
             "outlinewidth": 0,
             "ticks": ""
            },
            "colorscale": [
             [
              0,
              "#0d0887"
             ],
             [
              0.1111111111111111,
              "#46039f"
             ],
             [
              0.2222222222222222,
              "#7201a8"
             ],
             [
              0.3333333333333333,
              "#9c179e"
             ],
             [
              0.4444444444444444,
              "#bd3786"
             ],
             [
              0.5555555555555556,
              "#d8576b"
             ],
             [
              0.6666666666666666,
              "#ed7953"
             ],
             [
              0.7777777777777778,
              "#fb9f3a"
             ],
             [
              0.8888888888888888,
              "#fdca26"
             ],
             [
              1,
              "#f0f921"
             ]
            ],
            "type": "contour"
           }
          ],
          "contourcarpet": [
           {
            "colorbar": {
             "outlinewidth": 0,
             "ticks": ""
            },
            "type": "contourcarpet"
           }
          ],
          "heatmap": [
           {
            "colorbar": {
             "outlinewidth": 0,
             "ticks": ""
            },
            "colorscale": [
             [
              0,
              "#0d0887"
             ],
             [
              0.1111111111111111,
              "#46039f"
             ],
             [
              0.2222222222222222,
              "#7201a8"
             ],
             [
              0.3333333333333333,
              "#9c179e"
             ],
             [
              0.4444444444444444,
              "#bd3786"
             ],
             [
              0.5555555555555556,
              "#d8576b"
             ],
             [
              0.6666666666666666,
              "#ed7953"
             ],
             [
              0.7777777777777778,
              "#fb9f3a"
             ],
             [
              0.8888888888888888,
              "#fdca26"
             ],
             [
              1,
              "#f0f921"
             ]
            ],
            "type": "heatmap"
           }
          ],
          "heatmapgl": [
           {
            "colorbar": {
             "outlinewidth": 0,
             "ticks": ""
            },
            "colorscale": [
             [
              0,
              "#0d0887"
             ],
             [
              0.1111111111111111,
              "#46039f"
             ],
             [
              0.2222222222222222,
              "#7201a8"
             ],
             [
              0.3333333333333333,
              "#9c179e"
             ],
             [
              0.4444444444444444,
              "#bd3786"
             ],
             [
              0.5555555555555556,
              "#d8576b"
             ],
             [
              0.6666666666666666,
              "#ed7953"
             ],
             [
              0.7777777777777778,
              "#fb9f3a"
             ],
             [
              0.8888888888888888,
              "#fdca26"
             ],
             [
              1,
              "#f0f921"
             ]
            ],
            "type": "heatmapgl"
           }
          ],
          "histogram": [
           {
            "marker": {
             "colorbar": {
              "outlinewidth": 0,
              "ticks": ""
             }
            },
            "type": "histogram"
           }
          ],
          "histogram2d": [
           {
            "colorbar": {
             "outlinewidth": 0,
             "ticks": ""
            },
            "colorscale": [
             [
              0,
              "#0d0887"
             ],
             [
              0.1111111111111111,
              "#46039f"
             ],
             [
              0.2222222222222222,
              "#7201a8"
             ],
             [
              0.3333333333333333,
              "#9c179e"
             ],
             [
              0.4444444444444444,
              "#bd3786"
             ],
             [
              0.5555555555555556,
              "#d8576b"
             ],
             [
              0.6666666666666666,
              "#ed7953"
             ],
             [
              0.7777777777777778,
              "#fb9f3a"
             ],
             [
              0.8888888888888888,
              "#fdca26"
             ],
             [
              1,
              "#f0f921"
             ]
            ],
            "type": "histogram2d"
           }
          ],
          "histogram2dcontour": [
           {
            "colorbar": {
             "outlinewidth": 0,
             "ticks": ""
            },
            "colorscale": [
             [
              0,
              "#0d0887"
             ],
             [
              0.1111111111111111,
              "#46039f"
             ],
             [
              0.2222222222222222,
              "#7201a8"
             ],
             [
              0.3333333333333333,
              "#9c179e"
             ],
             [
              0.4444444444444444,
              "#bd3786"
             ],
             [
              0.5555555555555556,
              "#d8576b"
             ],
             [
              0.6666666666666666,
              "#ed7953"
             ],
             [
              0.7777777777777778,
              "#fb9f3a"
             ],
             [
              0.8888888888888888,
              "#fdca26"
             ],
             [
              1,
              "#f0f921"
             ]
            ],
            "type": "histogram2dcontour"
           }
          ],
          "mesh3d": [
           {
            "colorbar": {
             "outlinewidth": 0,
             "ticks": ""
            },
            "type": "mesh3d"
           }
          ],
          "parcoords": [
           {
            "line": {
             "colorbar": {
              "outlinewidth": 0,
              "ticks": ""
             }
            },
            "type": "parcoords"
           }
          ],
          "scatter": [
           {
            "marker": {
             "colorbar": {
              "outlinewidth": 0,
              "ticks": ""
             }
            },
            "type": "scatter"
           }
          ],
          "scatter3d": [
           {
            "line": {
             "colorbar": {
              "outlinewidth": 0,
              "ticks": ""
             }
            },
            "marker": {
             "colorbar": {
              "outlinewidth": 0,
              "ticks": ""
             }
            },
            "type": "scatter3d"
           }
          ],
          "scattercarpet": [
           {
            "marker": {
             "colorbar": {
              "outlinewidth": 0,
              "ticks": ""
             }
            },
            "type": "scattercarpet"
           }
          ],
          "scattergeo": [
           {
            "marker": {
             "colorbar": {
              "outlinewidth": 0,
              "ticks": ""
             }
            },
            "type": "scattergeo"
           }
          ],
          "scattergl": [
           {
            "marker": {
             "colorbar": {
              "outlinewidth": 0,
              "ticks": ""
             }
            },
            "type": "scattergl"
           }
          ],
          "scattermapbox": [
           {
            "marker": {
             "colorbar": {
              "outlinewidth": 0,
              "ticks": ""
             }
            },
            "type": "scattermapbox"
           }
          ],
          "scatterpolar": [
           {
            "marker": {
             "colorbar": {
              "outlinewidth": 0,
              "ticks": ""
             }
            },
            "type": "scatterpolar"
           }
          ],
          "scatterpolargl": [
           {
            "marker": {
             "colorbar": {
              "outlinewidth": 0,
              "ticks": ""
             }
            },
            "type": "scatterpolargl"
           }
          ],
          "scatterternary": [
           {
            "marker": {
             "colorbar": {
              "outlinewidth": 0,
              "ticks": ""
             }
            },
            "type": "scatterternary"
           }
          ],
          "surface": [
           {
            "colorbar": {
             "outlinewidth": 0,
             "ticks": ""
            },
            "colorscale": [
             [
              0,
              "#0d0887"
             ],
             [
              0.1111111111111111,
              "#46039f"
             ],
             [
              0.2222222222222222,
              "#7201a8"
             ],
             [
              0.3333333333333333,
              "#9c179e"
             ],
             [
              0.4444444444444444,
              "#bd3786"
             ],
             [
              0.5555555555555556,
              "#d8576b"
             ],
             [
              0.6666666666666666,
              "#ed7953"
             ],
             [
              0.7777777777777778,
              "#fb9f3a"
             ],
             [
              0.8888888888888888,
              "#fdca26"
             ],
             [
              1,
              "#f0f921"
             ]
            ],
            "type": "surface"
           }
          ],
          "table": [
           {
            "cells": {
             "fill": {
              "color": "#EBF0F8"
             },
             "line": {
              "color": "white"
             }
            },
            "header": {
             "fill": {
              "color": "#C8D4E3"
             },
             "line": {
              "color": "white"
             }
            },
            "type": "table"
           }
          ]
         },
         "layout": {
          "annotationdefaults": {
           "arrowcolor": "#2a3f5f",
           "arrowhead": 0,
           "arrowwidth": 1
          },
          "colorscale": {
           "diverging": [
            [
             0,
             "#8e0152"
            ],
            [
             0.1,
             "#c51b7d"
            ],
            [
             0.2,
             "#de77ae"
            ],
            [
             0.3,
             "#f1b6da"
            ],
            [
             0.4,
             "#fde0ef"
            ],
            [
             0.5,
             "#f7f7f7"
            ],
            [
             0.6,
             "#e6f5d0"
            ],
            [
             0.7,
             "#b8e186"
            ],
            [
             0.8,
             "#7fbc41"
            ],
            [
             0.9,
             "#4d9221"
            ],
            [
             1,
             "#276419"
            ]
           ],
           "sequential": [
            [
             0,
             "#0d0887"
            ],
            [
             0.1111111111111111,
             "#46039f"
            ],
            [
             0.2222222222222222,
             "#7201a8"
            ],
            [
             0.3333333333333333,
             "#9c179e"
            ],
            [
             0.4444444444444444,
             "#bd3786"
            ],
            [
             0.5555555555555556,
             "#d8576b"
            ],
            [
             0.6666666666666666,
             "#ed7953"
            ],
            [
             0.7777777777777778,
             "#fb9f3a"
            ],
            [
             0.8888888888888888,
             "#fdca26"
            ],
            [
             1,
             "#f0f921"
            ]
           ],
           "sequentialminus": [
            [
             0,
             "#0d0887"
            ],
            [
             0.1111111111111111,
             "#46039f"
            ],
            [
             0.2222222222222222,
             "#7201a8"
            ],
            [
             0.3333333333333333,
             "#9c179e"
            ],
            [
             0.4444444444444444,
             "#bd3786"
            ],
            [
             0.5555555555555556,
             "#d8576b"
            ],
            [
             0.6666666666666666,
             "#ed7953"
            ],
            [
             0.7777777777777778,
             "#fb9f3a"
            ],
            [
             0.8888888888888888,
             "#fdca26"
            ],
            [
             1,
             "#f0f921"
            ]
           ]
          },
          "colorway": [
           "#636efa",
           "#EF553B",
           "#00cc96",
           "#ab63fa",
           "#FFA15A",
           "#19d3f3",
           "#FF6692",
           "#B6E880",
           "#FF97FF",
           "#FECB52"
          ],
          "font": {
           "color": "#2a3f5f"
          },
          "geo": {
           "bgcolor": "white",
           "lakecolor": "white",
           "landcolor": "#E5ECF6",
           "showlakes": true,
           "showland": true,
           "subunitcolor": "white"
          },
          "hoverlabel": {
           "align": "left"
          },
          "hovermode": "closest",
          "mapbox": {
           "style": "light"
          },
          "paper_bgcolor": "white",
          "plot_bgcolor": "#E5ECF6",
          "polar": {
           "angularaxis": {
            "gridcolor": "white",
            "linecolor": "white",
            "ticks": ""
           },
           "bgcolor": "#E5ECF6",
           "radialaxis": {
            "gridcolor": "white",
            "linecolor": "white",
            "ticks": ""
           }
          },
          "scene": {
           "xaxis": {
            "backgroundcolor": "#E5ECF6",
            "gridcolor": "white",
            "gridwidth": 2,
            "linecolor": "white",
            "showbackground": true,
            "ticks": "",
            "zerolinecolor": "white"
           },
           "yaxis": {
            "backgroundcolor": "#E5ECF6",
            "gridcolor": "white",
            "gridwidth": 2,
            "linecolor": "white",
            "showbackground": true,
            "ticks": "",
            "zerolinecolor": "white"
           },
           "zaxis": {
            "backgroundcolor": "#E5ECF6",
            "gridcolor": "white",
            "gridwidth": 2,
            "linecolor": "white",
            "showbackground": true,
            "ticks": "",
            "zerolinecolor": "white"
           }
          },
          "shapedefaults": {
           "line": {
            "color": "#2a3f5f"
           }
          },
          "ternary": {
           "aaxis": {
            "gridcolor": "white",
            "linecolor": "white",
            "ticks": ""
           },
           "baxis": {
            "gridcolor": "white",
            "linecolor": "white",
            "ticks": ""
           },
           "bgcolor": "#E5ECF6",
           "caxis": {
            "gridcolor": "white",
            "linecolor": "white",
            "ticks": ""
           }
          },
          "title": {
           "x": 0.05
          },
          "xaxis": {
           "automargin": true,
           "gridcolor": "white",
           "linecolor": "white",
           "ticks": "",
           "zerolinecolor": "white",
           "zerolinewidth": 2
          },
          "yaxis": {
           "automargin": true,
           "gridcolor": "white",
           "linecolor": "white",
           "ticks": "",
           "zerolinecolor": "white",
           "zerolinewidth": 2
          }
         }
        },
        "title": {
         "text": "College Distribution"
        },
        "xaxis": {
         "linecolor": "black",
         "linewidth": 2,
         "mirror": true,
         "showline": true,
         "showticklabels": true,
         "tickangle": 45,
         "tickfont": {
          "color": "red",
          "size": 10
         },
         "title": {
          "text": "College name "
         },
         "zeroline": true,
         "zerolinecolor": "grey",
         "zerolinewidth": 1
        },
        "yaxis": {
         "gridcolor": "lightgrey",
         "linecolor": "black",
         "linewidth": 2,
         "mirror": true,
         "showline": true,
         "title": {
          "text": "No. of Occurence"
         },
         "zeroline": true,
         "zerolinecolor": "grey",
         "zerolinewidth": 1
        }
       }
      },
      "text/html": [
       "<div>\n",
       "        \n",
       "        \n",
       "            <div id=\"d40938b2-3fbc-40af-8047-bf7e640c6632\" class=\"plotly-graph-div\" style=\"height:525px; width:100%;\"></div>\n",
       "            <script type=\"text/javascript\">\n",
       "                require([\"plotly\"], function(Plotly) {\n",
       "                    window.PLOTLYENV=window.PLOTLYENV || {};\n",
       "                    \n",
       "                if (document.getElementById(\"d40938b2-3fbc-40af-8047-bf7e640c6632\")) {\n",
       "                    Plotly.newPlot(\n",
       "                        'd40938b2-3fbc-40af-8047-bf7e640c6632',\n",
       "                        [{\"marker\": {\"color\": \"purple\"}, \"text\": [\"United International University \", \"Shahjalal University of Science and Technology\", \"Asutosh College\", \"DEPARTMENT OF PURE MATHEMATICS, UNIVERSITY OF CALCUTTA\", \"Vivekananda College\", \"J.K College\", \"Narasinha dutt college\", \"J.k.clg purulia\", \"NARASINHA DUTT COLLEGE \", \"Global Nature Care Sangathan Group Of Institutions\", \"Maulana Azad College\", \"Purulia zilla school \", \"Daffodil  International  University \", \"Asutosh College \", \"DIATM\", \"Narasinha Dutt college under Calcutta university \", \"Sister Nibedita Govt General Degree College for Girls \", \"ND College\", \"Ramakrishna Mission Shilpapitha\", \"Viswass school & college of nursing\", \"Narasinha Dutt college afflicted by Calcutta University\", \"Maulana Azad College \", \"Durgapur Institute of Advanced Technology and Management\", \"Insitiution of engineering and managment\", \"Asutosh college\", \"Sister Nibedita Govt. General Degree College For Girls\", \"Manipal hospital\", \"Durgapur Institute Of Advance Technology and Management\", \"West Bengal State University \", \"St. Xavier's College , Kolkata \", \"St. Xavier's College, Kolkata\", \"SKS Power Generation Chhattisgarh Ltd.\", \"University of Calcutta\", \"University College Of Science & Technology, University Of Calcutta\", \"Jagannath Kishore college,Purulia\", \"Hooghly Engineering and Technology College\", \"Narasinha dutt college \", \"West Bengal University of Health Sciences\", \"Kalyani mahavidyalaya\", \"Acharya institute of management and sciences\", \"Narasinha Dutta College\", \"NARASINHA DUTT COLLEGE\", \"Jagannath Kishore College\", \"NARASINHA DUTT COLLEGE, UNIVERSITY OF CALCUTTA\", \"Narasingha Dutt College \", \"Durgapur Institute of Advanced Technology and Management \", \"Comilla University\", \"Lady Brabourne College\", \"St. Xavier's College (Autonomous) , Kolkata\", \"Narasinha Dutt College\", \"Academy Of Technology\", \"J.K college\", \"Calcutta University ( Ballygaunge Science College) \", \"RKMVERI BELUR MATH\", \"JJ Glastronics\", \"Gauhati University\", \"Jadavpur University\", \"Guru NANAK INSTITUTE OF PHARMACEUTICAL SCIENCE AND TECHNOLOGY\", \"Maulana Azad college\", \"Institute of Engineering and Management\", \"Bharat University, Chennai\", \"Jadavpur University \", \"JADAVPUR UNIVERSITY \", \"Gl bajaj\", \"National power training institute Nagpur\", \"Bethune College\", \"Future Institute of Technology\", \"Government College of Engineering and Leather Technology\", \"Vidyasaagar university\", \" Uttarpara Amarendra Vidyapith\", \"Durgapur institute of advanced and technology management\", \"NPTI, NAGPUR\", \"Jagannath Kishore College, Purulia\", \"Makaut(Formely wbut)\", \"Netaji Subhas Open University\", \"Maulana Abul Kalam Azad University of Technology\", \"Vidyasagar University\", \"National Institute Of Technology Warangal\", \"Ramakrishna Mission Vidyamandira \", \"JADAVPUR UNIVERSITY\", \"Maulana Abul Kalam Azad University of Technology \", \"Institution / Organization / College name \", \"Durgapur institute of advanced technology and management\", \"Maulana Abul Kalam Azad University of Technology, W.B\", \"Christ  University\", \"Durgapur institute of advanced technology\", \"Belda College\", \"FUTURETECH PRIVATE ITI \", \"J.k. college\", \"BRABU\", \"Burdwan University\", \"Durgapur institute of advance technology and managment\", \"Global engineering college\", \"Prabhat Kumar College\", \"Calcutta university \", \"Shibpur Dinobondhoo Institution (College) \", \"Durgapur institute of advanced technology and managemant rajbandh\", \"MAULANA ABUL KALAM AZAD UNIVERSITY OF TECHNOLOGY \", \"Vivekananda College Thakurpukur\", \"Durgapur Institute of advanced technology and management \", \"St. Xavier's College (Autonomous), Kolkata. \", \"OmDayal Group Of Institutions\", \"Vivekananda college\", \"Amta Ramsaday College\", \"DIATM, Durgapur\", \"Basanti devi College\", \"MAULANA AZAD COLLEGE\", \"Kalyani Mahavidyalaya\", \"Durgapur Institute of Advanced Technology & Management\", \"Lady Brabourne College \", \"Victoria Institution\", \"Corporate Institute Of Pharmacy\", \"Amity University Kolkata\", \"Ramakrishna Mission Vidyamandira\", \"Hffc\", \"Lalbaba college \", \"NIST\", \"Raja Peary Mohan college\", \"Purulia jk college\", \"National institute of science and technology,berhampur\", \"Lady brabourne college\", \"Central University of Jharkhand\", \"Jogomaya Devi college \", \"Raja Peary Mohan College\", \"FUTURE INSTITUTE OF TECHNOLOGY\", \"Future Institute of technology\", \"Seacom engineering college \", \"Future Institute of Technology \", \"FUTURE INSTITUTE OF TECHNOLOGY \", \"National power training institute\", \"Vivekananda college \", \"Academy of Technology\", \"St Xavier's College\", \"Ramakrishna Mission Vivekananda Educational and Research Institute \", \"College of engineering Roorkee\", \"National Power Training Institute ( E.R ) \", \"Lady Brabourne college\", \"Future institute of technology \", \"RKMVERI, BELUR MATH\", \"Techno India salt lake\", \"Ramakrishna Mission Vivekananda Educational And Research Institute\", \"Sir Gurudas Mahavidyalaya\", \"Vidyasagar College\", \"national institute of science and technology\", \"Visvabharati university\", \"New Alipore College\", \"Bethune college\", \"Bidhannagar college \", \"Durgapur Institute Of Advanced Technology and Management\", \"DIATM durgapur\"], \"type\": \"bar\", \"x\": [\"United International University \", \"Shahjalal University of Science and Technology\", \"Asutosh College\", \"DEPARTMENT OF PURE MATHEMATICS, UNIVERSITY OF CALCUTTA\", \"Vivekananda College\", \"J.K College\", \"Narasinha dutt college\", \"J.k.clg purulia\", \"NARASINHA DUTT COLLEGE \", \"Global Nature Care Sangathan Group Of Institutions\", \"Maulana Azad College\", \"Purulia zilla school \", \"Daffodil  International  University \", \"Asutosh College \", \"DIATM\", \"Narasinha Dutt college under Calcutta university \", \"Sister Nibedita Govt General Degree College for Girls \", \"ND College\", \"Ramakrishna Mission Shilpapitha\", \"Viswass school & college of nursing\", \"Narasinha Dutt college afflicted by Calcutta University\", \"Maulana Azad College \", \"Durgapur Institute of Advanced Technology and Management\", \"Insitiution of engineering and managment\", \"Asutosh college\", \"Sister Nibedita Govt. General Degree College For Girls\", \"Manipal hospital\", \"Durgapur Institute Of Advance Technology and Management\", \"West Bengal State University \", \"St. Xavier's College , Kolkata \", \"St. Xavier's College, Kolkata\", \"SKS Power Generation Chhattisgarh Ltd.\", \"University of Calcutta\", \"University College Of Science & Technology, University Of Calcutta\", \"Jagannath Kishore college,Purulia\", \"Hooghly Engineering and Technology College\", \"Narasinha dutt college \", \"West Bengal University of Health Sciences\", \"Kalyani mahavidyalaya\", \"Acharya institute of management and sciences\", \"Narasinha Dutta College\", \"NARASINHA DUTT COLLEGE\", \"Jagannath Kishore College\", \"NARASINHA DUTT COLLEGE, UNIVERSITY OF CALCUTTA\", \"Narasingha Dutt College \", \"Durgapur Institute of Advanced Technology and Management \", \"Comilla University\", \"Lady Brabourne College\", \"St. Xavier's College (Autonomous) , Kolkata\", \"Narasinha Dutt College\", \"Academy Of Technology\", \"J.K college\", \"Calcutta University ( Ballygaunge Science College) \", \"RKMVERI BELUR MATH\", \"JJ Glastronics\", \"Gauhati University\", \"Jadavpur University\", \"Guru NANAK INSTITUTE OF PHARMACEUTICAL SCIENCE AND TECHNOLOGY\", \"Maulana Azad college\", \"Institute of Engineering and Management\", \"Bharat University, Chennai\", \"Jadavpur University \", \"JADAVPUR UNIVERSITY \", \"Gl bajaj\", \"National power training institute Nagpur\", \"Bethune College\", \"Future Institute of Technology\", \"Government College of Engineering and Leather Technology\", \"Vidyasaagar university\", \" Uttarpara Amarendra Vidyapith\", \"Durgapur institute of advanced and technology management\", \"NPTI, NAGPUR\", \"Jagannath Kishore College, Purulia\", \"Makaut(Formely wbut)\", \"Netaji Subhas Open University\", \"Maulana Abul Kalam Azad University of Technology\", \"Vidyasagar University\", \"National Institute Of Technology Warangal\", \"Ramakrishna Mission Vidyamandira \", \"JADAVPUR UNIVERSITY\", \"Maulana Abul Kalam Azad University of Technology \", \"Institution / Organization / College name \", \"Durgapur institute of advanced technology and management\", \"Maulana Abul Kalam Azad University of Technology, W.B\", \"Christ  University\", \"Durgapur institute of advanced technology\", \"Belda College\", \"FUTURETECH PRIVATE ITI \", \"J.k. college\", \"BRABU\", \"Burdwan University\", \"Durgapur institute of advance technology and managment\", \"Global engineering college\", \"Prabhat Kumar College\", \"Calcutta university \", \"Shibpur Dinobondhoo Institution (College) \", \"Durgapur institute of advanced technology and managemant rajbandh\", \"MAULANA ABUL KALAM AZAD UNIVERSITY OF TECHNOLOGY \", \"Vivekananda College Thakurpukur\", \"Durgapur Institute of advanced technology and management \", \"St. Xavier's College (Autonomous), Kolkata. \", \"OmDayal Group Of Institutions\", \"Vivekananda college\", \"Amta Ramsaday College\", \"DIATM, Durgapur\", \"Basanti devi College\", \"MAULANA AZAD COLLEGE\", \"Kalyani Mahavidyalaya\", \"Durgapur Institute of Advanced Technology & Management\", \"Lady Brabourne College \", \"Victoria Institution\", \"Corporate Institute Of Pharmacy\", \"Amity University Kolkata\", \"Ramakrishna Mission Vidyamandira\", \"Hffc\", \"Lalbaba college \", \"NIST\", \"Raja Peary Mohan college\", \"Purulia jk college\", \"National institute of science and technology,berhampur\", \"Lady brabourne college\", \"Central University of Jharkhand\", \"Jogomaya Devi college \", \"Raja Peary Mohan College\", \"FUTURE INSTITUTE OF TECHNOLOGY\", \"Future Institute of technology\", \"Seacom engineering college \", \"Future Institute of Technology \", \"FUTURE INSTITUTE OF TECHNOLOGY \", \"National power training institute\", \"Vivekananda college \", \"Academy of Technology\", \"St Xavier's College\", \"Ramakrishna Mission Vivekananda Educational and Research Institute \", \"College of engineering Roorkee\", \"National Power Training Institute ( E.R ) \", \"Lady Brabourne college\", \"Future institute of technology \", \"RKMVERI, BELUR MATH\", \"Techno India salt lake\", \"Ramakrishna Mission Vivekananda Educational And Research Institute\", \"Sir Gurudas Mahavidyalaya\", \"Vidyasagar College\", \"national institute of science and technology\", \"Visvabharati university\", \"New Alipore College\", \"Bethune college\", \"Bidhannagar college \", \"Durgapur Institute Of Advanced Technology and Management\", \"DIATM durgapur\"], \"y\": [6, 5, 4, 4, 4, 4, 3, 3, 3, 3, 3, 3, 2, 2, 2, 2, 2, 2, 2, 2, 2, 2, 2, 2, 2, 2, 2, 2, 1, 1, 1, 1, 1, 1, 1, 1, 1, 1, 1, 1, 1, 1, 1, 1, 1, 1, 1, 1, 1, 1, 1, 1, 1, 1, 1, 1, 1, 1, 1, 1, 1, 1, 1, 1, 1, 1, 1, 1, 1, 1, 1, 1, 1, 1, 1, 1, 1, 1, 1, 1, 1, 1, 1, 1, 1, 1, 1, 1, 1, 1, 1, 1, 1, 1, 1, 1, 1, 1, 1, 1, 1, 1, 1, 1, 1, 1, 1, 1, 1, 1, 1, 1, 1, 1, 1, 1, 1, 1, 1, 1, 1, 1, 1, 1, 1, 1, 1, 1, 1, 1, 1, 1, 1, 1, 1, 1, 1, 1, 1, 1, 1, 1, 1, 1, 1, 1, 1, 1, 1, 1]}],\n",
       "                        {\"hovermode\": \"closest\", \"paper_bgcolor\": \"rgba(0, 0, 0, 0)\", \"plot_bgcolor\": \"rgba(0, 0, 0, 0)\", \"template\": {\"data\": {\"bar\": [{\"error_x\": {\"color\": \"#2a3f5f\"}, \"error_y\": {\"color\": \"#2a3f5f\"}, \"marker\": {\"line\": {\"color\": \"#E5ECF6\", \"width\": 0.5}}, \"type\": \"bar\"}], \"barpolar\": [{\"marker\": {\"line\": {\"color\": \"#E5ECF6\", \"width\": 0.5}}, \"type\": \"barpolar\"}], \"carpet\": [{\"aaxis\": {\"endlinecolor\": \"#2a3f5f\", \"gridcolor\": \"white\", \"linecolor\": \"white\", \"minorgridcolor\": \"white\", \"startlinecolor\": \"#2a3f5f\"}, \"baxis\": {\"endlinecolor\": \"#2a3f5f\", \"gridcolor\": \"white\", \"linecolor\": \"white\", \"minorgridcolor\": \"white\", \"startlinecolor\": \"#2a3f5f\"}, \"type\": \"carpet\"}], \"choropleth\": [{\"colorbar\": {\"outlinewidth\": 0, \"ticks\": \"\"}, \"type\": \"choropleth\"}], \"contour\": [{\"colorbar\": {\"outlinewidth\": 0, \"ticks\": \"\"}, \"colorscale\": [[0.0, \"#0d0887\"], [0.1111111111111111, \"#46039f\"], [0.2222222222222222, \"#7201a8\"], [0.3333333333333333, \"#9c179e\"], [0.4444444444444444, \"#bd3786\"], [0.5555555555555556, \"#d8576b\"], [0.6666666666666666, \"#ed7953\"], [0.7777777777777778, \"#fb9f3a\"], [0.8888888888888888, \"#fdca26\"], [1.0, \"#f0f921\"]], \"type\": \"contour\"}], \"contourcarpet\": [{\"colorbar\": {\"outlinewidth\": 0, \"ticks\": \"\"}, \"type\": \"contourcarpet\"}], \"heatmap\": [{\"colorbar\": {\"outlinewidth\": 0, \"ticks\": \"\"}, \"colorscale\": [[0.0, \"#0d0887\"], [0.1111111111111111, \"#46039f\"], [0.2222222222222222, \"#7201a8\"], [0.3333333333333333, \"#9c179e\"], [0.4444444444444444, \"#bd3786\"], [0.5555555555555556, \"#d8576b\"], [0.6666666666666666, \"#ed7953\"], [0.7777777777777778, \"#fb9f3a\"], [0.8888888888888888, \"#fdca26\"], [1.0, \"#f0f921\"]], \"type\": \"heatmap\"}], \"heatmapgl\": [{\"colorbar\": {\"outlinewidth\": 0, \"ticks\": \"\"}, \"colorscale\": [[0.0, \"#0d0887\"], [0.1111111111111111, \"#46039f\"], [0.2222222222222222, \"#7201a8\"], [0.3333333333333333, \"#9c179e\"], [0.4444444444444444, \"#bd3786\"], [0.5555555555555556, \"#d8576b\"], [0.6666666666666666, \"#ed7953\"], [0.7777777777777778, \"#fb9f3a\"], [0.8888888888888888, \"#fdca26\"], [1.0, \"#f0f921\"]], \"type\": \"heatmapgl\"}], \"histogram\": [{\"marker\": {\"colorbar\": {\"outlinewidth\": 0, \"ticks\": \"\"}}, \"type\": \"histogram\"}], \"histogram2d\": [{\"colorbar\": {\"outlinewidth\": 0, \"ticks\": \"\"}, \"colorscale\": [[0.0, \"#0d0887\"], [0.1111111111111111, \"#46039f\"], [0.2222222222222222, \"#7201a8\"], [0.3333333333333333, \"#9c179e\"], [0.4444444444444444, \"#bd3786\"], [0.5555555555555556, \"#d8576b\"], [0.6666666666666666, \"#ed7953\"], [0.7777777777777778, \"#fb9f3a\"], [0.8888888888888888, \"#fdca26\"], [1.0, \"#f0f921\"]], \"type\": \"histogram2d\"}], \"histogram2dcontour\": [{\"colorbar\": {\"outlinewidth\": 0, \"ticks\": \"\"}, \"colorscale\": [[0.0, \"#0d0887\"], [0.1111111111111111, \"#46039f\"], [0.2222222222222222, \"#7201a8\"], [0.3333333333333333, \"#9c179e\"], [0.4444444444444444, \"#bd3786\"], [0.5555555555555556, \"#d8576b\"], [0.6666666666666666, \"#ed7953\"], [0.7777777777777778, \"#fb9f3a\"], [0.8888888888888888, \"#fdca26\"], [1.0, \"#f0f921\"]], \"type\": \"histogram2dcontour\"}], \"mesh3d\": [{\"colorbar\": {\"outlinewidth\": 0, \"ticks\": \"\"}, \"type\": \"mesh3d\"}], \"parcoords\": [{\"line\": {\"colorbar\": {\"outlinewidth\": 0, \"ticks\": \"\"}}, \"type\": \"parcoords\"}], \"scatter\": [{\"marker\": {\"colorbar\": {\"outlinewidth\": 0, \"ticks\": \"\"}}, \"type\": \"scatter\"}], \"scatter3d\": [{\"line\": {\"colorbar\": {\"outlinewidth\": 0, \"ticks\": \"\"}}, \"marker\": {\"colorbar\": {\"outlinewidth\": 0, \"ticks\": \"\"}}, \"type\": \"scatter3d\"}], \"scattercarpet\": [{\"marker\": {\"colorbar\": {\"outlinewidth\": 0, \"ticks\": \"\"}}, \"type\": \"scattercarpet\"}], \"scattergeo\": [{\"marker\": {\"colorbar\": {\"outlinewidth\": 0, \"ticks\": \"\"}}, \"type\": \"scattergeo\"}], \"scattergl\": [{\"marker\": {\"colorbar\": {\"outlinewidth\": 0, \"ticks\": \"\"}}, \"type\": \"scattergl\"}], \"scattermapbox\": [{\"marker\": {\"colorbar\": {\"outlinewidth\": 0, \"ticks\": \"\"}}, \"type\": \"scattermapbox\"}], \"scatterpolar\": [{\"marker\": {\"colorbar\": {\"outlinewidth\": 0, \"ticks\": \"\"}}, \"type\": \"scatterpolar\"}], \"scatterpolargl\": [{\"marker\": {\"colorbar\": {\"outlinewidth\": 0, \"ticks\": \"\"}}, \"type\": \"scatterpolargl\"}], \"scatterternary\": [{\"marker\": {\"colorbar\": {\"outlinewidth\": 0, \"ticks\": \"\"}}, \"type\": \"scatterternary\"}], \"surface\": [{\"colorbar\": {\"outlinewidth\": 0, \"ticks\": \"\"}, \"colorscale\": [[0.0, \"#0d0887\"], [0.1111111111111111, \"#46039f\"], [0.2222222222222222, \"#7201a8\"], [0.3333333333333333, \"#9c179e\"], [0.4444444444444444, \"#bd3786\"], [0.5555555555555556, \"#d8576b\"], [0.6666666666666666, \"#ed7953\"], [0.7777777777777778, \"#fb9f3a\"], [0.8888888888888888, \"#fdca26\"], [1.0, \"#f0f921\"]], \"type\": \"surface\"}], \"table\": [{\"cells\": {\"fill\": {\"color\": \"#EBF0F8\"}, \"line\": {\"color\": \"white\"}}, \"header\": {\"fill\": {\"color\": \"#C8D4E3\"}, \"line\": {\"color\": \"white\"}}, \"type\": \"table\"}]}, \"layout\": {\"annotationdefaults\": {\"arrowcolor\": \"#2a3f5f\", \"arrowhead\": 0, \"arrowwidth\": 1}, \"colorscale\": {\"diverging\": [[0, \"#8e0152\"], [0.1, \"#c51b7d\"], [0.2, \"#de77ae\"], [0.3, \"#f1b6da\"], [0.4, \"#fde0ef\"], [0.5, \"#f7f7f7\"], [0.6, \"#e6f5d0\"], [0.7, \"#b8e186\"], [0.8, \"#7fbc41\"], [0.9, \"#4d9221\"], [1, \"#276419\"]], \"sequential\": [[0.0, \"#0d0887\"], [0.1111111111111111, \"#46039f\"], [0.2222222222222222, \"#7201a8\"], [0.3333333333333333, \"#9c179e\"], [0.4444444444444444, \"#bd3786\"], [0.5555555555555556, \"#d8576b\"], [0.6666666666666666, \"#ed7953\"], [0.7777777777777778, \"#fb9f3a\"], [0.8888888888888888, \"#fdca26\"], [1.0, \"#f0f921\"]], \"sequentialminus\": [[0.0, \"#0d0887\"], [0.1111111111111111, \"#46039f\"], [0.2222222222222222, \"#7201a8\"], [0.3333333333333333, \"#9c179e\"], [0.4444444444444444, \"#bd3786\"], [0.5555555555555556, \"#d8576b\"], [0.6666666666666666, \"#ed7953\"], [0.7777777777777778, \"#fb9f3a\"], [0.8888888888888888, \"#fdca26\"], [1.0, \"#f0f921\"]]}, \"colorway\": [\"#636efa\", \"#EF553B\", \"#00cc96\", \"#ab63fa\", \"#FFA15A\", \"#19d3f3\", \"#FF6692\", \"#B6E880\", \"#FF97FF\", \"#FECB52\"], \"font\": {\"color\": \"#2a3f5f\"}, \"geo\": {\"bgcolor\": \"white\", \"lakecolor\": \"white\", \"landcolor\": \"#E5ECF6\", \"showlakes\": true, \"showland\": true, \"subunitcolor\": \"white\"}, \"hoverlabel\": {\"align\": \"left\"}, \"hovermode\": \"closest\", \"mapbox\": {\"style\": \"light\"}, \"paper_bgcolor\": \"white\", \"plot_bgcolor\": \"#E5ECF6\", \"polar\": {\"angularaxis\": {\"gridcolor\": \"white\", \"linecolor\": \"white\", \"ticks\": \"\"}, \"bgcolor\": \"#E5ECF6\", \"radialaxis\": {\"gridcolor\": \"white\", \"linecolor\": \"white\", \"ticks\": \"\"}}, \"scene\": {\"xaxis\": {\"backgroundcolor\": \"#E5ECF6\", \"gridcolor\": \"white\", \"gridwidth\": 2, \"linecolor\": \"white\", \"showbackground\": true, \"ticks\": \"\", \"zerolinecolor\": \"white\"}, \"yaxis\": {\"backgroundcolor\": \"#E5ECF6\", \"gridcolor\": \"white\", \"gridwidth\": 2, \"linecolor\": \"white\", \"showbackground\": true, \"ticks\": \"\", \"zerolinecolor\": \"white\"}, \"zaxis\": {\"backgroundcolor\": \"#E5ECF6\", \"gridcolor\": \"white\", \"gridwidth\": 2, \"linecolor\": \"white\", \"showbackground\": true, \"ticks\": \"\", \"zerolinecolor\": \"white\"}}, \"shapedefaults\": {\"line\": {\"color\": \"#2a3f5f\"}}, \"ternary\": {\"aaxis\": {\"gridcolor\": \"white\", \"linecolor\": \"white\", \"ticks\": \"\"}, \"baxis\": {\"gridcolor\": \"white\", \"linecolor\": \"white\", \"ticks\": \"\"}, \"bgcolor\": \"#E5ECF6\", \"caxis\": {\"gridcolor\": \"white\", \"linecolor\": \"white\", \"ticks\": \"\"}}, \"title\": {\"x\": 0.05}, \"xaxis\": {\"automargin\": true, \"gridcolor\": \"white\", \"linecolor\": \"white\", \"ticks\": \"\", \"zerolinecolor\": \"white\", \"zerolinewidth\": 2}, \"yaxis\": {\"automargin\": true, \"gridcolor\": \"white\", \"linecolor\": \"white\", \"ticks\": \"\", \"zerolinecolor\": \"white\", \"zerolinewidth\": 2}}}, \"title\": {\"text\": \"College Distribution\"}, \"xaxis\": {\"linecolor\": \"black\", \"linewidth\": 2, \"mirror\": true, \"showline\": true, \"showticklabels\": true, \"tickangle\": 45, \"tickfont\": {\"color\": \"red\", \"size\": 10}, \"title\": {\"text\": \"College name \"}, \"zeroline\": true, \"zerolinecolor\": \"grey\", \"zerolinewidth\": 1}, \"yaxis\": {\"gridcolor\": \"lightgrey\", \"linecolor\": \"black\", \"linewidth\": 2, \"mirror\": true, \"showline\": true, \"title\": {\"text\": \"No. of Occurence\"}, \"zeroline\": true, \"zerolinecolor\": \"grey\", \"zerolinewidth\": 1}},\n",
       "                        {\"responsive\": true}\n",
       "                    ).then(function(){\n",
       "                            \n",
       "var gd = document.getElementById('d40938b2-3fbc-40af-8047-bf7e640c6632');\n",
       "var x = new MutationObserver(function (mutations, observer) {{\n",
       "        var display = window.getComputedStyle(gd).display;\n",
       "        if (!display || display === 'none') {{\n",
       "            console.log([gd, 'removed!']);\n",
       "            Plotly.purge(gd);\n",
       "            observer.disconnect();\n",
       "        }}\n",
       "}});\n",
       "\n",
       "// Listen for the removal of the full notebook cells\n",
       "var notebookContainer = gd.closest('#notebook-container');\n",
       "if (notebookContainer) {{\n",
       "    x.observe(notebookContainer, {childList: true});\n",
       "}}\n",
       "\n",
       "// Listen for the clearing of the current output cell\n",
       "var outputEl = gd.closest('.output');\n",
       "if (outputEl) {{\n",
       "    x.observe(outputEl, {childList: true});\n",
       "}}\n",
       "\n",
       "                        })\n",
       "                };\n",
       "                });\n",
       "            </script>\n",
       "        </div>"
      ]
     },
     "metadata": {},
     "output_type": "display_data"
    }
   ],
   "source": [
    "college_count = dg['College name '].value_counts()\n",
    "\n",
    "dd=college_count\n",
    "dg.drop_duplicates(subset=['College name '],keep='first',inplace=True)\n",
    "\n",
    "draw_trace_bar(dg,'College name ',dd,\"College Distribution\",\"College name \",\"No. of Occurence\",\"purple\")"
   ]
  },
  {
   "cell_type": "markdown",
   "metadata": {},
   "source": [
    "From the above plot you can say most of the students were from United International University"
   ]
  },
  {
   "cell_type": "code",
   "execution_count": 111,
   "metadata": {},
   "outputs": [
    {
     "data": {
      "application/vnd.plotly.v1+json": {
       "config": {
        "linkText": "Export to plot.ly",
        "plotlyServerURL": "https://plot.ly",
        "showLink": false
       },
       "data": [
        {
         "marker": {
          "color": "purple"
         },
         "text": [
          "others",
          "Engineering",
          "Statistics",
          "PURE MATHEMATICS",
          "B.Sc statistics",
          "B.Com (H)",
          "M.sc ",
          "Commerce",
          "M.Sc. in Applied Mathematics ",
          "Civil Engineering",
          "Statistics Honours",
          "Atrs",
          "Honors (BSC/MSC)",
          "Statistics honours ",
          "CSE",
          "Msc Mathematics ",
          "Statistics Hons",
          "M. Sc (applied math) ",
          "Electronics and telecommunication",
          "B.sc nursing",
          "MSc in applied mathematics",
          "Statistics (H)",
          "B.Tech",
          "B. Tech (Cse) ",
          "Statistics honours",
          "Bsc statistics",
          "Statistics Honours ",
          "Electrical engineering",
          "Btech 4th year on ECE department",
          "Mathematics ",
          "BSc Statistics ",
          "B. Sc. Statistics Hons.",
          "Thermal Power Plant Engineering",
          "Statistics Honours Student",
          "M.sc",
          "M.Sc in Applied Mathematics",
          "Computer Science",
          "B.tech in Electronics and communication engineering",
          "M.sc in applied mathematics. ",
          "Dental Surgery",
          "Statistics ",
          "BCA",
          "B.sc statistics",
          "Msc in applied mathematics",
          "Graduation",
          "Mathematics",
          "Master of science in applied Mathematics",
          "Computer science",
          "M.SC. IN APPLIED MATHEMATICS",
          "MSc Mathematics",
          "M.SC. MATHEMATICS",
          "Computer Science and Engineering ",
          "BBA",
          "3rd year Statistics honours ",
          "B.Sc Statistics Hons. ",
          "Msc mathematics",
          "Mechanical Engineer",
          "B.Com Honours",
          "M.SC in pure mathematics",
          "MSC IN MATHEMATICS",
          "Mechanical Engineering",
          "B. Tech in chemical engineering",
          "Library and Information Science",
          "M. Sc",
          "Post Graduate (Mathematics) ",
          "Microbiology",
          "Bsc statistics hons",
          "Electrical Engineering",
          "Btech",
          "Mathematics Honours (MSc)",
          " LINEAR ALGEBRA IN MATHEMATICS",
          "M.sc in Mathematics",
          "Mca",
          "Power",
          "Pure mathematics",
          "B.Sc.(honours) in Statistics",
          "B.tech",
          "Leather Technology",
          "Bsc. Statistics Honours Student(Final Year)",
          "Applied mathematics in  Oceanology &computer application",
          "H.S passed",
          "Byech",
          "Power engineering",
          "Bsc Computer science",
          "EE",
          "ECE",
          "M.Sc Mathematics",
          "B.Tech(CSE)",
          "MSc in Applied Mathematics",
          "Applied Mathematics",
          "APPLIES MATHEMATICS",
          "Diploma on Travel and Tourism Management",
          "Mathematics (MSC)",
          "B.tech ( CSE )",
          "MATHEMATICS",
          "B. Tech CSE",
          "Filed of study ",
          "Electronics and communication engineering",
          "Btech ",
          "Bsc. Statistics",
          "B.Tech in CSE",
          "Msc Data science",
          "Btech electronics and communication",
          "B.Tech CSE",
          "M.sc in Applied Mathematics (2nd Sem)",
          "ELECTRICIAN ",
          "Comp sc.",
          "M.SC(Electronics)",
          "Computer Science and engineering ",
          "Economics",
          "B-tech in ece",
          "B tech",
          "B.Sc honours (Computer Science)",
          "Bsc(state )",
          "B.Sc , honours in Maths",
          "B-tech (ECE 2'nd year)",
          "M.Sc  in mathematics",
          "YES",
          "Bsc statistics honours",
          "MATHEMATICS ",
          "Mechanical engineering ",
          "Mechanical engineering",
          "Bsc. Statistics Hons.",
          "Computer Science and Engineering",
          "Statistics ( Hons.)",
          "Bsc. Hons",
          "Mechanical",
          "Statistics Hons.",
          "B.tech(IT)",
          "STATISTICS",
          "B.tech (IT)",
          "B.Sc Statistics honours",
          "B.tech (ECE)",
          "B.Sc. in Statistics",
          "Bsc physics honours ",
          "B. Pharmacy",
          "Math (H) ",
          "Computer Science Engineering",
          "MSc - Mathematics",
          "engineering",
          "Information Technology",
          "R",
          "Aplied mathematics with oceanology and computer programming",
          "B.Sc",
          "IT",
          "Computer Science And Engineering",
          "Did my graduation on mathematics",
          "B.com",
          "Sem 3",
          "Statistics Honours (B.Sc.)",
          "Electrical and electronics engineering ",
          "Statistics hons",
          "Energy Engineering",
          "Bsc.Stat ",
          "Mathematics honours ",
          "Bsc math honours",
          "English honours",
          "Computer science engineering",
          "Statistics (Honours)",
          "EEE ",
          "B.tech in Electronic and Communication Engineering",
          "B. Tech",
          "Computer science engineering ",
          "Electronics and communications engineering (B.Tech)",
          "ELECTRONICS AND COMMUNICATION ENGINEERING (B.TECH))",
          "B.Sc Statistics Honours",
          "Power plant engineering",
          "Statistics hons.",
          "Statistics 2nd semester",
          "ME",
          "B. Sc. Statistics Hons. ",
          "Bsc Statistics Hons",
          "M.Sc in Mathematics ",
          "Bachelor's of Computer applications",
          "Msc in Mathematics",
          "B.sc in Statistics",
          "MSc",
          "Power Engineering ",
          "Graduate",
          "Electronics and communication Engineering (B.Tech)",
          "Msc. Mathematics",
          "M.Sc in Mathematics",
          "BCA ",
          "Mathematics MSc.",
          "B.Sc (hons.) In statistics",
          "Bsc.  in statistics",
          "B.Sc.",
          "Studying M.sc in mathematics",
          "3rd year mathematics honours",
          "Instrumentation engineer",
          "electrical engineering",
          "Msc statistics",
          "Independent Cyber Security Researcher",
          "Msc in pure maths",
          "Physics",
          "M.sc Mathematics",
          "B.tech in ECE",
          "Statistics (hons) ",
          "Computer science and engineering"
         ],
         "type": "bar",
         "x": [
          "others",
          "Engineering",
          "Statistics",
          "PURE MATHEMATICS",
          "B.Sc statistics",
          "B.Com (H)",
          "M.sc ",
          "Commerce",
          "M.Sc. in Applied Mathematics ",
          "Civil Engineering",
          "Statistics Honours",
          "Atrs",
          "Honors (BSC/MSC)",
          "Statistics honours ",
          "CSE",
          "Msc Mathematics ",
          "Statistics Hons",
          "M. Sc (applied math) ",
          "Electronics and telecommunication",
          "B.sc nursing",
          "MSc in applied mathematics",
          "Statistics (H)",
          "B.Tech",
          "B. Tech (Cse) ",
          "Statistics honours",
          "Bsc statistics",
          "Statistics Honours ",
          "Electrical engineering",
          "Btech 4th year on ECE department",
          "Mathematics ",
          "BSc Statistics ",
          "B. Sc. Statistics Hons.",
          "Thermal Power Plant Engineering",
          "Statistics Honours Student",
          "M.sc",
          "M.Sc in Applied Mathematics",
          "Computer Science",
          "B.tech in Electronics and communication engineering",
          "M.sc in applied mathematics. ",
          "Dental Surgery",
          "Statistics ",
          "BCA",
          "B.sc statistics",
          "Msc in applied mathematics",
          "Graduation",
          "Mathematics",
          "Master of science in applied Mathematics",
          "Computer science",
          "M.SC. IN APPLIED MATHEMATICS",
          "MSc Mathematics",
          "M.SC. MATHEMATICS",
          "Computer Science and Engineering ",
          "BBA",
          "3rd year Statistics honours ",
          "B.Sc Statistics Hons. ",
          "Msc mathematics",
          "Mechanical Engineer",
          "B.Com Honours",
          "M.SC in pure mathematics",
          "MSC IN MATHEMATICS",
          "Mechanical Engineering",
          "B. Tech in chemical engineering",
          "Library and Information Science",
          "M. Sc",
          "Post Graduate (Mathematics) ",
          "Microbiology",
          "Bsc statistics hons",
          "Electrical Engineering",
          "Btech",
          "Mathematics Honours (MSc)",
          " LINEAR ALGEBRA IN MATHEMATICS",
          "M.sc in Mathematics",
          "Mca",
          "Power",
          "Pure mathematics",
          "B.Sc.(honours) in Statistics",
          "B.tech",
          "Leather Technology",
          "Bsc. Statistics Honours Student(Final Year)",
          "Applied mathematics in  Oceanology &computer application",
          "H.S passed",
          "Byech",
          "Power engineering",
          "Bsc Computer science",
          "EE",
          "ECE",
          "M.Sc Mathematics",
          "B.Tech(CSE)",
          "MSc in Applied Mathematics",
          "Applied Mathematics",
          "APPLIES MATHEMATICS",
          "Diploma on Travel and Tourism Management",
          "Mathematics (MSC)",
          "B.tech ( CSE )",
          "MATHEMATICS",
          "B. Tech CSE",
          "Filed of study ",
          "Electronics and communication engineering",
          "Btech ",
          "Bsc. Statistics",
          "B.Tech in CSE",
          "Msc Data science",
          "Btech electronics and communication",
          "B.Tech CSE",
          "M.sc in Applied Mathematics (2nd Sem)",
          "ELECTRICIAN ",
          "Comp sc.",
          "M.SC(Electronics)",
          "Computer Science and engineering ",
          "Economics",
          "B-tech in ece",
          "B tech",
          "B.Sc honours (Computer Science)",
          "Bsc(state )",
          "B.Sc , honours in Maths",
          "B-tech (ECE 2'nd year)",
          "M.Sc  in mathematics",
          "YES",
          "Bsc statistics honours",
          "MATHEMATICS ",
          "Mechanical engineering ",
          "Mechanical engineering",
          "Bsc. Statistics Hons.",
          "Computer Science and Engineering",
          "Statistics ( Hons.)",
          "Bsc. Hons",
          "Mechanical",
          "Statistics Hons.",
          "B.tech(IT)",
          "STATISTICS",
          "B.tech (IT)",
          "B.Sc Statistics honours",
          "B.tech (ECE)",
          "B.Sc. in Statistics",
          "Bsc physics honours ",
          "B. Pharmacy",
          "Math (H) ",
          "Computer Science Engineering",
          "MSc - Mathematics",
          "engineering",
          "Information Technology",
          "R",
          "Aplied mathematics with oceanology and computer programming",
          "B.Sc",
          "IT",
          "Computer Science And Engineering",
          "Did my graduation on mathematics",
          "B.com",
          "Sem 3",
          "Statistics Honours (B.Sc.)",
          "Electrical and electronics engineering ",
          "Statistics hons",
          "Energy Engineering",
          "Bsc.Stat ",
          "Mathematics honours ",
          "Bsc math honours",
          "English honours",
          "Computer science engineering",
          "Statistics (Honours)",
          "EEE ",
          "B.tech in Electronic and Communication Engineering",
          "B. Tech",
          "Computer science engineering ",
          "Electronics and communications engineering (B.Tech)",
          "ELECTRONICS AND COMMUNICATION ENGINEERING (B.TECH))",
          "B.Sc Statistics Honours",
          "Power plant engineering",
          "Statistics hons.",
          "Statistics 2nd semester",
          "ME",
          "B. Sc. Statistics Hons. ",
          "Bsc Statistics Hons",
          "M.Sc in Mathematics ",
          "Bachelor's of Computer applications",
          "Msc in Mathematics",
          "B.sc in Statistics",
          "MSc",
          "Power Engineering ",
          "Graduate",
          "Electronics and communication Engineering (B.Tech)",
          "Msc. Mathematics",
          "M.Sc in Mathematics",
          "BCA ",
          "Mathematics MSc.",
          "B.Sc (hons.) In statistics",
          "Bsc.  in statistics",
          "B.Sc.",
          "Studying M.sc in mathematics",
          "3rd year mathematics honours",
          "Instrumentation engineer",
          "electrical engineering",
          "Msc statistics",
          "Independent Cyber Security Researcher",
          "Msc in pure maths",
          "Physics",
          "M.sc Mathematics",
          "B.tech in ECE",
          "Statistics (hons) ",
          "Computer science and engineering"
         ],
         "y": [
          332,
          184,
          90,
          31,
          16,
          11,
          9,
          7,
          5,
          5,
          4,
          4,
          4,
          3,
          3,
          3,
          3,
          3,
          3,
          3,
          3,
          2,
          2,
          2,
          2,
          2,
          2,
          2,
          2,
          2,
          2,
          2,
          2,
          2,
          2,
          2,
          2,
          2,
          2,
          1,
          1,
          1,
          1,
          1,
          1,
          1,
          1,
          1,
          1,
          1,
          1,
          1,
          1,
          1,
          1,
          1,
          1,
          1,
          1,
          1,
          1,
          1,
          1,
          1,
          1,
          1,
          1,
          1,
          1,
          1,
          1,
          1,
          1,
          1,
          1,
          1,
          1,
          1,
          1,
          1,
          1,
          1,
          1,
          1,
          1,
          1,
          1,
          1,
          1,
          1,
          1,
          1,
          1,
          1,
          1,
          1,
          1,
          1,
          1,
          1,
          1,
          1,
          1,
          1,
          1,
          1,
          1,
          1,
          1,
          1,
          1,
          1,
          1,
          1,
          1,
          1,
          1,
          1,
          1,
          1,
          1,
          1,
          1,
          1,
          1,
          1,
          1,
          1,
          1,
          1,
          1,
          1,
          1,
          1,
          1,
          1,
          1,
          1,
          1,
          1,
          1,
          1,
          1,
          1,
          1,
          1,
          1,
          1,
          1,
          1,
          1,
          1,
          1,
          1,
          1,
          1,
          1,
          1,
          1,
          1,
          1,
          1,
          1,
          1,
          1,
          1,
          1,
          1,
          1,
          1,
          1,
          1,
          1,
          1,
          1,
          1,
          1,
          1,
          1,
          1,
          1,
          1,
          1,
          1,
          1,
          1,
          1,
          1,
          1,
          1,
          1,
          1,
          1,
          1,
          1,
          1,
          1,
          1,
          1
         ]
        }
       ],
       "layout": {
        "hovermode": "closest",
        "paper_bgcolor": "rgba(0, 0, 0, 0)",
        "plot_bgcolor": "rgba(0, 0, 0, 0)",
        "template": {
         "data": {
          "bar": [
           {
            "error_x": {
             "color": "#2a3f5f"
            },
            "error_y": {
             "color": "#2a3f5f"
            },
            "marker": {
             "line": {
              "color": "#E5ECF6",
              "width": 0.5
             }
            },
            "type": "bar"
           }
          ],
          "barpolar": [
           {
            "marker": {
             "line": {
              "color": "#E5ECF6",
              "width": 0.5
             }
            },
            "type": "barpolar"
           }
          ],
          "carpet": [
           {
            "aaxis": {
             "endlinecolor": "#2a3f5f",
             "gridcolor": "white",
             "linecolor": "white",
             "minorgridcolor": "white",
             "startlinecolor": "#2a3f5f"
            },
            "baxis": {
             "endlinecolor": "#2a3f5f",
             "gridcolor": "white",
             "linecolor": "white",
             "minorgridcolor": "white",
             "startlinecolor": "#2a3f5f"
            },
            "type": "carpet"
           }
          ],
          "choropleth": [
           {
            "colorbar": {
             "outlinewidth": 0,
             "ticks": ""
            },
            "type": "choropleth"
           }
          ],
          "contour": [
           {
            "colorbar": {
             "outlinewidth": 0,
             "ticks": ""
            },
            "colorscale": [
             [
              0,
              "#0d0887"
             ],
             [
              0.1111111111111111,
              "#46039f"
             ],
             [
              0.2222222222222222,
              "#7201a8"
             ],
             [
              0.3333333333333333,
              "#9c179e"
             ],
             [
              0.4444444444444444,
              "#bd3786"
             ],
             [
              0.5555555555555556,
              "#d8576b"
             ],
             [
              0.6666666666666666,
              "#ed7953"
             ],
             [
              0.7777777777777778,
              "#fb9f3a"
             ],
             [
              0.8888888888888888,
              "#fdca26"
             ],
             [
              1,
              "#f0f921"
             ]
            ],
            "type": "contour"
           }
          ],
          "contourcarpet": [
           {
            "colorbar": {
             "outlinewidth": 0,
             "ticks": ""
            },
            "type": "contourcarpet"
           }
          ],
          "heatmap": [
           {
            "colorbar": {
             "outlinewidth": 0,
             "ticks": ""
            },
            "colorscale": [
             [
              0,
              "#0d0887"
             ],
             [
              0.1111111111111111,
              "#46039f"
             ],
             [
              0.2222222222222222,
              "#7201a8"
             ],
             [
              0.3333333333333333,
              "#9c179e"
             ],
             [
              0.4444444444444444,
              "#bd3786"
             ],
             [
              0.5555555555555556,
              "#d8576b"
             ],
             [
              0.6666666666666666,
              "#ed7953"
             ],
             [
              0.7777777777777778,
              "#fb9f3a"
             ],
             [
              0.8888888888888888,
              "#fdca26"
             ],
             [
              1,
              "#f0f921"
             ]
            ],
            "type": "heatmap"
           }
          ],
          "heatmapgl": [
           {
            "colorbar": {
             "outlinewidth": 0,
             "ticks": ""
            },
            "colorscale": [
             [
              0,
              "#0d0887"
             ],
             [
              0.1111111111111111,
              "#46039f"
             ],
             [
              0.2222222222222222,
              "#7201a8"
             ],
             [
              0.3333333333333333,
              "#9c179e"
             ],
             [
              0.4444444444444444,
              "#bd3786"
             ],
             [
              0.5555555555555556,
              "#d8576b"
             ],
             [
              0.6666666666666666,
              "#ed7953"
             ],
             [
              0.7777777777777778,
              "#fb9f3a"
             ],
             [
              0.8888888888888888,
              "#fdca26"
             ],
             [
              1,
              "#f0f921"
             ]
            ],
            "type": "heatmapgl"
           }
          ],
          "histogram": [
           {
            "marker": {
             "colorbar": {
              "outlinewidth": 0,
              "ticks": ""
             }
            },
            "type": "histogram"
           }
          ],
          "histogram2d": [
           {
            "colorbar": {
             "outlinewidth": 0,
             "ticks": ""
            },
            "colorscale": [
             [
              0,
              "#0d0887"
             ],
             [
              0.1111111111111111,
              "#46039f"
             ],
             [
              0.2222222222222222,
              "#7201a8"
             ],
             [
              0.3333333333333333,
              "#9c179e"
             ],
             [
              0.4444444444444444,
              "#bd3786"
             ],
             [
              0.5555555555555556,
              "#d8576b"
             ],
             [
              0.6666666666666666,
              "#ed7953"
             ],
             [
              0.7777777777777778,
              "#fb9f3a"
             ],
             [
              0.8888888888888888,
              "#fdca26"
             ],
             [
              1,
              "#f0f921"
             ]
            ],
            "type": "histogram2d"
           }
          ],
          "histogram2dcontour": [
           {
            "colorbar": {
             "outlinewidth": 0,
             "ticks": ""
            },
            "colorscale": [
             [
              0,
              "#0d0887"
             ],
             [
              0.1111111111111111,
              "#46039f"
             ],
             [
              0.2222222222222222,
              "#7201a8"
             ],
             [
              0.3333333333333333,
              "#9c179e"
             ],
             [
              0.4444444444444444,
              "#bd3786"
             ],
             [
              0.5555555555555556,
              "#d8576b"
             ],
             [
              0.6666666666666666,
              "#ed7953"
             ],
             [
              0.7777777777777778,
              "#fb9f3a"
             ],
             [
              0.8888888888888888,
              "#fdca26"
             ],
             [
              1,
              "#f0f921"
             ]
            ],
            "type": "histogram2dcontour"
           }
          ],
          "mesh3d": [
           {
            "colorbar": {
             "outlinewidth": 0,
             "ticks": ""
            },
            "type": "mesh3d"
           }
          ],
          "parcoords": [
           {
            "line": {
             "colorbar": {
              "outlinewidth": 0,
              "ticks": ""
             }
            },
            "type": "parcoords"
           }
          ],
          "scatter": [
           {
            "marker": {
             "colorbar": {
              "outlinewidth": 0,
              "ticks": ""
             }
            },
            "type": "scatter"
           }
          ],
          "scatter3d": [
           {
            "line": {
             "colorbar": {
              "outlinewidth": 0,
              "ticks": ""
             }
            },
            "marker": {
             "colorbar": {
              "outlinewidth": 0,
              "ticks": ""
             }
            },
            "type": "scatter3d"
           }
          ],
          "scattercarpet": [
           {
            "marker": {
             "colorbar": {
              "outlinewidth": 0,
              "ticks": ""
             }
            },
            "type": "scattercarpet"
           }
          ],
          "scattergeo": [
           {
            "marker": {
             "colorbar": {
              "outlinewidth": 0,
              "ticks": ""
             }
            },
            "type": "scattergeo"
           }
          ],
          "scattergl": [
           {
            "marker": {
             "colorbar": {
              "outlinewidth": 0,
              "ticks": ""
             }
            },
            "type": "scattergl"
           }
          ],
          "scattermapbox": [
           {
            "marker": {
             "colorbar": {
              "outlinewidth": 0,
              "ticks": ""
             }
            },
            "type": "scattermapbox"
           }
          ],
          "scatterpolar": [
           {
            "marker": {
             "colorbar": {
              "outlinewidth": 0,
              "ticks": ""
             }
            },
            "type": "scatterpolar"
           }
          ],
          "scatterpolargl": [
           {
            "marker": {
             "colorbar": {
              "outlinewidth": 0,
              "ticks": ""
             }
            },
            "type": "scatterpolargl"
           }
          ],
          "scatterternary": [
           {
            "marker": {
             "colorbar": {
              "outlinewidth": 0,
              "ticks": ""
             }
            },
            "type": "scatterternary"
           }
          ],
          "surface": [
           {
            "colorbar": {
             "outlinewidth": 0,
             "ticks": ""
            },
            "colorscale": [
             [
              0,
              "#0d0887"
             ],
             [
              0.1111111111111111,
              "#46039f"
             ],
             [
              0.2222222222222222,
              "#7201a8"
             ],
             [
              0.3333333333333333,
              "#9c179e"
             ],
             [
              0.4444444444444444,
              "#bd3786"
             ],
             [
              0.5555555555555556,
              "#d8576b"
             ],
             [
              0.6666666666666666,
              "#ed7953"
             ],
             [
              0.7777777777777778,
              "#fb9f3a"
             ],
             [
              0.8888888888888888,
              "#fdca26"
             ],
             [
              1,
              "#f0f921"
             ]
            ],
            "type": "surface"
           }
          ],
          "table": [
           {
            "cells": {
             "fill": {
              "color": "#EBF0F8"
             },
             "line": {
              "color": "white"
             }
            },
            "header": {
             "fill": {
              "color": "#C8D4E3"
             },
             "line": {
              "color": "white"
             }
            },
            "type": "table"
           }
          ]
         },
         "layout": {
          "annotationdefaults": {
           "arrowcolor": "#2a3f5f",
           "arrowhead": 0,
           "arrowwidth": 1
          },
          "colorscale": {
           "diverging": [
            [
             0,
             "#8e0152"
            ],
            [
             0.1,
             "#c51b7d"
            ],
            [
             0.2,
             "#de77ae"
            ],
            [
             0.3,
             "#f1b6da"
            ],
            [
             0.4,
             "#fde0ef"
            ],
            [
             0.5,
             "#f7f7f7"
            ],
            [
             0.6,
             "#e6f5d0"
            ],
            [
             0.7,
             "#b8e186"
            ],
            [
             0.8,
             "#7fbc41"
            ],
            [
             0.9,
             "#4d9221"
            ],
            [
             1,
             "#276419"
            ]
           ],
           "sequential": [
            [
             0,
             "#0d0887"
            ],
            [
             0.1111111111111111,
             "#46039f"
            ],
            [
             0.2222222222222222,
             "#7201a8"
            ],
            [
             0.3333333333333333,
             "#9c179e"
            ],
            [
             0.4444444444444444,
             "#bd3786"
            ],
            [
             0.5555555555555556,
             "#d8576b"
            ],
            [
             0.6666666666666666,
             "#ed7953"
            ],
            [
             0.7777777777777778,
             "#fb9f3a"
            ],
            [
             0.8888888888888888,
             "#fdca26"
            ],
            [
             1,
             "#f0f921"
            ]
           ],
           "sequentialminus": [
            [
             0,
             "#0d0887"
            ],
            [
             0.1111111111111111,
             "#46039f"
            ],
            [
             0.2222222222222222,
             "#7201a8"
            ],
            [
             0.3333333333333333,
             "#9c179e"
            ],
            [
             0.4444444444444444,
             "#bd3786"
            ],
            [
             0.5555555555555556,
             "#d8576b"
            ],
            [
             0.6666666666666666,
             "#ed7953"
            ],
            [
             0.7777777777777778,
             "#fb9f3a"
            ],
            [
             0.8888888888888888,
             "#fdca26"
            ],
            [
             1,
             "#f0f921"
            ]
           ]
          },
          "colorway": [
           "#636efa",
           "#EF553B",
           "#00cc96",
           "#ab63fa",
           "#FFA15A",
           "#19d3f3",
           "#FF6692",
           "#B6E880",
           "#FF97FF",
           "#FECB52"
          ],
          "font": {
           "color": "#2a3f5f"
          },
          "geo": {
           "bgcolor": "white",
           "lakecolor": "white",
           "landcolor": "#E5ECF6",
           "showlakes": true,
           "showland": true,
           "subunitcolor": "white"
          },
          "hoverlabel": {
           "align": "left"
          },
          "hovermode": "closest",
          "mapbox": {
           "style": "light"
          },
          "paper_bgcolor": "white",
          "plot_bgcolor": "#E5ECF6",
          "polar": {
           "angularaxis": {
            "gridcolor": "white",
            "linecolor": "white",
            "ticks": ""
           },
           "bgcolor": "#E5ECF6",
           "radialaxis": {
            "gridcolor": "white",
            "linecolor": "white",
            "ticks": ""
           }
          },
          "scene": {
           "xaxis": {
            "backgroundcolor": "#E5ECF6",
            "gridcolor": "white",
            "gridwidth": 2,
            "linecolor": "white",
            "showbackground": true,
            "ticks": "",
            "zerolinecolor": "white"
           },
           "yaxis": {
            "backgroundcolor": "#E5ECF6",
            "gridcolor": "white",
            "gridwidth": 2,
            "linecolor": "white",
            "showbackground": true,
            "ticks": "",
            "zerolinecolor": "white"
           },
           "zaxis": {
            "backgroundcolor": "#E5ECF6",
            "gridcolor": "white",
            "gridwidth": 2,
            "linecolor": "white",
            "showbackground": true,
            "ticks": "",
            "zerolinecolor": "white"
           }
          },
          "shapedefaults": {
           "line": {
            "color": "#2a3f5f"
           }
          },
          "ternary": {
           "aaxis": {
            "gridcolor": "white",
            "linecolor": "white",
            "ticks": ""
           },
           "baxis": {
            "gridcolor": "white",
            "linecolor": "white",
            "ticks": ""
           },
           "bgcolor": "#E5ECF6",
           "caxis": {
            "gridcolor": "white",
            "linecolor": "white",
            "ticks": ""
           }
          },
          "title": {
           "x": 0.05
          },
          "xaxis": {
           "automargin": true,
           "gridcolor": "white",
           "linecolor": "white",
           "ticks": "",
           "zerolinecolor": "white",
           "zerolinewidth": 2
          },
          "yaxis": {
           "automargin": true,
           "gridcolor": "white",
           "linecolor": "white",
           "ticks": "",
           "zerolinecolor": "white",
           "zerolinewidth": 2
          }
         }
        },
        "title": {
         "text": "Branch Distribution"
        },
        "xaxis": {
         "linecolor": "black",
         "linewidth": 2,
         "mirror": true,
         "showline": true,
         "showticklabels": true,
         "tickangle": 45,
         "tickfont": {
          "color": "red",
          "size": 10
         },
         "title": {
          "text": "Branch"
         },
         "zeroline": true,
         "zerolinecolor": "grey",
         "zerolinewidth": 1
        },
        "yaxis": {
         "gridcolor": "lightgrey",
         "linecolor": "black",
         "linewidth": 2,
         "mirror": true,
         "showline": true,
         "title": {
          "text": "No. of Occurence"
         },
         "zeroline": true,
         "zerolinecolor": "grey",
         "zerolinewidth": 1
        }
       }
      },
      "text/html": [
       "<div>\n",
       "        \n",
       "        \n",
       "            <div id=\"3259a8d1-a652-467e-b343-98a691c286c6\" class=\"plotly-graph-div\" style=\"height:525px; width:100%;\"></div>\n",
       "            <script type=\"text/javascript\">\n",
       "                require([\"plotly\"], function(Plotly) {\n",
       "                    window.PLOTLYENV=window.PLOTLYENV || {};\n",
       "                    \n",
       "                if (document.getElementById(\"3259a8d1-a652-467e-b343-98a691c286c6\")) {\n",
       "                    Plotly.newPlot(\n",
       "                        '3259a8d1-a652-467e-b343-98a691c286c6',\n",
       "                        [{\"marker\": {\"color\": \"purple\"}, \"text\": [\"others\", \"Engineering\", \"Statistics\", \"PURE MATHEMATICS\", \"B.Sc statistics\", \"B.Com (H)\", \"M.sc \", \"Commerce\", \"M.Sc. in Applied Mathematics \", \"Civil Engineering\", \"Statistics Honours\", \"Atrs\", \"Honors (BSC/MSC)\", \"Statistics honours \", \"CSE\", \"Msc Mathematics \", \"Statistics Hons\", \"M. Sc (applied math) \", \"Electronics and telecommunication\", \"B.sc nursing\", \"MSc in applied mathematics\", \"Statistics (H)\", \"B.Tech\", \"B. Tech (Cse) \", \"Statistics honours\", \"Bsc statistics\", \"Statistics Honours \", \"Electrical engineering\", \"Btech 4th year on ECE department\", \"Mathematics \", \"BSc Statistics \", \"B. Sc. Statistics Hons.\", \"Thermal Power Plant Engineering\", \"Statistics Honours Student\", \"M.sc\", \"M.Sc in Applied Mathematics\", \"Computer Science\", \"B.tech in Electronics and communication engineering\", \"M.sc in applied mathematics. \", \"Dental Surgery\", \"Statistics \", \"BCA\", \"B.sc statistics\", \"Msc in applied mathematics\", \"Graduation\", \"Mathematics\", \"Master of science in applied Mathematics\", \"Computer science\", \"M.SC. IN APPLIED MATHEMATICS\", \"MSc Mathematics\", \"M.SC. MATHEMATICS\", \"Computer Science and Engineering \", \"BBA\", \"3rd year Statistics honours \", \"B.Sc Statistics Hons. \", \"Msc mathematics\", \"Mechanical Engineer\", \"B.Com Honours\", \"M.SC in pure mathematics\", \"MSC IN MATHEMATICS\", \"Mechanical Engineering\", \"B. Tech in chemical engineering\", \"Library and Information Science\", \"M. Sc\", \"Post Graduate (Mathematics) \", \"Microbiology\", \"Bsc statistics hons\", \"Electrical Engineering\", \"Btech\", \"Mathematics Honours (MSc)\", \" LINEAR ALGEBRA IN MATHEMATICS\", \"M.sc in Mathematics\", \"Mca\", \"Power\", \"Pure mathematics\", \"B.Sc.(honours) in Statistics\", \"B.tech\", \"Leather Technology\", \"Bsc. Statistics Honours Student(Final Year)\", \"Applied mathematics in  Oceanology &computer application\", \"H.S passed\", \"Byech\", \"Power engineering\", \"Bsc Computer science\", \"EE\", \"ECE\", \"M.Sc Mathematics\", \"B.Tech(CSE)\", \"MSc in Applied Mathematics\", \"Applied Mathematics\", \"APPLIES MATHEMATICS\", \"Diploma on Travel and Tourism Management\", \"Mathematics (MSC)\", \"B.tech ( CSE )\", \"MATHEMATICS\", \"B. Tech CSE\", \"Filed of study \", \"Electronics and communication engineering\", \"Btech \", \"Bsc. Statistics\", \"B.Tech in CSE\", \"Msc Data science\", \"Btech electronics and communication\", \"B.Tech CSE\", \"M.sc in Applied Mathematics (2nd Sem)\", \"ELECTRICIAN \", \"Comp sc.\", \"M.SC(Electronics)\", \"Computer Science and engineering \", \"Economics\", \"B-tech in ece\", \"B tech\", \"B.Sc honours (Computer Science)\", \"Bsc(state )\", \"B.Sc , honours in Maths\", \"B-tech (ECE 2'nd year)\", \"M.Sc  in mathematics\", \"YES\", \"Bsc statistics honours\", \"MATHEMATICS \", \"Mechanical engineering \", \"Mechanical engineering\", \"Bsc. Statistics Hons.\", \"Computer Science and Engineering\", \"Statistics ( Hons.)\", \"Bsc. Hons\", \"Mechanical\", \"Statistics Hons.\", \"B.tech(IT)\", \"STATISTICS\", \"B.tech (IT)\", \"B.Sc Statistics honours\", \"B.tech (ECE)\", \"B.Sc. in Statistics\", \"Bsc physics honours \", \"B. Pharmacy\", \"Math (H) \", \"Computer Science Engineering\", \"MSc - Mathematics\", \"engineering\", \"Information Technology\", \"R\", \"Aplied mathematics with oceanology and computer programming\", \"B.Sc\", \"IT\", \"Computer Science And Engineering\", \"Did my graduation on mathematics\", \"B.com\", \"Sem 3\", \"Statistics Honours (B.Sc.)\", \"Electrical and electronics engineering \", \"Statistics hons\", \"Energy Engineering\", \"Bsc.Stat \", \"Mathematics honours \", \"Bsc math honours\", \"English honours\", \"Computer science engineering\", \"Statistics (Honours)\", \"EEE \", \"B.tech in Electronic and Communication Engineering\", \"B. Tech\", \"Computer science engineering \", \"Electronics and communications engineering (B.Tech)\", \"ELECTRONICS AND COMMUNICATION ENGINEERING (B.TECH))\", \"B.Sc Statistics Honours\", \"Power plant engineering\", \"Statistics hons.\", \"Statistics 2nd semester\", \"ME\", \"B. Sc. Statistics Hons. \", \"Bsc Statistics Hons\", \"M.Sc in Mathematics \", \"Bachelor's of Computer applications\", \"Msc in Mathematics\", \"B.sc in Statistics\", \"MSc\", \"Power Engineering \", \"Graduate\", \"Electronics and communication Engineering (B.Tech)\", \"Msc. Mathematics\", \"M.Sc in Mathematics\", \"BCA \", \"Mathematics MSc.\", \"B.Sc (hons.) In statistics\", \"Bsc.  in statistics\", \"B.Sc.\", \"Studying M.sc in mathematics\", \"3rd year mathematics honours\", \"Instrumentation engineer\", \"electrical engineering\", \"Msc statistics\", \"Independent Cyber Security Researcher\", \"Msc in pure maths\", \"Physics\", \"M.sc Mathematics\", \"B.tech in ECE\", \"Statistics (hons) \", \"Computer science and engineering\"], \"type\": \"bar\", \"x\": [\"others\", \"Engineering\", \"Statistics\", \"PURE MATHEMATICS\", \"B.Sc statistics\", \"B.Com (H)\", \"M.sc \", \"Commerce\", \"M.Sc. in Applied Mathematics \", \"Civil Engineering\", \"Statistics Honours\", \"Atrs\", \"Honors (BSC/MSC)\", \"Statistics honours \", \"CSE\", \"Msc Mathematics \", \"Statistics Hons\", \"M. Sc (applied math) \", \"Electronics and telecommunication\", \"B.sc nursing\", \"MSc in applied mathematics\", \"Statistics (H)\", \"B.Tech\", \"B. Tech (Cse) \", \"Statistics honours\", \"Bsc statistics\", \"Statistics Honours \", \"Electrical engineering\", \"Btech 4th year on ECE department\", \"Mathematics \", \"BSc Statistics \", \"B. Sc. Statistics Hons.\", \"Thermal Power Plant Engineering\", \"Statistics Honours Student\", \"M.sc\", \"M.Sc in Applied Mathematics\", \"Computer Science\", \"B.tech in Electronics and communication engineering\", \"M.sc in applied mathematics. \", \"Dental Surgery\", \"Statistics \", \"BCA\", \"B.sc statistics\", \"Msc in applied mathematics\", \"Graduation\", \"Mathematics\", \"Master of science in applied Mathematics\", \"Computer science\", \"M.SC. IN APPLIED MATHEMATICS\", \"MSc Mathematics\", \"M.SC. MATHEMATICS\", \"Computer Science and Engineering \", \"BBA\", \"3rd year Statistics honours \", \"B.Sc Statistics Hons. \", \"Msc mathematics\", \"Mechanical Engineer\", \"B.Com Honours\", \"M.SC in pure mathematics\", \"MSC IN MATHEMATICS\", \"Mechanical Engineering\", \"B. Tech in chemical engineering\", \"Library and Information Science\", \"M. Sc\", \"Post Graduate (Mathematics) \", \"Microbiology\", \"Bsc statistics hons\", \"Electrical Engineering\", \"Btech\", \"Mathematics Honours (MSc)\", \" LINEAR ALGEBRA IN MATHEMATICS\", \"M.sc in Mathematics\", \"Mca\", \"Power\", \"Pure mathematics\", \"B.Sc.(honours) in Statistics\", \"B.tech\", \"Leather Technology\", \"Bsc. Statistics Honours Student(Final Year)\", \"Applied mathematics in  Oceanology &computer application\", \"H.S passed\", \"Byech\", \"Power engineering\", \"Bsc Computer science\", \"EE\", \"ECE\", \"M.Sc Mathematics\", \"B.Tech(CSE)\", \"MSc in Applied Mathematics\", \"Applied Mathematics\", \"APPLIES MATHEMATICS\", \"Diploma on Travel and Tourism Management\", \"Mathematics (MSC)\", \"B.tech ( CSE )\", \"MATHEMATICS\", \"B. Tech CSE\", \"Filed of study \", \"Electronics and communication engineering\", \"Btech \", \"Bsc. Statistics\", \"B.Tech in CSE\", \"Msc Data science\", \"Btech electronics and communication\", \"B.Tech CSE\", \"M.sc in Applied Mathematics (2nd Sem)\", \"ELECTRICIAN \", \"Comp sc.\", \"M.SC(Electronics)\", \"Computer Science and engineering \", \"Economics\", \"B-tech in ece\", \"B tech\", \"B.Sc honours (Computer Science)\", \"Bsc(state )\", \"B.Sc , honours in Maths\", \"B-tech (ECE 2'nd year)\", \"M.Sc  in mathematics\", \"YES\", \"Bsc statistics honours\", \"MATHEMATICS \", \"Mechanical engineering \", \"Mechanical engineering\", \"Bsc. Statistics Hons.\", \"Computer Science and Engineering\", \"Statistics ( Hons.)\", \"Bsc. Hons\", \"Mechanical\", \"Statistics Hons.\", \"B.tech(IT)\", \"STATISTICS\", \"B.tech (IT)\", \"B.Sc Statistics honours\", \"B.tech (ECE)\", \"B.Sc. in Statistics\", \"Bsc physics honours \", \"B. Pharmacy\", \"Math (H) \", \"Computer Science Engineering\", \"MSc - Mathematics\", \"engineering\", \"Information Technology\", \"R\", \"Aplied mathematics with oceanology and computer programming\", \"B.Sc\", \"IT\", \"Computer Science And Engineering\", \"Did my graduation on mathematics\", \"B.com\", \"Sem 3\", \"Statistics Honours (B.Sc.)\", \"Electrical and electronics engineering \", \"Statistics hons\", \"Energy Engineering\", \"Bsc.Stat \", \"Mathematics honours \", \"Bsc math honours\", \"English honours\", \"Computer science engineering\", \"Statistics (Honours)\", \"EEE \", \"B.tech in Electronic and Communication Engineering\", \"B. Tech\", \"Computer science engineering \", \"Electronics and communications engineering (B.Tech)\", \"ELECTRONICS AND COMMUNICATION ENGINEERING (B.TECH))\", \"B.Sc Statistics Honours\", \"Power plant engineering\", \"Statistics hons.\", \"Statistics 2nd semester\", \"ME\", \"B. Sc. Statistics Hons. \", \"Bsc Statistics Hons\", \"M.Sc in Mathematics \", \"Bachelor's of Computer applications\", \"Msc in Mathematics\", \"B.sc in Statistics\", \"MSc\", \"Power Engineering \", \"Graduate\", \"Electronics and communication Engineering (B.Tech)\", \"Msc. Mathematics\", \"M.Sc in Mathematics\", \"BCA \", \"Mathematics MSc.\", \"B.Sc (hons.) In statistics\", \"Bsc.  in statistics\", \"B.Sc.\", \"Studying M.sc in mathematics\", \"3rd year mathematics honours\", \"Instrumentation engineer\", \"electrical engineering\", \"Msc statistics\", \"Independent Cyber Security Researcher\", \"Msc in pure maths\", \"Physics\", \"M.sc Mathematics\", \"B.tech in ECE\", \"Statistics (hons) \", \"Computer science and engineering\"], \"y\": [332, 184, 90, 31, 16, 11, 9, 7, 5, 5, 4, 4, 4, 3, 3, 3, 3, 3, 3, 3, 3, 2, 2, 2, 2, 2, 2, 2, 2, 2, 2, 2, 2, 2, 2, 2, 2, 2, 2, 1, 1, 1, 1, 1, 1, 1, 1, 1, 1, 1, 1, 1, 1, 1, 1, 1, 1, 1, 1, 1, 1, 1, 1, 1, 1, 1, 1, 1, 1, 1, 1, 1, 1, 1, 1, 1, 1, 1, 1, 1, 1, 1, 1, 1, 1, 1, 1, 1, 1, 1, 1, 1, 1, 1, 1, 1, 1, 1, 1, 1, 1, 1, 1, 1, 1, 1, 1, 1, 1, 1, 1, 1, 1, 1, 1, 1, 1, 1, 1, 1, 1, 1, 1, 1, 1, 1, 1, 1, 1, 1, 1, 1, 1, 1, 1, 1, 1, 1, 1, 1, 1, 1, 1, 1, 1, 1, 1, 1, 1, 1, 1, 1, 1, 1, 1, 1, 1, 1, 1, 1, 1, 1, 1, 1, 1, 1, 1, 1, 1, 1, 1, 1, 1, 1, 1, 1, 1, 1, 1, 1, 1, 1, 1, 1, 1, 1, 1, 1, 1, 1, 1, 1, 1, 1, 1, 1, 1, 1, 1]}],\n",
       "                        {\"hovermode\": \"closest\", \"paper_bgcolor\": \"rgba(0, 0, 0, 0)\", \"plot_bgcolor\": \"rgba(0, 0, 0, 0)\", \"template\": {\"data\": {\"bar\": [{\"error_x\": {\"color\": \"#2a3f5f\"}, \"error_y\": {\"color\": \"#2a3f5f\"}, \"marker\": {\"line\": {\"color\": \"#E5ECF6\", \"width\": 0.5}}, \"type\": \"bar\"}], \"barpolar\": [{\"marker\": {\"line\": {\"color\": \"#E5ECF6\", \"width\": 0.5}}, \"type\": \"barpolar\"}], \"carpet\": [{\"aaxis\": {\"endlinecolor\": \"#2a3f5f\", \"gridcolor\": \"white\", \"linecolor\": \"white\", \"minorgridcolor\": \"white\", \"startlinecolor\": \"#2a3f5f\"}, \"baxis\": {\"endlinecolor\": \"#2a3f5f\", \"gridcolor\": \"white\", \"linecolor\": \"white\", \"minorgridcolor\": \"white\", \"startlinecolor\": \"#2a3f5f\"}, \"type\": \"carpet\"}], \"choropleth\": [{\"colorbar\": {\"outlinewidth\": 0, \"ticks\": \"\"}, \"type\": \"choropleth\"}], \"contour\": [{\"colorbar\": {\"outlinewidth\": 0, \"ticks\": \"\"}, \"colorscale\": [[0.0, \"#0d0887\"], [0.1111111111111111, \"#46039f\"], [0.2222222222222222, \"#7201a8\"], [0.3333333333333333, \"#9c179e\"], [0.4444444444444444, \"#bd3786\"], [0.5555555555555556, \"#d8576b\"], [0.6666666666666666, \"#ed7953\"], [0.7777777777777778, \"#fb9f3a\"], [0.8888888888888888, \"#fdca26\"], [1.0, \"#f0f921\"]], \"type\": \"contour\"}], \"contourcarpet\": [{\"colorbar\": {\"outlinewidth\": 0, \"ticks\": \"\"}, \"type\": \"contourcarpet\"}], \"heatmap\": [{\"colorbar\": {\"outlinewidth\": 0, \"ticks\": \"\"}, \"colorscale\": [[0.0, \"#0d0887\"], [0.1111111111111111, \"#46039f\"], [0.2222222222222222, \"#7201a8\"], [0.3333333333333333, \"#9c179e\"], [0.4444444444444444, \"#bd3786\"], [0.5555555555555556, \"#d8576b\"], [0.6666666666666666, \"#ed7953\"], [0.7777777777777778, \"#fb9f3a\"], [0.8888888888888888, \"#fdca26\"], [1.0, \"#f0f921\"]], \"type\": \"heatmap\"}], \"heatmapgl\": [{\"colorbar\": {\"outlinewidth\": 0, \"ticks\": \"\"}, \"colorscale\": [[0.0, \"#0d0887\"], [0.1111111111111111, \"#46039f\"], [0.2222222222222222, \"#7201a8\"], [0.3333333333333333, \"#9c179e\"], [0.4444444444444444, \"#bd3786\"], [0.5555555555555556, \"#d8576b\"], [0.6666666666666666, \"#ed7953\"], [0.7777777777777778, \"#fb9f3a\"], [0.8888888888888888, \"#fdca26\"], [1.0, \"#f0f921\"]], \"type\": \"heatmapgl\"}], \"histogram\": [{\"marker\": {\"colorbar\": {\"outlinewidth\": 0, \"ticks\": \"\"}}, \"type\": \"histogram\"}], \"histogram2d\": [{\"colorbar\": {\"outlinewidth\": 0, \"ticks\": \"\"}, \"colorscale\": [[0.0, \"#0d0887\"], [0.1111111111111111, \"#46039f\"], [0.2222222222222222, \"#7201a8\"], [0.3333333333333333, \"#9c179e\"], [0.4444444444444444, \"#bd3786\"], [0.5555555555555556, \"#d8576b\"], [0.6666666666666666, \"#ed7953\"], [0.7777777777777778, \"#fb9f3a\"], [0.8888888888888888, \"#fdca26\"], [1.0, \"#f0f921\"]], \"type\": \"histogram2d\"}], \"histogram2dcontour\": [{\"colorbar\": {\"outlinewidth\": 0, \"ticks\": \"\"}, \"colorscale\": [[0.0, \"#0d0887\"], [0.1111111111111111, \"#46039f\"], [0.2222222222222222, \"#7201a8\"], [0.3333333333333333, \"#9c179e\"], [0.4444444444444444, \"#bd3786\"], [0.5555555555555556, \"#d8576b\"], [0.6666666666666666, \"#ed7953\"], [0.7777777777777778, \"#fb9f3a\"], [0.8888888888888888, \"#fdca26\"], [1.0, \"#f0f921\"]], \"type\": \"histogram2dcontour\"}], \"mesh3d\": [{\"colorbar\": {\"outlinewidth\": 0, \"ticks\": \"\"}, \"type\": \"mesh3d\"}], \"parcoords\": [{\"line\": {\"colorbar\": {\"outlinewidth\": 0, \"ticks\": \"\"}}, \"type\": \"parcoords\"}], \"scatter\": [{\"marker\": {\"colorbar\": {\"outlinewidth\": 0, \"ticks\": \"\"}}, \"type\": \"scatter\"}], \"scatter3d\": [{\"line\": {\"colorbar\": {\"outlinewidth\": 0, \"ticks\": \"\"}}, \"marker\": {\"colorbar\": {\"outlinewidth\": 0, \"ticks\": \"\"}}, \"type\": \"scatter3d\"}], \"scattercarpet\": [{\"marker\": {\"colorbar\": {\"outlinewidth\": 0, \"ticks\": \"\"}}, \"type\": \"scattercarpet\"}], \"scattergeo\": [{\"marker\": {\"colorbar\": {\"outlinewidth\": 0, \"ticks\": \"\"}}, \"type\": \"scattergeo\"}], \"scattergl\": [{\"marker\": {\"colorbar\": {\"outlinewidth\": 0, \"ticks\": \"\"}}, \"type\": \"scattergl\"}], \"scattermapbox\": [{\"marker\": {\"colorbar\": {\"outlinewidth\": 0, \"ticks\": \"\"}}, \"type\": \"scattermapbox\"}], \"scatterpolar\": [{\"marker\": {\"colorbar\": {\"outlinewidth\": 0, \"ticks\": \"\"}}, \"type\": \"scatterpolar\"}], \"scatterpolargl\": [{\"marker\": {\"colorbar\": {\"outlinewidth\": 0, \"ticks\": \"\"}}, \"type\": \"scatterpolargl\"}], \"scatterternary\": [{\"marker\": {\"colorbar\": {\"outlinewidth\": 0, \"ticks\": \"\"}}, \"type\": \"scatterternary\"}], \"surface\": [{\"colorbar\": {\"outlinewidth\": 0, \"ticks\": \"\"}, \"colorscale\": [[0.0, \"#0d0887\"], [0.1111111111111111, \"#46039f\"], [0.2222222222222222, \"#7201a8\"], [0.3333333333333333, \"#9c179e\"], [0.4444444444444444, \"#bd3786\"], [0.5555555555555556, \"#d8576b\"], [0.6666666666666666, \"#ed7953\"], [0.7777777777777778, \"#fb9f3a\"], [0.8888888888888888, \"#fdca26\"], [1.0, \"#f0f921\"]], \"type\": \"surface\"}], \"table\": [{\"cells\": {\"fill\": {\"color\": \"#EBF0F8\"}, \"line\": {\"color\": \"white\"}}, \"header\": {\"fill\": {\"color\": \"#C8D4E3\"}, \"line\": {\"color\": \"white\"}}, \"type\": \"table\"}]}, \"layout\": {\"annotationdefaults\": {\"arrowcolor\": \"#2a3f5f\", \"arrowhead\": 0, \"arrowwidth\": 1}, \"colorscale\": {\"diverging\": [[0, \"#8e0152\"], [0.1, \"#c51b7d\"], [0.2, \"#de77ae\"], [0.3, \"#f1b6da\"], [0.4, \"#fde0ef\"], [0.5, \"#f7f7f7\"], [0.6, \"#e6f5d0\"], [0.7, \"#b8e186\"], [0.8, \"#7fbc41\"], [0.9, \"#4d9221\"], [1, \"#276419\"]], \"sequential\": [[0.0, \"#0d0887\"], [0.1111111111111111, \"#46039f\"], [0.2222222222222222, \"#7201a8\"], [0.3333333333333333, \"#9c179e\"], [0.4444444444444444, \"#bd3786\"], [0.5555555555555556, \"#d8576b\"], [0.6666666666666666, \"#ed7953\"], [0.7777777777777778, \"#fb9f3a\"], [0.8888888888888888, \"#fdca26\"], [1.0, \"#f0f921\"]], \"sequentialminus\": [[0.0, \"#0d0887\"], [0.1111111111111111, \"#46039f\"], [0.2222222222222222, \"#7201a8\"], [0.3333333333333333, \"#9c179e\"], [0.4444444444444444, \"#bd3786\"], [0.5555555555555556, \"#d8576b\"], [0.6666666666666666, \"#ed7953\"], [0.7777777777777778, \"#fb9f3a\"], [0.8888888888888888, \"#fdca26\"], [1.0, \"#f0f921\"]]}, \"colorway\": [\"#636efa\", \"#EF553B\", \"#00cc96\", \"#ab63fa\", \"#FFA15A\", \"#19d3f3\", \"#FF6692\", \"#B6E880\", \"#FF97FF\", \"#FECB52\"], \"font\": {\"color\": \"#2a3f5f\"}, \"geo\": {\"bgcolor\": \"white\", \"lakecolor\": \"white\", \"landcolor\": \"#E5ECF6\", \"showlakes\": true, \"showland\": true, \"subunitcolor\": \"white\"}, \"hoverlabel\": {\"align\": \"left\"}, \"hovermode\": \"closest\", \"mapbox\": {\"style\": \"light\"}, \"paper_bgcolor\": \"white\", \"plot_bgcolor\": \"#E5ECF6\", \"polar\": {\"angularaxis\": {\"gridcolor\": \"white\", \"linecolor\": \"white\", \"ticks\": \"\"}, \"bgcolor\": \"#E5ECF6\", \"radialaxis\": {\"gridcolor\": \"white\", \"linecolor\": \"white\", \"ticks\": \"\"}}, \"scene\": {\"xaxis\": {\"backgroundcolor\": \"#E5ECF6\", \"gridcolor\": \"white\", \"gridwidth\": 2, \"linecolor\": \"white\", \"showbackground\": true, \"ticks\": \"\", \"zerolinecolor\": \"white\"}, \"yaxis\": {\"backgroundcolor\": \"#E5ECF6\", \"gridcolor\": \"white\", \"gridwidth\": 2, \"linecolor\": \"white\", \"showbackground\": true, \"ticks\": \"\", \"zerolinecolor\": \"white\"}, \"zaxis\": {\"backgroundcolor\": \"#E5ECF6\", \"gridcolor\": \"white\", \"gridwidth\": 2, \"linecolor\": \"white\", \"showbackground\": true, \"ticks\": \"\", \"zerolinecolor\": \"white\"}}, \"shapedefaults\": {\"line\": {\"color\": \"#2a3f5f\"}}, \"ternary\": {\"aaxis\": {\"gridcolor\": \"white\", \"linecolor\": \"white\", \"ticks\": \"\"}, \"baxis\": {\"gridcolor\": \"white\", \"linecolor\": \"white\", \"ticks\": \"\"}, \"bgcolor\": \"#E5ECF6\", \"caxis\": {\"gridcolor\": \"white\", \"linecolor\": \"white\", \"ticks\": \"\"}}, \"title\": {\"x\": 0.05}, \"xaxis\": {\"automargin\": true, \"gridcolor\": \"white\", \"linecolor\": \"white\", \"ticks\": \"\", \"zerolinecolor\": \"white\", \"zerolinewidth\": 2}, \"yaxis\": {\"automargin\": true, \"gridcolor\": \"white\", \"linecolor\": \"white\", \"ticks\": \"\", \"zerolinecolor\": \"white\", \"zerolinewidth\": 2}}}, \"title\": {\"text\": \"Branch Distribution\"}, \"xaxis\": {\"linecolor\": \"black\", \"linewidth\": 2, \"mirror\": true, \"showline\": true, \"showticklabels\": true, \"tickangle\": 45, \"tickfont\": {\"color\": \"red\", \"size\": 10}, \"title\": {\"text\": \"Branch\"}, \"zeroline\": true, \"zerolinecolor\": \"grey\", \"zerolinewidth\": 1}, \"yaxis\": {\"gridcolor\": \"lightgrey\", \"linecolor\": \"black\", \"linewidth\": 2, \"mirror\": true, \"showline\": true, \"title\": {\"text\": \"No. of Occurence\"}, \"zeroline\": true, \"zerolinecolor\": \"grey\", \"zerolinewidth\": 1}},\n",
       "                        {\"responsive\": true}\n",
       "                    ).then(function(){\n",
       "                            \n",
       "var gd = document.getElementById('3259a8d1-a652-467e-b343-98a691c286c6');\n",
       "var x = new MutationObserver(function (mutations, observer) {{\n",
       "        var display = window.getComputedStyle(gd).display;\n",
       "        if (!display || display === 'none') {{\n",
       "            console.log([gd, 'removed!']);\n",
       "            Plotly.purge(gd);\n",
       "            observer.disconnect();\n",
       "        }}\n",
       "}});\n",
       "\n",
       "// Listen for the removal of the full notebook cells\n",
       "var notebookContainer = gd.closest('#notebook-container');\n",
       "if (notebookContainer) {{\n",
       "    x.observe(notebookContainer, {childList: true});\n",
       "}}\n",
       "\n",
       "// Listen for the clearing of the current output cell\n",
       "var outputEl = gd.closest('.output');\n",
       "if (outputEl) {{\n",
       "    x.observe(outputEl, {childList: true});\n",
       "}}\n",
       "\n",
       "                        })\n",
       "                };\n",
       "                });\n",
       "            </script>\n",
       "        </div>"
      ]
     },
     "metadata": {},
     "output_type": "display_data"
    }
   ],
   "source": [
    "branch_count = dg['Brach '].value_counts()\n",
    "\n",
    "ds=branch_count\n",
    "dg.drop_duplicates(subset=['Brach '],keep='first',inplace=True)\n",
    "draw_trace_bar(dg,'Brach ',ds,\"Branch Distribution\",\"Branch\",\"No. of Occurence\",\"purple\")"
   ]
  },
  {
   "cell_type": "markdown",
   "metadata": {},
   "source": [
    "Most students taken the free session are from the 'Others' department category,but the second most category of students belong from the 'Engineering ' background considering the 'Btech' categories also."
   ]
  },
  {
   "cell_type": "code",
   "execution_count": 113,
   "metadata": {},
   "outputs": [
    {
     "data": {
      "application/vnd.plotly.v1+json": {
       "config": {
        "linkText": "Export to plot.ly",
        "plotlyServerURL": "https://plot.ly",
        "showLink": false
       },
       "data": [
        {
         "marker": {
          "color": "purple"
         },
         "text": [
          "Yes",
          "No",
          "Having own laptop/system "
         ],
         "type": "bar",
         "x": [
          "Yes",
          "No",
          "Having own laptop/system "
         ],
         "y": [
          727,
          194,
          1
         ]
        }
       ],
       "layout": {
        "hovermode": "closest",
        "paper_bgcolor": "rgba(0, 0, 0, 0)",
        "plot_bgcolor": "rgba(0, 0, 0, 0)",
        "template": {
         "data": {
          "bar": [
           {
            "error_x": {
             "color": "#2a3f5f"
            },
            "error_y": {
             "color": "#2a3f5f"
            },
            "marker": {
             "line": {
              "color": "#E5ECF6",
              "width": 0.5
             }
            },
            "type": "bar"
           }
          ],
          "barpolar": [
           {
            "marker": {
             "line": {
              "color": "#E5ECF6",
              "width": 0.5
             }
            },
            "type": "barpolar"
           }
          ],
          "carpet": [
           {
            "aaxis": {
             "endlinecolor": "#2a3f5f",
             "gridcolor": "white",
             "linecolor": "white",
             "minorgridcolor": "white",
             "startlinecolor": "#2a3f5f"
            },
            "baxis": {
             "endlinecolor": "#2a3f5f",
             "gridcolor": "white",
             "linecolor": "white",
             "minorgridcolor": "white",
             "startlinecolor": "#2a3f5f"
            },
            "type": "carpet"
           }
          ],
          "choropleth": [
           {
            "colorbar": {
             "outlinewidth": 0,
             "ticks": ""
            },
            "type": "choropleth"
           }
          ],
          "contour": [
           {
            "colorbar": {
             "outlinewidth": 0,
             "ticks": ""
            },
            "colorscale": [
             [
              0,
              "#0d0887"
             ],
             [
              0.1111111111111111,
              "#46039f"
             ],
             [
              0.2222222222222222,
              "#7201a8"
             ],
             [
              0.3333333333333333,
              "#9c179e"
             ],
             [
              0.4444444444444444,
              "#bd3786"
             ],
             [
              0.5555555555555556,
              "#d8576b"
             ],
             [
              0.6666666666666666,
              "#ed7953"
             ],
             [
              0.7777777777777778,
              "#fb9f3a"
             ],
             [
              0.8888888888888888,
              "#fdca26"
             ],
             [
              1,
              "#f0f921"
             ]
            ],
            "type": "contour"
           }
          ],
          "contourcarpet": [
           {
            "colorbar": {
             "outlinewidth": 0,
             "ticks": ""
            },
            "type": "contourcarpet"
           }
          ],
          "heatmap": [
           {
            "colorbar": {
             "outlinewidth": 0,
             "ticks": ""
            },
            "colorscale": [
             [
              0,
              "#0d0887"
             ],
             [
              0.1111111111111111,
              "#46039f"
             ],
             [
              0.2222222222222222,
              "#7201a8"
             ],
             [
              0.3333333333333333,
              "#9c179e"
             ],
             [
              0.4444444444444444,
              "#bd3786"
             ],
             [
              0.5555555555555556,
              "#d8576b"
             ],
             [
              0.6666666666666666,
              "#ed7953"
             ],
             [
              0.7777777777777778,
              "#fb9f3a"
             ],
             [
              0.8888888888888888,
              "#fdca26"
             ],
             [
              1,
              "#f0f921"
             ]
            ],
            "type": "heatmap"
           }
          ],
          "heatmapgl": [
           {
            "colorbar": {
             "outlinewidth": 0,
             "ticks": ""
            },
            "colorscale": [
             [
              0,
              "#0d0887"
             ],
             [
              0.1111111111111111,
              "#46039f"
             ],
             [
              0.2222222222222222,
              "#7201a8"
             ],
             [
              0.3333333333333333,
              "#9c179e"
             ],
             [
              0.4444444444444444,
              "#bd3786"
             ],
             [
              0.5555555555555556,
              "#d8576b"
             ],
             [
              0.6666666666666666,
              "#ed7953"
             ],
             [
              0.7777777777777778,
              "#fb9f3a"
             ],
             [
              0.8888888888888888,
              "#fdca26"
             ],
             [
              1,
              "#f0f921"
             ]
            ],
            "type": "heatmapgl"
           }
          ],
          "histogram": [
           {
            "marker": {
             "colorbar": {
              "outlinewidth": 0,
              "ticks": ""
             }
            },
            "type": "histogram"
           }
          ],
          "histogram2d": [
           {
            "colorbar": {
             "outlinewidth": 0,
             "ticks": ""
            },
            "colorscale": [
             [
              0,
              "#0d0887"
             ],
             [
              0.1111111111111111,
              "#46039f"
             ],
             [
              0.2222222222222222,
              "#7201a8"
             ],
             [
              0.3333333333333333,
              "#9c179e"
             ],
             [
              0.4444444444444444,
              "#bd3786"
             ],
             [
              0.5555555555555556,
              "#d8576b"
             ],
             [
              0.6666666666666666,
              "#ed7953"
             ],
             [
              0.7777777777777778,
              "#fb9f3a"
             ],
             [
              0.8888888888888888,
              "#fdca26"
             ],
             [
              1,
              "#f0f921"
             ]
            ],
            "type": "histogram2d"
           }
          ],
          "histogram2dcontour": [
           {
            "colorbar": {
             "outlinewidth": 0,
             "ticks": ""
            },
            "colorscale": [
             [
              0,
              "#0d0887"
             ],
             [
              0.1111111111111111,
              "#46039f"
             ],
             [
              0.2222222222222222,
              "#7201a8"
             ],
             [
              0.3333333333333333,
              "#9c179e"
             ],
             [
              0.4444444444444444,
              "#bd3786"
             ],
             [
              0.5555555555555556,
              "#d8576b"
             ],
             [
              0.6666666666666666,
              "#ed7953"
             ],
             [
              0.7777777777777778,
              "#fb9f3a"
             ],
             [
              0.8888888888888888,
              "#fdca26"
             ],
             [
              1,
              "#f0f921"
             ]
            ],
            "type": "histogram2dcontour"
           }
          ],
          "mesh3d": [
           {
            "colorbar": {
             "outlinewidth": 0,
             "ticks": ""
            },
            "type": "mesh3d"
           }
          ],
          "parcoords": [
           {
            "line": {
             "colorbar": {
              "outlinewidth": 0,
              "ticks": ""
             }
            },
            "type": "parcoords"
           }
          ],
          "scatter": [
           {
            "marker": {
             "colorbar": {
              "outlinewidth": 0,
              "ticks": ""
             }
            },
            "type": "scatter"
           }
          ],
          "scatter3d": [
           {
            "line": {
             "colorbar": {
              "outlinewidth": 0,
              "ticks": ""
             }
            },
            "marker": {
             "colorbar": {
              "outlinewidth": 0,
              "ticks": ""
             }
            },
            "type": "scatter3d"
           }
          ],
          "scattercarpet": [
           {
            "marker": {
             "colorbar": {
              "outlinewidth": 0,
              "ticks": ""
             }
            },
            "type": "scattercarpet"
           }
          ],
          "scattergeo": [
           {
            "marker": {
             "colorbar": {
              "outlinewidth": 0,
              "ticks": ""
             }
            },
            "type": "scattergeo"
           }
          ],
          "scattergl": [
           {
            "marker": {
             "colorbar": {
              "outlinewidth": 0,
              "ticks": ""
             }
            },
            "type": "scattergl"
           }
          ],
          "scattermapbox": [
           {
            "marker": {
             "colorbar": {
              "outlinewidth": 0,
              "ticks": ""
             }
            },
            "type": "scattermapbox"
           }
          ],
          "scatterpolar": [
           {
            "marker": {
             "colorbar": {
              "outlinewidth": 0,
              "ticks": ""
             }
            },
            "type": "scatterpolar"
           }
          ],
          "scatterpolargl": [
           {
            "marker": {
             "colorbar": {
              "outlinewidth": 0,
              "ticks": ""
             }
            },
            "type": "scatterpolargl"
           }
          ],
          "scatterternary": [
           {
            "marker": {
             "colorbar": {
              "outlinewidth": 0,
              "ticks": ""
             }
            },
            "type": "scatterternary"
           }
          ],
          "surface": [
           {
            "colorbar": {
             "outlinewidth": 0,
             "ticks": ""
            },
            "colorscale": [
             [
              0,
              "#0d0887"
             ],
             [
              0.1111111111111111,
              "#46039f"
             ],
             [
              0.2222222222222222,
              "#7201a8"
             ],
             [
              0.3333333333333333,
              "#9c179e"
             ],
             [
              0.4444444444444444,
              "#bd3786"
             ],
             [
              0.5555555555555556,
              "#d8576b"
             ],
             [
              0.6666666666666666,
              "#ed7953"
             ],
             [
              0.7777777777777778,
              "#fb9f3a"
             ],
             [
              0.8888888888888888,
              "#fdca26"
             ],
             [
              1,
              "#f0f921"
             ]
            ],
            "type": "surface"
           }
          ],
          "table": [
           {
            "cells": {
             "fill": {
              "color": "#EBF0F8"
             },
             "line": {
              "color": "white"
             }
            },
            "header": {
             "fill": {
              "color": "#C8D4E3"
             },
             "line": {
              "color": "white"
             }
            },
            "type": "table"
           }
          ]
         },
         "layout": {
          "annotationdefaults": {
           "arrowcolor": "#2a3f5f",
           "arrowhead": 0,
           "arrowwidth": 1
          },
          "colorscale": {
           "diverging": [
            [
             0,
             "#8e0152"
            ],
            [
             0.1,
             "#c51b7d"
            ],
            [
             0.2,
             "#de77ae"
            ],
            [
             0.3,
             "#f1b6da"
            ],
            [
             0.4,
             "#fde0ef"
            ],
            [
             0.5,
             "#f7f7f7"
            ],
            [
             0.6,
             "#e6f5d0"
            ],
            [
             0.7,
             "#b8e186"
            ],
            [
             0.8,
             "#7fbc41"
            ],
            [
             0.9,
             "#4d9221"
            ],
            [
             1,
             "#276419"
            ]
           ],
           "sequential": [
            [
             0,
             "#0d0887"
            ],
            [
             0.1111111111111111,
             "#46039f"
            ],
            [
             0.2222222222222222,
             "#7201a8"
            ],
            [
             0.3333333333333333,
             "#9c179e"
            ],
            [
             0.4444444444444444,
             "#bd3786"
            ],
            [
             0.5555555555555556,
             "#d8576b"
            ],
            [
             0.6666666666666666,
             "#ed7953"
            ],
            [
             0.7777777777777778,
             "#fb9f3a"
            ],
            [
             0.8888888888888888,
             "#fdca26"
            ],
            [
             1,
             "#f0f921"
            ]
           ],
           "sequentialminus": [
            [
             0,
             "#0d0887"
            ],
            [
             0.1111111111111111,
             "#46039f"
            ],
            [
             0.2222222222222222,
             "#7201a8"
            ],
            [
             0.3333333333333333,
             "#9c179e"
            ],
            [
             0.4444444444444444,
             "#bd3786"
            ],
            [
             0.5555555555555556,
             "#d8576b"
            ],
            [
             0.6666666666666666,
             "#ed7953"
            ],
            [
             0.7777777777777778,
             "#fb9f3a"
            ],
            [
             0.8888888888888888,
             "#fdca26"
            ],
            [
             1,
             "#f0f921"
            ]
           ]
          },
          "colorway": [
           "#636efa",
           "#EF553B",
           "#00cc96",
           "#ab63fa",
           "#FFA15A",
           "#19d3f3",
           "#FF6692",
           "#B6E880",
           "#FF97FF",
           "#FECB52"
          ],
          "font": {
           "color": "#2a3f5f"
          },
          "geo": {
           "bgcolor": "white",
           "lakecolor": "white",
           "landcolor": "#E5ECF6",
           "showlakes": true,
           "showland": true,
           "subunitcolor": "white"
          },
          "hoverlabel": {
           "align": "left"
          },
          "hovermode": "closest",
          "mapbox": {
           "style": "light"
          },
          "paper_bgcolor": "white",
          "plot_bgcolor": "#E5ECF6",
          "polar": {
           "angularaxis": {
            "gridcolor": "white",
            "linecolor": "white",
            "ticks": ""
           },
           "bgcolor": "#E5ECF6",
           "radialaxis": {
            "gridcolor": "white",
            "linecolor": "white",
            "ticks": ""
           }
          },
          "scene": {
           "xaxis": {
            "backgroundcolor": "#E5ECF6",
            "gridcolor": "white",
            "gridwidth": 2,
            "linecolor": "white",
            "showbackground": true,
            "ticks": "",
            "zerolinecolor": "white"
           },
           "yaxis": {
            "backgroundcolor": "#E5ECF6",
            "gridcolor": "white",
            "gridwidth": 2,
            "linecolor": "white",
            "showbackground": true,
            "ticks": "",
            "zerolinecolor": "white"
           },
           "zaxis": {
            "backgroundcolor": "#E5ECF6",
            "gridcolor": "white",
            "gridwidth": 2,
            "linecolor": "white",
            "showbackground": true,
            "ticks": "",
            "zerolinecolor": "white"
           }
          },
          "shapedefaults": {
           "line": {
            "color": "#2a3f5f"
           }
          },
          "ternary": {
           "aaxis": {
            "gridcolor": "white",
            "linecolor": "white",
            "ticks": ""
           },
           "baxis": {
            "gridcolor": "white",
            "linecolor": "white",
            "ticks": ""
           },
           "bgcolor": "#E5ECF6",
           "caxis": {
            "gridcolor": "white",
            "linecolor": "white",
            "ticks": ""
           }
          },
          "title": {
           "x": 0.05
          },
          "xaxis": {
           "automargin": true,
           "gridcolor": "white",
           "linecolor": "white",
           "ticks": "",
           "zerolinecolor": "white",
           "zerolinewidth": 2
          },
          "yaxis": {
           "automargin": true,
           "gridcolor": "white",
           "linecolor": "white",
           "ticks": "",
           "zerolinecolor": "white",
           "zerolinewidth": 2
          }
         }
        },
        "title": {
         "text": "People Having laptop or/not"
        },
        "xaxis": {
         "linecolor": "black",
         "linewidth": 2,
         "mirror": true,
         "showline": true,
         "showticklabels": true,
         "tickangle": 45,
         "tickfont": {
          "color": "red",
          "size": 10
         },
         "title": {
          "text": "Laptop"
         },
         "zeroline": true,
         "zerolinecolor": "grey",
         "zerolinewidth": 1
        },
        "yaxis": {
         "gridcolor": "lightgrey",
         "linecolor": "black",
         "linewidth": 2,
         "mirror": true,
         "showline": true,
         "title": {
          "text": "No. of laptops"
         },
         "zeroline": true,
         "zerolinecolor": "grey",
         "zerolinewidth": 1
        }
       }
      },
      "text/html": [
       "<div>\n",
       "        \n",
       "        \n",
       "            <div id=\"e3312830-2a3f-4385-ac8e-4bf2dd3f0b14\" class=\"plotly-graph-div\" style=\"height:525px; width:100%;\"></div>\n",
       "            <script type=\"text/javascript\">\n",
       "                require([\"plotly\"], function(Plotly) {\n",
       "                    window.PLOTLYENV=window.PLOTLYENV || {};\n",
       "                    \n",
       "                if (document.getElementById(\"e3312830-2a3f-4385-ac8e-4bf2dd3f0b14\")) {\n",
       "                    Plotly.newPlot(\n",
       "                        'e3312830-2a3f-4385-ac8e-4bf2dd3f0b14',\n",
       "                        [{\"marker\": {\"color\": \"purple\"}, \"text\": [\"Yes\", \"No\", \"Having own laptop/system \"], \"type\": \"bar\", \"x\": [\"Yes\", \"No\", \"Having own laptop/system \"], \"y\": [727, 194, 1]}],\n",
       "                        {\"hovermode\": \"closest\", \"paper_bgcolor\": \"rgba(0, 0, 0, 0)\", \"plot_bgcolor\": \"rgba(0, 0, 0, 0)\", \"template\": {\"data\": {\"bar\": [{\"error_x\": {\"color\": \"#2a3f5f\"}, \"error_y\": {\"color\": \"#2a3f5f\"}, \"marker\": {\"line\": {\"color\": \"#E5ECF6\", \"width\": 0.5}}, \"type\": \"bar\"}], \"barpolar\": [{\"marker\": {\"line\": {\"color\": \"#E5ECF6\", \"width\": 0.5}}, \"type\": \"barpolar\"}], \"carpet\": [{\"aaxis\": {\"endlinecolor\": \"#2a3f5f\", \"gridcolor\": \"white\", \"linecolor\": \"white\", \"minorgridcolor\": \"white\", \"startlinecolor\": \"#2a3f5f\"}, \"baxis\": {\"endlinecolor\": \"#2a3f5f\", \"gridcolor\": \"white\", \"linecolor\": \"white\", \"minorgridcolor\": \"white\", \"startlinecolor\": \"#2a3f5f\"}, \"type\": \"carpet\"}], \"choropleth\": [{\"colorbar\": {\"outlinewidth\": 0, \"ticks\": \"\"}, \"type\": \"choropleth\"}], \"contour\": [{\"colorbar\": {\"outlinewidth\": 0, \"ticks\": \"\"}, \"colorscale\": [[0.0, \"#0d0887\"], [0.1111111111111111, \"#46039f\"], [0.2222222222222222, \"#7201a8\"], [0.3333333333333333, \"#9c179e\"], [0.4444444444444444, \"#bd3786\"], [0.5555555555555556, \"#d8576b\"], [0.6666666666666666, \"#ed7953\"], [0.7777777777777778, \"#fb9f3a\"], [0.8888888888888888, \"#fdca26\"], [1.0, \"#f0f921\"]], \"type\": \"contour\"}], \"contourcarpet\": [{\"colorbar\": {\"outlinewidth\": 0, \"ticks\": \"\"}, \"type\": \"contourcarpet\"}], \"heatmap\": [{\"colorbar\": {\"outlinewidth\": 0, \"ticks\": \"\"}, \"colorscale\": [[0.0, \"#0d0887\"], [0.1111111111111111, \"#46039f\"], [0.2222222222222222, \"#7201a8\"], [0.3333333333333333, \"#9c179e\"], [0.4444444444444444, \"#bd3786\"], [0.5555555555555556, \"#d8576b\"], [0.6666666666666666, \"#ed7953\"], [0.7777777777777778, \"#fb9f3a\"], [0.8888888888888888, \"#fdca26\"], [1.0, \"#f0f921\"]], \"type\": \"heatmap\"}], \"heatmapgl\": [{\"colorbar\": {\"outlinewidth\": 0, \"ticks\": \"\"}, \"colorscale\": [[0.0, \"#0d0887\"], [0.1111111111111111, \"#46039f\"], [0.2222222222222222, \"#7201a8\"], [0.3333333333333333, \"#9c179e\"], [0.4444444444444444, \"#bd3786\"], [0.5555555555555556, \"#d8576b\"], [0.6666666666666666, \"#ed7953\"], [0.7777777777777778, \"#fb9f3a\"], [0.8888888888888888, \"#fdca26\"], [1.0, \"#f0f921\"]], \"type\": \"heatmapgl\"}], \"histogram\": [{\"marker\": {\"colorbar\": {\"outlinewidth\": 0, \"ticks\": \"\"}}, \"type\": \"histogram\"}], \"histogram2d\": [{\"colorbar\": {\"outlinewidth\": 0, \"ticks\": \"\"}, \"colorscale\": [[0.0, \"#0d0887\"], [0.1111111111111111, \"#46039f\"], [0.2222222222222222, \"#7201a8\"], [0.3333333333333333, \"#9c179e\"], [0.4444444444444444, \"#bd3786\"], [0.5555555555555556, \"#d8576b\"], [0.6666666666666666, \"#ed7953\"], [0.7777777777777778, \"#fb9f3a\"], [0.8888888888888888, \"#fdca26\"], [1.0, \"#f0f921\"]], \"type\": \"histogram2d\"}], \"histogram2dcontour\": [{\"colorbar\": {\"outlinewidth\": 0, \"ticks\": \"\"}, \"colorscale\": [[0.0, \"#0d0887\"], [0.1111111111111111, \"#46039f\"], [0.2222222222222222, \"#7201a8\"], [0.3333333333333333, \"#9c179e\"], [0.4444444444444444, \"#bd3786\"], [0.5555555555555556, \"#d8576b\"], [0.6666666666666666, \"#ed7953\"], [0.7777777777777778, \"#fb9f3a\"], [0.8888888888888888, \"#fdca26\"], [1.0, \"#f0f921\"]], \"type\": \"histogram2dcontour\"}], \"mesh3d\": [{\"colorbar\": {\"outlinewidth\": 0, \"ticks\": \"\"}, \"type\": \"mesh3d\"}], \"parcoords\": [{\"line\": {\"colorbar\": {\"outlinewidth\": 0, \"ticks\": \"\"}}, \"type\": \"parcoords\"}], \"scatter\": [{\"marker\": {\"colorbar\": {\"outlinewidth\": 0, \"ticks\": \"\"}}, \"type\": \"scatter\"}], \"scatter3d\": [{\"line\": {\"colorbar\": {\"outlinewidth\": 0, \"ticks\": \"\"}}, \"marker\": {\"colorbar\": {\"outlinewidth\": 0, \"ticks\": \"\"}}, \"type\": \"scatter3d\"}], \"scattercarpet\": [{\"marker\": {\"colorbar\": {\"outlinewidth\": 0, \"ticks\": \"\"}}, \"type\": \"scattercarpet\"}], \"scattergeo\": [{\"marker\": {\"colorbar\": {\"outlinewidth\": 0, \"ticks\": \"\"}}, \"type\": \"scattergeo\"}], \"scattergl\": [{\"marker\": {\"colorbar\": {\"outlinewidth\": 0, \"ticks\": \"\"}}, \"type\": \"scattergl\"}], \"scattermapbox\": [{\"marker\": {\"colorbar\": {\"outlinewidth\": 0, \"ticks\": \"\"}}, \"type\": \"scattermapbox\"}], \"scatterpolar\": [{\"marker\": {\"colorbar\": {\"outlinewidth\": 0, \"ticks\": \"\"}}, \"type\": \"scatterpolar\"}], \"scatterpolargl\": [{\"marker\": {\"colorbar\": {\"outlinewidth\": 0, \"ticks\": \"\"}}, \"type\": \"scatterpolargl\"}], \"scatterternary\": [{\"marker\": {\"colorbar\": {\"outlinewidth\": 0, \"ticks\": \"\"}}, \"type\": \"scatterternary\"}], \"surface\": [{\"colorbar\": {\"outlinewidth\": 0, \"ticks\": \"\"}, \"colorscale\": [[0.0, \"#0d0887\"], [0.1111111111111111, \"#46039f\"], [0.2222222222222222, \"#7201a8\"], [0.3333333333333333, \"#9c179e\"], [0.4444444444444444, \"#bd3786\"], [0.5555555555555556, \"#d8576b\"], [0.6666666666666666, \"#ed7953\"], [0.7777777777777778, \"#fb9f3a\"], [0.8888888888888888, \"#fdca26\"], [1.0, \"#f0f921\"]], \"type\": \"surface\"}], \"table\": [{\"cells\": {\"fill\": {\"color\": \"#EBF0F8\"}, \"line\": {\"color\": \"white\"}}, \"header\": {\"fill\": {\"color\": \"#C8D4E3\"}, \"line\": {\"color\": \"white\"}}, \"type\": \"table\"}]}, \"layout\": {\"annotationdefaults\": {\"arrowcolor\": \"#2a3f5f\", \"arrowhead\": 0, \"arrowwidth\": 1}, \"colorscale\": {\"diverging\": [[0, \"#8e0152\"], [0.1, \"#c51b7d\"], [0.2, \"#de77ae\"], [0.3, \"#f1b6da\"], [0.4, \"#fde0ef\"], [0.5, \"#f7f7f7\"], [0.6, \"#e6f5d0\"], [0.7, \"#b8e186\"], [0.8, \"#7fbc41\"], [0.9, \"#4d9221\"], [1, \"#276419\"]], \"sequential\": [[0.0, \"#0d0887\"], [0.1111111111111111, \"#46039f\"], [0.2222222222222222, \"#7201a8\"], [0.3333333333333333, \"#9c179e\"], [0.4444444444444444, \"#bd3786\"], [0.5555555555555556, \"#d8576b\"], [0.6666666666666666, \"#ed7953\"], [0.7777777777777778, \"#fb9f3a\"], [0.8888888888888888, \"#fdca26\"], [1.0, \"#f0f921\"]], \"sequentialminus\": [[0.0, \"#0d0887\"], [0.1111111111111111, \"#46039f\"], [0.2222222222222222, \"#7201a8\"], [0.3333333333333333, \"#9c179e\"], [0.4444444444444444, \"#bd3786\"], [0.5555555555555556, \"#d8576b\"], [0.6666666666666666, \"#ed7953\"], [0.7777777777777778, \"#fb9f3a\"], [0.8888888888888888, \"#fdca26\"], [1.0, \"#f0f921\"]]}, \"colorway\": [\"#636efa\", \"#EF553B\", \"#00cc96\", \"#ab63fa\", \"#FFA15A\", \"#19d3f3\", \"#FF6692\", \"#B6E880\", \"#FF97FF\", \"#FECB52\"], \"font\": {\"color\": \"#2a3f5f\"}, \"geo\": {\"bgcolor\": \"white\", \"lakecolor\": \"white\", \"landcolor\": \"#E5ECF6\", \"showlakes\": true, \"showland\": true, \"subunitcolor\": \"white\"}, \"hoverlabel\": {\"align\": \"left\"}, \"hovermode\": \"closest\", \"mapbox\": {\"style\": \"light\"}, \"paper_bgcolor\": \"white\", \"plot_bgcolor\": \"#E5ECF6\", \"polar\": {\"angularaxis\": {\"gridcolor\": \"white\", \"linecolor\": \"white\", \"ticks\": \"\"}, \"bgcolor\": \"#E5ECF6\", \"radialaxis\": {\"gridcolor\": \"white\", \"linecolor\": \"white\", \"ticks\": \"\"}}, \"scene\": {\"xaxis\": {\"backgroundcolor\": \"#E5ECF6\", \"gridcolor\": \"white\", \"gridwidth\": 2, \"linecolor\": \"white\", \"showbackground\": true, \"ticks\": \"\", \"zerolinecolor\": \"white\"}, \"yaxis\": {\"backgroundcolor\": \"#E5ECF6\", \"gridcolor\": \"white\", \"gridwidth\": 2, \"linecolor\": \"white\", \"showbackground\": true, \"ticks\": \"\", \"zerolinecolor\": \"white\"}, \"zaxis\": {\"backgroundcolor\": \"#E5ECF6\", \"gridcolor\": \"white\", \"gridwidth\": 2, \"linecolor\": \"white\", \"showbackground\": true, \"ticks\": \"\", \"zerolinecolor\": \"white\"}}, \"shapedefaults\": {\"line\": {\"color\": \"#2a3f5f\"}}, \"ternary\": {\"aaxis\": {\"gridcolor\": \"white\", \"linecolor\": \"white\", \"ticks\": \"\"}, \"baxis\": {\"gridcolor\": \"white\", \"linecolor\": \"white\", \"ticks\": \"\"}, \"bgcolor\": \"#E5ECF6\", \"caxis\": {\"gridcolor\": \"white\", \"linecolor\": \"white\", \"ticks\": \"\"}}, \"title\": {\"x\": 0.05}, \"xaxis\": {\"automargin\": true, \"gridcolor\": \"white\", \"linecolor\": \"white\", \"ticks\": \"\", \"zerolinecolor\": \"white\", \"zerolinewidth\": 2}, \"yaxis\": {\"automargin\": true, \"gridcolor\": \"white\", \"linecolor\": \"white\", \"ticks\": \"\", \"zerolinecolor\": \"white\", \"zerolinewidth\": 2}}}, \"title\": {\"text\": \"People Having laptop or/not\"}, \"xaxis\": {\"linecolor\": \"black\", \"linewidth\": 2, \"mirror\": true, \"showline\": true, \"showticklabels\": true, \"tickangle\": 45, \"tickfont\": {\"color\": \"red\", \"size\": 10}, \"title\": {\"text\": \"Laptop\"}, \"zeroline\": true, \"zerolinecolor\": \"grey\", \"zerolinewidth\": 1}, \"yaxis\": {\"gridcolor\": \"lightgrey\", \"linecolor\": \"black\", \"linewidth\": 2, \"mirror\": true, \"showline\": true, \"title\": {\"text\": \"No. of laptops\"}, \"zeroline\": true, \"zerolinecolor\": \"grey\", \"zerolinewidth\": 1}},\n",
       "                        {\"responsive\": true}\n",
       "                    ).then(function(){\n",
       "                            \n",
       "var gd = document.getElementById('e3312830-2a3f-4385-ac8e-4bf2dd3f0b14');\n",
       "var x = new MutationObserver(function (mutations, observer) {{\n",
       "        var display = window.getComputedStyle(gd).display;\n",
       "        if (!display || display === 'none') {{\n",
       "            console.log([gd, 'removed!']);\n",
       "            Plotly.purge(gd);\n",
       "            observer.disconnect();\n",
       "        }}\n",
       "}});\n",
       "\n",
       "// Listen for the removal of the full notebook cells\n",
       "var notebookContainer = gd.closest('#notebook-container');\n",
       "if (notebookContainer) {{\n",
       "    x.observe(notebookContainer, {childList: true});\n",
       "}}\n",
       "\n",
       "// Listen for the clearing of the current output cell\n",
       "var outputEl = gd.closest('.output');\n",
       "if (outputEl) {{\n",
       "    x.observe(outputEl, {childList: true});\n",
       "}}\n",
       "\n",
       "                        })\n",
       "                };\n",
       "                });\n",
       "            </script>\n",
       "        </div>"
      ]
     },
     "metadata": {},
     "output_type": "display_data"
    }
   ],
   "source": [
    "laptop_counts=df['People having laptop '].value_counts()\n",
    "dj=laptop_counts\n",
    "hh=df.drop_duplicates(subset=['People having laptop '],keep='first')\n",
    "draw_trace_bar(hh,'People having laptop ',dj,\"People Having laptop or/not\",\"Laptop\",\"No. of laptops\",\"purple\")\n"
   ]
  },
  {
   "cell_type": "markdown",
   "metadata": {},
   "source": [
    "727 people had laptops and 194 people did not have laptops and 1 people owned a system"
   ]
  },
  {
   "cell_type": "code",
   "execution_count": 114,
   "metadata": {},
   "outputs": [
    {
     "data": {
      "text/plain": [
       "Index(['Unnamed: 0', 'Time Stamp ', 'Name of the candidate ', 'College name ',\n",
       "       'Brach ', 'People having laptop ', 'Souce of communication ',\n",
       "       'Country '],\n",
       "      dtype='object')"
      ]
     },
     "execution_count": 114,
     "metadata": {},
     "output_type": "execute_result"
    }
   ],
   "source": [
    "df.columns"
   ]
  },
  {
   "cell_type": "code",
   "execution_count": 115,
   "metadata": {},
   "outputs": [
    {
     "data": {
      "text/html": [
       "<div>\n",
       "<style scoped>\n",
       "    .dataframe tbody tr th:only-of-type {\n",
       "        vertical-align: middle;\n",
       "    }\n",
       "\n",
       "    .dataframe tbody tr th {\n",
       "        vertical-align: top;\n",
       "    }\n",
       "\n",
       "    .dataframe thead th {\n",
       "        text-align: right;\n",
       "    }\n",
       "</style>\n",
       "<table border=\"1\" class=\"dataframe\">\n",
       "  <thead>\n",
       "    <tr style=\"text-align: right;\">\n",
       "      <th></th>\n",
       "      <th>College name</th>\n",
       "      <th>Brach</th>\n",
       "      <th>Country</th>\n",
       "    </tr>\n",
       "    <tr>\n",
       "      <th>People having laptop</th>\n",
       "      <th></th>\n",
       "      <th></th>\n",
       "      <th></th>\n",
       "    </tr>\n",
       "  </thead>\n",
       "  <tbody>\n",
       "    <tr>\n",
       "      <th>No</th>\n",
       "      <td>J.K College</td>\n",
       "      <td>B.Com (H)</td>\n",
       "      <td>India</td>\n",
       "    </tr>\n",
       "    <tr>\n",
       "      <th>No</th>\n",
       "      <td>Global Nature Care Sangathan Group Of Institut...</td>\n",
       "      <td>Civil Engineering</td>\n",
       "      <td>India</td>\n",
       "    </tr>\n",
       "    <tr>\n",
       "      <th>No</th>\n",
       "      <td>Purulia zilla school</td>\n",
       "      <td>Atrs</td>\n",
       "      <td>India</td>\n",
       "    </tr>\n",
       "    <tr>\n",
       "      <th>No</th>\n",
       "      <td>Ramakrishna Mission Shilpapitha</td>\n",
       "      <td>Electronics and telecommunication</td>\n",
       "      <td>India</td>\n",
       "    </tr>\n",
       "    <tr>\n",
       "      <th>No</th>\n",
       "      <td>Viswass school &amp; college of nursing</td>\n",
       "      <td>B.sc nursing</td>\n",
       "      <td>India</td>\n",
       "    </tr>\n",
       "    <tr>\n",
       "      <th>...</th>\n",
       "      <td>...</td>\n",
       "      <td>...</td>\n",
       "      <td>...</td>\n",
       "    </tr>\n",
       "    <tr>\n",
       "      <th>No</th>\n",
       "      <td>Maulana azad college</td>\n",
       "      <td>Honors (BSC/MSC)</td>\n",
       "      <td>0</td>\n",
       "    </tr>\n",
       "    <tr>\n",
       "      <th>No</th>\n",
       "      <td>Maulana Azad College</td>\n",
       "      <td>Honors (BSC/MSC)</td>\n",
       "      <td>0</td>\n",
       "    </tr>\n",
       "    <tr>\n",
       "      <th>No</th>\n",
       "      <td>Maulana Azad College</td>\n",
       "      <td>Honors (BSC/MSC)</td>\n",
       "      <td>0</td>\n",
       "    </tr>\n",
       "    <tr>\n",
       "      <th>No</th>\n",
       "      <td>Maulana Azad College</td>\n",
       "      <td>Honors (BSC/MSC)</td>\n",
       "      <td>0</td>\n",
       "    </tr>\n",
       "    <tr>\n",
       "      <th>No</th>\n",
       "      <td>Maulona Azad College</td>\n",
       "      <td>Honors (BSC/MSC)</td>\n",
       "      <td>0</td>\n",
       "    </tr>\n",
       "  </tbody>\n",
       "</table>\n",
       "<p>194 rows × 3 columns</p>\n",
       "</div>"
      ],
      "text/plain": [
       "                                                           College name   \\\n",
       "People having laptop                                                       \n",
       "No                                                           J.K College   \n",
       "No                     Global Nature Care Sangathan Group Of Institut...   \n",
       "No                                                 Purulia zilla school    \n",
       "No                                       Ramakrishna Mission Shilpapitha   \n",
       "No                                   Viswass school & college of nursing   \n",
       "...                                                                  ...   \n",
       "No                                                 Maulana azad college    \n",
       "No                                                 Maulana Azad College    \n",
       "No                                                  Maulana Azad College   \n",
       "No                                                  Maulana Azad College   \n",
       "No                                                  Maulona Azad College   \n",
       "\n",
       "                                                  Brach  Country   \n",
       "People having laptop                                               \n",
       "No                                             B.Com (H)    India  \n",
       "No                                     Civil Engineering    India  \n",
       "No                                                  Atrs    India  \n",
       "No                     Electronics and telecommunication    India  \n",
       "No                                          B.sc nursing    India  \n",
       "...                                                  ...      ...  \n",
       "No                                      Honors (BSC/MSC)        0  \n",
       "No                                      Honors (BSC/MSC)        0  \n",
       "No                                      Honors (BSC/MSC)        0  \n",
       "No                                      Honors (BSC/MSC)        0  \n",
       "No                                      Honors (BSC/MSC)        0  \n",
       "\n",
       "[194 rows x 3 columns]"
      ]
     },
     "execution_count": 115,
     "metadata": {},
     "output_type": "execute_result"
    }
   ],
   "source": [
    "ff=df.loc[df['People having laptop ']=='No']\n",
    "ff.drop(['Unnamed: 0', 'Time Stamp ', 'Name of the candidate ','Souce of communication '],axis=1,inplace=True)\n",
    "ff.set_index('People having laptop ')"
   ]
  },
  {
   "cell_type": "markdown",
   "metadata": {},
   "source": [
    "The above data set shows the college name,branch,country of students having no laptops."
   ]
  },
  {
   "cell_type": "code",
   "execution_count": 116,
   "metadata": {},
   "outputs": [
    {
     "data": {
      "application/vnd.plotly.v1+json": {
       "config": {
        "linkText": "Export to plot.ly",
        "plotlyServerURL": "https://plot.ly",
        "showLink": false
       },
       "data": [
        {
         "marker": {
          "color": "purple"
         },
         "text": [
          "Facebook ",
          "Friend",
          "Rohan Rakshit",
          "Rajeswari pal",
          "Freind",
          "Via WhatsApp message of one of my friend",
          "Social media",
          "Facebook",
          "Friends",
          "Rohan",
          "A Friend",
          "Friend ",
          "WhatsApp group",
          "Rajeswari  pal",
          "TM sir Group ",
          "Sanghamitra Majumdar",
          "From my friend Rupsa",
          "Online",
          "College, HOD ",
          "Whatsapp",
          "email",
          "Tuition batch",
          "From friends circle",
          "Tulshi Sir",
          "Subhra roy",
          "College",
          "Whatsapp ",
          "From my statistics teacher.",
          "Professor",
          "LinkedIn",
          "Tuition teacher ",
          "A whatsapp group",
          "Whatsapp group",
          "From a friend",
          "A friend",
          "Nairanjana Sarkar",
          "Facebook event",
          "From a friend ",
          "Sister",
          "Sudip Nandi",
          "Social Media",
          "My friend told me",
          "Tuition group ",
          "Naser Abdullah Alam ",
          "Ankita Ghosh",
          "newspaper ",
          "Teacher",
          "Rajeshwari Pal",
          "Via friend ",
          "COLLEGE FRIEND",
          "Sanghamitra Majumder",
          "SANGHAMITRA MAJUMDER",
          "EDC, Diatm",
          "A status was posted by a senior of my dept.Seeing this I would like to ",
          "Through a friend",
          "Tulsidas Mukherjee ",
          "My friend ",
          "From tuition",
          "My College Friend",
          "From classmate ",
          "HOD of our college's statistics department, PP sir",
          "facebook",
          "Jobs for nsuers",
          "Jobs  for nsuers",
          "Facebook post ",
          " college Senior",
          "Nairanjana sarkar",
          "fb",
          "Facebook group",
          "Debarchan Mukherjee",
          "Friend circle",
          "My niece",
          "University friend ",
          "Comilla University   ",
          "Fried",
          "TEACHERS",
          "Softanbees free boot camp program",
          "By a friend",
          "Subham sah/Manish Kumar",
          "Facebook Groups",
          "My friend",
          "College whatsapp group",
          "Krisnomita Banerjee",
          "From my friend",
          "WhatsApp Group",
          "friend",
          "Professor ",
          "Whatsapp group ",
          "Cse/eee group Bangladesh ",
          "Friends ",
          "Krishnamita Banerjee",
          "By college",
          "Get notified through friends",
          "My Friend",
          "Fb",
          "I find this program via facebook event. ",
          "Facebook post from a classmate",
          "Facebook Event",
          "Fb ",
          "MD. Rezwan Hosaain Naeem",
          "Facebook job group page ",
          "Pritama Roy",
          "Dont know",
          "One of my teacher told me about this",
          "WhatsApp ",
          "Snehashis Debnath",
          "Whatsapp Group ",
          "Source of reference ",
          "From friends",
          "Facebook Ads",
          "From a Friend",
          "Through a friend ",
          "DIATM collage",
          "Tulsidas Sir",
          "WhatsApp link",
          "College Friends",
          "Through college",
          "friends",
          "I came to know about this from my friend",
          "Mail id",
          "College Friends ",
          "Instagram",
          "Friend's suggestions",
          "Surjo ghosh",
          "Nil",
          "Yes ",
          "No",
          "Email ",
          "Tution teacher prof Tulsidas Mukherjee",
          "From one of my friends who have joined this program ",
          "Group invite link",
          "Soumya Dutta",
          "Tutor",
          "Mail",
          "FRIEND",
          "Mr. Tulshi Das Mukherjee",
          "Frined",
          "Whatsapp chat",
          "Softanbees free boot camp program .",
          "Entrepreneurship Development Cell, DIATM",
          "Rittick Npti",
          "Whatsapp Group",
          "College Group",
          "Freinds",
          "FRIEND ",
          "One of my friends",
          "Via friend",
          "Lisha Ghosh ",
          "Watsapp",
          "Manish",
          "Tulshidas Mukhopadhyay,Kolkata",
          "Tulshidas Mukhopadhyay, Kolkata",
          "whatsapp group ",
          "Student of our Institution",
          "College WhatsApp group ",
          "Friend.",
          "Tution sir",
          "Soumya brata Mahapatra",
          "Facebook event ad",
          "whatapp group",
          "College group",
          "One of my friend ",
          "Link from a friend",
          "TDM sir",
          "From the college",
          "Monojit Saha",
          "Friends' suggestion   ",
          "Friend(Ankita Ghosh)",
          "Internet",
          "WhatsApp",
          "Ftiend",
          "Other students",
          "College teacher informed us",
          "From the whatsapp group",
          "From whatsapp group",
          "Statistics tuition sir",
          "Statistics tuition sir (Tulsidas Mukherjee)",
          "One of my friends ",
          "Ritick Sarkar ",
          "Tuition sir",
          "E-Leader",
          "Tuition teacher",
          "From teachers",
          "Whats app group",
          "Tulsi Das Mukherjee",
          "What's app reference",
          "AIUB course solution",
          "Whatsapp group  ",
          "One of my friend informed me about this",
          "University faculty",
          "From varsity group ",
          "My friend...",
          "Deepa Mondal",
          "Facebook  ",
          "Ijaz Mahamud Fuad",
          "Frnd",
          "College faculties",
          "Tution Sir",
          "Link from friend",
          "Webminar",
          "College Campus",
          "college",
          "From teachers of our MCA department.",
          "COLLEGE",
          "Facebook page",
          "College facility",
          "College Faculty",
          "College teacher",
          "College ",
          "Department",
          "I got to know about this from my college's ma'am."
         ],
         "type": "bar",
         "x": [
          "Facebook ",
          "Friend",
          "Rohan Rakshit",
          "Rajeswari pal",
          "Freind",
          "Via WhatsApp message of one of my friend",
          "Social media",
          "Facebook",
          "Friends",
          "Rohan",
          "A Friend",
          "Friend ",
          "WhatsApp group",
          "Rajeswari  pal",
          "TM sir Group ",
          "Sanghamitra Majumdar",
          "From my friend Rupsa",
          "Online",
          "College, HOD ",
          "Whatsapp",
          "email",
          "Tuition batch",
          "From friends circle",
          "Tulshi Sir",
          "Subhra roy",
          "College",
          "Whatsapp ",
          "From my statistics teacher.",
          "Professor",
          "LinkedIn",
          "Tuition teacher ",
          "A whatsapp group",
          "Whatsapp group",
          "From a friend",
          "A friend",
          "Nairanjana Sarkar",
          "Facebook event",
          "From a friend ",
          "Sister",
          "Sudip Nandi",
          "Social Media",
          "My friend told me",
          "Tuition group ",
          "Naser Abdullah Alam ",
          "Ankita Ghosh",
          "newspaper ",
          "Teacher",
          "Rajeshwari Pal",
          "Via friend ",
          "COLLEGE FRIEND",
          "Sanghamitra Majumder",
          "SANGHAMITRA MAJUMDER",
          "EDC, Diatm",
          "A status was posted by a senior of my dept.Seeing this I would like to ",
          "Through a friend",
          "Tulsidas Mukherjee ",
          "My friend ",
          "From tuition",
          "My College Friend",
          "From classmate ",
          "HOD of our college's statistics department, PP sir",
          "facebook",
          "Jobs for nsuers",
          "Jobs  for nsuers",
          "Facebook post ",
          " college Senior",
          "Nairanjana sarkar",
          "fb",
          "Facebook group",
          "Debarchan Mukherjee",
          "Friend circle",
          "My niece",
          "University friend ",
          "Comilla University   ",
          "Fried",
          "TEACHERS",
          "Softanbees free boot camp program",
          "By a friend",
          "Subham sah/Manish Kumar",
          "Facebook Groups",
          "My friend",
          "College whatsapp group",
          "Krisnomita Banerjee",
          "From my friend",
          "WhatsApp Group",
          "friend",
          "Professor ",
          "Whatsapp group ",
          "Cse/eee group Bangladesh ",
          "Friends ",
          "Krishnamita Banerjee",
          "By college",
          "Get notified through friends",
          "My Friend",
          "Fb",
          "I find this program via facebook event. ",
          "Facebook post from a classmate",
          "Facebook Event",
          "Fb ",
          "MD. Rezwan Hosaain Naeem",
          "Facebook job group page ",
          "Pritama Roy",
          "Dont know",
          "One of my teacher told me about this",
          "WhatsApp ",
          "Snehashis Debnath",
          "Whatsapp Group ",
          "Source of reference ",
          "From friends",
          "Facebook Ads",
          "From a Friend",
          "Through a friend ",
          "DIATM collage",
          "Tulsidas Sir",
          "WhatsApp link",
          "College Friends",
          "Through college",
          "friends",
          "I came to know about this from my friend",
          "Mail id",
          "College Friends ",
          "Instagram",
          "Friend's suggestions",
          "Surjo ghosh",
          "Nil",
          "Yes ",
          "No",
          "Email ",
          "Tution teacher prof Tulsidas Mukherjee",
          "From one of my friends who have joined this program ",
          "Group invite link",
          "Soumya Dutta",
          "Tutor",
          "Mail",
          "FRIEND",
          "Mr. Tulshi Das Mukherjee",
          "Frined",
          "Whatsapp chat",
          "Softanbees free boot camp program .",
          "Entrepreneurship Development Cell, DIATM",
          "Rittick Npti",
          "Whatsapp Group",
          "College Group",
          "Freinds",
          "FRIEND ",
          "One of my friends",
          "Via friend",
          "Lisha Ghosh ",
          "Watsapp",
          "Manish",
          "Tulshidas Mukhopadhyay,Kolkata",
          "Tulshidas Mukhopadhyay, Kolkata",
          "whatsapp group ",
          "Student of our Institution",
          "College WhatsApp group ",
          "Friend.",
          "Tution sir",
          "Soumya brata Mahapatra",
          "Facebook event ad",
          "whatapp group",
          "College group",
          "One of my friend ",
          "Link from a friend",
          "TDM sir",
          "From the college",
          "Monojit Saha",
          "Friends' suggestion   ",
          "Friend(Ankita Ghosh)",
          "Internet",
          "WhatsApp",
          "Ftiend",
          "Other students",
          "College teacher informed us",
          "From the whatsapp group",
          "From whatsapp group",
          "Statistics tuition sir",
          "Statistics tuition sir (Tulsidas Mukherjee)",
          "One of my friends ",
          "Ritick Sarkar ",
          "Tuition sir",
          "E-Leader",
          "Tuition teacher",
          "From teachers",
          "Whats app group",
          "Tulsi Das Mukherjee",
          "What's app reference",
          "AIUB course solution",
          "Whatsapp group  ",
          "One of my friend informed me about this",
          "University faculty",
          "From varsity group ",
          "My friend...",
          "Deepa Mondal",
          "Facebook  ",
          "Ijaz Mahamud Fuad",
          "Frnd",
          "College faculties",
          "Tution Sir",
          "Link from friend",
          "Webminar",
          "College Campus",
          "college",
          "From teachers of our MCA department.",
          "COLLEGE",
          "Facebook page",
          "College facility",
          "College Faculty",
          "College teacher",
          "College ",
          "Department",
          "I got to know about this from my college's ma'am."
         ],
         "y": [
          66,
          27,
          26,
          18,
          11,
          10,
          9,
          6,
          6,
          5,
          4,
          4,
          4,
          4,
          3,
          3,
          3,
          3,
          3,
          3,
          3,
          3,
          2,
          2,
          2,
          2,
          2,
          2,
          2,
          2,
          2,
          2,
          2,
          2,
          2,
          2,
          2,
          2,
          2,
          2,
          2,
          1,
          1,
          1,
          1,
          1,
          1,
          1,
          1,
          1,
          1,
          1,
          1,
          1,
          1,
          1,
          1,
          1,
          1,
          1,
          1,
          1,
          1,
          1,
          1,
          1,
          1,
          1,
          1,
          1,
          1,
          1,
          1,
          1,
          1,
          1,
          1,
          1,
          1,
          1,
          1,
          1,
          1,
          1,
          1,
          1,
          1,
          1,
          1,
          1,
          1,
          1,
          1,
          1,
          1,
          1,
          1,
          1,
          1,
          1,
          1,
          1,
          1,
          1,
          1,
          1,
          1,
          1,
          1,
          1,
          1,
          1,
          1,
          1,
          1,
          1,
          1,
          1,
          1,
          1,
          1,
          1,
          1,
          1,
          1,
          1,
          1,
          1,
          1,
          1,
          1,
          1,
          1,
          1,
          1,
          1,
          1,
          1,
          1,
          1,
          1,
          1,
          1,
          1,
          1,
          1,
          1,
          1,
          1,
          1,
          1,
          1,
          1,
          1,
          1,
          1,
          1,
          1,
          1,
          1,
          1,
          1,
          1,
          1,
          1,
          1,
          1,
          1,
          1,
          1,
          1,
          1,
          1,
          1,
          1,
          1,
          1,
          1,
          1,
          1,
          1,
          1,
          1,
          1,
          1,
          1,
          1,
          1,
          1,
          1,
          1,
          1,
          1,
          1,
          1,
          1,
          1,
          1,
          1,
          1,
          1,
          1,
          1,
          1,
          1,
          1,
          1,
          1,
          1,
          1,
          1
         ]
        }
       ],
       "layout": {
        "hovermode": "closest",
        "paper_bgcolor": "rgba(0, 0, 0, 0)",
        "plot_bgcolor": "rgba(0, 0, 0, 0)",
        "template": {
         "data": {
          "bar": [
           {
            "error_x": {
             "color": "#2a3f5f"
            },
            "error_y": {
             "color": "#2a3f5f"
            },
            "marker": {
             "line": {
              "color": "#E5ECF6",
              "width": 0.5
             }
            },
            "type": "bar"
           }
          ],
          "barpolar": [
           {
            "marker": {
             "line": {
              "color": "#E5ECF6",
              "width": 0.5
             }
            },
            "type": "barpolar"
           }
          ],
          "carpet": [
           {
            "aaxis": {
             "endlinecolor": "#2a3f5f",
             "gridcolor": "white",
             "linecolor": "white",
             "minorgridcolor": "white",
             "startlinecolor": "#2a3f5f"
            },
            "baxis": {
             "endlinecolor": "#2a3f5f",
             "gridcolor": "white",
             "linecolor": "white",
             "minorgridcolor": "white",
             "startlinecolor": "#2a3f5f"
            },
            "type": "carpet"
           }
          ],
          "choropleth": [
           {
            "colorbar": {
             "outlinewidth": 0,
             "ticks": ""
            },
            "type": "choropleth"
           }
          ],
          "contour": [
           {
            "colorbar": {
             "outlinewidth": 0,
             "ticks": ""
            },
            "colorscale": [
             [
              0,
              "#0d0887"
             ],
             [
              0.1111111111111111,
              "#46039f"
             ],
             [
              0.2222222222222222,
              "#7201a8"
             ],
             [
              0.3333333333333333,
              "#9c179e"
             ],
             [
              0.4444444444444444,
              "#bd3786"
             ],
             [
              0.5555555555555556,
              "#d8576b"
             ],
             [
              0.6666666666666666,
              "#ed7953"
             ],
             [
              0.7777777777777778,
              "#fb9f3a"
             ],
             [
              0.8888888888888888,
              "#fdca26"
             ],
             [
              1,
              "#f0f921"
             ]
            ],
            "type": "contour"
           }
          ],
          "contourcarpet": [
           {
            "colorbar": {
             "outlinewidth": 0,
             "ticks": ""
            },
            "type": "contourcarpet"
           }
          ],
          "heatmap": [
           {
            "colorbar": {
             "outlinewidth": 0,
             "ticks": ""
            },
            "colorscale": [
             [
              0,
              "#0d0887"
             ],
             [
              0.1111111111111111,
              "#46039f"
             ],
             [
              0.2222222222222222,
              "#7201a8"
             ],
             [
              0.3333333333333333,
              "#9c179e"
             ],
             [
              0.4444444444444444,
              "#bd3786"
             ],
             [
              0.5555555555555556,
              "#d8576b"
             ],
             [
              0.6666666666666666,
              "#ed7953"
             ],
             [
              0.7777777777777778,
              "#fb9f3a"
             ],
             [
              0.8888888888888888,
              "#fdca26"
             ],
             [
              1,
              "#f0f921"
             ]
            ],
            "type": "heatmap"
           }
          ],
          "heatmapgl": [
           {
            "colorbar": {
             "outlinewidth": 0,
             "ticks": ""
            },
            "colorscale": [
             [
              0,
              "#0d0887"
             ],
             [
              0.1111111111111111,
              "#46039f"
             ],
             [
              0.2222222222222222,
              "#7201a8"
             ],
             [
              0.3333333333333333,
              "#9c179e"
             ],
             [
              0.4444444444444444,
              "#bd3786"
             ],
             [
              0.5555555555555556,
              "#d8576b"
             ],
             [
              0.6666666666666666,
              "#ed7953"
             ],
             [
              0.7777777777777778,
              "#fb9f3a"
             ],
             [
              0.8888888888888888,
              "#fdca26"
             ],
             [
              1,
              "#f0f921"
             ]
            ],
            "type": "heatmapgl"
           }
          ],
          "histogram": [
           {
            "marker": {
             "colorbar": {
              "outlinewidth": 0,
              "ticks": ""
             }
            },
            "type": "histogram"
           }
          ],
          "histogram2d": [
           {
            "colorbar": {
             "outlinewidth": 0,
             "ticks": ""
            },
            "colorscale": [
             [
              0,
              "#0d0887"
             ],
             [
              0.1111111111111111,
              "#46039f"
             ],
             [
              0.2222222222222222,
              "#7201a8"
             ],
             [
              0.3333333333333333,
              "#9c179e"
             ],
             [
              0.4444444444444444,
              "#bd3786"
             ],
             [
              0.5555555555555556,
              "#d8576b"
             ],
             [
              0.6666666666666666,
              "#ed7953"
             ],
             [
              0.7777777777777778,
              "#fb9f3a"
             ],
             [
              0.8888888888888888,
              "#fdca26"
             ],
             [
              1,
              "#f0f921"
             ]
            ],
            "type": "histogram2d"
           }
          ],
          "histogram2dcontour": [
           {
            "colorbar": {
             "outlinewidth": 0,
             "ticks": ""
            },
            "colorscale": [
             [
              0,
              "#0d0887"
             ],
             [
              0.1111111111111111,
              "#46039f"
             ],
             [
              0.2222222222222222,
              "#7201a8"
             ],
             [
              0.3333333333333333,
              "#9c179e"
             ],
             [
              0.4444444444444444,
              "#bd3786"
             ],
             [
              0.5555555555555556,
              "#d8576b"
             ],
             [
              0.6666666666666666,
              "#ed7953"
             ],
             [
              0.7777777777777778,
              "#fb9f3a"
             ],
             [
              0.8888888888888888,
              "#fdca26"
             ],
             [
              1,
              "#f0f921"
             ]
            ],
            "type": "histogram2dcontour"
           }
          ],
          "mesh3d": [
           {
            "colorbar": {
             "outlinewidth": 0,
             "ticks": ""
            },
            "type": "mesh3d"
           }
          ],
          "parcoords": [
           {
            "line": {
             "colorbar": {
              "outlinewidth": 0,
              "ticks": ""
             }
            },
            "type": "parcoords"
           }
          ],
          "scatter": [
           {
            "marker": {
             "colorbar": {
              "outlinewidth": 0,
              "ticks": ""
             }
            },
            "type": "scatter"
           }
          ],
          "scatter3d": [
           {
            "line": {
             "colorbar": {
              "outlinewidth": 0,
              "ticks": ""
             }
            },
            "marker": {
             "colorbar": {
              "outlinewidth": 0,
              "ticks": ""
             }
            },
            "type": "scatter3d"
           }
          ],
          "scattercarpet": [
           {
            "marker": {
             "colorbar": {
              "outlinewidth": 0,
              "ticks": ""
             }
            },
            "type": "scattercarpet"
           }
          ],
          "scattergeo": [
           {
            "marker": {
             "colorbar": {
              "outlinewidth": 0,
              "ticks": ""
             }
            },
            "type": "scattergeo"
           }
          ],
          "scattergl": [
           {
            "marker": {
             "colorbar": {
              "outlinewidth": 0,
              "ticks": ""
             }
            },
            "type": "scattergl"
           }
          ],
          "scattermapbox": [
           {
            "marker": {
             "colorbar": {
              "outlinewidth": 0,
              "ticks": ""
             }
            },
            "type": "scattermapbox"
           }
          ],
          "scatterpolar": [
           {
            "marker": {
             "colorbar": {
              "outlinewidth": 0,
              "ticks": ""
             }
            },
            "type": "scatterpolar"
           }
          ],
          "scatterpolargl": [
           {
            "marker": {
             "colorbar": {
              "outlinewidth": 0,
              "ticks": ""
             }
            },
            "type": "scatterpolargl"
           }
          ],
          "scatterternary": [
           {
            "marker": {
             "colorbar": {
              "outlinewidth": 0,
              "ticks": ""
             }
            },
            "type": "scatterternary"
           }
          ],
          "surface": [
           {
            "colorbar": {
             "outlinewidth": 0,
             "ticks": ""
            },
            "colorscale": [
             [
              0,
              "#0d0887"
             ],
             [
              0.1111111111111111,
              "#46039f"
             ],
             [
              0.2222222222222222,
              "#7201a8"
             ],
             [
              0.3333333333333333,
              "#9c179e"
             ],
             [
              0.4444444444444444,
              "#bd3786"
             ],
             [
              0.5555555555555556,
              "#d8576b"
             ],
             [
              0.6666666666666666,
              "#ed7953"
             ],
             [
              0.7777777777777778,
              "#fb9f3a"
             ],
             [
              0.8888888888888888,
              "#fdca26"
             ],
             [
              1,
              "#f0f921"
             ]
            ],
            "type": "surface"
           }
          ],
          "table": [
           {
            "cells": {
             "fill": {
              "color": "#EBF0F8"
             },
             "line": {
              "color": "white"
             }
            },
            "header": {
             "fill": {
              "color": "#C8D4E3"
             },
             "line": {
              "color": "white"
             }
            },
            "type": "table"
           }
          ]
         },
         "layout": {
          "annotationdefaults": {
           "arrowcolor": "#2a3f5f",
           "arrowhead": 0,
           "arrowwidth": 1
          },
          "colorscale": {
           "diverging": [
            [
             0,
             "#8e0152"
            ],
            [
             0.1,
             "#c51b7d"
            ],
            [
             0.2,
             "#de77ae"
            ],
            [
             0.3,
             "#f1b6da"
            ],
            [
             0.4,
             "#fde0ef"
            ],
            [
             0.5,
             "#f7f7f7"
            ],
            [
             0.6,
             "#e6f5d0"
            ],
            [
             0.7,
             "#b8e186"
            ],
            [
             0.8,
             "#7fbc41"
            ],
            [
             0.9,
             "#4d9221"
            ],
            [
             1,
             "#276419"
            ]
           ],
           "sequential": [
            [
             0,
             "#0d0887"
            ],
            [
             0.1111111111111111,
             "#46039f"
            ],
            [
             0.2222222222222222,
             "#7201a8"
            ],
            [
             0.3333333333333333,
             "#9c179e"
            ],
            [
             0.4444444444444444,
             "#bd3786"
            ],
            [
             0.5555555555555556,
             "#d8576b"
            ],
            [
             0.6666666666666666,
             "#ed7953"
            ],
            [
             0.7777777777777778,
             "#fb9f3a"
            ],
            [
             0.8888888888888888,
             "#fdca26"
            ],
            [
             1,
             "#f0f921"
            ]
           ],
           "sequentialminus": [
            [
             0,
             "#0d0887"
            ],
            [
             0.1111111111111111,
             "#46039f"
            ],
            [
             0.2222222222222222,
             "#7201a8"
            ],
            [
             0.3333333333333333,
             "#9c179e"
            ],
            [
             0.4444444444444444,
             "#bd3786"
            ],
            [
             0.5555555555555556,
             "#d8576b"
            ],
            [
             0.6666666666666666,
             "#ed7953"
            ],
            [
             0.7777777777777778,
             "#fb9f3a"
            ],
            [
             0.8888888888888888,
             "#fdca26"
            ],
            [
             1,
             "#f0f921"
            ]
           ]
          },
          "colorway": [
           "#636efa",
           "#EF553B",
           "#00cc96",
           "#ab63fa",
           "#FFA15A",
           "#19d3f3",
           "#FF6692",
           "#B6E880",
           "#FF97FF",
           "#FECB52"
          ],
          "font": {
           "color": "#2a3f5f"
          },
          "geo": {
           "bgcolor": "white",
           "lakecolor": "white",
           "landcolor": "#E5ECF6",
           "showlakes": true,
           "showland": true,
           "subunitcolor": "white"
          },
          "hoverlabel": {
           "align": "left"
          },
          "hovermode": "closest",
          "mapbox": {
           "style": "light"
          },
          "paper_bgcolor": "white",
          "plot_bgcolor": "#E5ECF6",
          "polar": {
           "angularaxis": {
            "gridcolor": "white",
            "linecolor": "white",
            "ticks": ""
           },
           "bgcolor": "#E5ECF6",
           "radialaxis": {
            "gridcolor": "white",
            "linecolor": "white",
            "ticks": ""
           }
          },
          "scene": {
           "xaxis": {
            "backgroundcolor": "#E5ECF6",
            "gridcolor": "white",
            "gridwidth": 2,
            "linecolor": "white",
            "showbackground": true,
            "ticks": "",
            "zerolinecolor": "white"
           },
           "yaxis": {
            "backgroundcolor": "#E5ECF6",
            "gridcolor": "white",
            "gridwidth": 2,
            "linecolor": "white",
            "showbackground": true,
            "ticks": "",
            "zerolinecolor": "white"
           },
           "zaxis": {
            "backgroundcolor": "#E5ECF6",
            "gridcolor": "white",
            "gridwidth": 2,
            "linecolor": "white",
            "showbackground": true,
            "ticks": "",
            "zerolinecolor": "white"
           }
          },
          "shapedefaults": {
           "line": {
            "color": "#2a3f5f"
           }
          },
          "ternary": {
           "aaxis": {
            "gridcolor": "white",
            "linecolor": "white",
            "ticks": ""
           },
           "baxis": {
            "gridcolor": "white",
            "linecolor": "white",
            "ticks": ""
           },
           "bgcolor": "#E5ECF6",
           "caxis": {
            "gridcolor": "white",
            "linecolor": "white",
            "ticks": ""
           }
          },
          "title": {
           "x": 0.05
          },
          "xaxis": {
           "automargin": true,
           "gridcolor": "white",
           "linecolor": "white",
           "ticks": "",
           "zerolinecolor": "white",
           "zerolinewidth": 2
          },
          "yaxis": {
           "automargin": true,
           "gridcolor": "white",
           "linecolor": "white",
           "ticks": "",
           "zerolinecolor": "white",
           "zerolinewidth": 2
          }
         }
        },
        "title": {
         "text": "Communication Distribution"
        },
        "xaxis": {
         "linecolor": "black",
         "linewidth": 2,
         "mirror": true,
         "showline": true,
         "showticklabels": true,
         "tickangle": 45,
         "tickfont": {
          "color": "red",
          "size": 10
         },
         "title": {
          "text": "Source of communication "
         },
         "zeroline": true,
         "zerolinecolor": "grey",
         "zerolinewidth": 1
        },
        "yaxis": {
         "gridcolor": "lightgrey",
         "linecolor": "black",
         "linewidth": 2,
         "mirror": true,
         "showline": true,
         "title": {
          "text": "Frquency"
         },
         "zeroline": true,
         "zerolinecolor": "grey",
         "zerolinewidth": 1
        }
       }
      },
      "text/html": [
       "<div>\n",
       "        \n",
       "        \n",
       "            <div id=\"362aa3e6-1766-4083-80a3-b29768c981b6\" class=\"plotly-graph-div\" style=\"height:525px; width:100%;\"></div>\n",
       "            <script type=\"text/javascript\">\n",
       "                require([\"plotly\"], function(Plotly) {\n",
       "                    window.PLOTLYENV=window.PLOTLYENV || {};\n",
       "                    \n",
       "                if (document.getElementById(\"362aa3e6-1766-4083-80a3-b29768c981b6\")) {\n",
       "                    Plotly.newPlot(\n",
       "                        '362aa3e6-1766-4083-80a3-b29768c981b6',\n",
       "                        [{\"marker\": {\"color\": \"purple\"}, \"text\": [\"Facebook \", \"Friend\", \"Rohan Rakshit\", \"Rajeswari pal\", \"Freind\", \"Via WhatsApp message of one of my friend\", \"Social media\", \"Facebook\", \"Friends\", \"Rohan\", \"A Friend\", \"Friend \", \"WhatsApp group\", \"Rajeswari  pal\", \"TM sir Group \", \"Sanghamitra Majumdar\", \"From my friend Rupsa\", \"Online\", \"College, HOD \", \"Whatsapp\", \"email\", \"Tuition batch\", \"From friends circle\", \"Tulshi Sir\", \"Subhra roy\", \"College\", \"Whatsapp \", \"From my statistics teacher.\", \"Professor\", \"LinkedIn\", \"Tuition teacher \", \"A whatsapp group\", \"Whatsapp group\", \"From a friend\", \"A friend\", \"Nairanjana Sarkar\", \"Facebook event\", \"From a friend \", \"Sister\", \"Sudip Nandi\", \"Social Media\", \"My friend told me\", \"Tuition group \", \"Naser Abdullah Alam \", \"Ankita Ghosh\", \"newspaper \", \"Teacher\", \"Rajeshwari Pal\", \"Via friend \", \"COLLEGE FRIEND\", \"Sanghamitra Majumder\", \"SANGHAMITRA MAJUMDER\", \"EDC, Diatm\", \"A status was posted by a senior of my dept.Seeing this I would like to \", \"Through a friend\", \"Tulsidas Mukherjee \", \"My friend \", \"From tuition\", \"My College Friend\", \"From classmate \", \"HOD of our college's statistics department, PP sir\", \"facebook\", \"Jobs for nsuers\", \"Jobs  for nsuers\", \"Facebook post \", \" college Senior\", \"Nairanjana sarkar\", \"fb\", \"Facebook group\", \"Debarchan Mukherjee\", \"Friend circle\", \"My niece\", \"University friend \", \"Comilla University   \", \"Fried\", \"TEACHERS\", \"Softanbees free boot camp program\", \"By a friend\", \"Subham sah/Manish Kumar\", \"Facebook Groups\", \"My friend\", \"College whatsapp group\", \"Krisnomita Banerjee\", \"From my friend\", \"WhatsApp Group\", \"friend\", \"Professor \", \"Whatsapp group \", \"Cse/eee group Bangladesh \", \"Friends \", \"Krishnamita Banerjee\", \"By college\", \"Get notified through friends\", \"My Friend\", \"Fb\", \"I find this program via facebook event. \", \"Facebook post from a classmate\", \"Facebook Event\", \"Fb \", \"MD. Rezwan Hosaain Naeem\", \"Facebook job group page \", \"Pritama Roy\", \"Dont know\", \"One of my teacher told me about this\", \"WhatsApp \", \"Snehashis Debnath\", \"Whatsapp Group \", \"Source of reference \", \"From friends\", \"Facebook Ads\", \"From a Friend\", \"Through a friend \", \"DIATM collage\", \"Tulsidas Sir\", \"WhatsApp link\", \"College Friends\", \"Through college\", \"friends\", \"I came to know about this from my friend\", \"Mail id\", \"College Friends \", \"Instagram\", \"Friend's suggestions\", \"Surjo ghosh\", \"Nil\", \"Yes \", \"No\", \"Email \", \"Tution teacher prof Tulsidas Mukherjee\", \"From one of my friends who have joined this program \", \"Group invite link\", \"Soumya Dutta\", \"Tutor\", \"Mail\", \"FRIEND\", \"Mr. Tulshi Das Mukherjee\", \"Frined\", \"Whatsapp chat\", \"Softanbees free boot camp program .\", \"Entrepreneurship Development Cell, DIATM\", \"Rittick Npti\", \"Whatsapp Group\", \"College Group\", \"Freinds\", \"FRIEND \", \"One of my friends\", \"Via friend\", \"Lisha Ghosh \", \"Watsapp\", \"Manish\", \"Tulshidas Mukhopadhyay,Kolkata\", \"Tulshidas Mukhopadhyay, Kolkata\", \"whatsapp group \", \"Student of our Institution\", \"College WhatsApp group \", \"Friend.\", \"Tution sir\", \"Soumya brata Mahapatra\", \"Facebook event ad\", \"whatapp group\", \"College group\", \"One of my friend \", \"Link from a friend\", \"TDM sir\", \"From the college\", \"Monojit Saha\", \"Friends' suggestion   \", \"Friend(Ankita Ghosh)\", \"Internet\", \"WhatsApp\", \"Ftiend\", \"Other students\", \"College teacher informed us\", \"From the whatsapp group\", \"From whatsapp group\", \"Statistics tuition sir\", \"Statistics tuition sir (Tulsidas Mukherjee)\", \"One of my friends \", \"Ritick Sarkar \", \"Tuition sir\", \"E-Leader\", \"Tuition teacher\", \"From teachers\", \"Whats app group\", \"Tulsi Das Mukherjee\", \"What's app reference\", \"AIUB course solution\", \"Whatsapp group  \", \"One of my friend informed me about this\", \"University faculty\", \"From varsity group \", \"My friend...\", \"Deepa Mondal\", \"Facebook  \", \"Ijaz Mahamud Fuad\", \"Frnd\", \"College faculties\", \"Tution Sir\", \"Link from friend\", \"Webminar\", \"College Campus\", \"college\", \"From teachers of our MCA department.\", \"COLLEGE\", \"Facebook page\", \"College facility\", \"College Faculty\", \"College teacher\", \"College \", \"Department\", \"I got to know about this from my college's ma'am.\"], \"type\": \"bar\", \"x\": [\"Facebook \", \"Friend\", \"Rohan Rakshit\", \"Rajeswari pal\", \"Freind\", \"Via WhatsApp message of one of my friend\", \"Social media\", \"Facebook\", \"Friends\", \"Rohan\", \"A Friend\", \"Friend \", \"WhatsApp group\", \"Rajeswari  pal\", \"TM sir Group \", \"Sanghamitra Majumdar\", \"From my friend Rupsa\", \"Online\", \"College, HOD \", \"Whatsapp\", \"email\", \"Tuition batch\", \"From friends circle\", \"Tulshi Sir\", \"Subhra roy\", \"College\", \"Whatsapp \", \"From my statistics teacher.\", \"Professor\", \"LinkedIn\", \"Tuition teacher \", \"A whatsapp group\", \"Whatsapp group\", \"From a friend\", \"A friend\", \"Nairanjana Sarkar\", \"Facebook event\", \"From a friend \", \"Sister\", \"Sudip Nandi\", \"Social Media\", \"My friend told me\", \"Tuition group \", \"Naser Abdullah Alam \", \"Ankita Ghosh\", \"newspaper \", \"Teacher\", \"Rajeshwari Pal\", \"Via friend \", \"COLLEGE FRIEND\", \"Sanghamitra Majumder\", \"SANGHAMITRA MAJUMDER\", \"EDC, Diatm\", \"A status was posted by a senior of my dept.Seeing this I would like to \", \"Through a friend\", \"Tulsidas Mukherjee \", \"My friend \", \"From tuition\", \"My College Friend\", \"From classmate \", \"HOD of our college's statistics department, PP sir\", \"facebook\", \"Jobs for nsuers\", \"Jobs  for nsuers\", \"Facebook post \", \" college Senior\", \"Nairanjana sarkar\", \"fb\", \"Facebook group\", \"Debarchan Mukherjee\", \"Friend circle\", \"My niece\", \"University friend \", \"Comilla University   \", \"Fried\", \"TEACHERS\", \"Softanbees free boot camp program\", \"By a friend\", \"Subham sah/Manish Kumar\", \"Facebook Groups\", \"My friend\", \"College whatsapp group\", \"Krisnomita Banerjee\", \"From my friend\", \"WhatsApp Group\", \"friend\", \"Professor \", \"Whatsapp group \", \"Cse/eee group Bangladesh \", \"Friends \", \"Krishnamita Banerjee\", \"By college\", \"Get notified through friends\", \"My Friend\", \"Fb\", \"I find this program via facebook event. \", \"Facebook post from a classmate\", \"Facebook Event\", \"Fb \", \"MD. Rezwan Hosaain Naeem\", \"Facebook job group page \", \"Pritama Roy\", \"Dont know\", \"One of my teacher told me about this\", \"WhatsApp \", \"Snehashis Debnath\", \"Whatsapp Group \", \"Source of reference \", \"From friends\", \"Facebook Ads\", \"From a Friend\", \"Through a friend \", \"DIATM collage\", \"Tulsidas Sir\", \"WhatsApp link\", \"College Friends\", \"Through college\", \"friends\", \"I came to know about this from my friend\", \"Mail id\", \"College Friends \", \"Instagram\", \"Friend's suggestions\", \"Surjo ghosh\", \"Nil\", \"Yes \", \"No\", \"Email \", \"Tution teacher prof Tulsidas Mukherjee\", \"From one of my friends who have joined this program \", \"Group invite link\", \"Soumya Dutta\", \"Tutor\", \"Mail\", \"FRIEND\", \"Mr. Tulshi Das Mukherjee\", \"Frined\", \"Whatsapp chat\", \"Softanbees free boot camp program .\", \"Entrepreneurship Development Cell, DIATM\", \"Rittick Npti\", \"Whatsapp Group\", \"College Group\", \"Freinds\", \"FRIEND \", \"One of my friends\", \"Via friend\", \"Lisha Ghosh \", \"Watsapp\", \"Manish\", \"Tulshidas Mukhopadhyay,Kolkata\", \"Tulshidas Mukhopadhyay, Kolkata\", \"whatsapp group \", \"Student of our Institution\", \"College WhatsApp group \", \"Friend.\", \"Tution sir\", \"Soumya brata Mahapatra\", \"Facebook event ad\", \"whatapp group\", \"College group\", \"One of my friend \", \"Link from a friend\", \"TDM sir\", \"From the college\", \"Monojit Saha\", \"Friends' suggestion   \", \"Friend(Ankita Ghosh)\", \"Internet\", \"WhatsApp\", \"Ftiend\", \"Other students\", \"College teacher informed us\", \"From the whatsapp group\", \"From whatsapp group\", \"Statistics tuition sir\", \"Statistics tuition sir (Tulsidas Mukherjee)\", \"One of my friends \", \"Ritick Sarkar \", \"Tuition sir\", \"E-Leader\", \"Tuition teacher\", \"From teachers\", \"Whats app group\", \"Tulsi Das Mukherjee\", \"What's app reference\", \"AIUB course solution\", \"Whatsapp group  \", \"One of my friend informed me about this\", \"University faculty\", \"From varsity group \", \"My friend...\", \"Deepa Mondal\", \"Facebook  \", \"Ijaz Mahamud Fuad\", \"Frnd\", \"College faculties\", \"Tution Sir\", \"Link from friend\", \"Webminar\", \"College Campus\", \"college\", \"From teachers of our MCA department.\", \"COLLEGE\", \"Facebook page\", \"College facility\", \"College Faculty\", \"College teacher\", \"College \", \"Department\", \"I got to know about this from my college's ma'am.\"], \"y\": [66, 27, 26, 18, 11, 10, 9, 6, 6, 5, 4, 4, 4, 4, 3, 3, 3, 3, 3, 3, 3, 3, 2, 2, 2, 2, 2, 2, 2, 2, 2, 2, 2, 2, 2, 2, 2, 2, 2, 2, 2, 1, 1, 1, 1, 1, 1, 1, 1, 1, 1, 1, 1, 1, 1, 1, 1, 1, 1, 1, 1, 1, 1, 1, 1, 1, 1, 1, 1, 1, 1, 1, 1, 1, 1, 1, 1, 1, 1, 1, 1, 1, 1, 1, 1, 1, 1, 1, 1, 1, 1, 1, 1, 1, 1, 1, 1, 1, 1, 1, 1, 1, 1, 1, 1, 1, 1, 1, 1, 1, 1, 1, 1, 1, 1, 1, 1, 1, 1, 1, 1, 1, 1, 1, 1, 1, 1, 1, 1, 1, 1, 1, 1, 1, 1, 1, 1, 1, 1, 1, 1, 1, 1, 1, 1, 1, 1, 1, 1, 1, 1, 1, 1, 1, 1, 1, 1, 1, 1, 1, 1, 1, 1, 1, 1, 1, 1, 1, 1, 1, 1, 1, 1, 1, 1, 1, 1, 1, 1, 1, 1, 1, 1, 1, 1, 1, 1, 1, 1, 1, 1, 1, 1, 1, 1, 1, 1, 1, 1, 1, 1, 1, 1, 1, 1, 1, 1, 1, 1, 1, 1]}],\n",
       "                        {\"hovermode\": \"closest\", \"paper_bgcolor\": \"rgba(0, 0, 0, 0)\", \"plot_bgcolor\": \"rgba(0, 0, 0, 0)\", \"template\": {\"data\": {\"bar\": [{\"error_x\": {\"color\": \"#2a3f5f\"}, \"error_y\": {\"color\": \"#2a3f5f\"}, \"marker\": {\"line\": {\"color\": \"#E5ECF6\", \"width\": 0.5}}, \"type\": \"bar\"}], \"barpolar\": [{\"marker\": {\"line\": {\"color\": \"#E5ECF6\", \"width\": 0.5}}, \"type\": \"barpolar\"}], \"carpet\": [{\"aaxis\": {\"endlinecolor\": \"#2a3f5f\", \"gridcolor\": \"white\", \"linecolor\": \"white\", \"minorgridcolor\": \"white\", \"startlinecolor\": \"#2a3f5f\"}, \"baxis\": {\"endlinecolor\": \"#2a3f5f\", \"gridcolor\": \"white\", \"linecolor\": \"white\", \"minorgridcolor\": \"white\", \"startlinecolor\": \"#2a3f5f\"}, \"type\": \"carpet\"}], \"choropleth\": [{\"colorbar\": {\"outlinewidth\": 0, \"ticks\": \"\"}, \"type\": \"choropleth\"}], \"contour\": [{\"colorbar\": {\"outlinewidth\": 0, \"ticks\": \"\"}, \"colorscale\": [[0.0, \"#0d0887\"], [0.1111111111111111, \"#46039f\"], [0.2222222222222222, \"#7201a8\"], [0.3333333333333333, \"#9c179e\"], [0.4444444444444444, \"#bd3786\"], [0.5555555555555556, \"#d8576b\"], [0.6666666666666666, \"#ed7953\"], [0.7777777777777778, \"#fb9f3a\"], [0.8888888888888888, \"#fdca26\"], [1.0, \"#f0f921\"]], \"type\": \"contour\"}], \"contourcarpet\": [{\"colorbar\": {\"outlinewidth\": 0, \"ticks\": \"\"}, \"type\": \"contourcarpet\"}], \"heatmap\": [{\"colorbar\": {\"outlinewidth\": 0, \"ticks\": \"\"}, \"colorscale\": [[0.0, \"#0d0887\"], [0.1111111111111111, \"#46039f\"], [0.2222222222222222, \"#7201a8\"], [0.3333333333333333, \"#9c179e\"], [0.4444444444444444, \"#bd3786\"], [0.5555555555555556, \"#d8576b\"], [0.6666666666666666, \"#ed7953\"], [0.7777777777777778, \"#fb9f3a\"], [0.8888888888888888, \"#fdca26\"], [1.0, \"#f0f921\"]], \"type\": \"heatmap\"}], \"heatmapgl\": [{\"colorbar\": {\"outlinewidth\": 0, \"ticks\": \"\"}, \"colorscale\": [[0.0, \"#0d0887\"], [0.1111111111111111, \"#46039f\"], [0.2222222222222222, \"#7201a8\"], [0.3333333333333333, \"#9c179e\"], [0.4444444444444444, \"#bd3786\"], [0.5555555555555556, \"#d8576b\"], [0.6666666666666666, \"#ed7953\"], [0.7777777777777778, \"#fb9f3a\"], [0.8888888888888888, \"#fdca26\"], [1.0, \"#f0f921\"]], \"type\": \"heatmapgl\"}], \"histogram\": [{\"marker\": {\"colorbar\": {\"outlinewidth\": 0, \"ticks\": \"\"}}, \"type\": \"histogram\"}], \"histogram2d\": [{\"colorbar\": {\"outlinewidth\": 0, \"ticks\": \"\"}, \"colorscale\": [[0.0, \"#0d0887\"], [0.1111111111111111, \"#46039f\"], [0.2222222222222222, \"#7201a8\"], [0.3333333333333333, \"#9c179e\"], [0.4444444444444444, \"#bd3786\"], [0.5555555555555556, \"#d8576b\"], [0.6666666666666666, \"#ed7953\"], [0.7777777777777778, \"#fb9f3a\"], [0.8888888888888888, \"#fdca26\"], [1.0, \"#f0f921\"]], \"type\": \"histogram2d\"}], \"histogram2dcontour\": [{\"colorbar\": {\"outlinewidth\": 0, \"ticks\": \"\"}, \"colorscale\": [[0.0, \"#0d0887\"], [0.1111111111111111, \"#46039f\"], [0.2222222222222222, \"#7201a8\"], [0.3333333333333333, \"#9c179e\"], [0.4444444444444444, \"#bd3786\"], [0.5555555555555556, \"#d8576b\"], [0.6666666666666666, \"#ed7953\"], [0.7777777777777778, \"#fb9f3a\"], [0.8888888888888888, \"#fdca26\"], [1.0, \"#f0f921\"]], \"type\": \"histogram2dcontour\"}], \"mesh3d\": [{\"colorbar\": {\"outlinewidth\": 0, \"ticks\": \"\"}, \"type\": \"mesh3d\"}], \"parcoords\": [{\"line\": {\"colorbar\": {\"outlinewidth\": 0, \"ticks\": \"\"}}, \"type\": \"parcoords\"}], \"scatter\": [{\"marker\": {\"colorbar\": {\"outlinewidth\": 0, \"ticks\": \"\"}}, \"type\": \"scatter\"}], \"scatter3d\": [{\"line\": {\"colorbar\": {\"outlinewidth\": 0, \"ticks\": \"\"}}, \"marker\": {\"colorbar\": {\"outlinewidth\": 0, \"ticks\": \"\"}}, \"type\": \"scatter3d\"}], \"scattercarpet\": [{\"marker\": {\"colorbar\": {\"outlinewidth\": 0, \"ticks\": \"\"}}, \"type\": \"scattercarpet\"}], \"scattergeo\": [{\"marker\": {\"colorbar\": {\"outlinewidth\": 0, \"ticks\": \"\"}}, \"type\": \"scattergeo\"}], \"scattergl\": [{\"marker\": {\"colorbar\": {\"outlinewidth\": 0, \"ticks\": \"\"}}, \"type\": \"scattergl\"}], \"scattermapbox\": [{\"marker\": {\"colorbar\": {\"outlinewidth\": 0, \"ticks\": \"\"}}, \"type\": \"scattermapbox\"}], \"scatterpolar\": [{\"marker\": {\"colorbar\": {\"outlinewidth\": 0, \"ticks\": \"\"}}, \"type\": \"scatterpolar\"}], \"scatterpolargl\": [{\"marker\": {\"colorbar\": {\"outlinewidth\": 0, \"ticks\": \"\"}}, \"type\": \"scatterpolargl\"}], \"scatterternary\": [{\"marker\": {\"colorbar\": {\"outlinewidth\": 0, \"ticks\": \"\"}}, \"type\": \"scatterternary\"}], \"surface\": [{\"colorbar\": {\"outlinewidth\": 0, \"ticks\": \"\"}, \"colorscale\": [[0.0, \"#0d0887\"], [0.1111111111111111, \"#46039f\"], [0.2222222222222222, \"#7201a8\"], [0.3333333333333333, \"#9c179e\"], [0.4444444444444444, \"#bd3786\"], [0.5555555555555556, \"#d8576b\"], [0.6666666666666666, \"#ed7953\"], [0.7777777777777778, \"#fb9f3a\"], [0.8888888888888888, \"#fdca26\"], [1.0, \"#f0f921\"]], \"type\": \"surface\"}], \"table\": [{\"cells\": {\"fill\": {\"color\": \"#EBF0F8\"}, \"line\": {\"color\": \"white\"}}, \"header\": {\"fill\": {\"color\": \"#C8D4E3\"}, \"line\": {\"color\": \"white\"}}, \"type\": \"table\"}]}, \"layout\": {\"annotationdefaults\": {\"arrowcolor\": \"#2a3f5f\", \"arrowhead\": 0, \"arrowwidth\": 1}, \"colorscale\": {\"diverging\": [[0, \"#8e0152\"], [0.1, \"#c51b7d\"], [0.2, \"#de77ae\"], [0.3, \"#f1b6da\"], [0.4, \"#fde0ef\"], [0.5, \"#f7f7f7\"], [0.6, \"#e6f5d0\"], [0.7, \"#b8e186\"], [0.8, \"#7fbc41\"], [0.9, \"#4d9221\"], [1, \"#276419\"]], \"sequential\": [[0.0, \"#0d0887\"], [0.1111111111111111, \"#46039f\"], [0.2222222222222222, \"#7201a8\"], [0.3333333333333333, \"#9c179e\"], [0.4444444444444444, \"#bd3786\"], [0.5555555555555556, \"#d8576b\"], [0.6666666666666666, \"#ed7953\"], [0.7777777777777778, \"#fb9f3a\"], [0.8888888888888888, \"#fdca26\"], [1.0, \"#f0f921\"]], \"sequentialminus\": [[0.0, \"#0d0887\"], [0.1111111111111111, \"#46039f\"], [0.2222222222222222, \"#7201a8\"], [0.3333333333333333, \"#9c179e\"], [0.4444444444444444, \"#bd3786\"], [0.5555555555555556, \"#d8576b\"], [0.6666666666666666, \"#ed7953\"], [0.7777777777777778, \"#fb9f3a\"], [0.8888888888888888, \"#fdca26\"], [1.0, \"#f0f921\"]]}, \"colorway\": [\"#636efa\", \"#EF553B\", \"#00cc96\", \"#ab63fa\", \"#FFA15A\", \"#19d3f3\", \"#FF6692\", \"#B6E880\", \"#FF97FF\", \"#FECB52\"], \"font\": {\"color\": \"#2a3f5f\"}, \"geo\": {\"bgcolor\": \"white\", \"lakecolor\": \"white\", \"landcolor\": \"#E5ECF6\", \"showlakes\": true, \"showland\": true, \"subunitcolor\": \"white\"}, \"hoverlabel\": {\"align\": \"left\"}, \"hovermode\": \"closest\", \"mapbox\": {\"style\": \"light\"}, \"paper_bgcolor\": \"white\", \"plot_bgcolor\": \"#E5ECF6\", \"polar\": {\"angularaxis\": {\"gridcolor\": \"white\", \"linecolor\": \"white\", \"ticks\": \"\"}, \"bgcolor\": \"#E5ECF6\", \"radialaxis\": {\"gridcolor\": \"white\", \"linecolor\": \"white\", \"ticks\": \"\"}}, \"scene\": {\"xaxis\": {\"backgroundcolor\": \"#E5ECF6\", \"gridcolor\": \"white\", \"gridwidth\": 2, \"linecolor\": \"white\", \"showbackground\": true, \"ticks\": \"\", \"zerolinecolor\": \"white\"}, \"yaxis\": {\"backgroundcolor\": \"#E5ECF6\", \"gridcolor\": \"white\", \"gridwidth\": 2, \"linecolor\": \"white\", \"showbackground\": true, \"ticks\": \"\", \"zerolinecolor\": \"white\"}, \"zaxis\": {\"backgroundcolor\": \"#E5ECF6\", \"gridcolor\": \"white\", \"gridwidth\": 2, \"linecolor\": \"white\", \"showbackground\": true, \"ticks\": \"\", \"zerolinecolor\": \"white\"}}, \"shapedefaults\": {\"line\": {\"color\": \"#2a3f5f\"}}, \"ternary\": {\"aaxis\": {\"gridcolor\": \"white\", \"linecolor\": \"white\", \"ticks\": \"\"}, \"baxis\": {\"gridcolor\": \"white\", \"linecolor\": \"white\", \"ticks\": \"\"}, \"bgcolor\": \"#E5ECF6\", \"caxis\": {\"gridcolor\": \"white\", \"linecolor\": \"white\", \"ticks\": \"\"}}, \"title\": {\"x\": 0.05}, \"xaxis\": {\"automargin\": true, \"gridcolor\": \"white\", \"linecolor\": \"white\", \"ticks\": \"\", \"zerolinecolor\": \"white\", \"zerolinewidth\": 2}, \"yaxis\": {\"automargin\": true, \"gridcolor\": \"white\", \"linecolor\": \"white\", \"ticks\": \"\", \"zerolinecolor\": \"white\", \"zerolinewidth\": 2}}}, \"title\": {\"text\": \"Communication Distribution\"}, \"xaxis\": {\"linecolor\": \"black\", \"linewidth\": 2, \"mirror\": true, \"showline\": true, \"showticklabels\": true, \"tickangle\": 45, \"tickfont\": {\"color\": \"red\", \"size\": 10}, \"title\": {\"text\": \"Source of communication \"}, \"zeroline\": true, \"zerolinecolor\": \"grey\", \"zerolinewidth\": 1}, \"yaxis\": {\"gridcolor\": \"lightgrey\", \"linecolor\": \"black\", \"linewidth\": 2, \"mirror\": true, \"showline\": true, \"title\": {\"text\": \"Frquency\"}, \"zeroline\": true, \"zerolinecolor\": \"grey\", \"zerolinewidth\": 1}},\n",
       "                        {\"responsive\": true}\n",
       "                    ).then(function(){\n",
       "                            \n",
       "var gd = document.getElementById('362aa3e6-1766-4083-80a3-b29768c981b6');\n",
       "var x = new MutationObserver(function (mutations, observer) {{\n",
       "        var display = window.getComputedStyle(gd).display;\n",
       "        if (!display || display === 'none') {{\n",
       "            console.log([gd, 'removed!']);\n",
       "            Plotly.purge(gd);\n",
       "            observer.disconnect();\n",
       "        }}\n",
       "}});\n",
       "\n",
       "// Listen for the removal of the full notebook cells\n",
       "var notebookContainer = gd.closest('#notebook-container');\n",
       "if (notebookContainer) {{\n",
       "    x.observe(notebookContainer, {childList: true});\n",
       "}}\n",
       "\n",
       "// Listen for the clearing of the current output cell\n",
       "var outputEl = gd.closest('.output');\n",
       "if (outputEl) {{\n",
       "    x.observe(outputEl, {childList: true});\n",
       "}}\n",
       "\n",
       "                        })\n",
       "                };\n",
       "                });\n",
       "            </script>\n",
       "        </div>"
      ]
     },
     "metadata": {},
     "output_type": "display_data"
    }
   ],
   "source": [
    "data=pd.read_csv('D:\\study\\DATA SCIENENCE PROGRAMME\\Anik Sutradhar - free_session_information.csv')\n",
    "data.dropna(inplace=True,subset=['Souce of communication '])\n",
    "communication_counts=data['Souce of communication '].value_counts()\n",
    "dg=communication_counts\n",
    "gg=data.drop_duplicates(subset=['Souce of communication '],keep='first')\n",
    "draw_trace_bar(gg,'Souce of communication ',dg,'Communication Distribution','Source of communication ',\"Frquency\",\"purple\")"
   ]
  },
  {
   "cell_type": "markdown",
   "metadata": {},
   "source": [
    "Facebook is the winner of the all type of source of communication"
   ]
  },
  {
   "cell_type": "code",
   "execution_count": 117,
   "metadata": {},
   "outputs": [
    {
     "data": {
      "application/vnd.plotly.v1+json": {
       "config": {
        "plotlyServerURL": "https://plot.ly"
       },
       "data": [
        {
         "hoverinfo": "label+percent",
         "labels": [
          "Facebook ",
          "Friend",
          "Rohan Rakshit",
          "Rajeswari pal",
          "Freind",
          "Via WhatsApp message of one of my friend",
          "Social media",
          "Facebook",
          "Friends",
          "Rohan",
          "A Friend",
          "Friend ",
          "WhatsApp group",
          "Rajeswari  pal",
          "TM sir Group ",
          "Sanghamitra Majumdar",
          "From my friend Rupsa",
          "Online",
          "College, HOD ",
          "Whatsapp",
          "email",
          "Tuition batch",
          "From friends circle",
          "Tulshi Sir",
          "Subhra roy",
          "College",
          "Whatsapp ",
          "From my statistics teacher.",
          "Professor",
          "LinkedIn",
          "Tuition teacher ",
          "A whatsapp group",
          "Whatsapp group",
          "From a friend",
          "A friend",
          "Nairanjana Sarkar",
          "Facebook event",
          "From a friend ",
          "Sister",
          "Sudip Nandi",
          "Social Media",
          "My friend told me",
          "Tuition group ",
          "Naser Abdullah Alam ",
          "Ankita Ghosh",
          "newspaper ",
          "Teacher",
          "Rajeshwari Pal",
          "Via friend ",
          "COLLEGE FRIEND",
          "Sanghamitra Majumder",
          "SANGHAMITRA MAJUMDER",
          "EDC, Diatm",
          "A status was posted by a senior of my dept.Seeing this I would like to ",
          "Through a friend",
          "Tulsidas Mukherjee ",
          "My friend ",
          "From tuition",
          "My College Friend",
          "From classmate ",
          "HOD of our college's statistics department, PP sir",
          "facebook",
          "Jobs for nsuers",
          "Jobs  for nsuers",
          "Facebook post ",
          " college Senior",
          "Nairanjana sarkar",
          "fb",
          "Facebook group",
          "Debarchan Mukherjee",
          "Friend circle",
          "My niece",
          "University friend ",
          "Comilla University   ",
          "Fried",
          "TEACHERS",
          "Softanbees free boot camp program",
          "By a friend",
          "Subham sah/Manish Kumar",
          "Facebook Groups",
          "My friend",
          "College whatsapp group",
          "Krisnomita Banerjee",
          "From my friend",
          "WhatsApp Group",
          "friend",
          "Professor ",
          "Whatsapp group ",
          "Cse/eee group Bangladesh ",
          "Friends ",
          "Krishnamita Banerjee",
          "By college",
          "Get notified through friends",
          "My Friend",
          "Fb",
          "I find this program via facebook event. ",
          "Facebook post from a classmate",
          "Facebook Event",
          "Fb ",
          "MD. Rezwan Hosaain Naeem",
          "Facebook job group page ",
          "Pritama Roy",
          "Dont know",
          "One of my teacher told me about this",
          "WhatsApp ",
          "Snehashis Debnath",
          "Whatsapp Group ",
          "Source of reference ",
          "From friends",
          "Facebook Ads",
          "From a Friend",
          "Through a friend ",
          "DIATM collage",
          "Tulsidas Sir",
          "WhatsApp link",
          "College Friends",
          "Through college",
          "friends",
          "I came to know about this from my friend",
          "Mail id",
          "College Friends ",
          "Instagram",
          "Friend's suggestions",
          "Surjo ghosh",
          "Nil",
          "Yes ",
          "No",
          "Email ",
          "Tution teacher prof Tulsidas Mukherjee",
          "From one of my friends who have joined this program ",
          "Group invite link",
          "Soumya Dutta",
          "Tutor",
          "Mail",
          "FRIEND",
          "Mr. Tulshi Das Mukherjee",
          "Frined",
          "Whatsapp chat",
          "Softanbees free boot camp program .",
          "Entrepreneurship Development Cell, DIATM",
          "Rittick Npti",
          "Whatsapp Group",
          "College Group",
          "Freinds",
          "FRIEND ",
          "One of my friends",
          "Via friend",
          "Lisha Ghosh ",
          "Watsapp",
          "Manish",
          "Tulshidas Mukhopadhyay,Kolkata",
          "Tulshidas Mukhopadhyay, Kolkata",
          "whatsapp group ",
          "Student of our Institution",
          "College WhatsApp group ",
          "Friend.",
          "Tution sir",
          "Soumya brata Mahapatra",
          "Facebook event ad",
          "whatapp group",
          "College group",
          "One of my friend ",
          "Link from a friend",
          "TDM sir",
          "From the college",
          "Monojit Saha",
          "Friends' suggestion   ",
          "Friend(Ankita Ghosh)",
          "Internet",
          "WhatsApp",
          "Ftiend",
          "Other students",
          "College teacher informed us",
          "From the whatsapp group",
          "From whatsapp group",
          "Statistics tuition sir",
          "Statistics tuition sir (Tulsidas Mukherjee)",
          "One of my friends ",
          "Ritick Sarkar ",
          "Tuition sir",
          "E-Leader",
          "Tuition teacher",
          "From teachers",
          "Whats app group",
          "Tulsi Das Mukherjee",
          "What's app reference",
          "AIUB course solution",
          "Whatsapp group  ",
          "One of my friend informed me about this",
          "University faculty",
          "From varsity group ",
          "My friend...",
          "Deepa Mondal",
          "Facebook  ",
          "Ijaz Mahamud Fuad",
          "Frnd",
          "College faculties",
          "Tution Sir",
          "Link from friend",
          "Webminar",
          "College Campus",
          "college",
          "From teachers of our MCA department.",
          "COLLEGE",
          "Facebook page",
          "College facility",
          "College Faculty",
          "College teacher",
          "College ",
          "Department",
          "I got to know about this from my college's ma'am."
         ],
         "textfont": {
          "size": 10
         },
         "textinfo": "none",
         "type": "pie",
         "values": [
          66,
          27,
          26,
          18,
          11,
          10,
          9,
          6,
          6,
          5,
          4,
          4,
          4,
          4,
          3,
          3,
          3,
          3,
          3,
          3,
          3,
          3,
          2,
          2,
          2,
          2,
          2,
          2,
          2,
          2,
          2,
          2,
          2,
          2,
          2,
          2,
          2,
          2,
          2,
          2,
          2,
          1,
          1,
          1,
          1,
          1,
          1,
          1,
          1,
          1,
          1,
          1,
          1,
          1,
          1,
          1,
          1,
          1,
          1,
          1,
          1,
          1,
          1,
          1,
          1,
          1,
          1,
          1,
          1,
          1,
          1,
          1,
          1,
          1,
          1,
          1,
          1,
          1,
          1,
          1,
          1,
          1,
          1,
          1,
          1,
          1,
          1,
          1,
          1,
          1,
          1,
          1,
          1,
          1,
          1,
          1,
          1,
          1,
          1,
          1,
          1,
          1,
          1,
          1,
          1,
          1,
          1,
          1,
          1,
          1,
          1,
          1,
          1,
          1,
          1,
          1,
          1,
          1,
          1,
          1,
          1,
          1,
          1,
          1,
          1,
          1,
          1,
          1,
          1,
          1,
          1,
          1,
          1,
          1,
          1,
          1,
          1,
          1,
          1,
          1,
          1,
          1,
          1,
          1,
          1,
          1,
          1,
          1,
          1,
          1,
          1,
          1,
          1,
          1,
          1,
          1,
          1,
          1,
          1,
          1,
          1,
          1,
          1,
          1,
          1,
          1,
          1,
          1,
          1,
          1,
          1,
          1,
          1,
          1,
          1,
          1,
          1,
          1,
          1,
          1,
          1,
          1,
          1,
          1,
          1,
          1,
          1,
          1,
          1,
          1,
          1,
          1,
          1,
          1,
          1,
          1,
          1,
          1,
          1,
          1,
          1,
          1,
          1,
          1,
          1,
          1,
          1,
          1,
          1,
          1,
          1
         ]
        }
       ],
       "layout": {
        "template": {
         "data": {
          "bar": [
           {
            "error_x": {
             "color": "#2a3f5f"
            },
            "error_y": {
             "color": "#2a3f5f"
            },
            "marker": {
             "line": {
              "color": "#E5ECF6",
              "width": 0.5
             }
            },
            "type": "bar"
           }
          ],
          "barpolar": [
           {
            "marker": {
             "line": {
              "color": "#E5ECF6",
              "width": 0.5
             }
            },
            "type": "barpolar"
           }
          ],
          "carpet": [
           {
            "aaxis": {
             "endlinecolor": "#2a3f5f",
             "gridcolor": "white",
             "linecolor": "white",
             "minorgridcolor": "white",
             "startlinecolor": "#2a3f5f"
            },
            "baxis": {
             "endlinecolor": "#2a3f5f",
             "gridcolor": "white",
             "linecolor": "white",
             "minorgridcolor": "white",
             "startlinecolor": "#2a3f5f"
            },
            "type": "carpet"
           }
          ],
          "choropleth": [
           {
            "colorbar": {
             "outlinewidth": 0,
             "ticks": ""
            },
            "type": "choropleth"
           }
          ],
          "contour": [
           {
            "colorbar": {
             "outlinewidth": 0,
             "ticks": ""
            },
            "colorscale": [
             [
              0,
              "#0d0887"
             ],
             [
              0.1111111111111111,
              "#46039f"
             ],
             [
              0.2222222222222222,
              "#7201a8"
             ],
             [
              0.3333333333333333,
              "#9c179e"
             ],
             [
              0.4444444444444444,
              "#bd3786"
             ],
             [
              0.5555555555555556,
              "#d8576b"
             ],
             [
              0.6666666666666666,
              "#ed7953"
             ],
             [
              0.7777777777777778,
              "#fb9f3a"
             ],
             [
              0.8888888888888888,
              "#fdca26"
             ],
             [
              1,
              "#f0f921"
             ]
            ],
            "type": "contour"
           }
          ],
          "contourcarpet": [
           {
            "colorbar": {
             "outlinewidth": 0,
             "ticks": ""
            },
            "type": "contourcarpet"
           }
          ],
          "heatmap": [
           {
            "colorbar": {
             "outlinewidth": 0,
             "ticks": ""
            },
            "colorscale": [
             [
              0,
              "#0d0887"
             ],
             [
              0.1111111111111111,
              "#46039f"
             ],
             [
              0.2222222222222222,
              "#7201a8"
             ],
             [
              0.3333333333333333,
              "#9c179e"
             ],
             [
              0.4444444444444444,
              "#bd3786"
             ],
             [
              0.5555555555555556,
              "#d8576b"
             ],
             [
              0.6666666666666666,
              "#ed7953"
             ],
             [
              0.7777777777777778,
              "#fb9f3a"
             ],
             [
              0.8888888888888888,
              "#fdca26"
             ],
             [
              1,
              "#f0f921"
             ]
            ],
            "type": "heatmap"
           }
          ],
          "heatmapgl": [
           {
            "colorbar": {
             "outlinewidth": 0,
             "ticks": ""
            },
            "colorscale": [
             [
              0,
              "#0d0887"
             ],
             [
              0.1111111111111111,
              "#46039f"
             ],
             [
              0.2222222222222222,
              "#7201a8"
             ],
             [
              0.3333333333333333,
              "#9c179e"
             ],
             [
              0.4444444444444444,
              "#bd3786"
             ],
             [
              0.5555555555555556,
              "#d8576b"
             ],
             [
              0.6666666666666666,
              "#ed7953"
             ],
             [
              0.7777777777777778,
              "#fb9f3a"
             ],
             [
              0.8888888888888888,
              "#fdca26"
             ],
             [
              1,
              "#f0f921"
             ]
            ],
            "type": "heatmapgl"
           }
          ],
          "histogram": [
           {
            "marker": {
             "colorbar": {
              "outlinewidth": 0,
              "ticks": ""
             }
            },
            "type": "histogram"
           }
          ],
          "histogram2d": [
           {
            "colorbar": {
             "outlinewidth": 0,
             "ticks": ""
            },
            "colorscale": [
             [
              0,
              "#0d0887"
             ],
             [
              0.1111111111111111,
              "#46039f"
             ],
             [
              0.2222222222222222,
              "#7201a8"
             ],
             [
              0.3333333333333333,
              "#9c179e"
             ],
             [
              0.4444444444444444,
              "#bd3786"
             ],
             [
              0.5555555555555556,
              "#d8576b"
             ],
             [
              0.6666666666666666,
              "#ed7953"
             ],
             [
              0.7777777777777778,
              "#fb9f3a"
             ],
             [
              0.8888888888888888,
              "#fdca26"
             ],
             [
              1,
              "#f0f921"
             ]
            ],
            "type": "histogram2d"
           }
          ],
          "histogram2dcontour": [
           {
            "colorbar": {
             "outlinewidth": 0,
             "ticks": ""
            },
            "colorscale": [
             [
              0,
              "#0d0887"
             ],
             [
              0.1111111111111111,
              "#46039f"
             ],
             [
              0.2222222222222222,
              "#7201a8"
             ],
             [
              0.3333333333333333,
              "#9c179e"
             ],
             [
              0.4444444444444444,
              "#bd3786"
             ],
             [
              0.5555555555555556,
              "#d8576b"
             ],
             [
              0.6666666666666666,
              "#ed7953"
             ],
             [
              0.7777777777777778,
              "#fb9f3a"
             ],
             [
              0.8888888888888888,
              "#fdca26"
             ],
             [
              1,
              "#f0f921"
             ]
            ],
            "type": "histogram2dcontour"
           }
          ],
          "mesh3d": [
           {
            "colorbar": {
             "outlinewidth": 0,
             "ticks": ""
            },
            "type": "mesh3d"
           }
          ],
          "parcoords": [
           {
            "line": {
             "colorbar": {
              "outlinewidth": 0,
              "ticks": ""
             }
            },
            "type": "parcoords"
           }
          ],
          "scatter": [
           {
            "marker": {
             "colorbar": {
              "outlinewidth": 0,
              "ticks": ""
             }
            },
            "type": "scatter"
           }
          ],
          "scatter3d": [
           {
            "line": {
             "colorbar": {
              "outlinewidth": 0,
              "ticks": ""
             }
            },
            "marker": {
             "colorbar": {
              "outlinewidth": 0,
              "ticks": ""
             }
            },
            "type": "scatter3d"
           }
          ],
          "scattercarpet": [
           {
            "marker": {
             "colorbar": {
              "outlinewidth": 0,
              "ticks": ""
             }
            },
            "type": "scattercarpet"
           }
          ],
          "scattergeo": [
           {
            "marker": {
             "colorbar": {
              "outlinewidth": 0,
              "ticks": ""
             }
            },
            "type": "scattergeo"
           }
          ],
          "scattergl": [
           {
            "marker": {
             "colorbar": {
              "outlinewidth": 0,
              "ticks": ""
             }
            },
            "type": "scattergl"
           }
          ],
          "scattermapbox": [
           {
            "marker": {
             "colorbar": {
              "outlinewidth": 0,
              "ticks": ""
             }
            },
            "type": "scattermapbox"
           }
          ],
          "scatterpolar": [
           {
            "marker": {
             "colorbar": {
              "outlinewidth": 0,
              "ticks": ""
             }
            },
            "type": "scatterpolar"
           }
          ],
          "scatterpolargl": [
           {
            "marker": {
             "colorbar": {
              "outlinewidth": 0,
              "ticks": ""
             }
            },
            "type": "scatterpolargl"
           }
          ],
          "scatterternary": [
           {
            "marker": {
             "colorbar": {
              "outlinewidth": 0,
              "ticks": ""
             }
            },
            "type": "scatterternary"
           }
          ],
          "surface": [
           {
            "colorbar": {
             "outlinewidth": 0,
             "ticks": ""
            },
            "colorscale": [
             [
              0,
              "#0d0887"
             ],
             [
              0.1111111111111111,
              "#46039f"
             ],
             [
              0.2222222222222222,
              "#7201a8"
             ],
             [
              0.3333333333333333,
              "#9c179e"
             ],
             [
              0.4444444444444444,
              "#bd3786"
             ],
             [
              0.5555555555555556,
              "#d8576b"
             ],
             [
              0.6666666666666666,
              "#ed7953"
             ],
             [
              0.7777777777777778,
              "#fb9f3a"
             ],
             [
              0.8888888888888888,
              "#fdca26"
             ],
             [
              1,
              "#f0f921"
             ]
            ],
            "type": "surface"
           }
          ],
          "table": [
           {
            "cells": {
             "fill": {
              "color": "#EBF0F8"
             },
             "line": {
              "color": "white"
             }
            },
            "header": {
             "fill": {
              "color": "#C8D4E3"
             },
             "line": {
              "color": "white"
             }
            },
            "type": "table"
           }
          ]
         },
         "layout": {
          "annotationdefaults": {
           "arrowcolor": "#2a3f5f",
           "arrowhead": 0,
           "arrowwidth": 1
          },
          "colorscale": {
           "diverging": [
            [
             0,
             "#8e0152"
            ],
            [
             0.1,
             "#c51b7d"
            ],
            [
             0.2,
             "#de77ae"
            ],
            [
             0.3,
             "#f1b6da"
            ],
            [
             0.4,
             "#fde0ef"
            ],
            [
             0.5,
             "#f7f7f7"
            ],
            [
             0.6,
             "#e6f5d0"
            ],
            [
             0.7,
             "#b8e186"
            ],
            [
             0.8,
             "#7fbc41"
            ],
            [
             0.9,
             "#4d9221"
            ],
            [
             1,
             "#276419"
            ]
           ],
           "sequential": [
            [
             0,
             "#0d0887"
            ],
            [
             0.1111111111111111,
             "#46039f"
            ],
            [
             0.2222222222222222,
             "#7201a8"
            ],
            [
             0.3333333333333333,
             "#9c179e"
            ],
            [
             0.4444444444444444,
             "#bd3786"
            ],
            [
             0.5555555555555556,
             "#d8576b"
            ],
            [
             0.6666666666666666,
             "#ed7953"
            ],
            [
             0.7777777777777778,
             "#fb9f3a"
            ],
            [
             0.8888888888888888,
             "#fdca26"
            ],
            [
             1,
             "#f0f921"
            ]
           ],
           "sequentialminus": [
            [
             0,
             "#0d0887"
            ],
            [
             0.1111111111111111,
             "#46039f"
            ],
            [
             0.2222222222222222,
             "#7201a8"
            ],
            [
             0.3333333333333333,
             "#9c179e"
            ],
            [
             0.4444444444444444,
             "#bd3786"
            ],
            [
             0.5555555555555556,
             "#d8576b"
            ],
            [
             0.6666666666666666,
             "#ed7953"
            ],
            [
             0.7777777777777778,
             "#fb9f3a"
            ],
            [
             0.8888888888888888,
             "#fdca26"
            ],
            [
             1,
             "#f0f921"
            ]
           ]
          },
          "colorway": [
           "#636efa",
           "#EF553B",
           "#00cc96",
           "#ab63fa",
           "#FFA15A",
           "#19d3f3",
           "#FF6692",
           "#B6E880",
           "#FF97FF",
           "#FECB52"
          ],
          "font": {
           "color": "#2a3f5f"
          },
          "geo": {
           "bgcolor": "white",
           "lakecolor": "white",
           "landcolor": "#E5ECF6",
           "showlakes": true,
           "showland": true,
           "subunitcolor": "white"
          },
          "hoverlabel": {
           "align": "left"
          },
          "hovermode": "closest",
          "mapbox": {
           "style": "light"
          },
          "paper_bgcolor": "white",
          "plot_bgcolor": "#E5ECF6",
          "polar": {
           "angularaxis": {
            "gridcolor": "white",
            "linecolor": "white",
            "ticks": ""
           },
           "bgcolor": "#E5ECF6",
           "radialaxis": {
            "gridcolor": "white",
            "linecolor": "white",
            "ticks": ""
           }
          },
          "scene": {
           "xaxis": {
            "backgroundcolor": "#E5ECF6",
            "gridcolor": "white",
            "gridwidth": 2,
            "linecolor": "white",
            "showbackground": true,
            "ticks": "",
            "zerolinecolor": "white"
           },
           "yaxis": {
            "backgroundcolor": "#E5ECF6",
            "gridcolor": "white",
            "gridwidth": 2,
            "linecolor": "white",
            "showbackground": true,
            "ticks": "",
            "zerolinecolor": "white"
           },
           "zaxis": {
            "backgroundcolor": "#E5ECF6",
            "gridcolor": "white",
            "gridwidth": 2,
            "linecolor": "white",
            "showbackground": true,
            "ticks": "",
            "zerolinecolor": "white"
           }
          },
          "shapedefaults": {
           "line": {
            "color": "#2a3f5f"
           }
          },
          "ternary": {
           "aaxis": {
            "gridcolor": "white",
            "linecolor": "white",
            "ticks": ""
           },
           "baxis": {
            "gridcolor": "white",
            "linecolor": "white",
            "ticks": ""
           },
           "bgcolor": "#E5ECF6",
           "caxis": {
            "gridcolor": "white",
            "linecolor": "white",
            "ticks": ""
           }
          },
          "title": {
           "x": 0.05
          },
          "xaxis": {
           "automargin": true,
           "gridcolor": "white",
           "linecolor": "white",
           "ticks": "",
           "zerolinecolor": "white",
           "zerolinewidth": 2
          },
          "yaxis": {
           "automargin": true,
           "gridcolor": "white",
           "linecolor": "white",
           "ticks": "",
           "zerolinecolor": "white",
           "zerolinewidth": 2
          }
         }
        }
       }
      },
      "text/html": [
       "<div>\n",
       "        \n",
       "        \n",
       "            <div id=\"d56e017c-101a-4794-879d-a3612b6071af\" class=\"plotly-graph-div\" style=\"height:525px; width:100%;\"></div>\n",
       "            <script type=\"text/javascript\">\n",
       "                require([\"plotly\"], function(Plotly) {\n",
       "                    window.PLOTLYENV=window.PLOTLYENV || {};\n",
       "                    \n",
       "                if (document.getElementById(\"d56e017c-101a-4794-879d-a3612b6071af\")) {\n",
       "                    Plotly.newPlot(\n",
       "                        'd56e017c-101a-4794-879d-a3612b6071af',\n",
       "                        [{\"hoverinfo\": \"label+percent\", \"labels\": [\"Facebook \", \"Friend\", \"Rohan Rakshit\", \"Rajeswari pal\", \"Freind\", \"Via WhatsApp message of one of my friend\", \"Social media\", \"Facebook\", \"Friends\", \"Rohan\", \"A Friend\", \"Friend \", \"WhatsApp group\", \"Rajeswari  pal\", \"TM sir Group \", \"Sanghamitra Majumdar\", \"From my friend Rupsa\", \"Online\", \"College, HOD \", \"Whatsapp\", \"email\", \"Tuition batch\", \"From friends circle\", \"Tulshi Sir\", \"Subhra roy\", \"College\", \"Whatsapp \", \"From my statistics teacher.\", \"Professor\", \"LinkedIn\", \"Tuition teacher \", \"A whatsapp group\", \"Whatsapp group\", \"From a friend\", \"A friend\", \"Nairanjana Sarkar\", \"Facebook event\", \"From a friend \", \"Sister\", \"Sudip Nandi\", \"Social Media\", \"My friend told me\", \"Tuition group \", \"Naser Abdullah Alam \", \"Ankita Ghosh\", \"newspaper \", \"Teacher\", \"Rajeshwari Pal\", \"Via friend \", \"COLLEGE FRIEND\", \"Sanghamitra Majumder\", \"SANGHAMITRA MAJUMDER\", \"EDC, Diatm\", \"A status was posted by a senior of my dept.Seeing this I would like to \", \"Through a friend\", \"Tulsidas Mukherjee \", \"My friend \", \"From tuition\", \"My College Friend\", \"From classmate \", \"HOD of our college's statistics department, PP sir\", \"facebook\", \"Jobs for nsuers\", \"Jobs  for nsuers\", \"Facebook post \", \" college Senior\", \"Nairanjana sarkar\", \"fb\", \"Facebook group\", \"Debarchan Mukherjee\", \"Friend circle\", \"My niece\", \"University friend \", \"Comilla University   \", \"Fried\", \"TEACHERS\", \"Softanbees free boot camp program\", \"By a friend\", \"Subham sah/Manish Kumar\", \"Facebook Groups\", \"My friend\", \"College whatsapp group\", \"Krisnomita Banerjee\", \"From my friend\", \"WhatsApp Group\", \"friend\", \"Professor \", \"Whatsapp group \", \"Cse/eee group Bangladesh \", \"Friends \", \"Krishnamita Banerjee\", \"By college\", \"Get notified through friends\", \"My Friend\", \"Fb\", \"I find this program via facebook event. \", \"Facebook post from a classmate\", \"Facebook Event\", \"Fb \", \"MD. Rezwan Hosaain Naeem\", \"Facebook job group page \", \"Pritama Roy\", \"Dont know\", \"One of my teacher told me about this\", \"WhatsApp \", \"Snehashis Debnath\", \"Whatsapp Group \", \"Source of reference \", \"From friends\", \"Facebook Ads\", \"From a Friend\", \"Through a friend \", \"DIATM collage\", \"Tulsidas Sir\", \"WhatsApp link\", \"College Friends\", \"Through college\", \"friends\", \"I came to know about this from my friend\", \"Mail id\", \"College Friends \", \"Instagram\", \"Friend's suggestions\", \"Surjo ghosh\", \"Nil\", \"Yes \", \"No\", \"Email \", \"Tution teacher prof Tulsidas Mukherjee\", \"From one of my friends who have joined this program \", \"Group invite link\", \"Soumya Dutta\", \"Tutor\", \"Mail\", \"FRIEND\", \"Mr. Tulshi Das Mukherjee\", \"Frined\", \"Whatsapp chat\", \"Softanbees free boot camp program .\", \"Entrepreneurship Development Cell, DIATM\", \"Rittick Npti\", \"Whatsapp Group\", \"College Group\", \"Freinds\", \"FRIEND \", \"One of my friends\", \"Via friend\", \"Lisha Ghosh \", \"Watsapp\", \"Manish\", \"Tulshidas Mukhopadhyay,Kolkata\", \"Tulshidas Mukhopadhyay, Kolkata\", \"whatsapp group \", \"Student of our Institution\", \"College WhatsApp group \", \"Friend.\", \"Tution sir\", \"Soumya brata Mahapatra\", \"Facebook event ad\", \"whatapp group\", \"College group\", \"One of my friend \", \"Link from a friend\", \"TDM sir\", \"From the college\", \"Monojit Saha\", \"Friends' suggestion   \", \"Friend(Ankita Ghosh)\", \"Internet\", \"WhatsApp\", \"Ftiend\", \"Other students\", \"College teacher informed us\", \"From the whatsapp group\", \"From whatsapp group\", \"Statistics tuition sir\", \"Statistics tuition sir (Tulsidas Mukherjee)\", \"One of my friends \", \"Ritick Sarkar \", \"Tuition sir\", \"E-Leader\", \"Tuition teacher\", \"From teachers\", \"Whats app group\", \"Tulsi Das Mukherjee\", \"What's app reference\", \"AIUB course solution\", \"Whatsapp group  \", \"One of my friend informed me about this\", \"University faculty\", \"From varsity group \", \"My friend...\", \"Deepa Mondal\", \"Facebook  \", \"Ijaz Mahamud Fuad\", \"Frnd\", \"College faculties\", \"Tution Sir\", \"Link from friend\", \"Webminar\", \"College Campus\", \"college\", \"From teachers of our MCA department.\", \"COLLEGE\", \"Facebook page\", \"College facility\", \"College Faculty\", \"College teacher\", \"College \", \"Department\", \"I got to know about this from my college's ma'am.\"], \"textfont\": {\"size\": 10}, \"textinfo\": \"none\", \"type\": \"pie\", \"values\": [66, 27, 26, 18, 11, 10, 9, 6, 6, 5, 4, 4, 4, 4, 3, 3, 3, 3, 3, 3, 3, 3, 2, 2, 2, 2, 2, 2, 2, 2, 2, 2, 2, 2, 2, 2, 2, 2, 2, 2, 2, 1, 1, 1, 1, 1, 1, 1, 1, 1, 1, 1, 1, 1, 1, 1, 1, 1, 1, 1, 1, 1, 1, 1, 1, 1, 1, 1, 1, 1, 1, 1, 1, 1, 1, 1, 1, 1, 1, 1, 1, 1, 1, 1, 1, 1, 1, 1, 1, 1, 1, 1, 1, 1, 1, 1, 1, 1, 1, 1, 1, 1, 1, 1, 1, 1, 1, 1, 1, 1, 1, 1, 1, 1, 1, 1, 1, 1, 1, 1, 1, 1, 1, 1, 1, 1, 1, 1, 1, 1, 1, 1, 1, 1, 1, 1, 1, 1, 1, 1, 1, 1, 1, 1, 1, 1, 1, 1, 1, 1, 1, 1, 1, 1, 1, 1, 1, 1, 1, 1, 1, 1, 1, 1, 1, 1, 1, 1, 1, 1, 1, 1, 1, 1, 1, 1, 1, 1, 1, 1, 1, 1, 1, 1, 1, 1, 1, 1, 1, 1, 1, 1, 1, 1, 1, 1, 1, 1, 1, 1, 1, 1, 1, 1, 1, 1, 1, 1, 1, 1, 1]}],\n",
       "                        {\"template\": {\"data\": {\"bar\": [{\"error_x\": {\"color\": \"#2a3f5f\"}, \"error_y\": {\"color\": \"#2a3f5f\"}, \"marker\": {\"line\": {\"color\": \"#E5ECF6\", \"width\": 0.5}}, \"type\": \"bar\"}], \"barpolar\": [{\"marker\": {\"line\": {\"color\": \"#E5ECF6\", \"width\": 0.5}}, \"type\": \"barpolar\"}], \"carpet\": [{\"aaxis\": {\"endlinecolor\": \"#2a3f5f\", \"gridcolor\": \"white\", \"linecolor\": \"white\", \"minorgridcolor\": \"white\", \"startlinecolor\": \"#2a3f5f\"}, \"baxis\": {\"endlinecolor\": \"#2a3f5f\", \"gridcolor\": \"white\", \"linecolor\": \"white\", \"minorgridcolor\": \"white\", \"startlinecolor\": \"#2a3f5f\"}, \"type\": \"carpet\"}], \"choropleth\": [{\"colorbar\": {\"outlinewidth\": 0, \"ticks\": \"\"}, \"type\": \"choropleth\"}], \"contour\": [{\"colorbar\": {\"outlinewidth\": 0, \"ticks\": \"\"}, \"colorscale\": [[0.0, \"#0d0887\"], [0.1111111111111111, \"#46039f\"], [0.2222222222222222, \"#7201a8\"], [0.3333333333333333, \"#9c179e\"], [0.4444444444444444, \"#bd3786\"], [0.5555555555555556, \"#d8576b\"], [0.6666666666666666, \"#ed7953\"], [0.7777777777777778, \"#fb9f3a\"], [0.8888888888888888, \"#fdca26\"], [1.0, \"#f0f921\"]], \"type\": \"contour\"}], \"contourcarpet\": [{\"colorbar\": {\"outlinewidth\": 0, \"ticks\": \"\"}, \"type\": \"contourcarpet\"}], \"heatmap\": [{\"colorbar\": {\"outlinewidth\": 0, \"ticks\": \"\"}, \"colorscale\": [[0.0, \"#0d0887\"], [0.1111111111111111, \"#46039f\"], [0.2222222222222222, \"#7201a8\"], [0.3333333333333333, \"#9c179e\"], [0.4444444444444444, \"#bd3786\"], [0.5555555555555556, \"#d8576b\"], [0.6666666666666666, \"#ed7953\"], [0.7777777777777778, \"#fb9f3a\"], [0.8888888888888888, \"#fdca26\"], [1.0, \"#f0f921\"]], \"type\": \"heatmap\"}], \"heatmapgl\": [{\"colorbar\": {\"outlinewidth\": 0, \"ticks\": \"\"}, \"colorscale\": [[0.0, \"#0d0887\"], [0.1111111111111111, \"#46039f\"], [0.2222222222222222, \"#7201a8\"], [0.3333333333333333, \"#9c179e\"], [0.4444444444444444, \"#bd3786\"], [0.5555555555555556, \"#d8576b\"], [0.6666666666666666, \"#ed7953\"], [0.7777777777777778, \"#fb9f3a\"], [0.8888888888888888, \"#fdca26\"], [1.0, \"#f0f921\"]], \"type\": \"heatmapgl\"}], \"histogram\": [{\"marker\": {\"colorbar\": {\"outlinewidth\": 0, \"ticks\": \"\"}}, \"type\": \"histogram\"}], \"histogram2d\": [{\"colorbar\": {\"outlinewidth\": 0, \"ticks\": \"\"}, \"colorscale\": [[0.0, \"#0d0887\"], [0.1111111111111111, \"#46039f\"], [0.2222222222222222, \"#7201a8\"], [0.3333333333333333, \"#9c179e\"], [0.4444444444444444, \"#bd3786\"], [0.5555555555555556, \"#d8576b\"], [0.6666666666666666, \"#ed7953\"], [0.7777777777777778, \"#fb9f3a\"], [0.8888888888888888, \"#fdca26\"], [1.0, \"#f0f921\"]], \"type\": \"histogram2d\"}], \"histogram2dcontour\": [{\"colorbar\": {\"outlinewidth\": 0, \"ticks\": \"\"}, \"colorscale\": [[0.0, \"#0d0887\"], [0.1111111111111111, \"#46039f\"], [0.2222222222222222, \"#7201a8\"], [0.3333333333333333, \"#9c179e\"], [0.4444444444444444, \"#bd3786\"], [0.5555555555555556, \"#d8576b\"], [0.6666666666666666, \"#ed7953\"], [0.7777777777777778, \"#fb9f3a\"], [0.8888888888888888, \"#fdca26\"], [1.0, \"#f0f921\"]], \"type\": \"histogram2dcontour\"}], \"mesh3d\": [{\"colorbar\": {\"outlinewidth\": 0, \"ticks\": \"\"}, \"type\": \"mesh3d\"}], \"parcoords\": [{\"line\": {\"colorbar\": {\"outlinewidth\": 0, \"ticks\": \"\"}}, \"type\": \"parcoords\"}], \"scatter\": [{\"marker\": {\"colorbar\": {\"outlinewidth\": 0, \"ticks\": \"\"}}, \"type\": \"scatter\"}], \"scatter3d\": [{\"line\": {\"colorbar\": {\"outlinewidth\": 0, \"ticks\": \"\"}}, \"marker\": {\"colorbar\": {\"outlinewidth\": 0, \"ticks\": \"\"}}, \"type\": \"scatter3d\"}], \"scattercarpet\": [{\"marker\": {\"colorbar\": {\"outlinewidth\": 0, \"ticks\": \"\"}}, \"type\": \"scattercarpet\"}], \"scattergeo\": [{\"marker\": {\"colorbar\": {\"outlinewidth\": 0, \"ticks\": \"\"}}, \"type\": \"scattergeo\"}], \"scattergl\": [{\"marker\": {\"colorbar\": {\"outlinewidth\": 0, \"ticks\": \"\"}}, \"type\": \"scattergl\"}], \"scattermapbox\": [{\"marker\": {\"colorbar\": {\"outlinewidth\": 0, \"ticks\": \"\"}}, \"type\": \"scattermapbox\"}], \"scatterpolar\": [{\"marker\": {\"colorbar\": {\"outlinewidth\": 0, \"ticks\": \"\"}}, \"type\": \"scatterpolar\"}], \"scatterpolargl\": [{\"marker\": {\"colorbar\": {\"outlinewidth\": 0, \"ticks\": \"\"}}, \"type\": \"scatterpolargl\"}], \"scatterternary\": [{\"marker\": {\"colorbar\": {\"outlinewidth\": 0, \"ticks\": \"\"}}, \"type\": \"scatterternary\"}], \"surface\": [{\"colorbar\": {\"outlinewidth\": 0, \"ticks\": \"\"}, \"colorscale\": [[0.0, \"#0d0887\"], [0.1111111111111111, \"#46039f\"], [0.2222222222222222, \"#7201a8\"], [0.3333333333333333, \"#9c179e\"], [0.4444444444444444, \"#bd3786\"], [0.5555555555555556, \"#d8576b\"], [0.6666666666666666, \"#ed7953\"], [0.7777777777777778, \"#fb9f3a\"], [0.8888888888888888, \"#fdca26\"], [1.0, \"#f0f921\"]], \"type\": \"surface\"}], \"table\": [{\"cells\": {\"fill\": {\"color\": \"#EBF0F8\"}, \"line\": {\"color\": \"white\"}}, \"header\": {\"fill\": {\"color\": \"#C8D4E3\"}, \"line\": {\"color\": \"white\"}}, \"type\": \"table\"}]}, \"layout\": {\"annotationdefaults\": {\"arrowcolor\": \"#2a3f5f\", \"arrowhead\": 0, \"arrowwidth\": 1}, \"colorscale\": {\"diverging\": [[0, \"#8e0152\"], [0.1, \"#c51b7d\"], [0.2, \"#de77ae\"], [0.3, \"#f1b6da\"], [0.4, \"#fde0ef\"], [0.5, \"#f7f7f7\"], [0.6, \"#e6f5d0\"], [0.7, \"#b8e186\"], [0.8, \"#7fbc41\"], [0.9, \"#4d9221\"], [1, \"#276419\"]], \"sequential\": [[0.0, \"#0d0887\"], [0.1111111111111111, \"#46039f\"], [0.2222222222222222, \"#7201a8\"], [0.3333333333333333, \"#9c179e\"], [0.4444444444444444, \"#bd3786\"], [0.5555555555555556, \"#d8576b\"], [0.6666666666666666, \"#ed7953\"], [0.7777777777777778, \"#fb9f3a\"], [0.8888888888888888, \"#fdca26\"], [1.0, \"#f0f921\"]], \"sequentialminus\": [[0.0, \"#0d0887\"], [0.1111111111111111, \"#46039f\"], [0.2222222222222222, \"#7201a8\"], [0.3333333333333333, \"#9c179e\"], [0.4444444444444444, \"#bd3786\"], [0.5555555555555556, \"#d8576b\"], [0.6666666666666666, \"#ed7953\"], [0.7777777777777778, \"#fb9f3a\"], [0.8888888888888888, \"#fdca26\"], [1.0, \"#f0f921\"]]}, \"colorway\": [\"#636efa\", \"#EF553B\", \"#00cc96\", \"#ab63fa\", \"#FFA15A\", \"#19d3f3\", \"#FF6692\", \"#B6E880\", \"#FF97FF\", \"#FECB52\"], \"font\": {\"color\": \"#2a3f5f\"}, \"geo\": {\"bgcolor\": \"white\", \"lakecolor\": \"white\", \"landcolor\": \"#E5ECF6\", \"showlakes\": true, \"showland\": true, \"subunitcolor\": \"white\"}, \"hoverlabel\": {\"align\": \"left\"}, \"hovermode\": \"closest\", \"mapbox\": {\"style\": \"light\"}, \"paper_bgcolor\": \"white\", \"plot_bgcolor\": \"#E5ECF6\", \"polar\": {\"angularaxis\": {\"gridcolor\": \"white\", \"linecolor\": \"white\", \"ticks\": \"\"}, \"bgcolor\": \"#E5ECF6\", \"radialaxis\": {\"gridcolor\": \"white\", \"linecolor\": \"white\", \"ticks\": \"\"}}, \"scene\": {\"xaxis\": {\"backgroundcolor\": \"#E5ECF6\", \"gridcolor\": \"white\", \"gridwidth\": 2, \"linecolor\": \"white\", \"showbackground\": true, \"ticks\": \"\", \"zerolinecolor\": \"white\"}, \"yaxis\": {\"backgroundcolor\": \"#E5ECF6\", \"gridcolor\": \"white\", \"gridwidth\": 2, \"linecolor\": \"white\", \"showbackground\": true, \"ticks\": \"\", \"zerolinecolor\": \"white\"}, \"zaxis\": {\"backgroundcolor\": \"#E5ECF6\", \"gridcolor\": \"white\", \"gridwidth\": 2, \"linecolor\": \"white\", \"showbackground\": true, \"ticks\": \"\", \"zerolinecolor\": \"white\"}}, \"shapedefaults\": {\"line\": {\"color\": \"#2a3f5f\"}}, \"ternary\": {\"aaxis\": {\"gridcolor\": \"white\", \"linecolor\": \"white\", \"ticks\": \"\"}, \"baxis\": {\"gridcolor\": \"white\", \"linecolor\": \"white\", \"ticks\": \"\"}, \"bgcolor\": \"#E5ECF6\", \"caxis\": {\"gridcolor\": \"white\", \"linecolor\": \"white\", \"ticks\": \"\"}}, \"title\": {\"x\": 0.05}, \"xaxis\": {\"automargin\": true, \"gridcolor\": \"white\", \"linecolor\": \"white\", \"ticks\": \"\", \"zerolinecolor\": \"white\", \"zerolinewidth\": 2}, \"yaxis\": {\"automargin\": true, \"gridcolor\": \"white\", \"linecolor\": \"white\", \"ticks\": \"\", \"zerolinecolor\": \"white\", \"zerolinewidth\": 2}}}},\n",
       "                        {\"responsive\": true}\n",
       "                    ).then(function(){\n",
       "                            \n",
       "var gd = document.getElementById('d56e017c-101a-4794-879d-a3612b6071af');\n",
       "var x = new MutationObserver(function (mutations, observer) {{\n",
       "        var display = window.getComputedStyle(gd).display;\n",
       "        if (!display || display === 'none') {{\n",
       "            console.log([gd, 'removed!']);\n",
       "            Plotly.purge(gd);\n",
       "            observer.disconnect();\n",
       "        }}\n",
       "}});\n",
       "\n",
       "// Listen for the removal of the full notebook cells\n",
       "var notebookContainer = gd.closest('#notebook-container');\n",
       "if (notebookContainer) {{\n",
       "    x.observe(notebookContainer, {childList: true});\n",
       "}}\n",
       "\n",
       "// Listen for the clearing of the current output cell\n",
       "var outputEl = gd.closest('.output');\n",
       "if (outputEl) {{\n",
       "    x.observe(outputEl, {childList: true});\n",
       "}}\n",
       "\n",
       "                        })\n",
       "                };\n",
       "                });\n",
       "            </script>\n",
       "        </div>"
      ]
     },
     "metadata": {},
     "output_type": "display_data"
    }
   ],
   "source": [
    "fig = go.Figure(data=[go.Pie(labels=gg['Souce of communication '], values=dg)])\n",
    "fig.update_traces(hoverinfo='label+percent',textinfo='none',textfont_size=10)\n",
    "                \n",
    "fig.show()"
   ]
  },
  {
   "cell_type": "code",
   "execution_count": null,
   "metadata": {},
   "outputs": [],
   "source": []
  }
 ],
 "metadata": {
  "kernelspec": {
   "display_name": "Python 3",
   "language": "python",
   "name": "python3"
  },
  "language_info": {
   "codemirror_mode": {
    "name": "ipython",
    "version": 3
   },
   "file_extension": ".py",
   "mimetype": "text/x-python",
   "name": "python",
   "nbconvert_exporter": "python",
   "pygments_lexer": "ipython3",
   "version": "3.7.6"
  }
 },
 "nbformat": 4,
 "nbformat_minor": 4
}
